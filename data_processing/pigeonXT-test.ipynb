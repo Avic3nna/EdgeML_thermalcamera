{
 "cells": [
  {
   "cell_type": "code",
   "execution_count": 4,
   "id": "970a1f53",
   "metadata": {
    "scrolled": true
   },
   "outputs": [],
   "source": [
    "# https://pypi.org/project/pigeonXT-jupyter/\n",
    "# https://towardsdatascience.com/quickly-label-data-in-jupyter-lab-999e7e455e9e\n",
    "import pandas as pd\n",
    "import pigeonXT as pixt\n",
    "import pickle\n",
    "\n",
    "LABEL_FILE='test-labels.pkl'\n",
    "user=\"Tobias\""
   ]
  },
  {
   "cell_type": "code",
   "execution_count": 2,
   "id": "e15b2630",
   "metadata": {},
   "outputs": [
    {
     "data": {
      "text/html": [
       "<div>\n",
       "<style scoped>\n",
       "    .dataframe tbody tr th:only-of-type {\n",
       "        vertical-align: middle;\n",
       "    }\n",
       "\n",
       "    .dataframe tbody tr th {\n",
       "        vertical-align: top;\n",
       "    }\n",
       "\n",
       "    .dataframe thead th {\n",
       "        text-align: right;\n",
       "    }\n",
       "</style>\n",
       "<table border=\"1\" class=\"dataframe\">\n",
       "  <thead>\n",
       "    <tr style=\"text-align: right;\">\n",
       "      <th></th>\n",
       "      <th>example</th>\n",
       "      <th>changed</th>\n",
       "      <th>label</th>\n",
       "    </tr>\n",
       "  </thead>\n",
       "  <tbody>\n",
       "    <tr>\n",
       "      <th>0</th>\n",
       "      <td>I love this movie</td>\n",
       "      <td>True</td>\n",
       "      <td>positive</td>\n",
       "    </tr>\n",
       "    <tr>\n",
       "      <th>1</th>\n",
       "      <td>I was really disappointed by the book</td>\n",
       "      <td>True</td>\n",
       "      <td>negative</td>\n",
       "    </tr>\n",
       "  </tbody>\n",
       "</table>\n",
       "</div>"
      ],
      "text/plain": [
       "                                 example  changed     label\n",
       "0                      I love this movie     True  positive\n",
       "1  I was really disappointed by the book     True  negative"
      ]
     },
     "execution_count": 2,
     "metadata": {},
     "output_type": "execute_result"
    }
   ],
   "source": [
    "annotations = pixt.annotate(\n",
    "    ['I love this movie', 'I was really disappointed by the book'],\n",
    "    options=['positive', 'negative', 'inbetween']\n",
    ")\n",
    "\n",
    "annotations"
   ]
  },
  {
   "cell_type": "code",
   "execution_count": 8,
   "id": "e33ba45d",
   "metadata": {
    "scrolled": true
   },
   "outputs": [],
   "source": [
    "# Write labels to file\n",
    "with open(LABEL_FILE, 'wb') as f:\n",
    "    pickle.dump(annotations, f)"
   ]
  },
  {
   "cell_type": "code",
   "execution_count": 9,
   "id": "f902fafe",
   "metadata": {},
   "outputs": [
    {
     "name": "stdout",
     "output_type": "stream",
     "text": [
      "                                 example  changed      label\n",
      "0                      I love this movie     True  inbetween\n",
      "1  I was really disappointed by the book     True  inbetween\n"
     ]
    }
   ],
   "source": [
    "# Read labels from file\n",
    "with open(LABEL_FILE, 'rb') as f:\n",
    "    annotations = pickle.load(f)\n",
    "    print(annotations)"
   ]
  },
  {
   "cell_type": "code",
   "execution_count": 7,
   "id": "6b352c78",
   "metadata": {},
   "outputs": [],
   "source": [
    "# Better write to CSV\n",
    "annotations.to_csv(user+\"_labels.csv\")"
   ]
  }
 ],
 "metadata": {
  "kernelspec": {
   "display_name": "Python 3 (ipykernel)",
   "language": "python",
   "name": "python3"
  },
  "language_info": {
   "codemirror_mode": {
    "name": "ipython",
    "version": 3
   },
   "file_extension": ".py",
   "mimetype": "text/x-python",
   "name": "python",
   "nbconvert_exporter": "python",
   "pygments_lexer": "ipython3",
   "version": "3.9.9"
  }
 },
 "nbformat": 4,
 "nbformat_minor": 5
}
