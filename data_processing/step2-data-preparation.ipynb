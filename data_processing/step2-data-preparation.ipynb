{
 "cells": [
  {
   "cell_type": "markdown",
   "id": "045401df",
   "metadata": {},
   "source": [
    "# Data preparation\n",
    "\n",
    "We combine the data, convert the labels for classification and apply augmentation"
   ]
  },
  {
   "cell_type": "code",
   "execution_count": 1,
   "id": "af75ee09",
   "metadata": {},
   "outputs": [],
   "source": [
    "import time, json, math\n",
    "import matplotlib.pyplot as plt\n",
    "import numpy as np\n",
    "import pandas as pd\n",
    "\n",
    "np.random.seed(0)"
   ]
  },
  {
   "cell_type": "code",
   "execution_count": 2,
   "id": "d6e9de65",
   "metadata": {},
   "outputs": [
    {
     "name": "stdout",
     "output_type": "stream",
     "text": [
      "33.0\n"
     ]
    }
   ],
   "source": [
    "# # load full data set again to extract max pixel value\n",
    "# FILES=[\"../thermal_raw_20210507_full/20210507_1605_3078.txt\", \"../thermal_raw_20210507_full/20210507_1605_C088.txt\"]\n",
    "# data = list()\n",
    "\n",
    "# for FILE in FILES:\n",
    "#     with open(FILE, \"r\") as f:\n",
    "#         for line in f:\n",
    "#             record = json.loads(line)\n",
    "#             data.append(record)\n",
    "\n",
    "# # convert data to pandas and do give it appropriate datatypes\n",
    "# df = pd.DataFrame(data)\n",
    "\n",
    "# # fix datatypes, drop sensor_size\n",
    "# df['Timestamp'] = df['Timestamp'].astype('int32')\n",
    "# df['Sensor ID'] = df['Sensor ID'].str.replace(r'Sensor_32x32_', r'')\n",
    "# df['Room Temperature'] = df['Room Temperature'].astype('float32')\n",
    "# df = df.drop(['Sensor size'], axis=1)\n",
    "\n",
    "# # reset index to get it as column\n",
    "# df.reset_index(level=0, inplace=True)    \n",
    "            \n",
    "# max_pxl_val = np.max(df['data'].apply(lambda x: np.max(x)))\n",
    "\n",
    "max_pxl_val = 33.0\n",
    "\n",
    "print(max_pxl_val)"
   ]
  },
  {
   "cell_type": "code",
   "execution_count": 3,
   "id": "906dd97d",
   "metadata": {},
   "outputs": [],
   "source": [
    "df_felix = pd.read_json('../data/labelled_data/felix_1637156004_labels.json', orient='records')\n",
    "df_omar = pd.read_json('../data/labelled_data/omar_1636927148_labels.json', orient='records')\n",
    "df_tobias = pd.read_json('../data/labelled_data/tobias_1636919640_labels.json', orient='records')\n",
    "df_collab = pd.read_json('../data/labelled_data/collab_1637164025_labels.json', orient='records')"
   ]
  },
  {
   "cell_type": "code",
   "execution_count": 4,
   "id": "d7ece84e",
   "metadata": {
    "scrolled": false
   },
   "outputs": [],
   "source": [
    "df = pd.concat([df_felix, df_omar, df_tobias, df_collab])\n",
    "df = df.drop(columns=['index', 'changed', 'Timestamp', 'Sensor ID'])\n",
    "df = df.reset_index(drop=True)\n",
    "\n",
    "# scale - do it via batch normalization!\n",
    "#df['data'] = df['data'].apply(lambda x: np.array(x) / max_pxl_val)\n",
    "# apply min(1.0, real_value / 33.0) also in later inference\n",
    "\n",
    "df['data'] = df['data'].apply(lambda arr: [list(map(lambda x: max(15.0, x), line)) for line in arr])\n"
   ]
  },
  {
   "cell_type": "code",
   "execution_count": 5,
   "id": "56fb47fc",
   "metadata": {},
   "outputs": [
    {
     "name": "stdout",
     "output_type": "stream",
     "text": [
      "(200, 4)\n"
     ]
    }
   ],
   "source": [
    "# convert labels\n",
    "binary_label_converter = { \n",
    "    'Human': 1,\n",
    "    'Several humans': 1, \n",
    "    'Non-human heat': 0, \n",
    "    'Ambigous heat': 0,\n",
    "    'No heat':  0,\n",
    "}\n",
    "\n",
    "\n",
    "df_binary = df.copy()\n",
    "\n",
    "df_binary['label'] = df['label'].apply(lambda x: binary_label_converter[x])\n",
    "\n",
    "print(df_binary.shape)\n",
    "df_binary.head(n=3)\n",
    "\n",
    "df_binary.to_json('../data/labelled_data/prepared-samples-binary.json')"
   ]
  },
  {
   "cell_type": "code",
   "execution_count": 6,
   "id": "4c481beb",
   "metadata": {},
   "outputs": [
    {
     "name": "stdout",
     "output_type": "stream",
     "text": [
      "(200, 4)\n"
     ]
    }
   ],
   "source": [
    "# convert labels into five classes\n",
    "numeric_label_converter = { \n",
    "    'Human': 0,\n",
    "    'Several humans': 1, \n",
    "    'Non-human heat': 2, \n",
    "    'Ambigous heat': 3,\n",
    "    'No heat':  4,\n",
    "}\n",
    "\n",
    "df_numeric = df.copy()\n",
    "\n",
    "df_numeric['label'] = df['label'].apply(lambda x: numeric_label_converter[x])\n",
    "\n",
    "print(df_numeric.shape)\n",
    "df_numeric.head(n=3)\n",
    "\n",
    "df_numeric.to_json('./data/labelled_data/prepared-samples-numeric.json')"
   ]
  }
 ],
 "metadata": {
  "kernelspec": {
   "display_name": "Python 3 (ipykernel)",
   "language": "python",
   "name": "python3"
  },
  "language_info": {
   "codemirror_mode": {
    "name": "ipython",
    "version": 3
   },
   "file_extension": ".py",
   "mimetype": "text/x-python",
   "name": "python",
   "nbconvert_exporter": "python",
   "pygments_lexer": "ipython3",
   "version": "3.9.7"
  }
 },
 "nbformat": 4,
 "nbformat_minor": 5
}
