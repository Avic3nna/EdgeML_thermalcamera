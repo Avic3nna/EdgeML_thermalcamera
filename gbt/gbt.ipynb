{
 "cells": [
  {
   "cell_type": "markdown",
   "id": "045401df",
   "metadata": {},
   "source": [
    "# Gradient Boosting Classifier"
   ]
  },
  {
   "cell_type": "markdown",
   "id": "afe0b202",
   "metadata": {},
   "source": [
    "ToDo's:\n",
    "- Renaming of variables\n",
    "- Nice print statements\n",
    "- Hypertuning for CNN model\n",
    "- Change multilabel classification (optional)"
   ]
  },
  {
   "cell_type": "code",
   "execution_count": 27,
   "id": "37a5c481",
   "metadata": {},
   "outputs": [],
   "source": [
    "import pandas as pd\n",
    "import numpy as np\n",
    "import tensorflow as tf\n",
    "import matplotlib.pyplot as plt\n",
    "import sklearn as skl\n",
    "from sklearn.model_selection import train_test_split\n",
    "from sklearn.ensemble import GradientBoostingClassifier\n",
    "from sklearn.metrics import *\n",
    "from sklearn.preprocessing import *\n",
    "from skl2onnx import convert_sklearn\n",
    "from skl2onnx.common.data_types import FloatTensorType\n",
    "import tf2onnx\n",
    "from onnx import *\n",
    "from onnx_tf.backend import prepare\n",
    "import pickle\n",
    "import sys\n",
    "import joblib\n",
    "import os\n",
    "import keras_tuner as kt\n",
    "\n",
    "IMAGE_SIZE = [32, 32]"
   ]
  },
  {
   "cell_type": "code",
   "execution_count": 2,
   "id": "e7966571",
   "metadata": {},
   "outputs": [],
   "source": [
    "df = pd.read_json('../data/labelled_data/whole_data_1637521796.json', orient='records')"
   ]
  },
  {
   "cell_type": "code",
   "execution_count": 3,
   "id": "afcc543e",
   "metadata": {},
   "outputs": [
    {
     "name": "stdout",
     "output_type": "stream",
     "text": [
      "amount of samples: 200\n"
     ]
    },
    {
     "data": {
      "text/html": [
       "<div>\n",
       "<style scoped>\n",
       "    .dataframe tbody tr th:only-of-type {\n",
       "        vertical-align: middle;\n",
       "    }\n",
       "\n",
       "    .dataframe tbody tr th {\n",
       "        vertical-align: top;\n",
       "    }\n",
       "\n",
       "    .dataframe thead th {\n",
       "        text-align: right;\n",
       "    }\n",
       "</style>\n",
       "<table border=\"1\" class=\"dataframe\">\n",
       "  <thead>\n",
       "    <tr style=\"text-align: right;\">\n",
       "      <th></th>\n",
       "      <th>index</th>\n",
       "      <th>Timestamp</th>\n",
       "      <th>Sensor ID</th>\n",
       "      <th>Room Temperature</th>\n",
       "      <th>RSSI</th>\n",
       "      <th>data</th>\n",
       "      <th>changed</th>\n",
       "      <th>label</th>\n",
       "    </tr>\n",
       "  </thead>\n",
       "  <tbody>\n",
       "    <tr>\n",
       "      <th>521</th>\n",
       "      <td>521</td>\n",
       "      <td>2021-05-07 13:06:24</td>\n",
       "      <td>3078</td>\n",
       "      <td>21.299999</td>\n",
       "      <td>-67</td>\n",
       "      <td>[[12.0, 10.4, 11.1, 10.9, 10.9, 12.0, 11.6, 11...</td>\n",
       "      <td>True</td>\n",
       "      <td>Human</td>\n",
       "    </tr>\n",
       "    <tr>\n",
       "      <th>2940</th>\n",
       "      <td>2940</td>\n",
       "      <td>2021-05-07 13:10:22</td>\n",
       "      <td>3078</td>\n",
       "      <td>22.400000</td>\n",
       "      <td>-76</td>\n",
       "      <td>[[11.8, 10.3, 11.2, 11.8, 10.6, 11.3, 11.4, 11...</td>\n",
       "      <td>True</td>\n",
       "      <td>Human</td>\n",
       "    </tr>\n",
       "    <tr>\n",
       "      <th>226</th>\n",
       "      <td>226</td>\n",
       "      <td>2021-05-07 13:05:55</td>\n",
       "      <td>3078</td>\n",
       "      <td>21.100000</td>\n",
       "      <td>-68</td>\n",
       "      <td>[[11.5, 10.5, 12.0, 12.5, 12.6, 13.0, 12.6, 12...</td>\n",
       "      <td>True</td>\n",
       "      <td>Ambigous heat</td>\n",
       "    </tr>\n",
       "  </tbody>\n",
       "</table>\n",
       "</div>"
      ],
      "text/plain": [
       "      index           Timestamp Sensor ID  Room Temperature  RSSI  \\\n",
       "521     521 2021-05-07 13:06:24      3078         21.299999   -67   \n",
       "2940   2940 2021-05-07 13:10:22      3078         22.400000   -76   \n",
       "226     226 2021-05-07 13:05:55      3078         21.100000   -68   \n",
       "\n",
       "                                                   data  changed  \\\n",
       "521   [[12.0, 10.4, 11.1, 10.9, 10.9, 12.0, 11.6, 11...     True   \n",
       "2940  [[11.8, 10.3, 11.2, 11.8, 10.6, 11.3, 11.4, 11...     True   \n",
       "226   [[11.5, 10.5, 12.0, 12.5, 12.6, 13.0, 12.6, 12...     True   \n",
       "\n",
       "              label  \n",
       "521           Human  \n",
       "2940          Human  \n",
       "226   Ambigous heat  "
      ]
     },
     "execution_count": 3,
     "metadata": {},
     "output_type": "execute_result"
    }
   ],
   "source": [
    "# Show amount of samples\n",
    "print(\"amount of samples:\", df.shape[0])\n",
    "df.head(n=3)"
   ]
  },
  {
   "cell_type": "markdown",
   "id": "dc89acfd",
   "metadata": {},
   "source": [
    "## Binary Classification"
   ]
  },
  {
   "cell_type": "markdown",
   "id": "446e50ca",
   "metadata": {},
   "source": [
    "### Data Preparation"
   ]
  },
  {
   "cell_type": "code",
   "execution_count": 4,
   "id": "94973a62",
   "metadata": {},
   "outputs": [
    {
     "data": {
      "text/html": [
       "<div>\n",
       "<style scoped>\n",
       "    .dataframe tbody tr th:only-of-type {\n",
       "        vertical-align: middle;\n",
       "    }\n",
       "\n",
       "    .dataframe tbody tr th {\n",
       "        vertical-align: top;\n",
       "    }\n",
       "\n",
       "    .dataframe thead th {\n",
       "        text-align: right;\n",
       "    }\n",
       "</style>\n",
       "<table border=\"1\" class=\"dataframe\">\n",
       "  <thead>\n",
       "    <tr style=\"text-align: right;\">\n",
       "      <th></th>\n",
       "      <th>index</th>\n",
       "      <th>Timestamp</th>\n",
       "      <th>Sensor ID</th>\n",
       "      <th>Room Temperature</th>\n",
       "      <th>RSSI</th>\n",
       "      <th>data</th>\n",
       "      <th>changed</th>\n",
       "      <th>label</th>\n",
       "    </tr>\n",
       "  </thead>\n",
       "  <tbody>\n",
       "    <tr>\n",
       "      <th>521</th>\n",
       "      <td>521</td>\n",
       "      <td>2021-05-07 13:06:24</td>\n",
       "      <td>3078</td>\n",
       "      <td>21.299999</td>\n",
       "      <td>-67</td>\n",
       "      <td>[[12.0, 10.4, 11.1, 10.9, 10.9, 12.0, 11.6, 11...</td>\n",
       "      <td>True</td>\n",
       "      <td>1</td>\n",
       "    </tr>\n",
       "    <tr>\n",
       "      <th>2940</th>\n",
       "      <td>2940</td>\n",
       "      <td>2021-05-07 13:10:22</td>\n",
       "      <td>3078</td>\n",
       "      <td>22.400000</td>\n",
       "      <td>-76</td>\n",
       "      <td>[[11.8, 10.3, 11.2, 11.8, 10.6, 11.3, 11.4, 11...</td>\n",
       "      <td>True</td>\n",
       "      <td>1</td>\n",
       "    </tr>\n",
       "    <tr>\n",
       "      <th>226</th>\n",
       "      <td>226</td>\n",
       "      <td>2021-05-07 13:05:55</td>\n",
       "      <td>3078</td>\n",
       "      <td>21.100000</td>\n",
       "      <td>-68</td>\n",
       "      <td>[[11.5, 10.5, 12.0, 12.5, 12.6, 13.0, 12.6, 12...</td>\n",
       "      <td>True</td>\n",
       "      <td>0</td>\n",
       "    </tr>\n",
       "  </tbody>\n",
       "</table>\n",
       "</div>"
      ],
      "text/plain": [
       "      index           Timestamp Sensor ID  Room Temperature  RSSI  \\\n",
       "521     521 2021-05-07 13:06:24      3078         21.299999   -67   \n",
       "2940   2940 2021-05-07 13:10:22      3078         22.400000   -76   \n",
       "226     226 2021-05-07 13:05:55      3078         21.100000   -68   \n",
       "\n",
       "                                                   data  changed  label  \n",
       "521   [[12.0, 10.4, 11.1, 10.9, 10.9, 12.0, 11.6, 11...     True      1  \n",
       "2940  [[11.8, 10.3, 11.2, 11.8, 10.6, 11.3, 11.4, 11...     True      1  \n",
       "226   [[11.5, 10.5, 12.0, 12.5, 12.6, 13.0, 12.6, 12...     True      0  "
      ]
     },
     "execution_count": 4,
     "metadata": {},
     "output_type": "execute_result"
    }
   ],
   "source": [
    "# convert labels to binary\n",
    "binary_label_converter = { \n",
    "    'Human': 1,\n",
    "    'Several humans': 1, \n",
    "    'Non-human heat': 0, \n",
    "    'Ambigous heat': 0,\n",
    "    'No heat':  0,\n",
    "}\n",
    "\n",
    "\n",
    "df_binary = df.copy()\n",
    "\n",
    "df_binary['label'] = df['label'].apply(lambda x: binary_label_converter[x])\n",
    "df_binary.head(n=3)"
   ]
  },
  {
   "cell_type": "code",
   "execution_count": 5,
   "id": "57395474",
   "metadata": {},
   "outputs": [
    {
     "name": "stdout",
     "output_type": "stream",
     "text": [
      "(200,)\n",
      "(200, 32, 32, 1)\n"
     ]
    }
   ],
   "source": [
    "# Prepare the data\n",
    "y = df_binary['label'].to_numpy()\n",
    "X = np.array(df_binary['data'].to_list())\n",
    "X = np.expand_dims(X, axis=3)\n",
    "\n",
    "\n",
    "print(y.shape)\n",
    "print(X.shape)"
   ]
  },
  {
   "cell_type": "code",
   "execution_count": 6,
   "id": "cb50cbff",
   "metadata": {},
   "outputs": [
    {
     "name": "stdout",
     "output_type": "stream",
     "text": [
      "(180, 32, 32, 1)\n",
      "(180,)\n",
      "(15, 32, 32, 1)\n",
      "(15,)\n"
     ]
    }
   ],
   "source": [
    "# Create train / val / test split\n",
    "X_train, X_test, y_train, y_test = train_test_split(X, y, test_size=0.1, random_state=0)\n",
    "X_val, X_test, y_val, y_test = train_test_split(X_test, y_test, test_size=0.25, random_state=0)\n",
    "\n",
    "print(X_train.shape)\n",
    "print(y_train.shape)\n",
    "print(X_val.shape)\n",
    "print(y_val.shape)"
   ]
  },
  {
   "cell_type": "markdown",
   "id": "3da57473",
   "metadata": {},
   "source": [
    "### Feature Generation Model"
   ]
  },
  {
   "cell_type": "code",
   "execution_count": 7,
   "id": "de669427",
   "metadata": {},
   "outputs": [
    {
     "name": "stdout",
     "output_type": "stream",
     "text": [
      "Model: \"model\"\n",
      "_________________________________________________________________\n",
      "Layer (type)                 Output Shape              Param #   \n",
      "=================================================================\n",
      "input_1 (InputLayer)         [(None, 32, 32, 1)]       0         \n",
      "_________________________________________________________________\n",
      "conv2d (Conv2D)              (None, 16, 16, 8)         80        \n",
      "_________________________________________________________________\n",
      "conv2d_1 (Conv2D)            (None, 8, 8, 16)          1168      \n",
      "_________________________________________________________________\n",
      "conv2d_2 (Conv2D)            (None, 4, 4, 32)          4640      \n",
      "_________________________________________________________________\n",
      "global_average_pooling2d (Gl (None, 32)                0         \n",
      "_________________________________________________________________\n",
      "dense (Dense)                (None, 64)                2112      \n",
      "_________________________________________________________________\n",
      "dense_1 (Dense)              (None, 32)                2080      \n",
      "_________________________________________________________________\n",
      "dropout (Dropout)            (None, 32)                0         \n",
      "_________________________________________________________________\n",
      "dense_2 (Dense)              (None, 2)                 66        \n",
      "=================================================================\n",
      "Total params: 10,146\n",
      "Trainable params: 10,146\n",
      "Non-trainable params: 0\n",
      "_________________________________________________________________\n"
     ]
    }
   ],
   "source": [
    "# Simple CNN model\n",
    "\n",
    "x = tf.keras.layers.Input(shape=[*IMAGE_SIZE,1]) # input is 32x32 pixels RGB\n",
    "y = tf.keras.layers.Conv2D(kernel_size=3, filters=8, strides=(2,2), padding='same', use_bias=True, activation='relu')(x) # 32x32 -> 16x16\n",
    "y = tf.keras.layers.Conv2D(kernel_size=3, filters=16, strides=(2,2), padding='same', use_bias=True, activation='relu')(y) # 16x16 -> 8x8\n",
    "y = tf.keras.layers.Conv2D(kernel_size=3, filters=32, strides=(2,2), padding='same', use_bias=True, activation='relu')(y) # 8x8 -> 4x4\n",
    "y = tf.keras.layers.GlobalAveragePooling2D()(y)\n",
    "y = tf.keras.layers.Dense(64)(y)\n",
    "y = tf.keras.layers.Dense(32)(y)\n",
    "y = tf.keras.layers.Dropout(0.2)(y)\n",
    "y = tf.keras.layers.Dense(2, activation='softmax')(y)\n",
    "\n",
    "model = tf.keras.Model(x, y)\n",
    "\n",
    "\n",
    "model.compile(\n",
    "optimizer='adam',\n",
    "loss= 'sparse_categorical_crossentropy',\n",
    "metrics=['accuracy'])\n",
    "model.build(input_shape=(None, 32, 32, 1))\n",
    "model.summary()"
   ]
  },
  {
   "cell_type": "code",
   "execution_count": 8,
   "id": "fd2d24eb",
   "metadata": {},
   "outputs": [
    {
     "data": {
      "image/png": "[encoded data removed]",
      "text/plain": [
       "<IPython.core.display.Image object>"
      ]
     },
     "execution_count": 8,
     "metadata": {},
     "output_type": "execute_result"
    }
   ],
   "source": [
    "# Plot the model\n",
    "# `rankdir='LR'` is to make the graph horizontal.\n",
    "%matplotlib inline\n",
    "tf.keras.utils.plot_model(model, show_shapes=True, rankdir=\"LR\")"
   ]
  },
  {
   "cell_type": "code",
   "execution_count": 9,
   "id": "6a0d0981",
   "metadata": {},
   "outputs": [
    {
     "name": "stdout",
     "output_type": "stream",
     "text": [
      "Epoch 1/20\n",
      "12/12 [==============================] - 3s 56ms/step - loss: 0.7298 - accuracy: 0.5611 - val_loss: 0.7172 - val_accuracy: 0.6000\n",
      "Epoch 2/20\n",
      "12/12 [==============================] - 0s 10ms/step - loss: 0.7214 - accuracy: 0.5167 - val_loss: 0.6974 - val_accuracy: 0.4000\n",
      "Epoch 3/20\n",
      "12/12 [==============================] - 0s 12ms/step - loss: 0.6599 - accuracy: 0.6167 - val_loss: 0.6808 - val_accuracy: 0.6000\n",
      "Epoch 4/20\n",
      "12/12 [==============================] - 0s 12ms/step - loss: 0.6630 - accuracy: 0.6278 - val_loss: 0.6869 - val_accuracy: 0.6000\n",
      "Epoch 5/20\n",
      "12/12 [==============================] - 0s 10ms/step - loss: 0.6739 - accuracy: 0.6278 - val_loss: 0.6740 - val_accuracy: 0.6000\n",
      "Epoch 6/20\n",
      "12/12 [==============================] - 0s 9ms/step - loss: 0.6604 - accuracy: 0.6222 - val_loss: 0.6741 - val_accuracy: 0.6000\n",
      "Epoch 7/20\n",
      "12/12 [==============================] - 0s 9ms/step - loss: 0.6678 - accuracy: 0.6278 - val_loss: 0.6789 - val_accuracy: 0.6000\n",
      "Epoch 8/20\n",
      "12/12 [==============================] - 0s 10ms/step - loss: 0.6708 - accuracy: 0.6278 - val_loss: 0.6766 - val_accuracy: 0.6000\n",
      "Epoch 9/20\n",
      "12/12 [==============================] - 0s 10ms/step - loss: 0.6577 - accuracy: 0.6278 - val_loss: 0.6763 - val_accuracy: 0.6000\n",
      "Epoch 10/20\n",
      "12/12 [==============================] - 0s 10ms/step - loss: 0.6624 - accuracy: 0.6278 - val_loss: 0.6738 - val_accuracy: 0.6000\n",
      "Epoch 11/20\n",
      "12/12 [==============================] - 0s 10ms/step - loss: 0.6697 - accuracy: 0.6278 - val_loss: 0.6725 - val_accuracy: 0.6000\n",
      "Epoch 12/20\n",
      "12/12 [==============================] - 0s 11ms/step - loss: 0.6583 - accuracy: 0.6278 - val_loss: 0.6721 - val_accuracy: 0.6000\n",
      "Epoch 13/20\n",
      "12/12 [==============================] - 0s 10ms/step - loss: 0.6588 - accuracy: 0.6278 - val_loss: 0.6753 - val_accuracy: 0.6000\n",
      "Epoch 14/20\n",
      "12/12 [==============================] - 0s 10ms/step - loss: 0.6587 - accuracy: 0.6278 - val_loss: 0.6732 - val_accuracy: 0.6000\n",
      "Epoch 15/20\n",
      "12/12 [==============================] - 0s 10ms/step - loss: 0.6561 - accuracy: 0.6278 - val_loss: 0.6709 - val_accuracy: 0.6000\n",
      "Epoch 16/20\n",
      "12/12 [==============================] - 0s 10ms/step - loss: 0.6513 - accuracy: 0.6278 - val_loss: 0.6679 - val_accuracy: 0.6000\n",
      "Epoch 17/20\n",
      "12/12 [==============================] - 0s 11ms/step - loss: 0.6512 - accuracy: 0.6278 - val_loss: 0.6656 - val_accuracy: 0.6000\n",
      "Epoch 18/20\n",
      "12/12 [==============================] - 0s 10ms/step - loss: 0.6457 - accuracy: 0.6278 - val_loss: 0.6673 - val_accuracy: 0.6000\n",
      "Epoch 19/20\n",
      "12/12 [==============================] - 0s 10ms/step - loss: 0.6388 - accuracy: 0.6278 - val_loss: 0.6593 - val_accuracy: 0.6000\n",
      "Epoch 20/20\n",
      "12/12 [==============================] - 0s 10ms/step - loss: 0.6427 - accuracy: 0.6389 - val_loss: 0.6628 - val_accuracy: 0.6000\n"
     ]
    },
    {
     "data": {
      "image/png": "[encoded data removed]",
      "text/plain": [
       "<Figure size 432x288 with 1 Axes>"
      ]
     },
     "metadata": {
      "needs_background": "light"
     },
     "output_type": "display_data"
    }
   ],
   "source": [
    "# Fit the model\n",
    "EPOCHS = 20\n",
    "BATCH_SIZE = 16\n",
    "history = model.fit(X_train, y_train, epochs=EPOCHS, batch_size=BATCH_SIZE, validation_data=(X_val, y_val))\n",
    "\n",
    "\n",
    "train_loss = history.history['loss']\n",
    "val_loss = history.history['val_loss']\n",
    "\n",
    "epochs = range(1, len(train_loss) + 1)\n",
    "\n",
    "# Plot training history\n",
    "plt.plot(epochs, train_loss, 'g.', label='Training loss')\n",
    "plt.plot(epochs, val_loss, 'b', label='Validation loss')\n",
    "plt.title('Training and validation loss')\n",
    "plt.xlabel('Epochs')\n",
    "plt.ylabel('Loss')\n",
    "plt.legend()\n",
    "plt.show()\n"
   ]
  },
  {
   "cell_type": "code",
   "execution_count": 10,
   "id": "28b3b222",
   "metadata": {},
   "outputs": [],
   "source": [
    "# Get a list of all convolutional layers from the trained CNN model\n",
    "\n",
    "def get_conv_layer_list(model):\n",
    "    \n",
    "    feature_map_list = []\n",
    "        \n",
    "    for i in range(len(model.layers)):\n",
    "        layer = model.layers[i]\n",
    "        # check for convolutional layer\n",
    "        if 'conv' not in layer.name:\n",
    "            continue\n",
    "        \n",
    "        # Get the layer input and output\n",
    "        inputs = model.inputs\n",
    "            \n",
    "        if i==len(model.layers):\n",
    "            outputs = model.outputs\n",
    "        else:\n",
    "            outputs = model.layers[i].output\n",
    "        \n",
    "        current_feature_map = tf.keras.Model(name=layer.name, inputs=inputs, outputs=model.layers[i].output)\n",
    "        feature_map_list.append(current_feature_map)\n",
    "    \n",
    "    return feature_map_list"
   ]
  },
  {
   "cell_type": "code",
   "execution_count": 11,
   "id": "1470de2f",
   "metadata": {},
   "outputs": [],
   "source": [
    "# Define the custom layers\n",
    "\n",
    "# Maximum layer\n",
    "@tf.keras.utils.register_keras_serializable()\n",
    "class MaxLayer(tf.keras.layers.Layer):\n",
    "    \n",
    "    def call(self, inputs):\n",
    "        \n",
    "        return tf.math.reduce_max(inputs, axis=(1,2))\n",
    "    \n",
    "# Minimum layer\n",
    "@tf.keras.utils.register_keras_serializable()\n",
    "class MinLayer(tf.keras.layers.Layer):\n",
    "    \n",
    "    def call(self, inputs):\n",
    "        \n",
    "        return tf.math.reduce_min(inputs, axis=(1,2))\n",
    "\n",
    "# Mean layer\n",
    "@tf.keras.utils.register_keras_serializable()\n",
    "class MeanLayer(tf.keras.layers.Layer):\n",
    "    \n",
    "    def call(self, inputs):\n",
    "        \n",
    "        return tf.math.reduce_mean(inputs, axis=(1,2))\n",
    "    \n",
    "# Sum Layer\n",
    "@tf.keras.utils.register_keras_serializable()\n",
    "class SumLayer(tf.keras.layers.Layer):\n",
    "    \n",
    "    def call(self, inputs):\n",
    "        \n",
    "        return tf.math.reduce_sum(inputs, axis=(1,2))\n",
    "    \n",
    "# Variance Layer\n",
    "@tf.keras.utils.register_keras_serializable()\n",
    "class VarianceLayer(tf.keras.layers.Layer):\n",
    "    \n",
    "    def call(self, inputs):\n",
    "        \n",
    "        return tf.math.reduce_variance(inputs, axis=(1,2))"
   ]
  },
  {
   "cell_type": "code",
   "execution_count": 12,
   "id": "8f5f12f8",
   "metadata": {},
   "outputs": [
    {
     "name": "stdout",
     "output_type": "stream",
     "text": [
      "Model: \"whole_model\"\n",
      "__________________________________________________________________________________________________\n",
      "Layer (type)                    Output Shape         Param #     Connected to                     \n",
      "==================================================================================================\n",
      "input_2 (InputLayer)            [(None, 32, 32, 1)]  0                                            \n",
      "__________________________________________________________________________________________________\n",
      "conv2d (Functional)             (None, 16, 16, 8)    80          input_2[0][0]                    \n",
      "__________________________________________________________________________________________________\n",
      "conv2d_1 (Functional)           (None, 8, 8, 16)     1248        input_2[0][0]                    \n",
      "__________________________________________________________________________________________________\n",
      "conv2d_2 (Functional)           (None, 4, 4, 32)     5888        input_2[0][0]                    \n",
      "__________________________________________________________________________________________________\n",
      "tf.math.reduce_max (TFOpLambda) (None, 1)            0           input_2[0][0]                    \n",
      "__________________________________________________________________________________________________\n",
      "tf.math.reduce_min (TFOpLambda) (None, 1)            0           input_2[0][0]                    \n",
      "__________________________________________________________________________________________________\n",
      "tf.math.reduce_mean (TFOpLambda (None, 1)            0           input_2[0][0]                    \n",
      "__________________________________________________________________________________________________\n",
      "tf.math.reduce_sum (TFOpLambda) (None, 1)            0           input_2[0][0]                    \n",
      "__________________________________________________________________________________________________\n",
      "tf.math.reduce_max_1 (TFOpLambd (None, 8)            0           conv2d[0][0]                     \n",
      "__________________________________________________________________________________________________\n",
      "tf.math.reduce_min_1 (TFOpLambd (None, 8)            0           conv2d[0][0]                     \n",
      "__________________________________________________________________________________________________\n",
      "tf.math.reduce_mean_1 (TFOpLamb (None, 8)            0           conv2d[0][0]                     \n",
      "__________________________________________________________________________________________________\n",
      "tf.math.reduce_sum_1 (TFOpLambd (None, 8)            0           conv2d[0][0]                     \n",
      "__________________________________________________________________________________________________\n",
      "tf.math.reduce_max_2 (TFOpLambd (None, 16)           0           conv2d_1[0][0]                   \n",
      "__________________________________________________________________________________________________\n",
      "tf.math.reduce_min_2 (TFOpLambd (None, 16)           0           conv2d_1[0][0]                   \n",
      "__________________________________________________________________________________________________\n",
      "tf.math.reduce_mean_2 (TFOpLamb (None, 16)           0           conv2d_1[0][0]                   \n",
      "__________________________________________________________________________________________________\n",
      "tf.math.reduce_sum_2 (TFOpLambd (None, 16)           0           conv2d_1[0][0]                   \n",
      "__________________________________________________________________________________________________\n",
      "tf.math.reduce_max_3 (TFOpLambd (None, 32)           0           conv2d_2[0][0]                   \n",
      "__________________________________________________________________________________________________\n",
      "tf.math.reduce_min_3 (TFOpLambd (None, 32)           0           conv2d_2[0][0]                   \n",
      "__________________________________________________________________________________________________\n",
      "tf.math.reduce_mean_3 (TFOpLamb (None, 32)           0           conv2d_2[0][0]                   \n",
      "__________________________________________________________________________________________________\n",
      "tf.math.reduce_sum_3 (TFOpLambd (None, 32)           0           conv2d_2[0][0]                   \n",
      "__________________________________________________________________________________________________\n",
      "concatenate (Concatenate)       (None, 4)            0           tf.math.reduce_max[0][0]         \n",
      "                                                                 tf.math.reduce_min[0][0]         \n",
      "                                                                 tf.math.reduce_mean[0][0]        \n",
      "                                                                 tf.math.reduce_sum[0][0]         \n",
      "__________________________________________________________________________________________________\n",
      "concatenate_1 (Concatenate)     (None, 32)           0           tf.math.reduce_max_1[0][0]       \n",
      "                                                                 tf.math.reduce_min_1[0][0]       \n",
      "                                                                 tf.math.reduce_mean_1[0][0]      \n",
      "                                                                 tf.math.reduce_sum_1[0][0]       \n",
      "__________________________________________________________________________________________________\n",
      "concatenate_2 (Concatenate)     (None, 64)           0           tf.math.reduce_max_2[0][0]       \n",
      "                                                                 tf.math.reduce_min_2[0][0]       \n",
      "                                                                 tf.math.reduce_mean_2[0][0]      \n",
      "                                                                 tf.math.reduce_sum_2[0][0]       \n",
      "__________________________________________________________________________________________________\n",
      "concatenate_3 (Concatenate)     (None, 128)          0           tf.math.reduce_max_3[0][0]       \n",
      "                                                                 tf.math.reduce_min_3[0][0]       \n",
      "                                                                 tf.math.reduce_mean_3[0][0]      \n",
      "                                                                 tf.math.reduce_sum_3[0][0]       \n",
      "__________________________________________________________________________________________________\n",
      "concatenate_4 (Concatenate)     (None, 228)          0           concatenate[0][0]                \n",
      "                                                                 concatenate_1[0][0]              \n",
      "                                                                 concatenate_2[0][0]              \n",
      "                                                                 concatenate_3[0][0]              \n",
      "==================================================================================================\n",
      "Total params: 5,888\n",
      "Trainable params: 5,888\n",
      "Non-trainable params: 0\n",
      "__________________________________________________________________________________________________\n"
     ]
    }
   ],
   "source": [
    "\n",
    "def build_feature_extraction_model(model, conv_layer_list):\n",
    "\n",
    "    # Build the model\n",
    "    inputs = tf.keras.Input(shape=(32, 32, 1))\n",
    "    \n",
    "    # Define the layers of the model\n",
    "    # max_layer_im = MaxLayer()\n",
    "    # min_layer_im = MinLayer()\n",
    "    # mean_layer_im = MeanLayer()\n",
    "    # sum_layer_im = SumLayer()\n",
    "    # var_layer_im = VarianceLayer()\n",
    "    \n",
    "    concat_layer_im = tf.keras.layers.Concatenate(axis=-1)\n",
    "    \n",
    "    max_layer_list = []\n",
    "    min_layer_list = []\n",
    "    mean_layer_list = []\n",
    "    sum_layer_list = []\n",
    "    # var_layer_list = []\n",
    "    concat_layer_list = []\n",
    "    for i in range(len(conv_layer_list)):\n",
    "        # max_layer_list.append(MaxLayer())\n",
    "        # min_layer_list.append(MinLayer())\n",
    "        # mean_layer_list.append(MeanLayer())\n",
    "        # sum_layer_list.append(SumLayer())\n",
    "        # var_layer_list.append(VarianceLayer())\n",
    "        concat_layer_list.append(tf.keras.layers.Concatenate(axis=-1))\n",
    "    \n",
    "    total_concat_layer = tf.keras.layers.Concatenate(axis=-1)\n",
    "    outputs_list = []\n",
    "    \n",
    "    # Calculate the values on the image itself\n",
    "    # max_im = max_layer_im(inputs)\n",
    "    # min_im = min_layer_im(inputs)\n",
    "    # mean_im = mean_layer_im(inputs)\n",
    "    # sum_im = sum_layer_im(inputs)\n",
    "    max_im = tf.reduce_max(inputs, axis=(1,2))\n",
    "    min_im = tf.reduce_min(inputs, axis=(1,2))\n",
    "    mean_im = tf.reduce_mean(inputs, axis=(1,2))\n",
    "    sum_im = tf.reduce_sum(inputs, axis=(1,2))\n",
    "    # var_im = var_layer_im(inputs)\n",
    "    # concat_im = concat_layer_im([max_im, min_im, mean_im, sum_im, var_im])\n",
    "    concat_im = concat_layer_im([max_im, min_im, mean_im, sum_im])\n",
    "    outputs_list.append(concat_im)\n",
    "    \n",
    "    \n",
    "    # Iterate over all convolutional layers\n",
    "    for i, conv_layer in enumerate(conv_layer_list):\n",
    "        conv_layer_output = conv_layer_list[i](inputs)\n",
    "        # max_fm = max_layer_list[i](conv_layer_output)\n",
    "        # min_fm = min_layer_list[i](conv_layer_output)\n",
    "        # mean_fm = mean_layer_list[i](conv_layer_output)\n",
    "        # sum_fm = sum_layer_list[i](conv_layer_output)\n",
    "        max_fm = tf.reduce_max(conv_layer_output, axis=(1,2))\n",
    "        min_fm = tf.reduce_min(conv_layer_output, axis=(1,2))\n",
    "        mean_fm = tf.reduce_mean(conv_layer_output, axis=(1,2))\n",
    "        sum_fm = tf.reduce_sum(conv_layer_output, axis=(1,2))\n",
    "        # var_fm = var_layer_list[i](conv_layer_output)\n",
    "        # concat = concat_layer_list[i]([max_fm, min_fm, mean_fm, sum_fm, var_fm])\n",
    "        concat = concat_layer_list[i]([max_fm, min_fm, mean_fm, sum_fm])\n",
    "        outputs_list.append(concat)\n",
    "        \n",
    "    total_concat = total_concat_layer(outputs_list)\n",
    "\n",
    "    model = tf.keras.Model(name=\"whole_model\", inputs=inputs, outputs=total_concat)\n",
    "    \n",
    "    return model\n",
    "\n",
    "# Get the convolutional layers\n",
    "conv_layer_list = get_conv_layer_list(model)\n",
    "\n",
    "feature_extractor = build_feature_extraction_model(model, conv_layer_list)\n",
    "feature_extractor.build(input_shape=(None, 32, 32, 1))\n",
    "feature_extractor.summary()"
   ]
  },
  {
   "cell_type": "code",
   "execution_count": 13,
   "id": "06a70a69",
   "metadata": {},
   "outputs": [
    {
     "name": "stdout",
     "output_type": "stream",
     "text": [
      "WARNING:tensorflow:Compiled the loaded model, but the compiled metrics have yet to be built. `model.compile_metrics` will be empty until you train or evaluate the model.\n",
      "INFO:tensorflow:Assets written to: C:\\Users\\Felix\\AppData\\Local\\Temp\\tmplsquyemb\\assets\n",
      "WARNING:tensorflow:From C:\\Users\\Felix\\.conda\\envs\\ias0360-final-project\\lib\\site-packages\\tf2onnx\\tf_loader.py:706: extract_sub_graph (from tensorflow.python.framework.graph_util_impl) is deprecated and will be removed in a future version.\n",
      "Instructions for updating:\n",
      "Use `tf.compat.v1.graph_util.extract_sub_graph`\n"
     ]
    },
    {
     "name": "stderr",
     "output_type": "stream",
     "text": [
      "WARNING:tensorflow:From C:\\Users\\Felix\\.conda\\envs\\ias0360-final-project\\lib\\site-packages\\tf2onnx\\tf_loader.py:706: extract_sub_graph (from tensorflow.python.framework.graph_util_impl) is deprecated and will be removed in a future version.\n",
      "Instructions for updating:\n",
      "Use `tf.compat.v1.graph_util.extract_sub_graph`\n"
     ]
    },
    {
     "name": "stdout",
     "output_type": "stream",
     "text": [
      "WARNING:tensorflow:Compiled the loaded model, but the compiled metrics have yet to be built. `model.compile_metrics` will be empty until you train or evaluate the model.\n"
     ]
    },
    {
     "name": "stderr",
     "output_type": "stream",
     "text": [
      "WARNING:tensorflow:Compiled the loaded model, but the compiled metrics have yet to be built. `model.compile_metrics` will be empty until you train or evaluate the model.\n"
     ]
    },
    {
     "name": "stdout",
     "output_type": "stream",
     "text": [
      "WARNING:tensorflow:Found duplicated `Variable`s in Model's `weights`. This is usually caused by `Variable`s being shared by Layers in the Model. These `Variable`s will be treated as separate `Variable`s when the Model is restored. To avoid this, please save with `save_format=\"tf\"`.\n"
     ]
    },
    {
     "name": "stderr",
     "output_type": "stream",
     "text": [
      "WARNING:tensorflow:Found duplicated `Variable`s in Model's `weights`. This is usually caused by `Variable`s being shared by Layers in the Model. These `Variable`s will be treated as separate `Variable`s when the Model is restored. To avoid this, please save with `save_format=\"tf\"`.\n"
     ]
    },
    {
     "name": "stdout",
     "output_type": "stream",
     "text": [
      "Models saved.\n"
     ]
    }
   ],
   "source": [
    "# Save the model as tf lite model\n",
    "\n",
    "# Convert the model\n",
    "converter = tf.lite.TFLiteConverter.from_keras_model(feature_extractor) # path to the SavedModel directory\n",
    "tflite_model = converter.convert()\n",
    "\n",
    "# Save the model.\n",
    "with open('feature_extractor.tflite', 'wb') as f:\n",
    "  f.write(tflite_model)\n",
    "\n",
    "\n",
    "# Save the model as onnx model\n",
    "tf2onnx.convert.from_keras(feature_extractor, output_path=\"feature_extractor.onnx\")\n",
    "\n",
    "\n",
    "# Save as keras model\n",
    "feature_extractor.save(\"feature_extractor.h5\")\n",
    "\n",
    "print(\"Models saved.\")"
   ]
  },
  {
   "cell_type": "code",
   "execution_count": 14,
   "id": "b7f6d3bf",
   "metadata": {},
   "outputs": [
    {
     "name": "stdout",
     "output_type": "stream",
     "text": [
      "[<keras.engine.functional.Functional object at 0x000001DF5A20AD00>, <keras.engine.functional.Functional object at 0x000001DF6285A190>, <keras.engine.functional.Functional object at 0x000001DF628A0AC0>]\n",
      "WARNING:tensorflow:Compiled the loaded model, but the compiled metrics have yet to be built. `model.compile_metrics` will be empty until you train or evaluate the model.\n"
     ]
    },
    {
     "name": "stderr",
     "output_type": "stream",
     "text": [
      "WARNING:tensorflow:Compiled the loaded model, but the compiled metrics have yet to be built. `model.compile_metrics` will be empty until you train or evaluate the model.\n"
     ]
    },
    {
     "name": "stdout",
     "output_type": "stream",
     "text": [
      "WARNING:tensorflow:Compiled the loaded model, but the compiled metrics have yet to be built. `model.compile_metrics` will be empty until you train or evaluate the model.\n"
     ]
    },
    {
     "name": "stderr",
     "output_type": "stream",
     "text": [
      "WARNING:tensorflow:Compiled the loaded model, but the compiled metrics have yet to be built. `model.compile_metrics` will be empty until you train or evaluate the model.\n"
     ]
    },
    {
     "name": "stdout",
     "output_type": "stream",
     "text": [
      "WARNING:tensorflow:Compiled the loaded model, but the compiled metrics have yet to be built. `model.compile_metrics` will be empty until you train or evaluate the model.\n"
     ]
    },
    {
     "name": "stderr",
     "output_type": "stream",
     "text": [
      "WARNING:tensorflow:Compiled the loaded model, but the compiled metrics have yet to be built. `model.compile_metrics` will be empty until you train or evaluate the model.\n"
     ]
    }
   ],
   "source": [
    "layer_list = get_conv_layer_list(model)\n",
    "print(layer_list)\n",
    "\n",
    "for i in range(len(layer_list)):\n",
    "    layer_list[i].save(f\"feature_extractor_conv_{i}.h5\")"
   ]
  },
  {
   "cell_type": "code",
   "execution_count": 15,
   "id": "0c79791f",
   "metadata": {},
   "outputs": [
    {
     "name": "stdout",
     "output_type": "stream",
     "text": [
      "(200, 342)\n",
      "[[1.37223633e+01 1.36000000e+01 1.99509559e+00 1.93000000e+01\n",
      "  9.80000000e+00 1.40517000e+04 1.77978337e-01 0.00000000e+00\n",
      "  5.76432049e-03 6.94202125e-01 6.30605221e-01 4.86933899e+00\n",
      "  1.18613198e-01 8.08938891e-02 6.99649602e-02 0.00000000e+00\n",
      "  0.00000000e+00 7.47433424e-01 6.50830209e-01 4.47000313e+00\n",
      "  0.00000000e+00 0.00000000e+00 6.05486855e-02 0.00000000e+00\n",
      "  8.47298373e-03 1.92993149e-01 1.99583858e-01 1.50929475e+00\n",
      "  2.18590781e-01 1.07103691e-01 1.36384726e+00 0.00000000e+00\n",
      "  1.47566605e+00 2.40443516e+00 2.79865074e+00 9.55471134e+00\n",
      "  2.40245795e+00 1.80188668e+00 0.00000000e+00 0.00000000e+00\n",
      "  0.00000000e+00 0.00000000e+00 0.00000000e+00 3.18997574e+00\n",
      "  0.00000000e+00 0.00000000e+00 4.55624542e+01 0.00000000e+00\n",
      "  1.47566605e+00 1.77715744e+02 1.61434937e+02 1.24655078e+03\n",
      "  3.03649788e+01 2.07088356e+01 7.63748167e-03 0.00000000e+00\n",
      "  1.20597959e+00 0.00000000e+00 1.88440844e-01 0.00000000e+00\n",
      "  5.84323704e-01 1.79971993e+00 8.30058753e-01 0.00000000e+00\n",
      "  0.00000000e+00 1.07784010e-01 0.00000000e+00 0.00000000e+00\n",
      "  0.00000000e+00 1.16271473e-01 0.00000000e+00 0.00000000e+00\n",
      "  1.06626630e+00 0.00000000e+00 3.33159864e-02 0.00000000e+00\n",
      "  6.31542087e-01 1.92874694e+00 6.50015593e-01 0.00000000e+00\n",
      "  0.00000000e+00 0.00000000e+00 0.00000000e+00 0.00000000e+00\n",
      "  0.00000000e+00 0.00000000e+00 3.67486547e-03 0.00000000e+00\n",
      "  2.69806445e-01 0.00000000e+00 8.36814046e-02 0.00000000e+00\n",
      "  9.03701112e-02 2.52184391e-01 4.69261408e-01 0.00000000e+00\n",
      "  0.00000000e+00 9.76934880e-02 0.00000000e+00 0.00000000e+00\n",
      "  0.00000000e+00 4.08989079e-02 4.88798827e-01 0.00000000e+00\n",
      "  2.59025049e+00 0.00000000e+00 1.54444170e+00 0.00000000e+00\n",
      "  1.26177585e+00 2.80841756e+00 3.00995421e+00 0.00000000e+00\n",
      "  0.00000000e+00 1.35062492e+00 0.00000000e+00 0.00000000e+00\n",
      "  0.00000000e+00 1.20748460e+00 0.00000000e+00 0.00000000e+00\n",
      "  3.92094344e-01 0.00000000e+00 0.00000000e+00 0.00000000e+00\n",
      "  0.00000000e+00 0.00000000e+00 0.00000000e+00 0.00000000e+00\n",
      "  0.00000000e+00 0.00000000e+00 0.00000000e+00 0.00000000e+00\n",
      "  0.00000000e+00 0.00000000e+00 4.88798827e-01 0.00000000e+00\n",
      "  7.71826935e+01 0.00000000e+00 1.20602140e+01 0.00000000e+00\n",
      "  3.73967171e+01 1.15182076e+02 5.31237602e+01 0.00000000e+00\n",
      "  0.00000000e+00 6.89817667e+00 0.00000000e+00 0.00000000e+00\n",
      "  0.00000000e+00 7.44137430e+00 1.61559045e-01 9.20321196e-02\n",
      "  0.00000000e+00 0.00000000e+00 1.06369099e-02 1.74231708e-01\n",
      "  0.00000000e+00 0.00000000e+00 4.30928349e-01 6.22747615e-02\n",
      "  4.98078614e-02 0.00000000e+00 5.21419585e-01 2.27527529e-01\n",
      "  3.60276923e-02 0.00000000e+00 3.37046564e-01 8.31695972e-04\n",
      "  4.75119725e-02 0.00000000e+00 1.18892558e-01 5.85917793e-02\n",
      "  1.73646241e-01 8.25156122e-02 4.39067464e-03 2.81244181e-02\n",
      "  1.27221867e-02 1.06154056e-02 6.24781149e-03 1.60188854e-01\n",
      "  1.74737275e-02 2.98323691e-01 1.77198231e-01 0.00000000e+00\n",
      "  0.00000000e+00 0.00000000e+00 0.00000000e+00 1.55727506e-01\n",
      "  0.00000000e+00 0.00000000e+00 4.17465448e-01 0.00000000e+00\n",
      "  0.00000000e+00 0.00000000e+00 5.37889004e-01 2.47683316e-01\n",
      "  0.00000000e+00 0.00000000e+00 2.97438532e-01 0.00000000e+00\n",
      "  0.00000000e+00 0.00000000e+00 0.00000000e+00 0.00000000e+00\n",
      "  1.86317578e-01 0.00000000e+00 0.00000000e+00 0.00000000e+00\n",
      "  0.00000000e+00 0.00000000e+00 0.00000000e+00 0.00000000e+00\n",
      "  0.00000000e+00 3.84701848e-01 7.40940496e-03 2.81658266e-02\n",
      "  0.00000000e+00 0.00000000e+00 1.13815814e-03 2.32263748e-02\n",
      "  0.00000000e+00 0.00000000e+00 7.35600367e-02 9.91477910e-03\n",
      "  9.07820929e-03 0.00000000e+00 1.99243743e-02 3.44132595e-02\n",
      "  4.46844706e-03 0.00000000e+00 3.13624516e-02 5.97506460e-06\n",
      "  1.01760756e-02 0.00000000e+00 4.28417623e-02 1.25340456e-02\n",
      "  2.31095720e-02 3.03359032e-02 2.89170392e-04 1.35526154e-03\n",
      "  1.13299256e-03 7.35803391e-04 5.85527276e-04 9.47007984e-02\n",
      "  4.57996735e-03 3.15091647e-02 3.38910967e-01 5.53070605e-01\n",
      "  0.00000000e+00 0.00000000e+00 1.37718529e-01 4.34922963e-01\n",
      "  0.00000000e+00 0.00000000e+00 9.17953551e-01 2.50759482e-01\n",
      "  2.80081093e-01 0.00000000e+00 7.56354749e-01 5.91494441e-01\n",
      "  1.91791236e-01 0.00000000e+00 7.70546675e-01 9.66426544e-03\n",
      "  3.17636281e-01 0.00000000e+00 5.16399145e-01 3.16262305e-01\n",
      "  5.34085035e-01 5.22715569e-01 7.02507943e-02 9.14035514e-02\n",
      "  1.02111407e-01 9.66109708e-02 9.99649838e-02 8.69662464e-01\n",
      "  2.79579639e-01 5.11434138e-01 0.00000000e+00 0.00000000e+00\n",
      "  0.00000000e+00 0.00000000e+00 0.00000000e+00 0.00000000e+00\n",
      "  0.00000000e+00 0.00000000e+00 0.00000000e+00 0.00000000e+00\n",
      "  0.00000000e+00 0.00000000e+00 1.63756222e-01 0.00000000e+00\n",
      "  0.00000000e+00 0.00000000e+00 1.37514219e-01 0.00000000e+00\n",
      "  0.00000000e+00 0.00000000e+00 0.00000000e+00 0.00000000e+00\n",
      "  0.00000000e+00 0.00000000e+00 0.00000000e+00 0.00000000e+00\n",
      "  0.00000000e+00 0.00000000e+00 0.00000000e+00 0.00000000e+00\n",
      "  0.00000000e+00 0.00000000e+00 2.58494473e+00 1.47251391e+00\n",
      "  0.00000000e+00 0.00000000e+00 1.70190558e-01 2.78770733e+00\n",
      "  0.00000000e+00 0.00000000e+00 6.89485359e+00 9.96396184e-01\n",
      "  7.96925783e-01 0.00000000e+00 8.34271336e+00 3.64044046e+00\n",
      "  5.76443076e-01 0.00000000e+00 5.39274502e+00 1.33071356e-02\n",
      "  7.60191560e-01 0.00000000e+00 1.90228093e+00 9.37468469e-01\n",
      "  2.77833986e+00 1.32024980e+00 7.02507943e-02 4.49990690e-01\n",
      "  2.03554988e-01 1.69846490e-01 9.99649838e-02 2.56302166e+00\n",
      "  2.79579639e-01 4.77317905e+00]]\n"
     ]
    }
   ],
   "source": [
    "# Calculate the feature map mean\n",
    "feature_map_list = []\n",
    "\n",
    "im_mean = np.mean(X, axis=(1,2))\n",
    "im_median = np.median(X, axis=(1,2))\n",
    "im_var = np.var(X, axis=(1,2))\n",
    "im_max = np.max(X, axis=(1,2))\n",
    "im_min = np.min(X, axis=(1,2))\n",
    "im_sum = np.sum(X, axis=(1,2))\n",
    "\n",
    "feature_map_list.append(np.concatenate([im_mean,\n",
    "                                           im_median,\n",
    "                                           im_var,\n",
    "                                           im_max,\n",
    "                                           im_min,\n",
    "                                           im_sum], axis=1))\n",
    "\n",
    "\n",
    "\n",
    "# Print the shape of the feature maps\n",
    "for i in range(len(layer_list)):\n",
    "    feature_map = layer_list[i].predict(X)\n",
    "    feature_map_mean = np.mean(feature_map, axis=(1,2))\n",
    "    feature_map_median = np.median(feature_map, axis=(1,2))\n",
    "    feature_map_var = np.var(feature_map, axis=(1,2))\n",
    "    feature_map_max = np.max(feature_map, axis=(1,2))\n",
    "    feature_map_min = np.min(feature_map, axis=(1,2))\n",
    "    feature_map_sum = np.sum(feature_map, axis=(1,2))\n",
    "    feature_map_features = np.concatenate([feature_map_mean,\n",
    "                                           feature_map_median,\n",
    "                                           feature_map_var,\n",
    "                                           feature_map_max, \n",
    "                                           feature_map_min, \n",
    "                                           feature_map_sum], axis=1)\n",
    "    feature_map_list.append(feature_map_features)\n",
    "    \n",
    "feature_map_means = np.concatenate(feature_map_list, axis=1)\n",
    "print(feature_map_means.shape)\n",
    "print(feature_map_means[:1])"
   ]
  },
  {
   "cell_type": "markdown",
   "id": "eba63994",
   "metadata": {},
   "source": [
    "### Prepare Data for GBT"
   ]
  },
  {
   "cell_type": "code",
   "execution_count": 16,
   "id": "e8911530",
   "metadata": {},
   "outputs": [],
   "source": [
    "df_train_binary_expanded = pd.DataFrame(np.concatenate([df_binary.head(X.shape[0]), feature_extractor.predict(X)], axis=1))"
   ]
  },
  {
   "cell_type": "code",
   "execution_count": 17,
   "id": "961af519",
   "metadata": {},
   "outputs": [
    {
     "data": {
      "text/html": [
       "<div>\n",
       "<style scoped>\n",
       "    .dataframe tbody tr th:only-of-type {\n",
       "        vertical-align: middle;\n",
       "    }\n",
       "\n",
       "    .dataframe tbody tr th {\n",
       "        vertical-align: top;\n",
       "    }\n",
       "\n",
       "    .dataframe thead th {\n",
       "        text-align: right;\n",
       "    }\n",
       "</style>\n",
       "<table border=\"1\" class=\"dataframe\">\n",
       "  <thead>\n",
       "    <tr style=\"text-align: right;\">\n",
       "      <th></th>\n",
       "      <th>0</th>\n",
       "      <th>1</th>\n",
       "      <th>2</th>\n",
       "      <th>3</th>\n",
       "      <th>4</th>\n",
       "      <th>5</th>\n",
       "      <th>6</th>\n",
       "      <th>7</th>\n",
       "      <th>8</th>\n",
       "      <th>9</th>\n",
       "      <th>...</th>\n",
       "      <th>226</th>\n",
       "      <th>227</th>\n",
       "      <th>228</th>\n",
       "      <th>229</th>\n",
       "      <th>230</th>\n",
       "      <th>231</th>\n",
       "      <th>232</th>\n",
       "      <th>233</th>\n",
       "      <th>234</th>\n",
       "      <th>235</th>\n",
       "    </tr>\n",
       "  </thead>\n",
       "  <tbody>\n",
       "    <tr>\n",
       "      <th>0</th>\n",
       "      <td>521</td>\n",
       "      <td>2021-05-07 13:06:24</td>\n",
       "      <td>3078</td>\n",
       "      <td>21.299999</td>\n",
       "      <td>-67</td>\n",
       "      <td>[[12.0, 10.4, 11.1, 10.9, 10.9, 12.0, 11.6, 11...</td>\n",
       "      <td>True</td>\n",
       "      <td>1</td>\n",
       "      <td>19.299999</td>\n",
       "      <td>9.8</td>\n",
       "      <td>...</td>\n",
       "      <td>2.77834</td>\n",
       "      <td>1.32025</td>\n",
       "      <td>0.070251</td>\n",
       "      <td>0.449991</td>\n",
       "      <td>0.203555</td>\n",
       "      <td>0.169846</td>\n",
       "      <td>0.099965</td>\n",
       "      <td>2.563022</td>\n",
       "      <td>0.27958</td>\n",
       "      <td>4.773179</td>\n",
       "    </tr>\n",
       "    <tr>\n",
       "      <th>1</th>\n",
       "      <td>2940</td>\n",
       "      <td>2021-05-07 13:10:22</td>\n",
       "      <td>3078</td>\n",
       "      <td>22.4</td>\n",
       "      <td>-76</td>\n",
       "      <td>[[11.8, 10.3, 11.2, 11.8, 10.6, 11.3, 11.4, 11...</td>\n",
       "      <td>True</td>\n",
       "      <td>1</td>\n",
       "      <td>20.200001</td>\n",
       "      <td>9.8</td>\n",
       "      <td>...</td>\n",
       "      <td>3.709987</td>\n",
       "      <td>0.98978</td>\n",
       "      <td>0.045079</td>\n",
       "      <td>0.128651</td>\n",
       "      <td>0.020267</td>\n",
       "      <td>0.12969</td>\n",
       "      <td>0.217348</td>\n",
       "      <td>2.456362</td>\n",
       "      <td>0.209813</td>\n",
       "      <td>4.709538</td>\n",
       "    </tr>\n",
       "  </tbody>\n",
       "</table>\n",
       "<p>2 rows × 236 columns</p>\n",
       "</div>"
      ],
      "text/plain": [
       "    0                   1     2          3    4    \\\n",
       "0   521 2021-05-07 13:06:24  3078  21.299999  -67   \n",
       "1  2940 2021-05-07 13:10:22  3078       22.4  -76   \n",
       "\n",
       "                                                 5     6   7          8    \\\n",
       "0  [[12.0, 10.4, 11.1, 10.9, 10.9, 12.0, 11.6, 11...  True   1  19.299999   \n",
       "1  [[11.8, 10.3, 11.2, 11.8, 10.6, 11.3, 11.4, 11...  True   1  20.200001   \n",
       "\n",
       "   9    ...       226      227       228       229       230       231  \\\n",
       "0  9.8  ...   2.77834  1.32025  0.070251  0.449991  0.203555  0.169846   \n",
       "1  9.8  ...  3.709987  0.98978  0.045079  0.128651  0.020267   0.12969   \n",
       "\n",
       "        232       233       234       235  \n",
       "0  0.099965  2.563022   0.27958  4.773179  \n",
       "1  0.217348  2.456362  0.209813  4.709538  \n",
       "\n",
       "[2 rows x 236 columns]"
      ]
     },
     "execution_count": 17,
     "metadata": {},
     "output_type": "execute_result"
    }
   ],
   "source": [
    "df_train_binary_expanded.head(n=2)"
   ]
  },
  {
   "cell_type": "code",
   "execution_count": 18,
   "id": "537c41dd",
   "metadata": {},
   "outputs": [
    {
     "name": "stdout",
     "output_type": "stream",
     "text": [
      "(200,)\n",
      "(200, 228)\n"
     ]
    }
   ],
   "source": [
    "# Prepare the data for gradient boosting\n",
    "y_clf = df_train_binary_expanded[7].to_numpy().astype(int)\n",
    "X_clf= df_train_binary_expanded.iloc[:,8:].to_numpy()\n",
    "print(y_clf.shape)\n",
    "print(X_clf.shape)"
   ]
  },
  {
   "cell_type": "code",
   "execution_count": 19,
   "id": "7f41ab7c",
   "metadata": {},
   "outputs": [
    {
     "name": "stdout",
     "output_type": "stream",
     "text": [
      "(180, 228)\n",
      "(180,)\n",
      "(20, 228)\n",
      "(20,)\n",
      "[0]\n"
     ]
    }
   ],
   "source": [
    "# Create train / val / test split\n",
    "X_train_clf, X_test_clf, y_train_clf, y_test_clf = train_test_split(X_clf, y_clf, test_size=0.1, random_state=0)\n",
    "# X_val_clf, X_test_clf, y_val_clf, y_test_clf = train_test_split(X_test_clf, y_test_clf, test_size=0.3, random_state=0)\n",
    "\n",
    "print(X_train_clf.shape)\n",
    "print(y_train_clf.shape)\n",
    "print(X_test_clf.shape)\n",
    "print(y_test_clf.shape)\n",
    "print(y_train_clf[:1])"
   ]
  },
  {
   "cell_type": "markdown",
   "id": "12d7be4a",
   "metadata": {},
   "source": [
    "### Simple GBT Classifier"
   ]
  },
  {
   "cell_type": "code",
   "execution_count": 20,
   "id": "b8924598",
   "metadata": {},
   "outputs": [
    {
     "name": "stdout",
     "output_type": "stream",
     "text": [
      "Accuracy Score: 0.75\n"
     ]
    },
    {
     "data": {
      "image/png": "[encoded data removed]",
      "text/plain": [
       "<Figure size 432x288 with 2 Axes>"
      ]
     },
     "metadata": {
      "needs_background": "light"
     },
     "output_type": "display_data"
    }
   ],
   "source": [
    "# Train the GBT\n",
    "clf = GradientBoostingClassifier(n_estimators=300, learning_rate=1.0, max_depth=3, random_state=0).fit(X_train_clf, y_train_clf)\n",
    "\n",
    "# Mean accuracy\n",
    "acc = clf.score(X_test_clf, y_test_clf)\n",
    "print(f\"Accuracy Score: {acc}\")\n",
    "\n",
    "# Calculate and display the confusion matrix\n",
    "y_pred = clf.predict(X_test_clf)\n",
    "conf_mat = confusion_matrix(y_test_clf, y_pred, normalize=\"all\")\n",
    "disp = ConfusionMatrixDisplay(conf_mat, display_labels=[\"No human\", \"Human\"])\n",
    "disp.plot(values_format=\".0%\")\n",
    "plt.title(\"Confusion Matrix\")\n",
    "plt.show()"
   ]
  },
  {
   "cell_type": "code",
   "execution_count": 21,
   "id": "edf95611",
   "metadata": {},
   "outputs": [
    {
     "name": "stdout",
     "output_type": "stream",
     "text": [
      "GBT size in kiB: 337.9111328125\n",
      "Conv layer size in kiB: 40.1953125\n",
      "Total size in kiB: 378.1064453125\n"
     ]
    }
   ],
   "source": [
    "# Get the model size in kiB\n",
    "def get_memory_size(clf, layer_list, fname = \"clf_binary\"):\n",
    "    joblib.dump(clf, fname)\n",
    "    model_size = os.path.getsize(fname)\n",
    "    model_size = model_size / 1024\n",
    "    print(f\"GBT size in kiB: {model_size}\")\n",
    "\n",
    "    # Get the conv layers size in kiB\n",
    "    layer_size = 0\n",
    "    for i in range(len(layer_list)):\n",
    "        layer_size = os.path.getsize(f\"feature_extractor_conv_{i}.h5\")\n",
    "    layer_size = layer_size / 1024\n",
    "    print(f\"Conv layer size in kiB: {layer_size}\")\n",
    "\n",
    "    # Total size for GBT in kiB\n",
    "    print(f\"Total size in kiB: {layer_size + model_size}\")\n",
    "    \n",
    "get_memory_size(clf, layer_list)"
   ]
  },
  {
   "cell_type": "markdown",
   "id": "b4e2ff9f",
   "metadata": {},
   "source": [
    "### HP-Tuning for GBT "
   ]
  },
  {
   "cell_type": "code",
   "execution_count": 22,
   "id": "bb62b8a0",
   "metadata": {},
   "outputs": [],
   "source": [
    "# HP-Tuning\n",
    "MAX_FEATURES = 150\n",
    "\n",
    "def build_hypermodel(hp):\n",
    "    \n",
    "    n_estimators = hp.Int(\"n_estimators\", 10, 100)\n",
    "    learning_rate = hp.Float(\"learning_rate\", 0.1, 1.0)\n",
    "    max_depth = hp.Int(\"max_depth\", 1, 4)\n",
    "    max_features = hp.Int(\"max_features\", 1, MAX_FEATURES)\n",
    "    \n",
    "    return GradientBoostingClassifier(n_estimators=n_estimators,\n",
    "                                      learning_rate=learning_rate, \n",
    "                                      max_depth=max_depth,\n",
    "                                      max_features=max_features,\n",
    "                                      validation_fraction=0.2,\n",
    "                                      random_state=0)\n"
   ]
  },
  {
   "cell_type": "code",
   "execution_count": 23,
   "id": "67856001",
   "metadata": {},
   "outputs": [
    {
     "name": "stdout",
     "output_type": "stream",
     "text": [
      "INFO:tensorflow:Reloading Oracle from existing project .\\hp_tuning_binary\\oracle.json\n"
     ]
    },
    {
     "name": "stderr",
     "output_type": "stream",
     "text": [
      "INFO:tensorflow:Reloading Oracle from existing project .\\hp_tuning_binary\\oracle.json\n"
     ]
    },
    {
     "name": "stdout",
     "output_type": "stream",
     "text": [
      "INFO:tensorflow:Reloading Tuner from .\\hp_tuning_binary\\tuner0.json\n"
     ]
    },
    {
     "name": "stderr",
     "output_type": "stream",
     "text": [
      "INFO:tensorflow:Reloading Tuner from .\\hp_tuning_binary\\tuner0.json\n"
     ]
    },
    {
     "name": "stdout",
     "output_type": "stream",
     "text": [
      "INFO:tensorflow:Oracle triggered exit\n"
     ]
    },
    {
     "name": "stderr",
     "output_type": "stream",
     "text": [
      "INFO:tensorflow:Oracle triggered exit\n"
     ]
    },
    {
     "name": "stdout",
     "output_type": "stream",
     "text": [
      "Best model test score: 0.6\n",
      "Best model params: {'ccp_alpha': 0.0, 'criterion': 'friedman_mse', 'init': None, 'learning_rate': 0.5812338714385317, 'loss': 'deviance', 'max_depth': 3, 'max_features': 15, 'max_leaf_nodes': None, 'min_impurity_decrease': 0.0, 'min_samples_leaf': 1, 'min_samples_split': 2, 'min_weight_fraction_leaf': 0.0, 'n_estimators': 45, 'n_iter_no_change': None, 'random_state': 0, 'subsample': 1.0, 'tol': 0.0001, 'validation_fraction': 0.2, 'verbose': 0, 'warm_start': False}\n"
     ]
    }
   ],
   "source": [
    "MAX_TRIALS = 10\n",
    "\n",
    "# TODO: Use maybe other metrices!\n",
    "\n",
    "tuner = kt.tuners.SklearnTuner(\n",
    "    oracle=kt.oracles.BayesianOptimizationOracle(\n",
    "        objective=kt.Objective('score', 'max'),\n",
    "        max_trials=MAX_TRIALS),\n",
    "    hypermodel=build_hypermodel,\n",
    "    scoring=skl.metrics.make_scorer(skl.metrics.balanced_accuracy_score),\n",
    "    metrics=[skl.metrics.accuracy_score, balanced_accuracy_score],\n",
    "    cv=skl.model_selection.StratifiedKFold(5),\n",
    "    directory='.',\n",
    "    project_name='hp_tuning_binary')\n",
    "\n",
    "\n",
    "\n",
    "tuner.search(X_train_clf, y_train_clf)\n",
    "\n",
    "best_clf = tuner.get_best_models(num_models=1)[0]\n",
    "\n",
    "print(f\"Best model test score: {best_clf.score(X_test_clf, y_test_clf)}\")\n",
    "\n",
    "print(f\"Best model params: {best_clf.get_params()}\")"
   ]
  },
  {
   "cell_type": "code",
   "execution_count": 24,
   "id": "d8cab4cb",
   "metadata": {},
   "outputs": [
    {
     "name": "stdout",
     "output_type": "stream",
     "text": [
      "GBT size in kiB: 75.26953125\n",
      "Conv layer size in kiB: 40.1953125\n",
      "Total size in kiB: 115.46484375\n"
     ]
    }
   ],
   "source": [
    "get_memory_size(best_clf, layer_list, fname=\"best_binary\")"
   ]
  },
  {
   "cell_type": "code",
   "execution_count": 25,
   "id": "1dec5e4a",
   "metadata": {},
   "outputs": [
    {
     "name": "stdout",
     "output_type": "stream",
     "text": [
      "Ground Truth: [1 0 0 0 1 1 0 0 1 0 0 0 0 1 0 1 1 0 1 0]\n",
      "Prediction:   [0 0 0 0 0 0 0 0 0 0 0 0 0 0 0 0 0 0 0 0]\n"
     ]
    },
    {
     "data": {
      "image/png": "[encoded data removed]",
      "text/plain": [
       "<Figure size 432x288 with 2 Axes>"
      ]
     },
     "metadata": {
      "needs_background": "light"
     },
     "output_type": "display_data"
    }
   ],
   "source": [
    "# Compare predictions and ground truth on testing set\n",
    "\n",
    "y_pred = best_clf.predict(X_test_clf)\n",
    "\n",
    "\n",
    "print(f\"Ground Truth: {y_test_clf}\")\n",
    "print(f\"Prediction:   {y_pred}\")\n",
    "\n",
    "# Calculate and display the confusion matrix\n",
    "conf_mat = confusion_matrix(y_test_clf, y_pred, normalize=\"all\")\n",
    "disp = ConfusionMatrixDisplay(conf_mat, display_labels=[\"No human\", \"Human\"])\n",
    "disp.plot(values_format=\".0%\")\n",
    "plt.title(\"Confusion Matrix\")\n",
    "plt.show()\n",
    "\n"
   ]
  },
  {
   "cell_type": "code",
   "execution_count": 30,
   "id": "bc584e16",
   "metadata": {},
   "outputs": [
    {
     "name": "stderr",
     "output_type": "stream",
     "text": [
      "C:\\Users\\Felix\\.conda\\envs\\ias0360-final-project\\lib\\site-packages\\sklearn\\utils\\deprecation.py:103: FutureWarning: The attribute `n_features_` is deprecated in 1.0 and will be removed in 1.2. Use `n_features_in_` instead.\n",
      "  warnings.warn(msg, category=FutureWarning)\n"
     ]
    }
   ],
   "source": [
    "# Convert model to onnx-format and save it\n",
    "initial_type = [('float_input', FloatTensorType([None, 4]))]\n",
    "onnx = convert_sklearn(best_clf, initial_types=initial_type)\n",
    "with open(\"best_clf.onnx\", \"wb\") as f:\n",
    "    f.write(onnx.SerializeToString())\n",
    "\n",
    "\n"
   ]
  },
  {
   "cell_type": "markdown",
   "id": "564ce84b",
   "metadata": {},
   "source": [
    "## Multilabel Classification"
   ]
  },
  {
   "cell_type": "code",
   "execution_count": 87,
   "id": "82efc2a6",
   "metadata": {},
   "outputs": [
    {
     "data": {
      "text/html": [
       "<div>\n",
       "<style scoped>\n",
       "    .dataframe tbody tr th:only-of-type {\n",
       "        vertical-align: middle;\n",
       "    }\n",
       "\n",
       "    .dataframe tbody tr th {\n",
       "        vertical-align: top;\n",
       "    }\n",
       "\n",
       "    .dataframe thead th {\n",
       "        text-align: right;\n",
       "    }\n",
       "</style>\n",
       "<table border=\"1\" class=\"dataframe\">\n",
       "  <thead>\n",
       "    <tr style=\"text-align: right;\">\n",
       "      <th></th>\n",
       "      <th>index</th>\n",
       "      <th>Timestamp</th>\n",
       "      <th>Sensor ID</th>\n",
       "      <th>Room Temperature</th>\n",
       "      <th>RSSI</th>\n",
       "      <th>data</th>\n",
       "      <th>changed</th>\n",
       "      <th>label</th>\n",
       "    </tr>\n",
       "  </thead>\n",
       "  <tbody>\n",
       "    <tr>\n",
       "      <th>521</th>\n",
       "      <td>521</td>\n",
       "      <td>2021-05-07 13:06:24</td>\n",
       "      <td>3078</td>\n",
       "      <td>21.299999</td>\n",
       "      <td>-67</td>\n",
       "      <td>[[12.0, 10.4, 11.1, 10.9, 10.9, 12.0, 11.6, 11...</td>\n",
       "      <td>True</td>\n",
       "      <td>Human</td>\n",
       "    </tr>\n",
       "    <tr>\n",
       "      <th>2940</th>\n",
       "      <td>2940</td>\n",
       "      <td>2021-05-07 13:10:22</td>\n",
       "      <td>3078</td>\n",
       "      <td>22.400000</td>\n",
       "      <td>-76</td>\n",
       "      <td>[[11.8, 10.3, 11.2, 11.8, 10.6, 11.3, 11.4, 11...</td>\n",
       "      <td>True</td>\n",
       "      <td>Human</td>\n",
       "    </tr>\n",
       "    <tr>\n",
       "      <th>226</th>\n",
       "      <td>226</td>\n",
       "      <td>2021-05-07 13:05:55</td>\n",
       "      <td>3078</td>\n",
       "      <td>21.100000</td>\n",
       "      <td>-68</td>\n",
       "      <td>[[11.5, 10.5, 12.0, 12.5, 12.6, 13.0, 12.6, 12...</td>\n",
       "      <td>True</td>\n",
       "      <td>Ambigous heat</td>\n",
       "    </tr>\n",
       "  </tbody>\n",
       "</table>\n",
       "</div>"
      ],
      "text/plain": [
       "      index           Timestamp Sensor ID  Room Temperature  RSSI  \\\n",
       "521     521 2021-05-07 13:06:24      3078         21.299999   -67   \n",
       "2940   2940 2021-05-07 13:10:22      3078         22.400000   -76   \n",
       "226     226 2021-05-07 13:05:55      3078         21.100000   -68   \n",
       "\n",
       "                                                   data  changed  \\\n",
       "521   [[12.0, 10.4, 11.1, 10.9, 10.9, 12.0, 11.6, 11...     True   \n",
       "2940  [[11.8, 10.3, 11.2, 11.8, 10.6, 11.3, 11.4, 11...     True   \n",
       "226   [[11.5, 10.5, 12.0, 12.5, 12.6, 13.0, 12.6, 12...     True   \n",
       "\n",
       "              label  \n",
       "521           Human  \n",
       "2940          Human  \n",
       "226   Ambigous heat  "
      ]
     },
     "execution_count": 87,
     "metadata": {},
     "output_type": "execute_result"
    }
   ],
   "source": [
    "df.head(n=3)"
   ]
  },
  {
   "cell_type": "code",
   "execution_count": 88,
   "id": "e537e97c",
   "metadata": {},
   "outputs": [
    {
     "data": {
      "text/html": [
       "<div>\n",
       "<style scoped>\n",
       "    .dataframe tbody tr th:only-of-type {\n",
       "        vertical-align: middle;\n",
       "    }\n",
       "\n",
       "    .dataframe tbody tr th {\n",
       "        vertical-align: top;\n",
       "    }\n",
       "\n",
       "    .dataframe thead th {\n",
       "        text-align: right;\n",
       "    }\n",
       "</style>\n",
       "<table border=\"1\" class=\"dataframe\">\n",
       "  <thead>\n",
       "    <tr style=\"text-align: right;\">\n",
       "      <th></th>\n",
       "      <th>index</th>\n",
       "      <th>Timestamp</th>\n",
       "      <th>Sensor ID</th>\n",
       "      <th>Room Temperature</th>\n",
       "      <th>RSSI</th>\n",
       "      <th>data</th>\n",
       "      <th>changed</th>\n",
       "      <th>label</th>\n",
       "    </tr>\n",
       "  </thead>\n",
       "  <tbody>\n",
       "    <tr>\n",
       "      <th>521</th>\n",
       "      <td>521</td>\n",
       "      <td>2021-05-07 13:06:24</td>\n",
       "      <td>3078</td>\n",
       "      <td>21.299999</td>\n",
       "      <td>-67</td>\n",
       "      <td>[[12.0, 10.4, 11.1, 10.9, 10.9, 12.0, 11.6, 11...</td>\n",
       "      <td>True</td>\n",
       "      <td>0</td>\n",
       "    </tr>\n",
       "    <tr>\n",
       "      <th>2940</th>\n",
       "      <td>2940</td>\n",
       "      <td>2021-05-07 13:10:22</td>\n",
       "      <td>3078</td>\n",
       "      <td>22.400000</td>\n",
       "      <td>-76</td>\n",
       "      <td>[[11.8, 10.3, 11.2, 11.8, 10.6, 11.3, 11.4, 11...</td>\n",
       "      <td>True</td>\n",
       "      <td>0</td>\n",
       "    </tr>\n",
       "    <tr>\n",
       "      <th>226</th>\n",
       "      <td>226</td>\n",
       "      <td>2021-05-07 13:05:55</td>\n",
       "      <td>3078</td>\n",
       "      <td>21.100000</td>\n",
       "      <td>-68</td>\n",
       "      <td>[[11.5, 10.5, 12.0, 12.5, 12.6, 13.0, 12.6, 12...</td>\n",
       "      <td>True</td>\n",
       "      <td>3</td>\n",
       "    </tr>\n",
       "    <tr>\n",
       "      <th>3030</th>\n",
       "      <td>3030</td>\n",
       "      <td>2021-05-07 13:10:30</td>\n",
       "      <td>3078</td>\n",
       "      <td>22.400000</td>\n",
       "      <td>-73</td>\n",
       "      <td>[[10.9, 11.1, 11.2, 10.8, 12.0, 12.2, 12.7, 12...</td>\n",
       "      <td>True</td>\n",
       "      <td>1</td>\n",
       "    </tr>\n",
       "    <tr>\n",
       "      <th>1427</th>\n",
       "      <td>1427</td>\n",
       "      <td>2021-05-07 13:07:54</td>\n",
       "      <td>3078</td>\n",
       "      <td>21.799999</td>\n",
       "      <td>-82</td>\n",
       "      <td>[[10.8, 10.9, 10.7, 10.7, 11.7, 11.4, 11.2, 10...</td>\n",
       "      <td>True</td>\n",
       "      <td>2</td>\n",
       "    </tr>\n",
       "    <tr>\n",
       "      <th>...</th>\n",
       "      <td>...</td>\n",
       "      <td>...</td>\n",
       "      <td>...</td>\n",
       "      <td>...</td>\n",
       "      <td>...</td>\n",
       "      <td>...</td>\n",
       "      <td>...</td>\n",
       "      <td>...</td>\n",
       "    </tr>\n",
       "    <tr>\n",
       "      <th>9911</th>\n",
       "      <td>9911</td>\n",
       "      <td>2021-05-07 13:13:12</td>\n",
       "      <td>C088</td>\n",
       "      <td>23.100000</td>\n",
       "      <td>-72</td>\n",
       "      <td>[[10.6, 10.9, 12.0, 12.3, 13.5, 12.4, 12.8, 12...</td>\n",
       "      <td>True</td>\n",
       "      <td>2</td>\n",
       "    </tr>\n",
       "    <tr>\n",
       "      <th>4612</th>\n",
       "      <td>4612</td>\n",
       "      <td>2021-05-07 13:13:06</td>\n",
       "      <td>3078</td>\n",
       "      <td>23.100000</td>\n",
       "      <td>-78</td>\n",
       "      <td>[[10.7, 12.1, 12.1, 11.4, 11.6, 11.3, 12.3, 12...</td>\n",
       "      <td>True</td>\n",
       "      <td>2</td>\n",
       "    </tr>\n",
       "    <tr>\n",
       "      <th>5300</th>\n",
       "      <td>5300</td>\n",
       "      <td>2021-05-07 13:06:01</td>\n",
       "      <td>C088</td>\n",
       "      <td>21.200001</td>\n",
       "      <td>-66</td>\n",
       "      <td>[[11.5, 13.0, 12.4, 12.1, 13.0, 13.1, 12.6, 12...</td>\n",
       "      <td>True</td>\n",
       "      <td>3</td>\n",
       "    </tr>\n",
       "    <tr>\n",
       "      <th>5603</th>\n",
       "      <td>5603</td>\n",
       "      <td>2021-05-07 13:06:30</td>\n",
       "      <td>C088</td>\n",
       "      <td>21.299999</td>\n",
       "      <td>-63</td>\n",
       "      <td>[[12.0, 11.8, 12.6, 12.6, 13.3, 12.9, 13.6, 13...</td>\n",
       "      <td>True</td>\n",
       "      <td>3</td>\n",
       "    </tr>\n",
       "    <tr>\n",
       "      <th>3481</th>\n",
       "      <td>3481</td>\n",
       "      <td>2021-05-07 13:11:16</td>\n",
       "      <td>3078</td>\n",
       "      <td>22.600000</td>\n",
       "      <td>-78</td>\n",
       "      <td>[[11.3, 11.8, 12.1, 11.9, 12.4, 11.3, 12.6, 12...</td>\n",
       "      <td>True</td>\n",
       "      <td>3</td>\n",
       "    </tr>\n",
       "  </tbody>\n",
       "</table>\n",
       "<p>100 rows × 8 columns</p>\n",
       "</div>"
      ],
      "text/plain": [
       "      index           Timestamp Sensor ID  Room Temperature  RSSI  \\\n",
       "521     521 2021-05-07 13:06:24      3078         21.299999   -67   \n",
       "2940   2940 2021-05-07 13:10:22      3078         22.400000   -76   \n",
       "226     226 2021-05-07 13:05:55      3078         21.100000   -68   \n",
       "3030   3030 2021-05-07 13:10:30      3078         22.400000   -73   \n",
       "1427   1427 2021-05-07 13:07:54      3078         21.799999   -82   \n",
       "...     ...                 ...       ...               ...   ...   \n",
       "9911   9911 2021-05-07 13:13:12      C088         23.100000   -72   \n",
       "4612   4612 2021-05-07 13:13:06      3078         23.100000   -78   \n",
       "5300   5300 2021-05-07 13:06:01      C088         21.200001   -66   \n",
       "5603   5603 2021-05-07 13:06:30      C088         21.299999   -63   \n",
       "3481   3481 2021-05-07 13:11:16      3078         22.600000   -78   \n",
       "\n",
       "                                                   data  changed  label  \n",
       "521   [[12.0, 10.4, 11.1, 10.9, 10.9, 12.0, 11.6, 11...     True      0  \n",
       "2940  [[11.8, 10.3, 11.2, 11.8, 10.6, 11.3, 11.4, 11...     True      0  \n",
       "226   [[11.5, 10.5, 12.0, 12.5, 12.6, 13.0, 12.6, 12...     True      3  \n",
       "3030  [[10.9, 11.1, 11.2, 10.8, 12.0, 12.2, 12.7, 12...     True      1  \n",
       "1427  [[10.8, 10.9, 10.7, 10.7, 11.7, 11.4, 11.2, 10...     True      2  \n",
       "...                                                 ...      ...    ...  \n",
       "9911  [[10.6, 10.9, 12.0, 12.3, 13.5, 12.4, 12.8, 12...     True      2  \n",
       "4612  [[10.7, 12.1, 12.1, 11.4, 11.6, 11.3, 12.3, 12...     True      2  \n",
       "5300  [[11.5, 13.0, 12.4, 12.1, 13.0, 13.1, 12.6, 12...     True      3  \n",
       "5603  [[12.0, 11.8, 12.6, 12.6, 13.3, 12.9, 13.6, 13...     True      3  \n",
       "3481  [[11.3, 11.8, 12.1, 11.9, 12.4, 11.3, 12.6, 12...     True      3  \n",
       "\n",
       "[100 rows x 8 columns]"
      ]
     },
     "execution_count": 88,
     "metadata": {},
     "output_type": "execute_result"
    }
   ],
   "source": [
    "# Convert labels\n",
    "label_converter = { \n",
    "    'Human': 0,\n",
    "    'Several humans': 1, \n",
    "    'Non-human heat': 2, \n",
    "    'Ambigous heat': 3,\n",
    "    'No heat':  4\n",
    "}\n",
    "\n",
    "df['label'] = df['label'].apply(lambda x: label_converter[x])\n",
    "df.head(n=100)"
   ]
  },
  {
   "cell_type": "code",
   "execution_count": 96,
   "id": "0307c9f3",
   "metadata": {},
   "outputs": [
    {
     "name": "stdout",
     "output_type": "stream",
     "text": [
      "(200, 5)\n",
      "[[1 0 0 0 0]]\n",
      "(200, 32, 32, 1)\n"
     ]
    }
   ],
   "source": [
    "# Prepare the data\n",
    "y = df['label'].to_numpy()\n",
    "label_binarizer = LabelBinarizer()\n",
    "label_binarizer.fit(range(max(y)+1))\n",
    "y_onehot = label_binarizer.transform(y)\n",
    "\n",
    "X = np.array(df['data'].to_list())\n",
    "X = np.expand_dims(X, axis=3)\n",
    "print(y_onehot.shape)\n",
    "print(y_onehot[:1])\n",
    "assert np.all(np.sum(y_onehot, axis=1) == 1)\n",
    "print(X.shape)"
   ]
  },
  {
   "cell_type": "code",
   "execution_count": 97,
   "id": "d7f17967",
   "metadata": {},
   "outputs": [
    {
     "name": "stdout",
     "output_type": "stream",
     "text": [
      "(180, 32, 32, 1)\n",
      "(180, 5)\n",
      "(15, 32, 32, 1)\n",
      "(15, 5)\n",
      "[[0 0 0 0 1]]\n"
     ]
    }
   ],
   "source": [
    "# Create train / val / test split\n",
    "X_train, X_test, y_train, y_test = train_test_split(X, y_onehot, test_size=0.1, random_state=0)\n",
    "X_val, X_test, y_val, y_test = train_test_split(X_test, y_test, test_size=0.25, random_state=0)\n",
    "\n",
    "print(X_train.shape)\n",
    "print(y_train.shape)\n",
    "print(X_val.shape)\n",
    "print(y_val.shape)\n",
    "print(y_train[:1])"
   ]
  },
  {
   "cell_type": "code",
   "execution_count": 98,
   "id": "a1749ee8",
   "metadata": {},
   "outputs": [],
   "source": [
    "# Squeezenet Model\n",
    "\n",
    "bnmomemtum=0.9\n",
    "\n",
    "def fire(x, squeeze, expand):\n",
    "    y  = tf.keras.layers.Conv2D(filters=squeeze, kernel_size=1, activation='relu', padding='same')(x)\n",
    "    y = tf.keras.layers.BatchNormalization(momentum=bnmomemtum)(y)\n",
    "    y1 = tf.keras.layers.Conv2D(filters=expand//2, kernel_size=1, activation='relu', padding='same')(y)\n",
    "    y1 = tf.keras.layers.BatchNormalization(momentum=bnmomemtum)(y1)\n",
    "    y3 = tf.keras.layers.Conv2D(filters=expand//2, kernel_size=3, activation='relu', padding='same')(y)\n",
    "    y3 = tf.keras.layers.BatchNormalization(momentum=bnmomemtum)(y3)\n",
    "    return tf.keras.layers.concatenate([y1, y3])\n",
    "\n",
    "def fire_module(squeeze, expand):\n",
    "    return lambda x: fire(x, squeeze, expand)\n",
    "\n",
    "x = tf.keras.layers.Input(shape=[*IMAGE_SIZE,1]) # input is 32x32 pixels RGB\n",
    "y = tf.keras.layers.Conv2D(kernel_size=3, filters=32, padding='same', use_bias=True, activation='relu')(x)\n",
    "y = tf.keras.layers.GlobalAveragePooling2D()(y)\n",
    "y = tf.keras.layers.Dense(64)(y)\n",
    "y = tf.keras.layers.Dense(32)(y)\n",
    "y = tf.keras.layers.Dropout(0.2)(y)\n",
    "y = tf.keras.layers.Dense(5, activation='softmax')(y)\n",
    "\n",
    "model = tf.keras.Model(x, y)"
   ]
  },
  {
   "cell_type": "code",
   "execution_count": 100,
   "id": "e4fd23c1",
   "metadata": {},
   "outputs": [
    {
     "name": "stdout",
     "output_type": "stream",
     "text": [
      "Model: \"model_4\"\n",
      "_________________________________________________________________\n",
      "Layer (type)                 Output Shape              Param #   \n",
      "=================================================================\n",
      "input_5 (InputLayer)         [(None, 32, 32, 1)]       0         \n",
      "_________________________________________________________________\n",
      "conv2d_4 (Conv2D)            (None, 32, 32, 32)        320       \n",
      "_________________________________________________________________\n",
      "global_average_pooling2d_4 ( (None, 32)                0         \n",
      "_________________________________________________________________\n",
      "dense_12 (Dense)             (None, 64)                2112      \n",
      "_________________________________________________________________\n",
      "dense_13 (Dense)             (None, 32)                2080      \n",
      "_________________________________________________________________\n",
      "dropout_4 (Dropout)          (None, 32)                0         \n",
      "_________________________________________________________________\n",
      "dense_14 (Dense)             (None, 5)                 165       \n",
      "=================================================================\n",
      "Total params: 4,677\n",
      "Trainable params: 4,677\n",
      "Non-trainable params: 0\n",
      "_________________________________________________________________\n"
     ]
    }
   ],
   "source": [
    "model.compile(\n",
    "optimizer='adam',\n",
    "loss= 'categorical_crossentropy',\n",
    "metrics=['accuracy'])\n",
    "model.build(input_shape=(None, 32, 32, 5))\n",
    "model.summary()"
   ]
  },
  {
   "cell_type": "code",
   "execution_count": 101,
   "id": "0b81f99b",
   "metadata": {},
   "outputs": [
    {
     "name": "stdout",
     "output_type": "stream",
     "text": [
      "Epoch 1/30\n",
      "12/12 [==============================] - 1s 29ms/step - loss: 2.4561 - accuracy: 0.3333 - val_loss: 1.4148 - val_accuracy: 0.3333\n",
      "Epoch 2/30\n",
      "12/12 [==============================] - 0s 18ms/step - loss: 1.5652 - accuracy: 0.3833 - val_loss: 1.2626 - val_accuracy: 0.3333\n",
      "Epoch 3/30\n",
      "12/12 [==============================] - 0s 12ms/step - loss: 1.5315 - accuracy: 0.3389 - val_loss: 1.3155 - val_accuracy: 0.3333\n",
      "Epoch 4/30\n",
      "12/12 [==============================] - 0s 11ms/step - loss: 1.4622 - accuracy: 0.3500 - val_loss: 1.2817 - val_accuracy: 0.3333\n",
      "Epoch 5/30\n",
      "12/12 [==============================] - 0s 10ms/step - loss: 1.4646 - accuracy: 0.3333 - val_loss: 1.3398 - val_accuracy: 0.3333\n",
      "Epoch 6/30\n",
      "12/12 [==============================] - 0s 10ms/step - loss: 1.4442 - accuracy: 0.3833 - val_loss: 1.3104 - val_accuracy: 0.3333\n",
      "Epoch 7/30\n",
      "12/12 [==============================] - 0s 10ms/step - loss: 1.4452 - accuracy: 0.4000 - val_loss: 1.3342 - val_accuracy: 0.3333\n",
      "Epoch 8/30\n",
      "12/12 [==============================] - 0s 10ms/step - loss: 1.4563 - accuracy: 0.3611 - val_loss: 1.3152 - val_accuracy: 0.3333\n",
      "Epoch 9/30\n",
      "12/12 [==============================] - 0s 10ms/step - loss: 1.4658 - accuracy: 0.3278 - val_loss: 1.2628 - val_accuracy: 0.3333\n",
      "Epoch 10/30\n",
      "12/12 [==============================] - 0s 10ms/step - loss: 1.4673 - accuracy: 0.3833 - val_loss: 1.3421 - val_accuracy: 0.3333\n",
      "Epoch 11/30\n",
      "12/12 [==============================] - 0s 11ms/step - loss: 1.4382 - accuracy: 0.4000 - val_loss: 1.3315 - val_accuracy: 0.3333\n",
      "Epoch 12/30\n",
      "12/12 [==============================] - 0s 11ms/step - loss: 1.4376 - accuracy: 0.3778 - val_loss: 1.3110 - val_accuracy: 0.3333\n",
      "Epoch 13/30\n",
      "12/12 [==============================] - 0s 10ms/step - loss: 1.4535 - accuracy: 0.3722 - val_loss: 1.3209 - val_accuracy: 0.3333\n",
      "Epoch 14/30\n",
      "12/12 [==============================] - 0s 11ms/step - loss: 1.4234 - accuracy: 0.3722 - val_loss: 1.2969 - val_accuracy: 0.3333\n",
      "Epoch 15/30\n",
      "12/12 [==============================] - 0s 12ms/step - loss: 1.4251 - accuracy: 0.3667 - val_loss: 1.3198 - val_accuracy: 0.3333\n",
      "Epoch 16/30\n",
      "12/12 [==============================] - 0s 11ms/step - loss: 1.4381 - accuracy: 0.3944 - val_loss: 1.3300 - val_accuracy: 0.3333\n",
      "Epoch 17/30\n",
      "12/12 [==============================] - 0s 10ms/step - loss: 1.4276 - accuracy: 0.3889 - val_loss: 1.2662 - val_accuracy: 0.3333\n",
      "Epoch 18/30\n",
      "12/12 [==============================] - 0s 10ms/step - loss: 1.4237 - accuracy: 0.3944 - val_loss: 1.3067 - val_accuracy: 0.3333\n",
      "Epoch 19/30\n",
      "12/12 [==============================] - 0s 11ms/step - loss: 1.4142 - accuracy: 0.3833 - val_loss: 1.2892 - val_accuracy: 0.3333\n",
      "Epoch 20/30\n",
      "12/12 [==============================] - 0s 11ms/step - loss: 1.4228 - accuracy: 0.3556 - val_loss: 1.2975 - val_accuracy: 0.3333\n",
      "Epoch 21/30\n",
      "12/12 [==============================] - 0s 10ms/step - loss: 1.4168 - accuracy: 0.3944 - val_loss: 1.2994 - val_accuracy: 0.3333\n",
      "Epoch 22/30\n",
      "12/12 [==============================] - 0s 10ms/step - loss: 1.4251 - accuracy: 0.3833 - val_loss: 1.3213 - val_accuracy: 0.3333\n",
      "Epoch 23/30\n",
      "12/12 [==============================] - 0s 10ms/step - loss: 1.4197 - accuracy: 0.4056 - val_loss: 1.2871 - val_accuracy: 0.3333\n",
      "Epoch 24/30\n",
      "12/12 [==============================] - 0s 10ms/step - loss: 1.4290 - accuracy: 0.3889 - val_loss: 1.2923 - val_accuracy: 0.3333\n",
      "Epoch 25/30\n",
      "12/12 [==============================] - 0s 10ms/step - loss: 1.4102 - accuracy: 0.3944 - val_loss: 1.3152 - val_accuracy: 0.3333\n",
      "Epoch 26/30\n",
      "12/12 [==============================] - 0s 10ms/step - loss: 1.4260 - accuracy: 0.3889 - val_loss: 1.2782 - val_accuracy: 0.3333\n",
      "Epoch 27/30\n",
      "12/12 [==============================] - 0s 10ms/step - loss: 1.4145 - accuracy: 0.4111 - val_loss: 1.2755 - val_accuracy: 0.3333\n",
      "Epoch 28/30\n",
      "12/12 [==============================] - 0s 10ms/step - loss: 1.4311 - accuracy: 0.3778 - val_loss: 1.3546 - val_accuracy: 0.3333\n",
      "Epoch 29/30\n",
      "12/12 [==============================] - 0s 10ms/step - loss: 1.4292 - accuracy: 0.3944 - val_loss: 1.3200 - val_accuracy: 0.3333\n",
      "Epoch 30/30\n",
      "12/12 [==============================] - 0s 10ms/step - loss: 1.4302 - accuracy: 0.4000 - val_loss: 1.2802 - val_accuracy: 0.3333\n"
     ]
    },
    {
     "data": {
      "image/png": "[encoded data removed]",
      "text/plain": [
       "<Figure size 432x288 with 1 Axes>"
      ]
     },
     "metadata": {
      "needs_background": "light"
     },
     "output_type": "display_data"
    }
   ],
   "source": [
    "# Fit the model\n",
    "EPOCHS = 30\n",
    "BATCH_SIZE = 16\n",
    "history = model.fit(X_train, y_train, epochs=EPOCHS, batch_size=BATCH_SIZE, validation_data=(X_val, y_val))\n",
    "\n",
    "\n",
    "train_loss = history.history['loss']\n",
    "val_loss = history.history['val_loss']\n",
    "\n",
    "epochs = range(1, len(train_loss) + 1)\n",
    "\n",
    "# Plot training history\n",
    "plt.plot(epochs, train_loss, 'g.', label='Training loss')\n",
    "plt.plot(epochs, val_loss, 'b', label='Validation loss')\n",
    "plt.title('Training and validation loss')\n",
    "plt.xlabel('Epochs')\n",
    "plt.ylabel('Loss')\n",
    "plt.legend()\n",
    "plt.show()"
   ]
  },
  {
   "cell_type": "code",
   "execution_count": 102,
   "id": "2c7c3f42",
   "metadata": {},
   "outputs": [
    {
     "name": "stdout",
     "output_type": "stream",
     "text": [
      "1 conv2d_4 (None, 32, 32, 32)\n",
      "[<keras.engine.functional.Functional object at 0x000002A97DA6F2B0>]\n",
      "WARNING:tensorflow:Compiled the loaded model, but the compiled metrics have yet to be built. `model.compile_metrics` will be empty until you train or evaluate the model.\n",
      "INFO:tensorflow:Assets written to: layer_0\\assets\n"
     ]
    }
   ],
   "source": [
    "layer_list = get_feature_map_list(model)\n",
    "print(layer_list)\n",
    "\n",
    "for i in range(len(layer_list)):\n",
    "    layer_list[i].save(f\"layer_{i}\")"
   ]
  },
  {
   "cell_type": "code",
   "execution_count": 103,
   "id": "a508986a",
   "metadata": {},
   "outputs": [
    {
     "name": "stdout",
     "output_type": "stream",
     "text": [
      "(200, 198)\n",
      "[[1.37223633e+01 1.36000000e+01 1.41247853e+00 1.93000000e+01\n",
      "  9.80000000e+00 1.40517000e+04 7.15011656e-01 0.00000000e+00\n",
      "  0.00000000e+00 1.49491891e-01 8.17718327e-01 0.00000000e+00\n",
      "  4.40455824e-01 0.00000000e+00 1.00603444e-03 1.66070892e-03\n",
      "  3.48639518e-01 6.61285102e-01 2.87988130e-02 0.00000000e+00\n",
      "  1.18140161e+00 2.82847486e-03 5.15798405e-02 7.84609318e-01\n",
      "  9.37332064e-02 2.28866818e-03 7.34356642e-02 0.00000000e+00\n",
      "  7.14292973e-02 4.15567163e-04 0.00000000e+00 5.53556625e-03\n",
      "  4.53765281e-02 9.10370886e-01 0.00000000e+00 1.90507658e-02\n",
      "  0.00000000e+00 8.52914825e-02 5.91847599e-01 0.00000000e+00\n",
      "  0.00000000e+00 0.00000000e+00 8.27529311e-01 0.00000000e+00\n",
      "  4.57392097e-01 0.00000000e+00 0.00000000e+00 0.00000000e+00\n",
      "  2.88592100e-01 6.38815343e-01 0.00000000e+00 0.00000000e+00\n",
      "  1.16766357e+00 0.00000000e+00 0.00000000e+00 7.49710917e-01\n",
      "  2.33299397e-02 0.00000000e+00 0.00000000e+00 0.00000000e+00\n",
      "  0.00000000e+00 0.00000000e+00 0.00000000e+00 0.00000000e+00\n",
      "  0.00000000e+00 8.66286695e-01 0.00000000e+00 0.00000000e+00\n",
      "  0.00000000e+00 0.00000000e+00 7.04023659e-01 0.00000000e+00\n",
      "  0.00000000e+00 4.73764122e-01 3.27819824e-01 0.00000000e+00\n",
      "  1.89422503e-01 0.00000000e+00 3.21764983e-02 5.31167574e-02\n",
      "  4.47585016e-01 4.77112532e-01 1.63064703e-01 0.00000000e+00\n",
      "  4.32411492e-01 4.53275517e-02 2.94537187e-01 2.45449007e-01\n",
      "  1.44873738e-01 7.32016191e-02 2.94476271e-01 0.00000000e+00\n",
      "  4.01869684e-01 1.16832126e-02 0.00000000e+00 3.43438238e-02\n",
      "  1.60069823e-01 4.64359254e-01 0.00000000e+00 9.37691107e-02\n",
      "  0.00000000e+00 3.61655265e-01 5.51792860e+00 0.00000000e+00\n",
      "  0.00000000e+00 3.18633437e+00 3.76561952e+00 0.00000000e+00\n",
      "  1.16178453e+00 0.00000000e+00 1.03017926e+00 1.70056593e+00\n",
      "  3.31074309e+00 3.78443956e+00 1.69596374e+00 0.00000000e+00\n",
      "  3.71279597e+00 1.35357869e+00 2.18986845e+00 2.38856292e+00\n",
      "  1.03585458e+00 2.34359622e+00 2.17045522e+00 0.00000000e+00\n",
      "  2.55674982e+00 3.69944751e-01 0.00000000e+00 3.97970378e-01\n",
      "  1.49840140e+00 3.49034643e+00 0.00000000e+00 8.70270848e-01\n",
      "  0.00000000e+00 2.95651531e+00 0.00000000e+00 0.00000000e+00\n",
      "  0.00000000e+00 0.00000000e+00 0.00000000e+00 0.00000000e+00\n",
      "  0.00000000e+00 0.00000000e+00 0.00000000e+00 0.00000000e+00\n",
      "  0.00000000e+00 0.00000000e+00 0.00000000e+00 0.00000000e+00\n",
      "  0.00000000e+00 0.00000000e+00 0.00000000e+00 0.00000000e+00\n",
      "  0.00000000e+00 0.00000000e+00 0.00000000e+00 0.00000000e+00\n",
      "  0.00000000e+00 0.00000000e+00 0.00000000e+00 0.00000000e+00\n",
      "  0.00000000e+00 0.00000000e+00 0.00000000e+00 0.00000000e+00\n",
      "  0.00000000e+00 0.00000000e+00 7.32171936e+02 0.00000000e+00\n",
      "  0.00000000e+00 1.53079697e+02 8.37343567e+02 0.00000000e+00\n",
      "  4.51026764e+02 0.00000000e+00 1.03017926e+00 1.70056593e+00\n",
      "  3.57006866e+02 6.77155945e+02 2.94899845e+01 0.00000000e+00\n",
      "  1.20975525e+03 2.89635825e+00 5.28177567e+01 8.03439941e+02\n",
      "  9.59828033e+01 2.34359622e+00 7.51981201e+01 0.00000000e+00\n",
      "  7.31436005e+01 4.25540775e-01 0.00000000e+00 5.66841984e+00\n",
      "  4.64655647e+01 9.32219788e+02 0.00000000e+00 1.95079842e+01\n",
      "  0.00000000e+00 8.73384781e+01]]\n"
     ]
    }
   ],
   "source": [
    "# Calculate the feature map mean\n",
    "feature_map_list = []\n",
    "\n",
    "im_mean = np.mean(X, axis=(1,2))\n",
    "im_median = np.median(X, axis=(1,2))\n",
    "im_std = np.std(X, axis=(1,2))\n",
    "im_max = np.max(X, axis=(1,2))\n",
    "im_min = np.min(X, axis=(1,2))\n",
    "im_sum = np.sum(X, axis=(1,2))\n",
    "\n",
    "feature_map_list.append(np.concatenate([im_mean,\n",
    "                                           im_median,\n",
    "                                           im_std,\n",
    "                                           im_max,\n",
    "                                           im_min,\n",
    "                                           im_sum], axis=1))\n",
    "\n",
    "\n",
    "\n",
    "# Print the shape of the feature maps\n",
    "for i in range(len(layer_list)):\n",
    "    feature_map = layer_list[i].predict(X)\n",
    "    feature_map_mean = np.mean(feature_map, axis=(1,2))\n",
    "    feature_map_median = np.median(feature_map, axis=(1,2))\n",
    "    feature_map_std = np.std(feature_map, axis=(1,2))\n",
    "    feature_map_max = np.max(feature_map, axis=(1,2))\n",
    "    feature_map_min = np.min(feature_map, axis=(1,2))\n",
    "    feature_map_sum = np.sum(feature_map, axis=(1,2))\n",
    "    feature_map_features = np.concatenate([feature_map_mean,\n",
    "                                           feature_map_median,\n",
    "                                           feature_map_std,\n",
    "                                           feature_map_max, \n",
    "                                           feature_map_min, \n",
    "                                           feature_map_sum], axis=1)\n",
    "    feature_map_list.append(feature_map_features)\n",
    "    \n",
    "feature_map_means = np.concatenate(feature_map_list, axis=1)\n",
    "print(feature_map_means.shape)\n",
    "print(feature_map_means[:1])"
   ]
  },
  {
   "cell_type": "code",
   "execution_count": 104,
   "id": "8b5fbbe7",
   "metadata": {},
   "outputs": [],
   "source": [
    "df_train_expanded = pd.DataFrame(np.concatenate([df.head(X.shape[0]), feature_map_means], axis=1))"
   ]
  },
  {
   "cell_type": "code",
   "execution_count": 105,
   "id": "7f748a40",
   "metadata": {},
   "outputs": [
    {
     "name": "stdout",
     "output_type": "stream",
     "text": [
      "(200,)\n",
      "(200, 198)\n"
     ]
    }
   ],
   "source": [
    "# Prepare the data for gradient boosting\n",
    "y_clf = df_train_expanded[7].to_numpy().astype(int)\n",
    "X_clf= df_train_expanded.iloc[:,8:].to_numpy()\n",
    "print(y_clf.shape)\n",
    "print(X_clf.shape)"
   ]
  },
  {
   "cell_type": "code",
   "execution_count": 107,
   "id": "a0a894dd",
   "metadata": {},
   "outputs": [
    {
     "name": "stdout",
     "output_type": "stream",
     "text": [
      "(180, 198)\n",
      "(180,)\n",
      "(20, 198)\n",
      "(20,)\n",
      "[4]\n"
     ]
    }
   ],
   "source": [
    "# Create train / val / test split\n",
    "X_train_clf, X_test_clf, y_train_clf, y_test_clf = train_test_split(X_clf, y_clf, test_size=0.1, random_state=0)\n",
    "# X_val_clf, X_test_clf, y_val_clf, y_test_clf = train_test_split(X_test_clf, y_test_clf, test_size=0.3, random_state=0)\n",
    "\n",
    "print(X_train_clf.shape)\n",
    "print(y_train_clf.shape)\n",
    "print(X_test_clf.shape)\n",
    "print(y_test_clf.shape)\n",
    "print(y_train_clf[:1])"
   ]
  },
  {
   "cell_type": "code",
   "execution_count": 108,
   "id": "0fb08848",
   "metadata": {},
   "outputs": [
    {
     "data": {
      "text/plain": [
       "0.4"
      ]
     },
     "execution_count": 108,
     "metadata": {},
     "output_type": "execute_result"
    }
   ],
   "source": [
    "# Train the GBT\n",
    "clf = GradientBoostingClassifier(n_estimators=300, learning_rate=1.0, max_depth=3, random_state=0).fit(X_train_clf, y_train_clf)\n",
    "\n",
    "# Mean accuracy\n",
    "clf.score(X_test_clf, y_test_clf)# Train the GBT"
   ]
  },
  {
   "cell_type": "code",
   "execution_count": 109,
   "id": "e6227d58",
   "metadata": {},
   "outputs": [],
   "source": [
    "# HP-Tuning\n",
    "NUM_FEATURES = 198\n",
    "\n",
    "def build_hypermodel(hp):\n",
    "    \n",
    "    n_estimators = hp.Int(\"n_estimators\", 10, 300)\n",
    "    learning_rate = hp.Float(\"learning_rate\", 0.1, 1.0)\n",
    "    max_depth = hp.Int(\"max_depth\", 1, 8)\n",
    "    max_features = hp.Int(\"max_features\", 1, NUM_FEATURES)\n",
    "    \n",
    "    return GradientBoostingClassifier(n_estimators=n_estimators,\n",
    "                                      learning_rate=learning_rate, \n",
    "                                      max_depth=max_depth,\n",
    "                                      max_features=max_features,\n",
    "                                      validation_fraction=0.2,\n",
    "                                      random_state=0)"
   ]
  },
  {
   "cell_type": "code",
   "execution_count": 110,
   "id": "faf14f27",
   "metadata": {},
   "outputs": [
    {
     "name": "stdout",
     "output_type": "stream",
     "text": [
      "Trial 41 Complete [00h 00m 15s]\n",
      "score: 0.2891082251082251\n",
      "\n",
      "Best score So Far: 0.3476017316017316\n",
      "Total elapsed time: 00h 10m 55s\n",
      "INFO:tensorflow:Oracle triggered exit\n",
      "Best model test score: 0.35\n",
      "Best model params: {'ccp_alpha': 0.0, 'criterion': 'friedman_mse', 'init': None, 'learning_rate': 0.6356198890804754, 'loss': 'deviance', 'max_depth': 2, 'max_features': 144, 'max_leaf_nodes': None, 'min_impurity_decrease': 0.0, 'min_samples_leaf': 1, 'min_samples_split': 2, 'min_weight_fraction_leaf': 0.0, 'n_estimators': 203, 'n_iter_no_change': None, 'random_state': 0, 'subsample': 1.0, 'tol': 0.0001, 'validation_fraction': 0.2, 'verbose': 0, 'warm_start': False}\n"
     ]
    }
   ],
   "source": [
    "MAX_TRIALS = 40\n",
    "\n",
    "# TODO: Use maybe other metrices!\n",
    "\n",
    "tuner = kt.tuners.SklearnTuner(\n",
    "    oracle=kt.oracles.BayesianOptimizationOracle(\n",
    "        objective=kt.Objective('score', 'max'),\n",
    "        max_trials=MAX_TRIALS),\n",
    "    hypermodel=build_hypermodel,\n",
    "    scoring=skl.metrics.make_scorer(skl.metrics.balanced_accuracy_score),\n",
    "    metrics=[skl.metrics.accuracy_score, balanced_accuracy_score],\n",
    "    cv=skl.model_selection.StratifiedKFold(5),\n",
    "    directory='.',\n",
    "    project_name='hp_tuning')\n",
    "\n",
    "\n",
    "\n",
    "tuner.search(X_train_clf, y_train_clf)\n",
    "\n",
    "best_model = tuner.get_best_models(num_models=1)[0]\n",
    "\n",
    "print(f\"Best model test score: {best_model.score(X_test_clf, y_test_clf)}\")\n",
    "\n",
    "print(f\"Best model params: {best_model.get_params()}\")"
   ]
  },
  {
   "cell_type": "code",
   "execution_count": 111,
   "id": "ba8b7e84",
   "metadata": {},
   "outputs": [
    {
     "name": "stdout",
     "output_type": "stream",
     "text": [
      "GBT size in kiB: 930.3837890625\n",
      "Conv layer size in kiB: 4.0\n",
      "Total size in kiB: 934.3837890625\n"
     ]
    }
   ],
   "source": [
    "get_memory_size(best_model, layer_list, fname=\"best\")"
   ]
  },
  {
   "cell_type": "code",
   "execution_count": 112,
   "id": "66280105",
   "metadata": {},
   "outputs": [
    {
     "name": "stdout",
     "output_type": "stream",
     "text": [
      "Ground Truth: [0 2 3 3 0 0 2 3 0 2 2 3 2 0 2 0 0 2 0 3]\n",
      "Prediction:   [2 0 2 2 3 0 2 2 0 0 2 2 2 0 2 2 2 0 2 0]\n"
     ]
    }
   ],
   "source": [
    "# Compare predictions and ground truth\n",
    "pred = best_model.predict(X_test_clf)\n",
    "\n",
    "print(f\"Ground Truth: {y_test_clf}\")\n",
    "print(f\"Prediction:   {pred}\")"
   ]
  },
  {
   "cell_type": "code",
   "execution_count": null,
   "id": "2484434e",
   "metadata": {},
   "outputs": [],
   "source": []
  }
 ],
 "metadata": {
  "kernelspec": {
   "display_name": "Python 3 (ipykernel)",
   "language": "python",
   "name": "python3"
  },
  "language_info": {
   "codemirror_mode": {
    "name": "ipython",
    "version": 3
   },
   "file_extension": ".py",
   "mimetype": "text/x-python",
   "name": "python",
   "nbconvert_exporter": "python",
   "pygments_lexer": "ipython3",
   "version": "3.8.12"
  }
 },
 "nbformat": 4,
 "nbformat_minor": 5
}
