{
 "cells": [
  {
   "cell_type": "markdown",
   "id": "045401df",
   "metadata": {},
   "source": [
    "# Gradient Boosting Classifier"
   ]
  },
  {
   "cell_type": "code",
   "execution_count": 76,
   "id": "37a5c481",
   "metadata": {},
   "outputs": [],
   "source": [
    "import pandas as pd\n",
    "import numpy as np\n",
    "import tensorflow as tf\n",
    "import matplotlib.pyplot as plt\n",
    "import sklearn as skl\n",
    "from sklearn.model_selection import train_test_split\n",
    "from sklearn.ensemble import GradientBoostingClassifier\n",
    "import pickle\n",
    "import sys\n",
    "import joblib\n",
    "import os\n",
    "import keras_tuner as kt\n",
    "\n",
    "IMAGE_SIZE = [32, 32]"
   ]
  },
  {
   "cell_type": "code",
   "execution_count": 52,
   "id": "e7966571",
   "metadata": {},
   "outputs": [],
   "source": [
    "df = pd.read_json('../data/labelled_data/whole_data_1637521796.json', orient='records')"
   ]
  },
  {
   "cell_type": "code",
   "execution_count": 53,
   "id": "afcc543e",
   "metadata": {},
   "outputs": [
    {
     "name": "stdout",
     "output_type": "stream",
     "text": [
      "amount of samples: 200\n"
     ]
    },
    {
     "data": {
      "text/html": [
       "<div>\n",
       "<style scoped>\n",
       "    .dataframe tbody tr th:only-of-type {\n",
       "        vertical-align: middle;\n",
       "    }\n",
       "\n",
       "    .dataframe tbody tr th {\n",
       "        vertical-align: top;\n",
       "    }\n",
       "\n",
       "    .dataframe thead th {\n",
       "        text-align: right;\n",
       "    }\n",
       "</style>\n",
       "<table border=\"1\" class=\"dataframe\">\n",
       "  <thead>\n",
       "    <tr style=\"text-align: right;\">\n",
       "      <th></th>\n",
       "      <th>index</th>\n",
       "      <th>Timestamp</th>\n",
       "      <th>Sensor ID</th>\n",
       "      <th>Room Temperature</th>\n",
       "      <th>RSSI</th>\n",
       "      <th>data</th>\n",
       "      <th>changed</th>\n",
       "      <th>label</th>\n",
       "    </tr>\n",
       "  </thead>\n",
       "  <tbody>\n",
       "    <tr>\n",
       "      <th>521</th>\n",
       "      <td>521</td>\n",
       "      <td>2021-05-07 13:06:24</td>\n",
       "      <td>3078</td>\n",
       "      <td>21.299999</td>\n",
       "      <td>-67</td>\n",
       "      <td>[[12.0, 10.4, 11.1, 10.9, 10.9, 12.0, 11.6, 11...</td>\n",
       "      <td>True</td>\n",
       "      <td>Human</td>\n",
       "    </tr>\n",
       "    <tr>\n",
       "      <th>2940</th>\n",
       "      <td>2940</td>\n",
       "      <td>2021-05-07 13:10:22</td>\n",
       "      <td>3078</td>\n",
       "      <td>22.400000</td>\n",
       "      <td>-76</td>\n",
       "      <td>[[11.8, 10.3, 11.2, 11.8, 10.6, 11.3, 11.4, 11...</td>\n",
       "      <td>True</td>\n",
       "      <td>Human</td>\n",
       "    </tr>\n",
       "    <tr>\n",
       "      <th>226</th>\n",
       "      <td>226</td>\n",
       "      <td>2021-05-07 13:05:55</td>\n",
       "      <td>3078</td>\n",
       "      <td>21.100000</td>\n",
       "      <td>-68</td>\n",
       "      <td>[[11.5, 10.5, 12.0, 12.5, 12.6, 13.0, 12.6, 12...</td>\n",
       "      <td>True</td>\n",
       "      <td>Ambigous heat</td>\n",
       "    </tr>\n",
       "  </tbody>\n",
       "</table>\n",
       "</div>"
      ],
      "text/plain": [
       "      index           Timestamp Sensor ID  Room Temperature  RSSI  \\\n",
       "521     521 2021-05-07 13:06:24      3078         21.299999   -67   \n",
       "2940   2940 2021-05-07 13:10:22      3078         22.400000   -76   \n",
       "226     226 2021-05-07 13:05:55      3078         21.100000   -68   \n",
       "\n",
       "                                                   data  changed  \\\n",
       "521   [[12.0, 10.4, 11.1, 10.9, 10.9, 12.0, 11.6, 11...     True   \n",
       "2940  [[11.8, 10.3, 11.2, 11.8, 10.6, 11.3, 11.4, 11...     True   \n",
       "226   [[11.5, 10.5, 12.0, 12.5, 12.6, 13.0, 12.6, 12...     True   \n",
       "\n",
       "              label  \n",
       "521           Human  \n",
       "2940          Human  \n",
       "226   Ambigous heat  "
      ]
     },
     "execution_count": 53,
     "metadata": {},
     "output_type": "execute_result"
    }
   ],
   "source": [
    "# Show amount of samples\n",
    "print(\"amount of samples:\", df.shape[0])\n",
    "df.head(n=3)"
   ]
  },
  {
   "cell_type": "code",
   "execution_count": 54,
   "id": "94973a62",
   "metadata": {},
   "outputs": [
    {
     "data": {
      "text/html": [
       "<div>\n",
       "<style scoped>\n",
       "    .dataframe tbody tr th:only-of-type {\n",
       "        vertical-align: middle;\n",
       "    }\n",
       "\n",
       "    .dataframe tbody tr th {\n",
       "        vertical-align: top;\n",
       "    }\n",
       "\n",
       "    .dataframe thead th {\n",
       "        text-align: right;\n",
       "    }\n",
       "</style>\n",
       "<table border=\"1\" class=\"dataframe\">\n",
       "  <thead>\n",
       "    <tr style=\"text-align: right;\">\n",
       "      <th></th>\n",
       "      <th>index</th>\n",
       "      <th>Timestamp</th>\n",
       "      <th>Sensor ID</th>\n",
       "      <th>Room Temperature</th>\n",
       "      <th>RSSI</th>\n",
       "      <th>data</th>\n",
       "      <th>changed</th>\n",
       "      <th>label</th>\n",
       "    </tr>\n",
       "  </thead>\n",
       "  <tbody>\n",
       "    <tr>\n",
       "      <th>521</th>\n",
       "      <td>521</td>\n",
       "      <td>2021-05-07 13:06:24</td>\n",
       "      <td>3078</td>\n",
       "      <td>21.299999</td>\n",
       "      <td>-67</td>\n",
       "      <td>[[12.0, 10.4, 11.1, 10.9, 10.9, 12.0, 11.6, 11...</td>\n",
       "      <td>True</td>\n",
       "      <td>1</td>\n",
       "    </tr>\n",
       "    <tr>\n",
       "      <th>2940</th>\n",
       "      <td>2940</td>\n",
       "      <td>2021-05-07 13:10:22</td>\n",
       "      <td>3078</td>\n",
       "      <td>22.400000</td>\n",
       "      <td>-76</td>\n",
       "      <td>[[11.8, 10.3, 11.2, 11.8, 10.6, 11.3, 11.4, 11...</td>\n",
       "      <td>True</td>\n",
       "      <td>1</td>\n",
       "    </tr>\n",
       "    <tr>\n",
       "      <th>226</th>\n",
       "      <td>226</td>\n",
       "      <td>2021-05-07 13:05:55</td>\n",
       "      <td>3078</td>\n",
       "      <td>21.100000</td>\n",
       "      <td>-68</td>\n",
       "      <td>[[11.5, 10.5, 12.0, 12.5, 12.6, 13.0, 12.6, 12...</td>\n",
       "      <td>True</td>\n",
       "      <td>0</td>\n",
       "    </tr>\n",
       "  </tbody>\n",
       "</table>\n",
       "</div>"
      ],
      "text/plain": [
       "      index           Timestamp Sensor ID  Room Temperature  RSSI  \\\n",
       "521     521 2021-05-07 13:06:24      3078         21.299999   -67   \n",
       "2940   2940 2021-05-07 13:10:22      3078         22.400000   -76   \n",
       "226     226 2021-05-07 13:05:55      3078         21.100000   -68   \n",
       "\n",
       "                                                   data  changed  label  \n",
       "521   [[12.0, 10.4, 11.1, 10.9, 10.9, 12.0, 11.6, 11...     True      1  \n",
       "2940  [[11.8, 10.3, 11.2, 11.8, 10.6, 11.3, 11.4, 11...     True      1  \n",
       "226   [[11.5, 10.5, 12.0, 12.5, 12.6, 13.0, 12.6, 12...     True      0  "
      ]
     },
     "execution_count": 54,
     "metadata": {},
     "output_type": "execute_result"
    }
   ],
   "source": [
    "# convert labels\n",
    "binary_label_converter = { \n",
    "    'Human': 1,\n",
    "    'Several humans': 1, \n",
    "    'Non-human heat': 0, \n",
    "    'Ambigous heat': 0,\n",
    "    'No heat':  0,\n",
    "}\n",
    "\n",
    "\n",
    "df_binary = df.copy()\n",
    "\n",
    "df_binary['label'] = df['label'].apply(lambda x: binary_label_converter[x])\n",
    "df_binary.head(n=3)"
   ]
  },
  {
   "cell_type": "code",
   "execution_count": 55,
   "id": "57395474",
   "metadata": {},
   "outputs": [
    {
     "name": "stdout",
     "output_type": "stream",
     "text": [
      "(200,)\n",
      "(200, 32, 32, 1)\n"
     ]
    }
   ],
   "source": [
    "# Prepare the data\n",
    "y = df_binary['label'].to_numpy()\n",
    "X = np.array(df_binary['data'].to_list())\n",
    "X = np.expand_dims(X, axis=3)\n",
    "print(y.shape)\n",
    "print(X.shape)"
   ]
  },
  {
   "cell_type": "code",
   "execution_count": 56,
   "id": "cb50cbff",
   "metadata": {},
   "outputs": [
    {
     "name": "stdout",
     "output_type": "stream",
     "text": [
      "(180, 32, 32, 1)\n",
      "(180,)\n",
      "(15, 32, 32, 1)\n",
      "(15,)\n",
      "[0]\n"
     ]
    }
   ],
   "source": [
    "# Create train / val / test split\n",
    "X_train, X_test, y_train, y_test = train_test_split(X, y, test_size=0.1, random_state=0)\n",
    "X_val, X_test, y_val, y_test = train_test_split(X_test, y_test, test_size=0.25, random_state=0)\n",
    "\n",
    "print(X_train.shape)\n",
    "print(y_train.shape)\n",
    "print(X_val.shape)\n",
    "print(y_val.shape)\n",
    "print(y_train[:1])"
   ]
  },
  {
   "cell_type": "code",
   "execution_count": 57,
   "id": "de669427",
   "metadata": {},
   "outputs": [],
   "source": [
    "# Squeezenet Model\n",
    "\n",
    "bnmomemtum=0.9\n",
    "\n",
    "def fire(x, squeeze, expand):\n",
    "    y  = tf.keras.layers.Conv2D(filters=squeeze, kernel_size=1, activation='relu', padding='same')(x)\n",
    "    y = tf.keras.layers.BatchNormalization(momentum=bnmomemtum)(y)\n",
    "    y1 = tf.keras.layers.Conv2D(filters=expand//2, kernel_size=1, activation='relu', padding='same')(y)\n",
    "    y1 = tf.keras.layers.BatchNormalization(momentum=bnmomemtum)(y1)\n",
    "    y3 = tf.keras.layers.Conv2D(filters=expand//2, kernel_size=3, activation='relu', padding='same')(y)\n",
    "    y3 = tf.keras.layers.BatchNormalization(momentum=bnmomemtum)(y3)\n",
    "    return tf.keras.layers.concatenate([y1, y3])\n",
    "\n",
    "def fire_module(squeeze, expand):\n",
    "    return lambda x: fire(x, squeeze, expand)\n",
    "\n",
    "x = tf.keras.layers.Input(shape=[*IMAGE_SIZE,1]) # input is 32x32 pixels RGB\n",
    "y = tf.keras.layers.Conv2D(kernel_size=3, filters=32, padding='same', use_bias=True, activation='relu')(x)\n",
    "y = tf.keras.layers.GlobalAveragePooling2D()(y)\n",
    "y = tf.keras.layers.Dense(64)(y)\n",
    "y = tf.keras.layers.Dense(32)(y)\n",
    "y = tf.keras.layers.Dropout(0.2)(y)\n",
    "y = tf.keras.layers.Dense(2, activation='softmax')(y)\n",
    "\n",
    "model = tf.keras.Model(x, y)"
   ]
  },
  {
   "cell_type": "code",
   "execution_count": 58,
   "id": "111e9ddd",
   "metadata": {},
   "outputs": [
    {
     "name": "stdout",
     "output_type": "stream",
     "text": [
      "Model: \"model_1\"\n",
      "_________________________________________________________________\n",
      "Layer (type)                 Output Shape              Param #   \n",
      "=================================================================\n",
      "input_2 (InputLayer)         [(None, 32, 32, 1)]       0         \n",
      "_________________________________________________________________\n",
      "conv2d_1 (Conv2D)            (None, 32, 32, 32)        320       \n",
      "_________________________________________________________________\n",
      "global_average_pooling2d_1 ( (None, 32)                0         \n",
      "_________________________________________________________________\n",
      "dense_3 (Dense)              (None, 64)                2112      \n",
      "_________________________________________________________________\n",
      "dense_4 (Dense)              (None, 32)                2080      \n",
      "_________________________________________________________________\n",
      "dropout_1 (Dropout)          (None, 32)                0         \n",
      "_________________________________________________________________\n",
      "dense_5 (Dense)              (None, 2)                 66        \n",
      "=================================================================\n",
      "Total params: 4,578\n",
      "Trainable params: 4,578\n",
      "Non-trainable params: 0\n",
      "_________________________________________________________________\n"
     ]
    }
   ],
   "source": [
    "model.compile(\n",
    "optimizer='adam',\n",
    "loss= 'sparse_categorical_crossentropy',\n",
    "metrics=['accuracy'])\n",
    "model.build(input_shape=(None, 32, 32, 1))\n",
    "model.summary()"
   ]
  },
  {
   "cell_type": "code",
   "execution_count": 59,
   "id": "fd2d24eb",
   "metadata": {},
   "outputs": [
    {
     "name": "stdout",
     "output_type": "stream",
     "text": [
      "('You must install pydot (`pip install pydot`) and install graphviz (see instructions at https://graphviz.gitlab.io/download/) ', 'for plot_model/model_to_dot to work.')\n"
     ]
    }
   ],
   "source": [
    "# Plot the model\n",
    "# `rankdir='LR'` is to make the graph horizontal.\n",
    "%matplotlib inline\n",
    "tf.keras.utils.plot_model(model, show_shapes=True, rankdir=\"LR\")"
   ]
  },
  {
   "cell_type": "code",
   "execution_count": 60,
   "id": "6a0d0981",
   "metadata": {},
   "outputs": [
    {
     "name": "stdout",
     "output_type": "stream",
     "text": [
      "Epoch 1/30\n",
      "12/12 [==============================] - 2s 53ms/step - loss: 0.9971 - accuracy: 0.5833 - val_loss: 1.0499 - val_accuracy: 0.6000\n",
      "Epoch 2/30\n",
      "12/12 [==============================] - 0s 24ms/step - loss: 0.7542 - accuracy: 0.5889 - val_loss: 0.7151 - val_accuracy: 0.6000\n",
      "Epoch 3/30\n",
      "12/12 [==============================] - 0s 31ms/step - loss: 0.8134 - accuracy: 0.6000 - val_loss: 0.7254 - val_accuracy: 0.4000\n",
      "Epoch 4/30\n",
      "12/12 [==============================] - 0s 24ms/step - loss: 0.7174 - accuracy: 0.5556 - val_loss: 0.7255 - val_accuracy: 0.6000\n",
      "Epoch 5/30\n",
      "12/12 [==============================] - 0s 18ms/step - loss: 0.7550 - accuracy: 0.5500 - val_loss: 0.6963 - val_accuracy: 0.3333\n",
      "Epoch 6/30\n",
      "12/12 [==============================] - 0s 16ms/step - loss: 0.6919 - accuracy: 0.5722 - val_loss: 0.6749 - val_accuracy: 0.6000\n",
      "Epoch 7/30\n",
      "12/12 [==============================] - 0s 17ms/step - loss: 0.7087 - accuracy: 0.5389 - val_loss: 0.7327 - val_accuracy: 0.6000\n",
      "Epoch 8/30\n",
      "12/12 [==============================] - 0s 26ms/step - loss: 0.7088 - accuracy: 0.6000 - val_loss: 0.6768 - val_accuracy: 0.6000\n",
      "Epoch 9/30\n",
      "12/12 [==============================] - 0s 16ms/step - loss: 0.7131 - accuracy: 0.5389 - val_loss: 0.6882 - val_accuracy: 0.6000\n",
      "Epoch 10/30\n",
      "12/12 [==============================] - 0s 17ms/step - loss: 0.7059 - accuracy: 0.5389 - val_loss: 0.7264 - val_accuracy: 0.6000\n",
      "Epoch 11/30\n",
      "12/12 [==============================] - 0s 25ms/step - loss: 0.6980 - accuracy: 0.6222 - val_loss: 0.7033 - val_accuracy: 0.4000\n",
      "Epoch 12/30\n",
      "12/12 [==============================] - 0s 19ms/step - loss: 0.7011 - accuracy: 0.5889 - val_loss: 0.7077 - val_accuracy: 0.6000\n",
      "Epoch 13/30\n",
      "12/12 [==============================] - 0s 33ms/step - loss: 0.6965 - accuracy: 0.5333 - val_loss: 0.6917 - val_accuracy: 0.6000\n",
      "Epoch 14/30\n",
      "12/12 [==============================] - 0s 21ms/step - loss: 0.6803 - accuracy: 0.6278 - val_loss: 0.6740 - val_accuracy: 0.6000\n",
      "Epoch 15/30\n",
      "12/12 [==============================] - 0s 18ms/step - loss: 0.6777 - accuracy: 0.6000 - val_loss: 0.6764 - val_accuracy: 0.6000\n",
      "Epoch 16/30\n",
      "12/12 [==============================] - 0s 17ms/step - loss: 0.6758 - accuracy: 0.6111 - val_loss: 0.6824 - val_accuracy: 0.6000\n",
      "Epoch 17/30\n",
      "12/12 [==============================] - 0s 18ms/step - loss: 0.6623 - accuracy: 0.6222 - val_loss: 0.6775 - val_accuracy: 0.6000\n",
      "Epoch 18/30\n",
      "12/12 [==============================] - 0s 17ms/step - loss: 0.6888 - accuracy: 0.6167 - val_loss: 0.6742 - val_accuracy: 0.6000\n",
      "Epoch 19/30\n",
      "12/12 [==============================] - 0s 18ms/step - loss: 0.6782 - accuracy: 0.6000 - val_loss: 0.6812 - val_accuracy: 0.6000\n",
      "Epoch 20/30\n",
      "12/12 [==============================] - 0s 18ms/step - loss: 0.6837 - accuracy: 0.6000 - val_loss: 0.6882 - val_accuracy: 0.6000\n",
      "Epoch 21/30\n",
      "12/12 [==============================] - 0s 19ms/step - loss: 0.6758 - accuracy: 0.6278 - val_loss: 0.6741 - val_accuracy: 0.6000\n",
      "Epoch 22/30\n",
      "12/12 [==============================] - 0s 18ms/step - loss: 0.6748 - accuracy: 0.6222 - val_loss: 0.6773 - val_accuracy: 0.6000\n",
      "Epoch 23/30\n",
      "12/12 [==============================] - 0s 12ms/step - loss: 0.6910 - accuracy: 0.6333 - val_loss: 0.6870 - val_accuracy: 0.6000\n",
      "Epoch 24/30\n",
      "12/12 [==============================] - 0s 13ms/step - loss: 0.6921 - accuracy: 0.5611 - val_loss: 0.6884 - val_accuracy: 0.6000\n",
      "Epoch 25/30\n",
      "12/12 [==============================] - 0s 12ms/step - loss: 0.6731 - accuracy: 0.6056 - val_loss: 0.6781 - val_accuracy: 0.6000\n",
      "Epoch 26/30\n",
      "12/12 [==============================] - 0s 12ms/step - loss: 0.6817 - accuracy: 0.6222 - val_loss: 0.6755 - val_accuracy: 0.6000\n",
      "Epoch 27/30\n",
      "12/12 [==============================] - 0s 11ms/step - loss: 0.6908 - accuracy: 0.5833 - val_loss: 0.7134 - val_accuracy: 0.6000\n",
      "Epoch 28/30\n",
      "12/12 [==============================] - 0s 18ms/step - loss: 0.6948 - accuracy: 0.6278 - val_loss: 0.6952 - val_accuracy: 0.4000\n",
      "Epoch 29/30\n",
      "12/12 [==============================] - 0s 18ms/step - loss: 0.7151 - accuracy: 0.5778 - val_loss: 0.6875 - val_accuracy: 0.6000\n",
      "Epoch 30/30\n",
      "12/12 [==============================] - 0s 18ms/step - loss: 0.6995 - accuracy: 0.5611 - val_loss: 0.6764 - val_accuracy: 0.6000\n"
     ]
    },
    {
     "data": {
      "image/png": "[encoded data removed]",
      "text/plain": [
       "<Figure size 432x288 with 1 Axes>"
      ]
     },
     "metadata": {
      "needs_background": "light"
     },
     "output_type": "display_data"
    }
   ],
   "source": [
    "# Fit the model\n",
    "EPOCHS = 30\n",
    "BATCH_SIZE = 16\n",
    "history = model.fit(X_train, y_train, epochs=EPOCHS, batch_size=BATCH_SIZE, validation_data=(X_val, y_val))\n",
    "\n",
    "\n",
    "train_loss = history.history['loss']\n",
    "val_loss = history.history['val_loss']\n",
    "\n",
    "epochs = range(1, len(train_loss) + 1)\n",
    "\n",
    "# Plot training history\n",
    "plt.plot(epochs, train_loss, 'g.', label='Training loss')\n",
    "plt.plot(epochs, val_loss, 'b', label='Validation loss')\n",
    "plt.title('Training and validation loss')\n",
    "plt.xlabel('Epochs')\n",
    "plt.ylabel('Loss')\n",
    "plt.legend()\n",
    "plt.show()\n"
   ]
  },
  {
   "cell_type": "code",
   "execution_count": 61,
   "id": "28b3b222",
   "metadata": {},
   "outputs": [],
   "source": [
    "def get_feature_map_list(model):\n",
    "    \n",
    "    feature_map_list = []\n",
    "        \n",
    "    for i in range(len(model.layers)):\n",
    "        layer = model.layers[i]\n",
    "        # check for convolutional layer\n",
    "        if 'conv' not in layer.name:\n",
    "            continue\n",
    "        # summarize output shape\n",
    "        print(i, layer.name, layer.output.shape)\n",
    "        \n",
    "        # Get the layer input and output\n",
    "        if i==0:\n",
    "            inputs = model.inputs\n",
    "        else:\n",
    "            inputs = model.layers[i-1].input\n",
    "            \n",
    "        if i==len(model.layers):\n",
    "            outputs = model.outputs\n",
    "        else:\n",
    "            outputs = model.layers[i].output\n",
    "        \n",
    "        current_feature_map = tf.keras.Model(name=layer.name, inputs=inputs, outputs=model.layers[i].output)\n",
    "        feature_map_list.append(current_feature_map)\n",
    "    \n",
    "    return feature_map_list\n",
    "        \n",
    "    \n",
    "    "
   ]
  },
  {
   "cell_type": "code",
   "execution_count": 62,
   "id": "47eb7d23",
   "metadata": {},
   "outputs": [
    {
     "name": "stdout",
     "output_type": "stream",
     "text": [
      "1 conv2d_1 (None, 32, 32, 32)\n",
      "[<keras.engine.functional.Functional object at 0x000001B8DF3A0C40>]\n",
      "WARNING:tensorflow:Compiled the loaded model, but the compiled metrics have yet to be built. `model.compile_metrics` will be empty until you train or evaluate the model.\n",
      "INFO:tensorflow:Assets written to: layer_0\\assets\n"
     ]
    }
   ],
   "source": [
    "layer_list = get_feature_map_list(model)\n",
    "print(layer_list)\n",
    "\n",
    "for i in range(len(layer_list)):\n",
    "    layer_list[i].save(f\"layer_{i}\")"
   ]
  },
  {
   "cell_type": "code",
   "execution_count": 85,
   "id": "1e18ea5d",
   "metadata": {},
   "outputs": [
    {
     "name": "stdout",
     "output_type": "stream",
     "text": [
      "(200, 192)\n",
      "[[4.4804785e-02 0.0000000e+00 1.4265299e-02 5.6611240e-02 0.0000000e+00\n",
      "  0.0000000e+00 3.3569776e-02 1.4111678e-01 2.8235521e-02 9.1792151e-02\n",
      "  4.3708860e-04 9.8433536e-01 1.4345508e+00 6.1963852e-02 9.7893504e-03\n",
      "  1.4745796e+00 0.0000000e+00 4.5184646e-04 2.3092564e-02 8.0371350e-02\n",
      "  9.0063512e-02 0.0000000e+00 0.0000000e+00 6.7081153e-01 6.8102572e-03\n",
      "  6.6608435e-04 1.3067734e+00 0.0000000e+00 3.2731380e+00 2.0292506e+00\n",
      "  0.0000000e+00 1.5542413e+00 0.0000000e+00 0.0000000e+00 0.0000000e+00\n",
      "  0.0000000e+00 0.0000000e+00 0.0000000e+00 0.0000000e+00 0.0000000e+00\n",
      "  0.0000000e+00 0.0000000e+00 0.0000000e+00 9.4122797e-01 1.3732011e+00\n",
      "  0.0000000e+00 0.0000000e+00 1.4953054e+00 0.0000000e+00 0.0000000e+00\n",
      "  0.0000000e+00 0.0000000e+00 0.0000000e+00 0.0000000e+00 0.0000000e+00\n",
      "  5.5179107e-01 0.0000000e+00 0.0000000e+00 1.2908132e+00 0.0000000e+00\n",
      "  3.3882890e+00 1.9621484e+00 0.0000000e+00 1.5486333e+00 1.7792414e-01\n",
      "  0.0000000e+00 7.7214651e-02 3.2255343e-01 0.0000000e+00 0.0000000e+00\n",
      "  1.8816200e-01 4.7947749e-01 1.6607420e-01 5.1845777e-01 1.3980100e-02\n",
      "  6.6377664e-01 5.1697320e-01 3.3613309e-01 5.8891170e-02 4.7645870e-01\n",
      "  0.0000000e+00 1.4452179e-02 1.3274659e-01 4.3941993e-01 3.3997092e-01\n",
      "  0.0000000e+00 0.0000000e+00 6.2379569e-01 4.2768620e-02 2.1304369e-02\n",
      "  5.1158333e-01 0.0000000e+00 7.5517273e-01 6.3603741e-01 0.0000000e+00\n",
      "  2.7437976e-01 9.4352883e-01 0.0000000e+00 5.8835745e-01 2.6705396e+00\n",
      "  0.0000000e+00 0.0000000e+00 1.3961205e+00 3.8408761e+00 1.3598228e+00\n",
      "  3.5946794e+00 4.4757873e-01 5.2053380e+00 4.7712488e+00 2.4723656e+00\n",
      "  7.6684225e-01 3.9143567e+00 0.0000000e+00 4.6269077e-01 9.7248399e-01\n",
      "  3.1952236e+00 2.1652548e+00 0.0000000e+00 0.0000000e+00 4.1258368e+00\n",
      "  6.4397413e-01 6.8207037e-01 4.3076138e+00 0.0000000e+00 4.8806343e+00\n",
      "  5.7224264e+00 0.0000000e+00 2.6687241e+00 0.0000000e+00 0.0000000e+00\n",
      "  0.0000000e+00 0.0000000e+00 0.0000000e+00 0.0000000e+00 0.0000000e+00\n",
      "  0.0000000e+00 0.0000000e+00 0.0000000e+00 0.0000000e+00 0.0000000e+00\n",
      "  0.0000000e+00 0.0000000e+00 0.0000000e+00 0.0000000e+00 0.0000000e+00\n",
      "  0.0000000e+00 0.0000000e+00 0.0000000e+00 0.0000000e+00 0.0000000e+00\n",
      "  0.0000000e+00 0.0000000e+00 0.0000000e+00 0.0000000e+00 0.0000000e+00\n",
      "  0.0000000e+00 0.0000000e+00 2.7052864e-01 0.0000000e+00 4.3325931e-01\n",
      "  4.5880100e+01 0.0000000e+00 1.4607666e+01 5.7969910e+01 0.0000000e+00\n",
      "  0.0000000e+00 3.4375450e+01 1.4450359e+02 2.8913174e+01 9.3995163e+01\n",
      "  4.4757873e-01 1.0079594e+03 1.4689800e+03 6.3450985e+01 1.0024295e+01\n",
      "  1.5099695e+03 0.0000000e+00 4.6269077e-01 2.3646786e+01 8.2300262e+01\n",
      "  9.2225037e+01 0.0000000e+00 0.0000000e+00 6.8691101e+02 6.9737034e+00\n",
      "  6.8207037e-01 1.3381360e+03 0.0000000e+00 3.3516934e+03 2.0779526e+03\n",
      "  0.0000000e+00 1.5915431e+03]]\n"
     ]
    }
   ],
   "source": [
    "# Calculate the feature map mean\n",
    "feature_map_mean_list = []\n",
    "\n",
    "# Print the shape of the feature maps\n",
    "for i in range(len(layer_list)):\n",
    "    feature_map = layer_list[i].predict(X)\n",
    "    feature_map_mean = np.mean(feature_map, axis=(1,2))\n",
    "    feature_map_median = np.median(feature_map, axis=(1,2))\n",
    "    feature_map_std = np.std(feature_map, axis=(1,2))\n",
    "    feature_map_max = np.max(feature_map, axis=(1,2))\n",
    "    feature_map_min = np.min(feature_map, axis=(1,2))\n",
    "    feature_map_sum = np.sum(feature_map, axis=(1,2))\n",
    "    feature_map_features = np.concatenate([feature_map_mean,\n",
    "                                           feature_map_median,\n",
    "                                           feature_map_std,\n",
    "                                           feature_map_max, \n",
    "                                           feature_map_min, \n",
    "                                           feature_map_sum], axis=1)\n",
    "    feature_map_mean_list.append(feature_map_features)\n",
    "    \n",
    "feature_map_means = np.concatenate(feature_map_mean_list, axis=1)\n",
    "print(feature_map_means.shape)\n",
    "print(feature_map_means[:1])"
   ]
  },
  {
   "cell_type": "code",
   "execution_count": 86,
   "id": "e8911530",
   "metadata": {},
   "outputs": [],
   "source": [
    "df_train_binary_expanded = pd.DataFrame(np.concatenate([df_binary.head(X.shape[0]), feature_map_means], axis=1))"
   ]
  },
  {
   "cell_type": "code",
   "execution_count": 87,
   "id": "961af519",
   "metadata": {},
   "outputs": [
    {
     "data": {
      "text/html": [
       "<div>\n",
       "<style scoped>\n",
       "    .dataframe tbody tr th:only-of-type {\n",
       "        vertical-align: middle;\n",
       "    }\n",
       "\n",
       "    .dataframe tbody tr th {\n",
       "        vertical-align: top;\n",
       "    }\n",
       "\n",
       "    .dataframe thead th {\n",
       "        text-align: right;\n",
       "    }\n",
       "</style>\n",
       "<table border=\"1\" class=\"dataframe\">\n",
       "  <thead>\n",
       "    <tr style=\"text-align: right;\">\n",
       "      <th></th>\n",
       "      <th>0</th>\n",
       "      <th>1</th>\n",
       "      <th>2</th>\n",
       "      <th>3</th>\n",
       "      <th>4</th>\n",
       "      <th>5</th>\n",
       "      <th>6</th>\n",
       "      <th>7</th>\n",
       "      <th>8</th>\n",
       "      <th>9</th>\n",
       "      <th>...</th>\n",
       "      <th>190</th>\n",
       "      <th>191</th>\n",
       "      <th>192</th>\n",
       "      <th>193</th>\n",
       "      <th>194</th>\n",
       "      <th>195</th>\n",
       "      <th>196</th>\n",
       "      <th>197</th>\n",
       "      <th>198</th>\n",
       "      <th>199</th>\n",
       "    </tr>\n",
       "  </thead>\n",
       "  <tbody>\n",
       "    <tr>\n",
       "      <th>0</th>\n",
       "      <td>521</td>\n",
       "      <td>2021-05-07 13:06:24</td>\n",
       "      <td>3078</td>\n",
       "      <td>21.299999</td>\n",
       "      <td>-67</td>\n",
       "      <td>[[12.0, 10.4, 11.1, 10.9, 10.9, 12.0, 11.6, 11...</td>\n",
       "      <td>True</td>\n",
       "      <td>1</td>\n",
       "      <td>0.044805</td>\n",
       "      <td>0.0</td>\n",
       "      <td>...</td>\n",
       "      <td>0.0</td>\n",
       "      <td>686.911011</td>\n",
       "      <td>6.973703</td>\n",
       "      <td>0.68207</td>\n",
       "      <td>1338.135986</td>\n",
       "      <td>0.0</td>\n",
       "      <td>3351.693359</td>\n",
       "      <td>2077.952637</td>\n",
       "      <td>0.0</td>\n",
       "      <td>1591.543091</td>\n",
       "    </tr>\n",
       "    <tr>\n",
       "      <th>1</th>\n",
       "      <td>2940</td>\n",
       "      <td>2021-05-07 13:10:22</td>\n",
       "      <td>3078</td>\n",
       "      <td>22.4</td>\n",
       "      <td>-76</td>\n",
       "      <td>[[11.8, 10.3, 11.2, 11.8, 10.6, 11.3, 11.4, 11...</td>\n",
       "      <td>True</td>\n",
       "      <td>1</td>\n",
       "      <td>0.039248</td>\n",
       "      <td>0.0</td>\n",
       "      <td>...</td>\n",
       "      <td>0.0</td>\n",
       "      <td>634.997925</td>\n",
       "      <td>6.920681</td>\n",
       "      <td>0.658273</td>\n",
       "      <td>1319.034058</td>\n",
       "      <td>0.0</td>\n",
       "      <td>3303.933594</td>\n",
       "      <td>2057.694824</td>\n",
       "      <td>0.0</td>\n",
       "      <td>1574.315918</td>\n",
       "    </tr>\n",
       "  </tbody>\n",
       "</table>\n",
       "<p>2 rows × 200 columns</p>\n",
       "</div>"
      ],
      "text/plain": [
       "    0                   1     2          3    4    \\\n",
       "0   521 2021-05-07 13:06:24  3078  21.299999  -67   \n",
       "1  2940 2021-05-07 13:10:22  3078       22.4  -76   \n",
       "\n",
       "                                                 5     6   7         8    9    \\\n",
       "0  [[12.0, 10.4, 11.1, 10.9, 10.9, 12.0, 11.6, 11...  True   1  0.044805  0.0   \n",
       "1  [[11.8, 10.3, 11.2, 11.8, 10.6, 11.3, 11.4, 11...  True   1  0.039248  0.0   \n",
       "\n",
       "   ...  190         191       192       193          194  195          196  \\\n",
       "0  ...  0.0  686.911011  6.973703   0.68207  1338.135986  0.0  3351.693359   \n",
       "1  ...  0.0  634.997925  6.920681  0.658273  1319.034058  0.0  3303.933594   \n",
       "\n",
       "           197  198          199  \n",
       "0  2077.952637  0.0  1591.543091  \n",
       "1  2057.694824  0.0  1574.315918  \n",
       "\n",
       "[2 rows x 200 columns]"
      ]
     },
     "execution_count": 87,
     "metadata": {},
     "output_type": "execute_result"
    }
   ],
   "source": [
    "df_train_binary_expanded.head(n=2)"
   ]
  },
  {
   "cell_type": "code",
   "execution_count": 88,
   "id": "537c41dd",
   "metadata": {},
   "outputs": [
    {
     "name": "stdout",
     "output_type": "stream",
     "text": [
      "(200,)\n",
      "(200, 192)\n"
     ]
    }
   ],
   "source": [
    "# Prepare the data for gradient boosting\n",
    "y_clf = df_train_binary_expanded[7].to_numpy().astype(int)\n",
    "X_clf= df_train_binary_expanded.iloc[:,8:].to_numpy()\n",
    "print(y_clf.shape)\n",
    "print(X_clf.shape)"
   ]
  },
  {
   "cell_type": "code",
   "execution_count": 89,
   "id": "7f41ab7c",
   "metadata": {},
   "outputs": [
    {
     "name": "stdout",
     "output_type": "stream",
     "text": [
      "(140, 192)\n",
      "(140,)\n",
      "(60, 192)\n",
      "(60,)\n",
      "[0]\n"
     ]
    }
   ],
   "source": [
    "# Create train / val / test split\n",
    "X_train_clf, X_test_clf, y_train_clf, y_test_clf = train_test_split(X_clf, y_clf, test_size=0.3, random_state=0)\n",
    "\n",
    "print(X_train_clf.shape)\n",
    "print(y_train_clf.shape)\n",
    "print(X_test_clf.shape)\n",
    "print(y_test_clf.shape)\n",
    "print(y_train_clf[:1])"
   ]
  },
  {
   "cell_type": "code",
   "execution_count": 90,
   "id": "b8924598",
   "metadata": {},
   "outputs": [
    {
     "data": {
      "text/plain": [
       "0.7"
      ]
     },
     "execution_count": 90,
     "metadata": {},
     "output_type": "execute_result"
    }
   ],
   "source": [
    "# Train the GBT\n",
    "clf = GradientBoostingClassifier(n_estimators=300, learning_rate=1.0, max_depth=3, random_state=0).fit(X_train_clf, y_train_clf)\n",
    "\n",
    "# Mean accuracy\n",
    "clf.score(X_test_clf, y_test_clf)"
   ]
  },
  {
   "cell_type": "code",
   "execution_count": 91,
   "id": "edf95611",
   "metadata": {},
   "outputs": [
    {
     "name": "stdout",
     "output_type": "stream",
     "text": [
      "GBT size in kiB: 231.3046875\n",
      "Conv layer size in kiB: 4.0\n",
      "Total size in kiB: 235.3046875\n"
     ]
    }
   ],
   "source": [
    "# Get the model size in kiB\n",
    "def get_memory_size(clf, layer_list, fname = \"clf\"):\n",
    "    joblib.dump(clf, fname)\n",
    "    model_size = os.path.getsize(fname)\n",
    "    model_size = model_size / 1024\n",
    "    print(f\"GBT size in kiB: {model_size}\")\n",
    "\n",
    "    # Get the conv layers size in kiB\n",
    "    layer_size = 0\n",
    "    for i in range(len(layer_list)):\n",
    "        layer_size = os.path.getsize(f\"layer_{i}\")\n",
    "    layer_size = layer_size / 1024\n",
    "    print(f\"Conv layer size in kiB: {layer_size}\")\n",
    "\n",
    "    # Total size for GBT in kiB\n",
    "    print(f\"Total size in kiB: {layer_size + model_size}\")\n",
    "    \n",
    "get_memory_size(clf, layer_list)"
   ]
  },
  {
   "cell_type": "code",
   "execution_count": 94,
   "id": "bb62b8a0",
   "metadata": {},
   "outputs": [],
   "source": [
    "# HP-Tuning\n",
    "\n",
    "def build_hypermodel(hp):\n",
    "    \n",
    "    n_estimators = hp.Int(\"n_estimators\", 10, 200)\n",
    "    learning_rate = hp.Float(\"learning_rate\", 0.1, 1.0)\n",
    "    max_depth = hp.Int(\"max_depth\", 1, 6)\n",
    "    \n",
    "    return GradientBoostingClassifier(n_estimators=n_estimators,\n",
    "                                      learning_rate=learning_rate, \n",
    "                                      max_depth=max_depth,\n",
    "                                      random_state=0)\n"
   ]
  },
  {
   "cell_type": "code",
   "execution_count": 96,
   "id": "67856001",
   "metadata": {},
   "outputs": [
    {
     "name": "stdout",
     "output_type": "stream",
     "text": [
      "Trial 10 Complete [00h 00m 00s]\n",
      "score: 0.6714285714285715\n",
      "\n",
      "Best score So Far: 0.75\n",
      "Total elapsed time: 00h 00m 22s\n",
      "INFO:tensorflow:Oracle triggered exit\n",
      "Best model test score: 0.75\n",
      "GBT size in kiB: 83.09375\n",
      "Conv layer size in kiB: 4.0\n",
      "Total size in kiB: 87.09375\n"
     ]
    }
   ],
   "source": [
    "MAX_TRIALS = 10\n",
    "\n",
    "tuner = kt.tuners.SklearnTuner(\n",
    "    oracle=kt.oracles.BayesianOptimizationOracle(\n",
    "        objective=kt.Objective('score', 'max'),\n",
    "        max_trials=MAX_TRIALS),\n",
    "    hypermodel=build_hypermodel,\n",
    "    scoring=skl.metrics.make_scorer(skl.metrics.accuracy_score),\n",
    "    cv=skl.model_selection.StratifiedKFold(5),\n",
    "    directory='.',\n",
    "    project_name='hp_tuning')\n",
    "\n",
    "tuner.search(X_train_clf, y_train_clf)\n",
    "\n",
    "best_model = tuner.get_best_models(num_models=1)[0]\n",
    "\n",
    "print(f\"Best model test score: {best_model.score(X_test_clf, y_test_clf)}\")\n",
    "\n",
    "get_memory_size(best_model, layer_list, fname=\"best\")"
   ]
  },
  {
   "cell_type": "code",
   "execution_count": null,
   "id": "d8cab4cb",
   "metadata": {},
   "outputs": [],
   "source": []
  }
 ],
 "metadata": {
  "kernelspec": {
   "display_name": "Python 3 (ipykernel)",
   "language": "python",
   "name": "python3"
  },
  "language_info": {
   "codemirror_mode": {
    "name": "ipython",
    "version": 3
   },
   "file_extension": ".py",
   "mimetype": "text/x-python",
   "name": "python",
   "nbconvert_exporter": "python",
   "pygments_lexer": "ipython3",
   "version": "3.8.12"
  }
 },
 "nbformat": 4,
 "nbformat_minor": 5
}
