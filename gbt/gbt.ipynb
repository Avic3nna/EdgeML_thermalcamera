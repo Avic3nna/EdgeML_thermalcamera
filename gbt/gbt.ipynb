{
 "cells": [
  {
   "cell_type": "markdown",
   "id": "045401df",
   "metadata": {},
   "source": [
    "# Gradient Boosting Classifier"
   ]
  },
  {
   "cell_type": "code",
   "execution_count": 335,
   "id": "37a5c481",
   "metadata": {},
   "outputs": [],
   "source": [
    "import pandas as pd\n",
    "import numpy as np\n",
    "import tensorflow as tf\n",
    "import matplotlib.pyplot as plt\n",
    "from sklearn.model_selection import train_test_split\n",
    "from sklearn.ensemble import GradientBoostingClassifier\n",
    "import pickle\n",
    "import sys\n",
    "import joblib\n",
    "import os\n",
    "\n",
    "IMAGE_SIZE = [32, 32]"
   ]
  },
  {
   "cell_type": "code",
   "execution_count": 333,
   "id": "e7966571",
   "metadata": {},
   "outputs": [],
   "source": [
    "df = pd.read_json('../data/labelled_data/whole_data_1637521796.json', orient='records')"
   ]
  },
  {
   "cell_type": "code",
   "execution_count": 301,
   "id": "afcc543e",
   "metadata": {},
   "outputs": [
    {
     "name": "stdout",
     "output_type": "stream",
     "text": [
      "amount of samples: 200\n"
     ]
    },
    {
     "data": {
      "text/html": [
       "<div>\n",
       "<style scoped>\n",
       "    .dataframe tbody tr th:only-of-type {\n",
       "        vertical-align: middle;\n",
       "    }\n",
       "\n",
       "    .dataframe tbody tr th {\n",
       "        vertical-align: top;\n",
       "    }\n",
       "\n",
       "    .dataframe thead th {\n",
       "        text-align: right;\n",
       "    }\n",
       "</style>\n",
       "<table border=\"1\" class=\"dataframe\">\n",
       "  <thead>\n",
       "    <tr style=\"text-align: right;\">\n",
       "      <th></th>\n",
       "      <th>index</th>\n",
       "      <th>Timestamp</th>\n",
       "      <th>Sensor ID</th>\n",
       "      <th>Room Temperature</th>\n",
       "      <th>RSSI</th>\n",
       "      <th>data</th>\n",
       "      <th>changed</th>\n",
       "      <th>label</th>\n",
       "    </tr>\n",
       "  </thead>\n",
       "  <tbody>\n",
       "    <tr>\n",
       "      <th>521</th>\n",
       "      <td>521</td>\n",
       "      <td>2021-05-07 13:06:24</td>\n",
       "      <td>3078</td>\n",
       "      <td>21.299999</td>\n",
       "      <td>-67</td>\n",
       "      <td>[[12.0, 10.4, 11.1, 10.9, 10.9, 12.0, 11.6, 11...</td>\n",
       "      <td>True</td>\n",
       "      <td>Human</td>\n",
       "    </tr>\n",
       "    <tr>\n",
       "      <th>2940</th>\n",
       "      <td>2940</td>\n",
       "      <td>2021-05-07 13:10:22</td>\n",
       "      <td>3078</td>\n",
       "      <td>22.400000</td>\n",
       "      <td>-76</td>\n",
       "      <td>[[11.8, 10.3, 11.2, 11.8, 10.6, 11.3, 11.4, 11...</td>\n",
       "      <td>True</td>\n",
       "      <td>Human</td>\n",
       "    </tr>\n",
       "    <tr>\n",
       "      <th>226</th>\n",
       "      <td>226</td>\n",
       "      <td>2021-05-07 13:05:55</td>\n",
       "      <td>3078</td>\n",
       "      <td>21.100000</td>\n",
       "      <td>-68</td>\n",
       "      <td>[[11.5, 10.5, 12.0, 12.5, 12.6, 13.0, 12.6, 12...</td>\n",
       "      <td>True</td>\n",
       "      <td>Ambigous heat</td>\n",
       "    </tr>\n",
       "  </tbody>\n",
       "</table>\n",
       "</div>"
      ],
      "text/plain": [
       "      index           Timestamp Sensor ID  Room Temperature  RSSI  \\\n",
       "521     521 2021-05-07 13:06:24      3078         21.299999   -67   \n",
       "2940   2940 2021-05-07 13:10:22      3078         22.400000   -76   \n",
       "226     226 2021-05-07 13:05:55      3078         21.100000   -68   \n",
       "\n",
       "                                                   data  changed  \\\n",
       "521   [[12.0, 10.4, 11.1, 10.9, 10.9, 12.0, 11.6, 11...     True   \n",
       "2940  [[11.8, 10.3, 11.2, 11.8, 10.6, 11.3, 11.4, 11...     True   \n",
       "226   [[11.5, 10.5, 12.0, 12.5, 12.6, 13.0, 12.6, 12...     True   \n",
       "\n",
       "              label  \n",
       "521           Human  \n",
       "2940          Human  \n",
       "226   Ambigous heat  "
      ]
     },
     "execution_count": 301,
     "metadata": {},
     "output_type": "execute_result"
    }
   ],
   "source": [
    "# Show amount of samples\n",
    "print(\"amount of samples:\", df.shape[0])\n",
    "df.head(n=3)"
   ]
  },
  {
   "cell_type": "code",
   "execution_count": 302,
   "id": "94973a62",
   "metadata": {},
   "outputs": [
    {
     "data": {
      "text/html": [
       "<div>\n",
       "<style scoped>\n",
       "    .dataframe tbody tr th:only-of-type {\n",
       "        vertical-align: middle;\n",
       "    }\n",
       "\n",
       "    .dataframe tbody tr th {\n",
       "        vertical-align: top;\n",
       "    }\n",
       "\n",
       "    .dataframe thead th {\n",
       "        text-align: right;\n",
       "    }\n",
       "</style>\n",
       "<table border=\"1\" class=\"dataframe\">\n",
       "  <thead>\n",
       "    <tr style=\"text-align: right;\">\n",
       "      <th></th>\n",
       "      <th>index</th>\n",
       "      <th>Timestamp</th>\n",
       "      <th>Sensor ID</th>\n",
       "      <th>Room Temperature</th>\n",
       "      <th>RSSI</th>\n",
       "      <th>data</th>\n",
       "      <th>changed</th>\n",
       "      <th>label</th>\n",
       "    </tr>\n",
       "  </thead>\n",
       "  <tbody>\n",
       "    <tr>\n",
       "      <th>521</th>\n",
       "      <td>521</td>\n",
       "      <td>2021-05-07 13:06:24</td>\n",
       "      <td>3078</td>\n",
       "      <td>21.299999</td>\n",
       "      <td>-67</td>\n",
       "      <td>[[12.0, 10.4, 11.1, 10.9, 10.9, 12.0, 11.6, 11...</td>\n",
       "      <td>True</td>\n",
       "      <td>1</td>\n",
       "    </tr>\n",
       "    <tr>\n",
       "      <th>2940</th>\n",
       "      <td>2940</td>\n",
       "      <td>2021-05-07 13:10:22</td>\n",
       "      <td>3078</td>\n",
       "      <td>22.400000</td>\n",
       "      <td>-76</td>\n",
       "      <td>[[11.8, 10.3, 11.2, 11.8, 10.6, 11.3, 11.4, 11...</td>\n",
       "      <td>True</td>\n",
       "      <td>1</td>\n",
       "    </tr>\n",
       "    <tr>\n",
       "      <th>226</th>\n",
       "      <td>226</td>\n",
       "      <td>2021-05-07 13:05:55</td>\n",
       "      <td>3078</td>\n",
       "      <td>21.100000</td>\n",
       "      <td>-68</td>\n",
       "      <td>[[11.5, 10.5, 12.0, 12.5, 12.6, 13.0, 12.6, 12...</td>\n",
       "      <td>True</td>\n",
       "      <td>0</td>\n",
       "    </tr>\n",
       "  </tbody>\n",
       "</table>\n",
       "</div>"
      ],
      "text/plain": [
       "      index           Timestamp Sensor ID  Room Temperature  RSSI  \\\n",
       "521     521 2021-05-07 13:06:24      3078         21.299999   -67   \n",
       "2940   2940 2021-05-07 13:10:22      3078         22.400000   -76   \n",
       "226     226 2021-05-07 13:05:55      3078         21.100000   -68   \n",
       "\n",
       "                                                   data  changed  label  \n",
       "521   [[12.0, 10.4, 11.1, 10.9, 10.9, 12.0, 11.6, 11...     True      1  \n",
       "2940  [[11.8, 10.3, 11.2, 11.8, 10.6, 11.3, 11.4, 11...     True      1  \n",
       "226   [[11.5, 10.5, 12.0, 12.5, 12.6, 13.0, 12.6, 12...     True      0  "
      ]
     },
     "execution_count": 302,
     "metadata": {},
     "output_type": "execute_result"
    }
   ],
   "source": [
    "# convert labels\n",
    "binary_label_converter = { \n",
    "    'Human': 1,\n",
    "    'Several humans': 1, \n",
    "    'Non-human heat': 0, \n",
    "    'Ambigous heat': 0,\n",
    "    'No heat':  0,\n",
    "}\n",
    "\n",
    "\n",
    "df_binary = df.copy()\n",
    "\n",
    "df_binary['label'] = df['label'].apply(lambda x: binary_label_converter[x])\n",
    "df_binary.head(n=3)"
   ]
  },
  {
   "cell_type": "code",
   "execution_count": 303,
   "id": "57395474",
   "metadata": {},
   "outputs": [
    {
     "name": "stdout",
     "output_type": "stream",
     "text": [
      "(200,)\n",
      "(200, 32, 32, 1)\n"
     ]
    }
   ],
   "source": [
    "# Prepare the data\n",
    "y = df_binary['label'].to_numpy()\n",
    "X = np.array(df_binary['data'].to_list())\n",
    "X = np.expand_dims(X, axis=3)\n",
    "print(y.shape)\n",
    "print(X.shape)"
   ]
  },
  {
   "cell_type": "code",
   "execution_count": 304,
   "id": "cb50cbff",
   "metadata": {},
   "outputs": [
    {
     "name": "stdout",
     "output_type": "stream",
     "text": [
      "(180, 32, 32, 1)\n",
      "(180,)\n",
      "(15, 32, 32, 1)\n",
      "(15,)\n",
      "[0]\n"
     ]
    }
   ],
   "source": [
    "# Create train / val / test split\n",
    "X_train, X_test, y_train, y_test = train_test_split(X, y, test_size=0.1, random_state=0)\n",
    "X_val, X_test, y_val, y_test = train_test_split(X_test, y_test, test_size=0.25, random_state=0)\n",
    "\n",
    "print(X_train.shape)\n",
    "print(y_train.shape)\n",
    "print(X_val.shape)\n",
    "print(y_val.shape)\n",
    "print(y_train[:1])"
   ]
  },
  {
   "cell_type": "code",
   "execution_count": 305,
   "id": "de669427",
   "metadata": {},
   "outputs": [],
   "source": [
    "# Squeezenet Model\n",
    "\n",
    "bnmomemtum=0.9\n",
    "\n",
    "def fire(x, squeeze, expand):\n",
    "    y  = tf.keras.layers.Conv2D(filters=squeeze, kernel_size=1, activation='relu', padding='same')(x)\n",
    "    y = tf.keras.layers.BatchNormalization(momentum=bnmomemtum)(y)\n",
    "    y1 = tf.keras.layers.Conv2D(filters=expand//2, kernel_size=1, activation='relu', padding='same')(y)\n",
    "    y1 = tf.keras.layers.BatchNormalization(momentum=bnmomemtum)(y1)\n",
    "    y3 = tf.keras.layers.Conv2D(filters=expand//2, kernel_size=3, activation='relu', padding='same')(y)\n",
    "    y3 = tf.keras.layers.BatchNormalization(momentum=bnmomemtum)(y3)\n",
    "    return tf.keras.layers.concatenate([y1, y3])\n",
    "\n",
    "def fire_module(squeeze, expand):\n",
    "    return lambda x: fire(x, squeeze, expand)\n",
    "\n",
    "x = tf.keras.layers.Input(shape=[*IMAGE_SIZE,1]) # input is 32x32 pixels RGB\n",
    "y = tf.keras.layers.Conv2D(kernel_size=3, filters=32, padding='same', use_bias=True, activation='relu')(x)\n",
    "y = tf.keras.layers.GlobalAveragePooling2D()(y)\n",
    "y = tf.keras.layers.Dense(64)(y)\n",
    "y = tf.keras.layers.Dense(32)(y)\n",
    "y = tf.keras.layers.Dropout(0.2)(y)\n",
    "y = tf.keras.layers.Dense(2, activation='softmax')(y)\n",
    "\n",
    "model = tf.keras.Model(x, y)"
   ]
  },
  {
   "cell_type": "code",
   "execution_count": 306,
   "id": "111e9ddd",
   "metadata": {},
   "outputs": [
    {
     "name": "stdout",
     "output_type": "stream",
     "text": [
      "Model: \"model_3\"\n",
      "_________________________________________________________________\n",
      " Layer (type)                Output Shape              Param #   \n",
      "=================================================================\n",
      " input_4 (InputLayer)        [(None, 32, 32, 1)]       0         \n",
      "                                                                 \n",
      " conv2d_79 (Conv2D)          (None, 32, 32, 32)        320       \n",
      "                                                                 \n",
      " global_average_pooling2d_3   (None, 32)               0         \n",
      " (GlobalAveragePooling2D)                                        \n",
      "                                                                 \n",
      " dense_69 (Dense)            (None, 64)                2112      \n",
      "                                                                 \n",
      " dense_70 (Dense)            (None, 32)                2080      \n",
      "                                                                 \n",
      " dropout_3 (Dropout)         (None, 32)                0         \n",
      "                                                                 \n",
      " dense_71 (Dense)            (None, 2)                 66        \n",
      "                                                                 \n",
      "=================================================================\n",
      "Total params: 4,578\n",
      "Trainable params: 4,578\n",
      "Non-trainable params: 0\n",
      "_________________________________________________________________\n"
     ]
    }
   ],
   "source": [
    "model.compile(\n",
    "optimizer='adam',\n",
    "loss= 'sparse_categorical_crossentropy',\n",
    "metrics=['accuracy'])\n",
    "model.build(input_shape=(None, 32, 32, 1))\n",
    "model.summary()"
   ]
  },
  {
   "cell_type": "code",
   "execution_count": 307,
   "id": "fd2d24eb",
   "metadata": {},
   "outputs": [
    {
     "name": "stdout",
     "output_type": "stream",
     "text": [
      "('You must install pydot (`pip install pydot`) and install graphviz (see instructions at https://graphviz.gitlab.io/download/) ', 'for plot_model/model_to_dot to work.')\n"
     ]
    }
   ],
   "source": [
    "# Plot the model\n",
    "# `rankdir='LR'` is to make the graph horizontal.\n",
    "%matplotlib inline\n",
    "tf.keras.utils.plot_model(model, show_shapes=True, rankdir=\"LR\")"
   ]
  },
  {
   "cell_type": "code",
   "execution_count": 308,
   "id": "6a0d0981",
   "metadata": {},
   "outputs": [
    {
     "name": "stdout",
     "output_type": "stream",
     "text": [
      "Epoch 1/30\n",
      "12/12 [==============================] - 1s 23ms/step - loss: 0.8645 - accuracy: 0.5167 - val_loss: 0.6764 - val_accuracy: 0.6000\n",
      "Epoch 2/30\n",
      "12/12 [==============================] - 0s 14ms/step - loss: 0.8194 - accuracy: 0.5222 - val_loss: 0.6809 - val_accuracy: 0.6000\n",
      "Epoch 3/30\n",
      "12/12 [==============================] - 0s 14ms/step - loss: 0.8069 - accuracy: 0.5722 - val_loss: 0.7082 - val_accuracy: 0.4000\n",
      "Epoch 4/30\n",
      "12/12 [==============================] - 0s 18ms/step - loss: 0.7358 - accuracy: 0.5778 - val_loss: 0.6783 - val_accuracy: 0.6000\n",
      "Epoch 5/30\n",
      "12/12 [==============================] - 0s 10ms/step - loss: 0.6682 - accuracy: 0.5944 - val_loss: 0.6793 - val_accuracy: 0.6000\n",
      "Epoch 6/30\n",
      "12/12 [==============================] - 0s 10ms/step - loss: 0.7123 - accuracy: 0.5889 - val_loss: 0.6874 - val_accuracy: 0.6000\n",
      "Epoch 7/30\n",
      "12/12 [==============================] - 0s 10ms/step - loss: 0.7253 - accuracy: 0.5222 - val_loss: 0.7114 - val_accuracy: 0.6000\n",
      "Epoch 8/30\n",
      "12/12 [==============================] - 0s 9ms/step - loss: 0.7189 - accuracy: 0.5333 - val_loss: 0.6831 - val_accuracy: 0.6000\n",
      "Epoch 9/30\n",
      "12/12 [==============================] - 0s 10ms/step - loss: 0.7427 - accuracy: 0.6000 - val_loss: 0.7128 - val_accuracy: 0.4000\n",
      "Epoch 10/30\n",
      "12/12 [==============================] - 0s 10ms/step - loss: 0.7477 - accuracy: 0.5333 - val_loss: 0.7069 - val_accuracy: 0.6000\n",
      "Epoch 11/30\n",
      "12/12 [==============================] - 0s 10ms/step - loss: 0.6673 - accuracy: 0.5944 - val_loss: 0.6765 - val_accuracy: 0.6000\n",
      "Epoch 12/30\n",
      "12/12 [==============================] - 0s 9ms/step - loss: 0.6853 - accuracy: 0.6056 - val_loss: 0.6743 - val_accuracy: 0.6000\n",
      "Epoch 13/30\n",
      "12/12 [==============================] - 0s 9ms/step - loss: 0.6767 - accuracy: 0.6111 - val_loss: 0.6946 - val_accuracy: 0.6000\n",
      "Epoch 14/30\n",
      "12/12 [==============================] - 0s 8ms/step - loss: 0.6700 - accuracy: 0.6167 - val_loss: 0.6743 - val_accuracy: 0.6000\n",
      "Epoch 15/30\n",
      "12/12 [==============================] - 0s 9ms/step - loss: 0.6909 - accuracy: 0.5778 - val_loss: 0.6958 - val_accuracy: 0.6000\n",
      "Epoch 16/30\n",
      "12/12 [==============================] - 0s 10ms/step - loss: 0.6836 - accuracy: 0.6056 - val_loss: 0.6760 - val_accuracy: 0.6000\n",
      "Epoch 17/30\n",
      "12/12 [==============================] - 0s 10ms/step - loss: 0.6852 - accuracy: 0.6056 - val_loss: 0.6887 - val_accuracy: 0.6000\n",
      "Epoch 18/30\n",
      "12/12 [==============================] - 0s 9ms/step - loss: 0.6795 - accuracy: 0.6278 - val_loss: 0.6744 - val_accuracy: 0.6000\n",
      "Epoch 19/30\n",
      "12/12 [==============================] - 0s 9ms/step - loss: 0.6669 - accuracy: 0.6333 - val_loss: 0.6743 - val_accuracy: 0.6000\n",
      "Epoch 20/30\n",
      "12/12 [==============================] - 0s 9ms/step - loss: 0.7013 - accuracy: 0.5444 - val_loss: 0.6973 - val_accuracy: 0.6000\n",
      "Epoch 21/30\n",
      "12/12 [==============================] - 0s 10ms/step - loss: 0.6995 - accuracy: 0.5722 - val_loss: 0.6799 - val_accuracy: 0.6000\n",
      "Epoch 22/30\n",
      "12/12 [==============================] - 0s 10ms/step - loss: 0.6795 - accuracy: 0.6056 - val_loss: 0.6823 - val_accuracy: 0.6000\n",
      "Epoch 23/30\n",
      "12/12 [==============================] - 0s 9ms/step - loss: 0.6706 - accuracy: 0.6111 - val_loss: 0.6752 - val_accuracy: 0.6000\n",
      "Epoch 24/30\n",
      "12/12 [==============================] - 0s 10ms/step - loss: 0.6731 - accuracy: 0.6056 - val_loss: 0.6813 - val_accuracy: 0.6000\n",
      "Epoch 25/30\n",
      "12/12 [==============================] - 0s 10ms/step - loss: 0.6744 - accuracy: 0.5833 - val_loss: 0.6743 - val_accuracy: 0.6000\n",
      "Epoch 26/30\n",
      "12/12 [==============================] - 0s 9ms/step - loss: 0.6928 - accuracy: 0.5944 - val_loss: 0.6789 - val_accuracy: 0.6000\n",
      "Epoch 27/30\n",
      "12/12 [==============================] - 0s 9ms/step - loss: 0.6737 - accuracy: 0.5500 - val_loss: 0.6759 - val_accuracy: 0.6000\n",
      "Epoch 28/30\n",
      "12/12 [==============================] - 0s 12ms/step - loss: 0.6766 - accuracy: 0.6333 - val_loss: 0.6749 - val_accuracy: 0.6000\n",
      "Epoch 29/30\n",
      "12/12 [==============================] - 0s 14ms/step - loss: 0.6736 - accuracy: 0.6000 - val_loss: 0.6776 - val_accuracy: 0.6000\n",
      "Epoch 30/30\n",
      "12/12 [==============================] - 0s 13ms/step - loss: 0.6735 - accuracy: 0.6056 - val_loss: 0.6820 - val_accuracy: 0.6000\n"
     ]
    },
    {
     "data": {
      "image/png": "[encoded data removed]",
      "text/plain": [
       "<Figure size 432x288 with 1 Axes>"
      ]
     },
     "metadata": {
      "needs_background": "light"
     },
     "output_type": "display_data"
    }
   ],
   "source": [
    "# Fit the model\n",
    "EPOCHS = 30\n",
    "BATCH_SIZE = 16\n",
    "history = model.fit(X_train, y_train, epochs=EPOCHS, batch_size=BATCH_SIZE, validation_data=(X_val, y_val))\n",
    "\n",
    "\n",
    "train_loss = history.history['loss']\n",
    "val_loss = history.history['val_loss']\n",
    "\n",
    "epochs = range(1, len(train_loss) + 1)\n",
    "\n",
    "# Plot training history\n",
    "plt.plot(epochs, train_loss, 'g.', label='Training loss')\n",
    "plt.plot(epochs, val_loss, 'b', label='Validation loss')\n",
    "plt.title('Training and validation loss')\n",
    "plt.xlabel('Epochs')\n",
    "plt.ylabel('Loss')\n",
    "plt.legend()\n",
    "plt.show()\n"
   ]
  },
  {
   "cell_type": "code",
   "execution_count": 309,
   "id": "28b3b222",
   "metadata": {},
   "outputs": [],
   "source": [
    "def get_feature_map_list(model):\n",
    "    \n",
    "    feature_map_list = []\n",
    "        \n",
    "    for i in range(len(model.layers)):\n",
    "        layer = model.layers[i]\n",
    "        # check for convolutional layer\n",
    "        if 'conv' not in layer.name:\n",
    "            continue\n",
    "        # summarize output shape\n",
    "        print(i, layer.name, layer.output.shape)\n",
    "        \n",
    "        # Get the layer input and output\n",
    "        if i==0:\n",
    "            inputs = model.inputs\n",
    "        else:\n",
    "            inputs = model.layers[i-1].input\n",
    "            \n",
    "        if i==len(model.layers):\n",
    "            outputs = model.outputs\n",
    "        else:\n",
    "            outputs = model.layers[i].output\n",
    "        \n",
    "        current_feature_map = tf.keras.Model(name=layer.name, inputs=inputs, outputs=model.layers[i].output)\n",
    "        feature_map_list.append(current_feature_map)\n",
    "    \n",
    "    return feature_map_list\n",
    "        \n",
    "    \n",
    "    "
   ]
  },
  {
   "cell_type": "code",
   "execution_count": 369,
   "id": "47eb7d23",
   "metadata": {},
   "outputs": [
    {
     "name": "stdout",
     "output_type": "stream",
     "text": [
      "1 conv2d_79 (None, 32, 32, 32)\n",
      "[<keras.engine.functional.Functional object at 0x000001EB8272ABE0>]\n",
      "WARNING:tensorflow:Compiled the loaded model, but the compiled metrics have yet to be built. `model.compile_metrics` will be empty until you train or evaluate the model.\n",
      "INFO:tensorflow:Assets written to: layer_0\\assets\n"
     ]
    }
   ],
   "source": [
    "layer_list = get_feature_map_list(model)\n",
    "print(layer_list)\n",
    "\n",
    "for i in range(len(layer_list)):\n",
    "    layer_list[i].save(f\"layer_{i}\")"
   ]
  },
  {
   "cell_type": "code",
   "execution_count": 350,
   "id": "1e18ea5d",
   "metadata": {},
   "outputs": [
    {
     "name": "stdout",
     "output_type": "stream",
     "text": [
      "(200, 32)\n",
      "[[1.39346254e+00 4.05337048e+00 8.64487782e-04 2.13232398e+00\n",
      "  0.00000000e+00 0.00000000e+00 2.08923674e+00 4.85774055e-02\n",
      "  2.48878026e+00 4.51544702e-01 7.20588863e-01 2.06344628e+00\n",
      "  1.05363965e-01 4.84903052e-04 6.96679875e-02 1.19036067e+00\n",
      "  0.00000000e+00 5.54429531e-01 2.62184218e-02 3.38546210e-03\n",
      "  1.39833212e+00 4.77462716e-04 0.00000000e+00 1.64833450e+00\n",
      "  2.35785507e-02 5.50622120e-04 0.00000000e+00 1.05777597e-02\n",
      "  5.22362888e-02 9.14172851e-05 0.00000000e+00 9.61532772e-01]]\n"
     ]
    }
   ],
   "source": [
    "# Calculate the feature map mean\n",
    "feature_map_mean_list = []\n",
    "\n",
    "# Print the shape of the feature maps\n",
    "for i in range(len(layer_list)):\n",
    "    feature_map = layer_list[i].predict(X)\n",
    "    feature_map_mean = np.mean(feature_map, axis=(1,2))\n",
    "    feature_map_mean_list.append(feature_map_mean)\n",
    "    \n",
    "feature_map_means = np.concatenate(feature_map_mean_list, axis=1)\n",
    "print(feature_map_means.shape)\n",
    "print(feature_map_means[:1])"
   ]
  },
  {
   "cell_type": "code",
   "execution_count": 351,
   "id": "e8911530",
   "metadata": {},
   "outputs": [],
   "source": [
    "df_train_binary_expanded = pd.DataFrame(np.concatenate([df_binary.head(X.shape[0]), feature_map_means], axis=1))"
   ]
  },
  {
   "cell_type": "code",
   "execution_count": 353,
   "id": "961af519",
   "metadata": {},
   "outputs": [
    {
     "data": {
      "text/html": [
       "<div>\n",
       "<style scoped>\n",
       "    .dataframe tbody tr th:only-of-type {\n",
       "        vertical-align: middle;\n",
       "    }\n",
       "\n",
       "    .dataframe tbody tr th {\n",
       "        vertical-align: top;\n",
       "    }\n",
       "\n",
       "    .dataframe thead th {\n",
       "        text-align: right;\n",
       "    }\n",
       "</style>\n",
       "<table border=\"1\" class=\"dataframe\">\n",
       "  <thead>\n",
       "    <tr style=\"text-align: right;\">\n",
       "      <th></th>\n",
       "      <th>0</th>\n",
       "      <th>1</th>\n",
       "      <th>2</th>\n",
       "      <th>3</th>\n",
       "      <th>4</th>\n",
       "      <th>5</th>\n",
       "      <th>6</th>\n",
       "      <th>7</th>\n",
       "      <th>8</th>\n",
       "      <th>9</th>\n",
       "      <th>...</th>\n",
       "      <th>30</th>\n",
       "      <th>31</th>\n",
       "      <th>32</th>\n",
       "      <th>33</th>\n",
       "      <th>34</th>\n",
       "      <th>35</th>\n",
       "      <th>36</th>\n",
       "      <th>37</th>\n",
       "      <th>38</th>\n",
       "      <th>39</th>\n",
       "    </tr>\n",
       "  </thead>\n",
       "  <tbody>\n",
       "    <tr>\n",
       "      <th>0</th>\n",
       "      <td>521</td>\n",
       "      <td>2021-05-07 13:06:24</td>\n",
       "      <td>3078</td>\n",
       "      <td>21.299999</td>\n",
       "      <td>-67</td>\n",
       "      <td>[[12.0, 10.4, 11.1, 10.9, 10.9, 12.0, 11.6, 11...</td>\n",
       "      <td>True</td>\n",
       "      <td>1</td>\n",
       "      <td>1.393463</td>\n",
       "      <td>4.05337</td>\n",
       "      <td>...</td>\n",
       "      <td>0.0</td>\n",
       "      <td>1.648335</td>\n",
       "      <td>0.023579</td>\n",
       "      <td>0.000551</td>\n",
       "      <td>0.0</td>\n",
       "      <td>0.010578</td>\n",
       "      <td>0.052236</td>\n",
       "      <td>0.000091</td>\n",
       "      <td>0.0</td>\n",
       "      <td>0.961533</td>\n",
       "    </tr>\n",
       "    <tr>\n",
       "      <th>1</th>\n",
       "      <td>2940</td>\n",
       "      <td>2021-05-07 13:10:22</td>\n",
       "      <td>3078</td>\n",
       "      <td>22.4</td>\n",
       "      <td>-76</td>\n",
       "      <td>[[11.8, 10.3, 11.2, 11.8, 10.6, 11.3, 11.4, 11...</td>\n",
       "      <td>True</td>\n",
       "      <td>1</td>\n",
       "      <td>1.381259</td>\n",
       "      <td>4.012577</td>\n",
       "      <td>...</td>\n",
       "      <td>0.0</td>\n",
       "      <td>1.628707</td>\n",
       "      <td>0.022878</td>\n",
       "      <td>0.001053</td>\n",
       "      <td>0.0</td>\n",
       "      <td>0.008351</td>\n",
       "      <td>0.05199</td>\n",
       "      <td>0.00004</td>\n",
       "      <td>0.0</td>\n",
       "      <td>0.958451</td>\n",
       "    </tr>\n",
       "  </tbody>\n",
       "</table>\n",
       "<p>2 rows × 40 columns</p>\n",
       "</div>"
      ],
      "text/plain": [
       "     0                   1     2          3    4   \\\n",
       "0   521 2021-05-07 13:06:24  3078  21.299999  -67   \n",
       "1  2940 2021-05-07 13:10:22  3078       22.4  -76   \n",
       "\n",
       "                                                  5     6  7         8   \\\n",
       "0  [[12.0, 10.4, 11.1, 10.9, 10.9, 12.0, 11.6, 11...  True  1  1.393463   \n",
       "1  [[11.8, 10.3, 11.2, 11.8, 10.6, 11.3, 11.4, 11...  True  1  1.381259   \n",
       "\n",
       "         9   ...   30        31        32        33   34        35        36  \\\n",
       "0   4.05337  ...  0.0  1.648335  0.023579  0.000551  0.0  0.010578  0.052236   \n",
       "1  4.012577  ...  0.0  1.628707  0.022878  0.001053  0.0  0.008351   0.05199   \n",
       "\n",
       "         37   38        39  \n",
       "0  0.000091  0.0  0.961533  \n",
       "1   0.00004  0.0  0.958451  \n",
       "\n",
       "[2 rows x 40 columns]"
      ]
     },
     "execution_count": 353,
     "metadata": {},
     "output_type": "execute_result"
    }
   ],
   "source": [
    "df_train_binary_expanded.head(n=2)"
   ]
  },
  {
   "cell_type": "code",
   "execution_count": 354,
   "id": "537c41dd",
   "metadata": {},
   "outputs": [
    {
     "name": "stdout",
     "output_type": "stream",
     "text": [
      "(200,)\n",
      "(200, 32)\n"
     ]
    }
   ],
   "source": [
    "# Prepare the data for gradient boosting\n",
    "y_clf = df_train_binary_expanded[7].to_numpy().astype(int)\n",
    "X_clf= df_train_binary_expanded.iloc[:,8:].to_numpy()\n",
    "print(y_clf.shape)\n",
    "print(X_clf.shape)"
   ]
  },
  {
   "cell_type": "code",
   "execution_count": 355,
   "id": "7f41ab7c",
   "metadata": {},
   "outputs": [
    {
     "name": "stdout",
     "output_type": "stream",
     "text": [
      "(160, 32)\n",
      "(160,)\n",
      "(40, 32)\n",
      "(40,)\n",
      "[0]\n"
     ]
    }
   ],
   "source": [
    "# Create train / val / test split\n",
    "X_train_clf, X_test_clf, y_train_clf, y_test_clf = train_test_split(X_clf, y_clf, test_size=0.2, random_state=0)\n",
    "\n",
    "print(X_train_clf.shape)\n",
    "print(y_train_clf.shape)\n",
    "print(X_test_clf.shape)\n",
    "print(y_test_clf.shape)\n",
    "print(y_train_clf[:1])"
   ]
  },
  {
   "cell_type": "code",
   "execution_count": 367,
   "id": "b8924598",
   "metadata": {},
   "outputs": [
    {
     "data": {
      "text/plain": [
       "0.725"
      ]
     },
     "execution_count": 367,
     "metadata": {},
     "output_type": "execute_result"
    }
   ],
   "source": [
    "# Train the GBT\n",
    "clf = GradientBoostingClassifier(n_estimators=60, learning_rate=1.0, max_depth=3, random_state=0).fit(X_train_clf, y_train_clf)\n",
    "\n",
    "# Mean accuracy\n",
    "clf.score(X_test_clf, y_test_clf)"
   ]
  },
  {
   "cell_type": "code",
   "execution_count": 374,
   "id": "edf95611",
   "metadata": {},
   "outputs": [
    {
     "name": "stdout",
     "output_type": "stream",
     "text": [
      "GBT size in kiB: 99.326171875\n",
      "Conv layer size in kiB: 4.0\n",
      "Total size in kiB: 103.326171875\n"
     ]
    }
   ],
   "source": [
    "# Get the model size in kiB\n",
    "fname = \"clf\"\n",
    "joblib.dump(clf, fname)\n",
    "model_size = os.path.getsize(fname)\n",
    "model_size = model_size / 1024\n",
    "print(f\"GBT size in kiB: {model_size}\")\n",
    "\n",
    "# Get the conv layers size in kiB\n",
    "layer_size = 0\n",
    "for i in range(len(layer_list)):\n",
    "    layer_size = os.path.getsize(f\"layer_{i}\")\n",
    "layer_size = layer_size / 1024\n",
    "print(f\"Conv layer size in kiB: {layer_size}\")\n",
    "\n",
    "# Total size for GBT in kiB\n",
    "print(f\"Total size in kiB: {layer_size + model_size}\")"
   ]
  },
  {
   "cell_type": "code",
   "execution_count": 372,
   "id": "2c84b2ad",
   "metadata": {},
   "outputs": [
    {
     "name": "stdout",
     "output_type": "stream",
     "text": [
      "4.0\n"
     ]
    }
   ],
   "source": []
  },
  {
   "cell_type": "code",
   "execution_count": 373,
   "id": "f0fe39de",
   "metadata": {},
   "outputs": [
    {
     "name": "stdout",
     "output_type": "stream",
     "text": [
      "103.326171875\n"
     ]
    }
   ],
   "source": []
  },
  {
   "cell_type": "code",
   "execution_count": null,
   "id": "537e8c46",
   "metadata": {},
   "outputs": [],
   "source": []
  }
 ],
 "metadata": {
  "kernelspec": {
   "display_name": "Python 3 (ipykernel)",
   "language": "python",
   "name": "python3"
  },
  "language_info": {
   "codemirror_mode": {
    "name": "ipython",
    "version": 3
   },
   "file_extension": ".py",
   "mimetype": "text/x-python",
   "name": "python",
   "nbconvert_exporter": "python",
   "pygments_lexer": "ipython3",
   "version": "3.8.12"
  }
 },
 "nbformat": 4,
 "nbformat_minor": 5
}
