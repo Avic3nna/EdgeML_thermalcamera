{
 "cells": [
  {
   "cell_type": "markdown",
   "id": "045401df",
   "metadata": {},
   "source": [
    "# Gradient Boosting Classifier"
   ]
  },
  {
   "cell_type": "code",
   "execution_count": 70,
   "id": "37a5c481",
   "metadata": {},
   "outputs": [],
   "source": [
    "import pandas as pd\n",
    "import numpy as np\n",
    "import tensorflow as tf\n",
    "import matplotlib.pyplot as plt\n",
    "import sklearn as skl\n",
    "from sklearn.model_selection import train_test_split\n",
    "from sklearn.ensemble import GradientBoostingClassifier\n",
    "from sklearn.metrics import *\n",
    "from sklearn.preprocessing import *\n",
    "import pickle\n",
    "import sys\n",
    "import joblib\n",
    "import os\n",
    "import keras_tuner as kt\n",
    "\n",
    "IMAGE_SIZE = [32, 32]"
   ]
  },
  {
   "cell_type": "code",
   "execution_count": 86,
   "id": "e7966571",
   "metadata": {},
   "outputs": [],
   "source": [
    "df = pd.read_json('../data/labelled_data/whole_data_1637521796.json', orient='records')"
   ]
  },
  {
   "cell_type": "code",
   "execution_count": 3,
   "id": "afcc543e",
   "metadata": {},
   "outputs": [
    {
     "name": "stdout",
     "output_type": "stream",
     "text": [
      "amount of samples: 200\n"
     ]
    },
    {
     "data": {
      "text/html": [
       "<div>\n",
       "<style scoped>\n",
       "    .dataframe tbody tr th:only-of-type {\n",
       "        vertical-align: middle;\n",
       "    }\n",
       "\n",
       "    .dataframe tbody tr th {\n",
       "        vertical-align: top;\n",
       "    }\n",
       "\n",
       "    .dataframe thead th {\n",
       "        text-align: right;\n",
       "    }\n",
       "</style>\n",
       "<table border=\"1\" class=\"dataframe\">\n",
       "  <thead>\n",
       "    <tr style=\"text-align: right;\">\n",
       "      <th></th>\n",
       "      <th>index</th>\n",
       "      <th>Timestamp</th>\n",
       "      <th>Sensor ID</th>\n",
       "      <th>Room Temperature</th>\n",
       "      <th>RSSI</th>\n",
       "      <th>data</th>\n",
       "      <th>changed</th>\n",
       "      <th>label</th>\n",
       "    </tr>\n",
       "  </thead>\n",
       "  <tbody>\n",
       "    <tr>\n",
       "      <th>521</th>\n",
       "      <td>521</td>\n",
       "      <td>2021-05-07 13:06:24</td>\n",
       "      <td>3078</td>\n",
       "      <td>21.299999</td>\n",
       "      <td>-67</td>\n",
       "      <td>[[12.0, 10.4, 11.1, 10.9, 10.9, 12.0, 11.6, 11...</td>\n",
       "      <td>True</td>\n",
       "      <td>Human</td>\n",
       "    </tr>\n",
       "    <tr>\n",
       "      <th>2940</th>\n",
       "      <td>2940</td>\n",
       "      <td>2021-05-07 13:10:22</td>\n",
       "      <td>3078</td>\n",
       "      <td>22.400000</td>\n",
       "      <td>-76</td>\n",
       "      <td>[[11.8, 10.3, 11.2, 11.8, 10.6, 11.3, 11.4, 11...</td>\n",
       "      <td>True</td>\n",
       "      <td>Human</td>\n",
       "    </tr>\n",
       "    <tr>\n",
       "      <th>226</th>\n",
       "      <td>226</td>\n",
       "      <td>2021-05-07 13:05:55</td>\n",
       "      <td>3078</td>\n",
       "      <td>21.100000</td>\n",
       "      <td>-68</td>\n",
       "      <td>[[11.5, 10.5, 12.0, 12.5, 12.6, 13.0, 12.6, 12...</td>\n",
       "      <td>True</td>\n",
       "      <td>Ambigous heat</td>\n",
       "    </tr>\n",
       "  </tbody>\n",
       "</table>\n",
       "</div>"
      ],
      "text/plain": [
       "      index           Timestamp Sensor ID  Room Temperature  RSSI  \\\n",
       "521     521 2021-05-07 13:06:24      3078         21.299999   -67   \n",
       "2940   2940 2021-05-07 13:10:22      3078         22.400000   -76   \n",
       "226     226 2021-05-07 13:05:55      3078         21.100000   -68   \n",
       "\n",
       "                                                   data  changed  \\\n",
       "521   [[12.0, 10.4, 11.1, 10.9, 10.9, 12.0, 11.6, 11...     True   \n",
       "2940  [[11.8, 10.3, 11.2, 11.8, 10.6, 11.3, 11.4, 11...     True   \n",
       "226   [[11.5, 10.5, 12.0, 12.5, 12.6, 13.0, 12.6, 12...     True   \n",
       "\n",
       "              label  \n",
       "521           Human  \n",
       "2940          Human  \n",
       "226   Ambigous heat  "
      ]
     },
     "execution_count": 3,
     "metadata": {},
     "output_type": "execute_result"
    }
   ],
   "source": [
    "# Show amount of samples\n",
    "print(\"amount of samples:\", df.shape[0])\n",
    "df.head(n=3)"
   ]
  },
  {
   "cell_type": "markdown",
   "id": "dc89acfd",
   "metadata": {},
   "source": [
    "## Binary Classification"
   ]
  },
  {
   "cell_type": "code",
   "execution_count": 4,
   "id": "94973a62",
   "metadata": {},
   "outputs": [
    {
     "data": {
      "text/html": [
       "<div>\n",
       "<style scoped>\n",
       "    .dataframe tbody tr th:only-of-type {\n",
       "        vertical-align: middle;\n",
       "    }\n",
       "\n",
       "    .dataframe tbody tr th {\n",
       "        vertical-align: top;\n",
       "    }\n",
       "\n",
       "    .dataframe thead th {\n",
       "        text-align: right;\n",
       "    }\n",
       "</style>\n",
       "<table border=\"1\" class=\"dataframe\">\n",
       "  <thead>\n",
       "    <tr style=\"text-align: right;\">\n",
       "      <th></th>\n",
       "      <th>index</th>\n",
       "      <th>Timestamp</th>\n",
       "      <th>Sensor ID</th>\n",
       "      <th>Room Temperature</th>\n",
       "      <th>RSSI</th>\n",
       "      <th>data</th>\n",
       "      <th>changed</th>\n",
       "      <th>label</th>\n",
       "    </tr>\n",
       "  </thead>\n",
       "  <tbody>\n",
       "    <tr>\n",
       "      <th>521</th>\n",
       "      <td>521</td>\n",
       "      <td>2021-05-07 13:06:24</td>\n",
       "      <td>3078</td>\n",
       "      <td>21.299999</td>\n",
       "      <td>-67</td>\n",
       "      <td>[[12.0, 10.4, 11.1, 10.9, 10.9, 12.0, 11.6, 11...</td>\n",
       "      <td>True</td>\n",
       "      <td>1</td>\n",
       "    </tr>\n",
       "    <tr>\n",
       "      <th>2940</th>\n",
       "      <td>2940</td>\n",
       "      <td>2021-05-07 13:10:22</td>\n",
       "      <td>3078</td>\n",
       "      <td>22.400000</td>\n",
       "      <td>-76</td>\n",
       "      <td>[[11.8, 10.3, 11.2, 11.8, 10.6, 11.3, 11.4, 11...</td>\n",
       "      <td>True</td>\n",
       "      <td>1</td>\n",
       "    </tr>\n",
       "    <tr>\n",
       "      <th>226</th>\n",
       "      <td>226</td>\n",
       "      <td>2021-05-07 13:05:55</td>\n",
       "      <td>3078</td>\n",
       "      <td>21.100000</td>\n",
       "      <td>-68</td>\n",
       "      <td>[[11.5, 10.5, 12.0, 12.5, 12.6, 13.0, 12.6, 12...</td>\n",
       "      <td>True</td>\n",
       "      <td>0</td>\n",
       "    </tr>\n",
       "  </tbody>\n",
       "</table>\n",
       "</div>"
      ],
      "text/plain": [
       "      index           Timestamp Sensor ID  Room Temperature  RSSI  \\\n",
       "521     521 2021-05-07 13:06:24      3078         21.299999   -67   \n",
       "2940   2940 2021-05-07 13:10:22      3078         22.400000   -76   \n",
       "226     226 2021-05-07 13:05:55      3078         21.100000   -68   \n",
       "\n",
       "                                                   data  changed  label  \n",
       "521   [[12.0, 10.4, 11.1, 10.9, 10.9, 12.0, 11.6, 11...     True      1  \n",
       "2940  [[11.8, 10.3, 11.2, 11.8, 10.6, 11.3, 11.4, 11...     True      1  \n",
       "226   [[11.5, 10.5, 12.0, 12.5, 12.6, 13.0, 12.6, 12...     True      0  "
      ]
     },
     "execution_count": 4,
     "metadata": {},
     "output_type": "execute_result"
    }
   ],
   "source": [
    "# convert labels\n",
    "binary_label_converter = { \n",
    "    'Human': 1,\n",
    "    'Several humans': 1, \n",
    "    'Non-human heat': 0, \n",
    "    'Ambigous heat': 0,\n",
    "    'No heat':  0,\n",
    "}\n",
    "\n",
    "\n",
    "df_binary = df.copy()\n",
    "\n",
    "df_binary['label'] = df['label'].apply(lambda x: binary_label_converter[x])\n",
    "df_binary.head(n=3)"
   ]
  },
  {
   "cell_type": "code",
   "execution_count": 5,
   "id": "57395474",
   "metadata": {},
   "outputs": [
    {
     "name": "stdout",
     "output_type": "stream",
     "text": [
      "(200,)\n",
      "(200, 32, 32, 1)\n"
     ]
    }
   ],
   "source": [
    "# Prepare the data\n",
    "y = df_binary['label'].to_numpy()\n",
    "X = np.array(df_binary['data'].to_list())\n",
    "X = np.expand_dims(X, axis=3)\n",
    "print(y.shape)\n",
    "print(X.shape)"
   ]
  },
  {
   "cell_type": "code",
   "execution_count": 6,
   "id": "cb50cbff",
   "metadata": {},
   "outputs": [
    {
     "name": "stdout",
     "output_type": "stream",
     "text": [
      "(180, 32, 32, 1)\n",
      "(180,)\n",
      "(15, 32, 32, 1)\n",
      "(15,)\n",
      "[0]\n"
     ]
    }
   ],
   "source": [
    "# Create train / val / test split\n",
    "X_train, X_test, y_train, y_test = train_test_split(X, y, test_size=0.1, random_state=0)\n",
    "X_val, X_test, y_val, y_test = train_test_split(X_test, y_test, test_size=0.25, random_state=0)\n",
    "\n",
    "print(X_train.shape)\n",
    "print(y_train.shape)\n",
    "print(X_val.shape)\n",
    "print(y_val.shape)\n",
    "print(y_train[:1])"
   ]
  },
  {
   "cell_type": "code",
   "execution_count": 7,
   "id": "de669427",
   "metadata": {},
   "outputs": [],
   "source": [
    "# Squeezenet Model\n",
    "\n",
    "bnmomemtum=0.9\n",
    "\n",
    "def fire(x, squeeze, expand):\n",
    "    y  = tf.keras.layers.Conv2D(filters=squeeze, kernel_size=1, activation='relu', padding='same')(x)\n",
    "    y = tf.keras.layers.BatchNormalization(momentum=bnmomemtum)(y)\n",
    "    y1 = tf.keras.layers.Conv2D(filters=expand//2, kernel_size=1, activation='relu', padding='same')(y)\n",
    "    y1 = tf.keras.layers.BatchNormalization(momentum=bnmomemtum)(y1)\n",
    "    y3 = tf.keras.layers.Conv2D(filters=expand//2, kernel_size=3, activation='relu', padding='same')(y)\n",
    "    y3 = tf.keras.layers.BatchNormalization(momentum=bnmomemtum)(y3)\n",
    "    return tf.keras.layers.concatenate([y1, y3])\n",
    "\n",
    "def fire_module(squeeze, expand):\n",
    "    return lambda x: fire(x, squeeze, expand)\n",
    "\n",
    "x = tf.keras.layers.Input(shape=[*IMAGE_SIZE,1]) # input is 32x32 pixels RGB\n",
    "y = tf.keras.layers.Conv2D(kernel_size=3, filters=32, padding='same', use_bias=True, activation='relu')(x)\n",
    "y = tf.keras.layers.GlobalAveragePooling2D()(y)\n",
    "y = tf.keras.layers.Dense(64)(y)\n",
    "y = tf.keras.layers.Dense(32)(y)\n",
    "y = tf.keras.layers.Dropout(0.2)(y)\n",
    "y = tf.keras.layers.Dense(2, activation='softmax')(y)\n",
    "\n",
    "model = tf.keras.Model(x, y)"
   ]
  },
  {
   "cell_type": "code",
   "execution_count": 8,
   "id": "111e9ddd",
   "metadata": {},
   "outputs": [
    {
     "name": "stdout",
     "output_type": "stream",
     "text": [
      "Model: \"model\"\n",
      "_________________________________________________________________\n",
      "Layer (type)                 Output Shape              Param #   \n",
      "=================================================================\n",
      "input_1 (InputLayer)         [(None, 32, 32, 1)]       0         \n",
      "_________________________________________________________________\n",
      "conv2d (Conv2D)              (None, 32, 32, 32)        320       \n",
      "_________________________________________________________________\n",
      "global_average_pooling2d (Gl (None, 32)                0         \n",
      "_________________________________________________________________\n",
      "dense (Dense)                (None, 64)                2112      \n",
      "_________________________________________________________________\n",
      "dense_1 (Dense)              (None, 32)                2080      \n",
      "_________________________________________________________________\n",
      "dropout (Dropout)            (None, 32)                0         \n",
      "_________________________________________________________________\n",
      "dense_2 (Dense)              (None, 2)                 66        \n",
      "=================================================================\n",
      "Total params: 4,578\n",
      "Trainable params: 4,578\n",
      "Non-trainable params: 0\n",
      "_________________________________________________________________\n"
     ]
    }
   ],
   "source": [
    "model.compile(\n",
    "optimizer='adam',\n",
    "loss= 'sparse_categorical_crossentropy',\n",
    "metrics=['accuracy'])\n",
    "model.build(input_shape=(None, 32, 32, 1))\n",
    "model.summary()"
   ]
  },
  {
   "cell_type": "code",
   "execution_count": 9,
   "id": "fd2d24eb",
   "metadata": {},
   "outputs": [
    {
     "name": "stdout",
     "output_type": "stream",
     "text": [
      "('You must install pydot (`pip install pydot`) and install graphviz (see instructions at https://graphviz.gitlab.io/download/) ', 'for plot_model/model_to_dot to work.')\n"
     ]
    }
   ],
   "source": [
    "# Plot the model\n",
    "# `rankdir='LR'` is to make the graph horizontal.\n",
    "%matplotlib inline\n",
    "tf.keras.utils.plot_model(model, show_shapes=True, rankdir=\"LR\")"
   ]
  },
  {
   "cell_type": "code",
   "execution_count": 10,
   "id": "6a0d0981",
   "metadata": {},
   "outputs": [
    {
     "name": "stdout",
     "output_type": "stream",
     "text": [
      "Epoch 1/30\n",
      "12/12 [==============================] - 3s 47ms/step - loss: 1.1178 - accuracy: 0.5056 - val_loss: 1.0501 - val_accuracy: 0.6000\n",
      "Epoch 2/30\n",
      "12/12 [==============================] - 0s 12ms/step - loss: 0.9022 - accuracy: 0.6000 - val_loss: 0.8130 - val_accuracy: 0.4000\n",
      "Epoch 3/30\n",
      "12/12 [==============================] - 0s 12ms/step - loss: 0.8247 - accuracy: 0.5056 - val_loss: 0.7238 - val_accuracy: 0.6000\n",
      "Epoch 4/30\n",
      "12/12 [==============================] - 0s 12ms/step - loss: 0.7273 - accuracy: 0.5444 - val_loss: 0.6753 - val_accuracy: 0.6000\n",
      "Epoch 5/30\n",
      "12/12 [==============================] - 0s 10ms/step - loss: 0.6901 - accuracy: 0.5833 - val_loss: 0.6747 - val_accuracy: 0.6000\n",
      "Epoch 6/30\n",
      "12/12 [==============================] - 0s 9ms/step - loss: 0.6880 - accuracy: 0.6111 - val_loss: 0.6749 - val_accuracy: 0.6000\n",
      "Epoch 7/30\n",
      "12/12 [==============================] - 0s 9ms/step - loss: 0.6826 - accuracy: 0.5722 - val_loss: 0.7069 - val_accuracy: 0.6000\n",
      "Epoch 8/30\n",
      "12/12 [==============================] - 0s 10ms/step - loss: 0.7073 - accuracy: 0.5944 - val_loss: 0.6930 - val_accuracy: 0.6667\n",
      "Epoch 9/30\n",
      "12/12 [==============================] - 0s 10ms/step - loss: 0.7034 - accuracy: 0.5056 - val_loss: 0.7182 - val_accuracy: 0.6000\n",
      "Epoch 10/30\n",
      "12/12 [==============================] - 0s 10ms/step - loss: 0.7256 - accuracy: 0.5167 - val_loss: 0.6761 - val_accuracy: 0.6000\n",
      "Epoch 11/30\n",
      "12/12 [==============================] - 0s 10ms/step - loss: 0.7200 - accuracy: 0.6222 - val_loss: 0.6745 - val_accuracy: 0.6000\n",
      "Epoch 12/30\n",
      "12/12 [==============================] - 0s 9ms/step - loss: 0.6694 - accuracy: 0.6222 - val_loss: 0.6815 - val_accuracy: 0.6000\n",
      "Epoch 13/30\n",
      "12/12 [==============================] - 0s 10ms/step - loss: 0.6802 - accuracy: 0.6222 - val_loss: 0.6773 - val_accuracy: 0.6000\n",
      "Epoch 14/30\n",
      "12/12 [==============================] - 0s 10ms/step - loss: 0.6856 - accuracy: 0.6111 - val_loss: 0.6747 - val_accuracy: 0.6000\n",
      "Epoch 15/30\n",
      "12/12 [==============================] - 0s 10ms/step - loss: 0.6846 - accuracy: 0.5889 - val_loss: 0.6869 - val_accuracy: 0.6000\n",
      "Epoch 16/30\n",
      "12/12 [==============================] - 0s 10ms/step - loss: 0.6717 - accuracy: 0.6167 - val_loss: 0.6759 - val_accuracy: 0.6000\n",
      "Epoch 17/30\n",
      "12/12 [==============================] - 0s 10ms/step - loss: 0.6838 - accuracy: 0.6278 - val_loss: 0.6748 - val_accuracy: 0.6000\n",
      "Epoch 18/30\n",
      "12/12 [==============================] - 0s 10ms/step - loss: 0.6978 - accuracy: 0.5222 - val_loss: 0.6780 - val_accuracy: 0.6000\n",
      "Epoch 19/30\n",
      "12/12 [==============================] - 0s 10ms/step - loss: 0.6752 - accuracy: 0.6222 - val_loss: 0.6745 - val_accuracy: 0.6000\n",
      "Epoch 20/30\n",
      "12/12 [==============================] - 0s 9ms/step - loss: 0.6878 - accuracy: 0.5944 - val_loss: 0.6763 - val_accuracy: 0.6000\n",
      "Epoch 21/30\n",
      "12/12 [==============================] - 0s 12ms/step - loss: 0.7063 - accuracy: 0.5000 - val_loss: 0.7052 - val_accuracy: 0.6000\n",
      "Epoch 22/30\n",
      "12/12 [==============================] - 0s 11ms/step - loss: 0.7820 - accuracy: 0.6278 - val_loss: 0.6769 - val_accuracy: 0.6000\n",
      "Epoch 23/30\n",
      "12/12 [==============================] - 0s 12ms/step - loss: 0.7045 - accuracy: 0.5000 - val_loss: 0.6773 - val_accuracy: 0.6000\n",
      "Epoch 24/30\n",
      "12/12 [==============================] - 0s 11ms/step - loss: 0.6856 - accuracy: 0.6278 - val_loss: 0.6887 - val_accuracy: 0.6000\n",
      "Epoch 25/30\n",
      "12/12 [==============================] - 0s 11ms/step - loss: 0.6612 - accuracy: 0.6278 - val_loss: 0.6749 - val_accuracy: 0.6000\n",
      "Epoch 26/30\n",
      "12/12 [==============================] - 0s 12ms/step - loss: 0.6929 - accuracy: 0.6333 - val_loss: 0.6921 - val_accuracy: 0.6000\n",
      "Epoch 27/30\n",
      "12/12 [==============================] - 0s 11ms/step - loss: 0.6585 - accuracy: 0.6500 - val_loss: 0.6807 - val_accuracy: 0.6000\n",
      "Epoch 28/30\n",
      "12/12 [==============================] - 0s 11ms/step - loss: 0.6697 - accuracy: 0.5889 - val_loss: 0.6787 - val_accuracy: 0.6000\n",
      "Epoch 29/30\n",
      "12/12 [==============================] - 0s 12ms/step - loss: 0.6804 - accuracy: 0.6222 - val_loss: 0.6823 - val_accuracy: 0.6000\n",
      "Epoch 30/30\n",
      "12/12 [==============================] - 0s 11ms/step - loss: 0.6707 - accuracy: 0.6111 - val_loss: 0.6745 - val_accuracy: 0.6000\n"
     ]
    },
    {
     "data": {
      "image/png": "[encoded data removed]",
      "text/plain": [
       "<Figure size 432x288 with 1 Axes>"
      ]
     },
     "metadata": {
      "needs_background": "light"
     },
     "output_type": "display_data"
    }
   ],
   "source": [
    "# Fit the model\n",
    "EPOCHS = 30\n",
    "BATCH_SIZE = 16\n",
    "history = model.fit(X_train, y_train, epochs=EPOCHS, batch_size=BATCH_SIZE, validation_data=(X_val, y_val))\n",
    "\n",
    "\n",
    "train_loss = history.history['loss']\n",
    "val_loss = history.history['val_loss']\n",
    "\n",
    "epochs = range(1, len(train_loss) + 1)\n",
    "\n",
    "# Plot training history\n",
    "plt.plot(epochs, train_loss, 'g.', label='Training loss')\n",
    "plt.plot(epochs, val_loss, 'b', label='Validation loss')\n",
    "plt.title('Training and validation loss')\n",
    "plt.xlabel('Epochs')\n",
    "plt.ylabel('Loss')\n",
    "plt.legend()\n",
    "plt.show()\n"
   ]
  },
  {
   "cell_type": "code",
   "execution_count": 11,
   "id": "28b3b222",
   "metadata": {},
   "outputs": [],
   "source": [
    "def get_feature_map_list(model):\n",
    "    \n",
    "    feature_map_list = []\n",
    "        \n",
    "    for i in range(len(model.layers)):\n",
    "        layer = model.layers[i]\n",
    "        # check for convolutional layer\n",
    "        if 'conv' not in layer.name:\n",
    "            continue\n",
    "        # summarize output shape\n",
    "        print(i, layer.name, layer.output.shape)\n",
    "        \n",
    "        # Get the layer input and output\n",
    "        if i==0:\n",
    "            inputs = model.inputs\n",
    "        else:\n",
    "            inputs = model.layers[i-1].input\n",
    "            \n",
    "        if i==len(model.layers):\n",
    "            outputs = model.outputs\n",
    "        else:\n",
    "            outputs = model.layers[i].output\n",
    "        \n",
    "        current_feature_map = tf.keras.Model(name=layer.name, inputs=inputs, outputs=model.layers[i].output)\n",
    "        feature_map_list.append(current_feature_map)\n",
    "    \n",
    "    return feature_map_list\n",
    "        \n",
    "    \n",
    "    "
   ]
  },
  {
   "cell_type": "code",
   "execution_count": 12,
   "id": "47eb7d23",
   "metadata": {},
   "outputs": [
    {
     "name": "stdout",
     "output_type": "stream",
     "text": [
      "1 conv2d (None, 32, 32, 32)\n",
      "[<keras.engine.functional.Functional object at 0x000002A822BAD670>]\n",
      "WARNING:tensorflow:Compiled the loaded model, but the compiled metrics have yet to be built. `model.compile_metrics` will be empty until you train or evaluate the model.\n",
      "INFO:tensorflow:Assets written to: layer_binary_0\\assets\n"
     ]
    }
   ],
   "source": [
    "layer_list = get_feature_map_list(model)\n",
    "print(layer_list)\n",
    "\n",
    "for i in range(len(layer_list)):\n",
    "    layer_list[i].save(f\"layer_binary_{i}\")"
   ]
  },
  {
   "cell_type": "code",
   "execution_count": 13,
   "id": "1e18ea5d",
   "metadata": {},
   "outputs": [
    {
     "name": "stdout",
     "output_type": "stream",
     "text": [
      "(200, 198)\n",
      "[[1.37223633e+01 1.36000000e+01 1.41247853e+00 1.93000000e+01\n",
      "  9.80000000e+00 1.40517000e+04 0.00000000e+00 4.92024352e-04\n",
      "  2.68017058e-04 7.16059410e-04 3.58353816e-02 1.31157234e-01\n",
      "  7.35410377e-02 2.80895911e-05 1.76922143e+00 2.41683173e+00\n",
      "  1.52392018e+00 0.00000000e+00 1.14387408e-01 5.87768137e-01\n",
      "  5.41789114e-01 7.81066492e-02 5.69101945e-02 3.41160782e-02\n",
      "  7.22404383e-03 1.38309288e+00 1.80591398e-03 1.85830444e-02\n",
      "  1.28287399e+00 2.09278369e+00 4.28939966e-04 0.00000000e+00\n",
      "  1.03625727e+00 1.19099149e-03 2.40617537e+00 8.71774741e-03\n",
      "  7.53717244e-01 6.34292126e-01 0.00000000e+00 0.00000000e+00\n",
      "  0.00000000e+00 0.00000000e+00 0.00000000e+00 0.00000000e+00\n",
      "  0.00000000e+00 0.00000000e+00 1.70256126e+00 2.56608057e+00\n",
      "  1.58505058e+00 0.00000000e+00 0.00000000e+00 5.54989696e-01\n",
      "  5.61888337e-01 0.00000000e+00 0.00000000e+00 0.00000000e+00\n",
      "  0.00000000e+00 1.41715908e+00 0.00000000e+00 0.00000000e+00\n",
      "  1.28179324e+00 2.08126903e+00 0.00000000e+00 0.00000000e+00\n",
      "  1.11245537e+00 0.00000000e+00 2.49050903e+00 0.00000000e+00\n",
      "  6.96893632e-01 5.83350241e-01 0.00000000e+00 1.57370865e-02\n",
      "  8.57235771e-03 2.29027271e-02 1.99169308e-01 6.95729077e-01\n",
      "  2.77404815e-01 8.98436701e-04 8.72866988e-01 7.09163249e-01\n",
      "  4.63905841e-01 0.00000000e+00 5.48583448e-01 2.72345304e-01\n",
      "  2.46851116e-01 4.39854473e-01 2.31894299e-01 1.97456911e-01\n",
      "  1.07665218e-01 3.98197353e-01 3.46498005e-02 8.66611153e-02\n",
      "  3.38239610e-01 5.14429152e-01 1.37193697e-02 0.00000000e+00\n",
      "  3.36711049e-01 3.43782492e-02 5.83885550e-01 6.36181310e-02\n",
      "  3.15851867e-01 3.89907420e-01 0.00000000e+00 5.03832936e-01\n",
      "  2.74449468e-01 7.33244836e-01 1.34602821e+00 5.14709759e+00\n",
      "  2.20362878e+00 2.87637413e-02 6.75942469e+00 3.73091269e+00\n",
      "  2.69820881e+00 0.00000000e+00 3.65704703e+00 2.05228353e+00\n",
      "  1.51417363e+00 3.26581001e+00 1.78258395e+00 1.52963305e+00\n",
      "  3.26701474e+00 2.51373434e+00 1.05978537e+00 1.20881176e+00\n",
      "  2.83394980e+00 4.43995762e+00 4.39234525e-01 0.00000000e+00\n",
      "  1.70733058e+00 1.09415388e+00 3.77254772e+00 1.36421084e+00\n",
      "  2.09409881e+00 3.54911947e+00 0.00000000e+00 0.00000000e+00\n",
      "  0.00000000e+00 0.00000000e+00 0.00000000e+00 0.00000000e+00\n",
      "  0.00000000e+00 0.00000000e+00 0.00000000e+00 0.00000000e+00\n",
      "  0.00000000e+00 0.00000000e+00 0.00000000e+00 0.00000000e+00\n",
      "  0.00000000e+00 0.00000000e+00 0.00000000e+00 0.00000000e+00\n",
      "  0.00000000e+00 0.00000000e+00 0.00000000e+00 0.00000000e+00\n",
      "  0.00000000e+00 0.00000000e+00 0.00000000e+00 0.00000000e+00\n",
      "  0.00000000e+00 0.00000000e+00 0.00000000e+00 0.00000000e+00\n",
      "  0.00000000e+00 0.00000000e+00 0.00000000e+00 5.03832936e-01\n",
      "  2.74449468e-01 7.33244836e-01 3.66954308e+01 1.34305008e+02\n",
      "  7.53060226e+01 2.87637413e-02 1.81168274e+03 2.47483569e+03\n",
      "  1.56049426e+03 0.00000000e+00 1.17132706e+02 6.01874573e+02\n",
      "  5.54792053e+02 7.99812088e+01 5.82760391e+01 3.49348640e+01\n",
      "  7.39742088e+00 1.41628711e+03 1.84925592e+00 1.90290375e+01\n",
      "  1.31366296e+03 2.14301050e+03 4.39234525e-01 0.00000000e+00\n",
      "  1.06112744e+03 1.21957529e+00 2.46392358e+03 8.92697334e+00\n",
      "  7.71806458e+02 6.49515137e+02]]\n"
     ]
    }
   ],
   "source": [
    "# Calculate the feature map mean\n",
    "feature_map_list = []\n",
    "\n",
    "im_mean = np.mean(X, axis=(1,2))\n",
    "im_median = np.median(X, axis=(1,2))\n",
    "im_std = np.std(X, axis=(1,2))\n",
    "im_max = np.max(X, axis=(1,2))\n",
    "im_min = np.min(X, axis=(1,2))\n",
    "im_sum = np.sum(X, axis=(1,2))\n",
    "\n",
    "feature_map_list.append(np.concatenate([im_mean,\n",
    "                                           im_median,\n",
    "                                           im_std,\n",
    "                                           im_max,\n",
    "                                           im_min,\n",
    "                                           im_sum], axis=1))\n",
    "\n",
    "\n",
    "\n",
    "# Print the shape of the feature maps\n",
    "for i in range(len(layer_list)):\n",
    "    feature_map = layer_list[i].predict(X)\n",
    "    feature_map_mean = np.mean(feature_map, axis=(1,2))\n",
    "    feature_map_median = np.median(feature_map, axis=(1,2))\n",
    "    feature_map_std = np.std(feature_map, axis=(1,2))\n",
    "    feature_map_max = np.max(feature_map, axis=(1,2))\n",
    "    feature_map_min = np.min(feature_map, axis=(1,2))\n",
    "    feature_map_sum = np.sum(feature_map, axis=(1,2))\n",
    "    feature_map_features = np.concatenate([feature_map_mean,\n",
    "                                           feature_map_median,\n",
    "                                           feature_map_std,\n",
    "                                           feature_map_max, \n",
    "                                           feature_map_min, \n",
    "                                           feature_map_sum], axis=1)\n",
    "    feature_map_list.append(feature_map_features)\n",
    "    \n",
    "feature_map_means = np.concatenate(feature_map_list, axis=1)\n",
    "print(feature_map_means.shape)\n",
    "print(feature_map_means[:1])"
   ]
  },
  {
   "cell_type": "code",
   "execution_count": 14,
   "id": "e8911530",
   "metadata": {},
   "outputs": [],
   "source": [
    "df_train_binary_expanded = pd.DataFrame(np.concatenate([df_binary.head(X.shape[0]), feature_map_means], axis=1))"
   ]
  },
  {
   "cell_type": "code",
   "execution_count": 15,
   "id": "961af519",
   "metadata": {},
   "outputs": [
    {
     "data": {
      "text/html": [
       "<div>\n",
       "<style scoped>\n",
       "    .dataframe tbody tr th:only-of-type {\n",
       "        vertical-align: middle;\n",
       "    }\n",
       "\n",
       "    .dataframe tbody tr th {\n",
       "        vertical-align: top;\n",
       "    }\n",
       "\n",
       "    .dataframe thead th {\n",
       "        text-align: right;\n",
       "    }\n",
       "</style>\n",
       "<table border=\"1\" class=\"dataframe\">\n",
       "  <thead>\n",
       "    <tr style=\"text-align: right;\">\n",
       "      <th></th>\n",
       "      <th>0</th>\n",
       "      <th>1</th>\n",
       "      <th>2</th>\n",
       "      <th>3</th>\n",
       "      <th>4</th>\n",
       "      <th>5</th>\n",
       "      <th>6</th>\n",
       "      <th>7</th>\n",
       "      <th>8</th>\n",
       "      <th>9</th>\n",
       "      <th>...</th>\n",
       "      <th>196</th>\n",
       "      <th>197</th>\n",
       "      <th>198</th>\n",
       "      <th>199</th>\n",
       "      <th>200</th>\n",
       "      <th>201</th>\n",
       "      <th>202</th>\n",
       "      <th>203</th>\n",
       "      <th>204</th>\n",
       "      <th>205</th>\n",
       "    </tr>\n",
       "  </thead>\n",
       "  <tbody>\n",
       "    <tr>\n",
       "      <th>0</th>\n",
       "      <td>521</td>\n",
       "      <td>2021-05-07 13:06:24</td>\n",
       "      <td>3078</td>\n",
       "      <td>21.299999</td>\n",
       "      <td>-67</td>\n",
       "      <td>[[12.0, 10.4, 11.1, 10.9, 10.9, 12.0, 11.6, 11...</td>\n",
       "      <td>True</td>\n",
       "      <td>1</td>\n",
       "      <td>13.722363</td>\n",
       "      <td>13.6</td>\n",
       "      <td>...</td>\n",
       "      <td>1313.662964</td>\n",
       "      <td>2143.010498</td>\n",
       "      <td>0.439235</td>\n",
       "      <td>0.0</td>\n",
       "      <td>1061.127441</td>\n",
       "      <td>1.219575</td>\n",
       "      <td>2463.923584</td>\n",
       "      <td>8.926973</td>\n",
       "      <td>771.806458</td>\n",
       "      <td>649.515137</td>\n",
       "    </tr>\n",
       "    <tr>\n",
       "      <th>1</th>\n",
       "      <td>2940</td>\n",
       "      <td>2021-05-07 13:10:22</td>\n",
       "      <td>3078</td>\n",
       "      <td>22.4</td>\n",
       "      <td>-76</td>\n",
       "      <td>[[11.8, 10.3, 11.2, 11.8, 10.6, 11.3, 11.4, 11...</td>\n",
       "      <td>True</td>\n",
       "      <td>1</td>\n",
       "      <td>13.538184</td>\n",
       "      <td>13.5</td>\n",
       "      <td>...</td>\n",
       "      <td>1283.277222</td>\n",
       "      <td>2124.77832</td>\n",
       "      <td>0.496395</td>\n",
       "      <td>0.0</td>\n",
       "      <td>1049.479736</td>\n",
       "      <td>1.081187</td>\n",
       "      <td>2427.586426</td>\n",
       "      <td>8.896838</td>\n",
       "      <td>752.085815</td>\n",
       "      <td>627.970947</td>\n",
       "    </tr>\n",
       "  </tbody>\n",
       "</table>\n",
       "<p>2 rows × 206 columns</p>\n",
       "</div>"
      ],
      "text/plain": [
       "    0                   1     2          3    4    \\\n",
       "0   521 2021-05-07 13:06:24  3078  21.299999  -67   \n",
       "1  2940 2021-05-07 13:10:22  3078       22.4  -76   \n",
       "\n",
       "                                                 5     6   7          8    \\\n",
       "0  [[12.0, 10.4, 11.1, 10.9, 10.9, 12.0, 11.6, 11...  True   1  13.722363   \n",
       "1  [[11.8, 10.3, 11.2, 11.8, 10.6, 11.3, 11.4, 11...  True   1  13.538184   \n",
       "\n",
       "    9    ...          196          197       198  199          200       201  \\\n",
       "0  13.6  ...  1313.662964  2143.010498  0.439235  0.0  1061.127441  1.219575   \n",
       "1  13.5  ...  1283.277222   2124.77832  0.496395  0.0  1049.479736  1.081187   \n",
       "\n",
       "           202       203         204         205  \n",
       "0  2463.923584  8.926973  771.806458  649.515137  \n",
       "1  2427.586426  8.896838  752.085815  627.970947  \n",
       "\n",
       "[2 rows x 206 columns]"
      ]
     },
     "execution_count": 15,
     "metadata": {},
     "output_type": "execute_result"
    }
   ],
   "source": [
    "df_train_binary_expanded.head(n=2)"
   ]
  },
  {
   "cell_type": "code",
   "execution_count": 16,
   "id": "537c41dd",
   "metadata": {},
   "outputs": [
    {
     "name": "stdout",
     "output_type": "stream",
     "text": [
      "(200,)\n",
      "(200, 198)\n"
     ]
    }
   ],
   "source": [
    "# Prepare the data for gradient boosting\n",
    "y_clf = df_train_binary_expanded[7].to_numpy().astype(int)\n",
    "X_clf= df_train_binary_expanded.iloc[:,8:].to_numpy()\n",
    "print(y_clf.shape)\n",
    "print(X_clf.shape)"
   ]
  },
  {
   "cell_type": "code",
   "execution_count": 17,
   "id": "7f41ab7c",
   "metadata": {},
   "outputs": [
    {
     "name": "stdout",
     "output_type": "stream",
     "text": [
      "(180, 198)\n",
      "(180,)\n",
      "(20, 198)\n",
      "(20,)\n",
      "[0]\n"
     ]
    }
   ],
   "source": [
    "# Create train / val / test split\n",
    "X_train_clf, X_test_clf, y_train_clf, y_test_clf = train_test_split(X_clf, y_clf, test_size=0.1, random_state=0)\n",
    "# X_val_clf, X_test_clf, y_val_clf, y_test_clf = train_test_split(X_test_clf, y_test_clf, test_size=0.3, random_state=0)\n",
    "\n",
    "print(X_train_clf.shape)\n",
    "print(y_train_clf.shape)\n",
    "print(X_test_clf.shape)\n",
    "print(y_test_clf.shape)\n",
    "print(y_train_clf[:1])"
   ]
  },
  {
   "cell_type": "code",
   "execution_count": 18,
   "id": "b8924598",
   "metadata": {},
   "outputs": [
    {
     "data": {
      "text/plain": [
       "0.45"
      ]
     },
     "execution_count": 18,
     "metadata": {},
     "output_type": "execute_result"
    }
   ],
   "source": [
    "# Train the GBT\n",
    "clf = GradientBoostingClassifier(n_estimators=300, learning_rate=1.0, max_depth=3, random_state=0).fit(X_train_clf, y_train_clf)\n",
    "\n",
    "# Mean accuracy\n",
    "clf.score(X_test_clf, y_test_clf)"
   ]
  },
  {
   "cell_type": "code",
   "execution_count": 20,
   "id": "edf95611",
   "metadata": {},
   "outputs": [
    {
     "name": "stdout",
     "output_type": "stream",
     "text": [
      "GBT size in kiB: 326.30078125\n",
      "Conv layer size in kiB: 4.0\n",
      "Total size in kiB: 330.30078125\n"
     ]
    }
   ],
   "source": [
    "# Get the model size in kiB\n",
    "def get_memory_size(clf, layer_list, fname = \"clf_binary\"):\n",
    "    joblib.dump(clf, fname)\n",
    "    model_size = os.path.getsize(fname)\n",
    "    model_size = model_size / 1024\n",
    "    print(f\"GBT size in kiB: {model_size}\")\n",
    "\n",
    "    # Get the conv layers size in kiB\n",
    "    layer_size = 0\n",
    "    for i in range(len(layer_list)):\n",
    "        layer_size = os.path.getsize(f\"layer_binary_{i}\")\n",
    "    layer_size = layer_size / 1024\n",
    "    print(f\"Conv layer size in kiB: {layer_size}\")\n",
    "\n",
    "    # Total size for GBT in kiB\n",
    "    print(f\"Total size in kiB: {layer_size + model_size}\")\n",
    "    \n",
    "get_memory_size(clf, layer_list)"
   ]
  },
  {
   "cell_type": "code",
   "execution_count": 21,
   "id": "bb62b8a0",
   "metadata": {},
   "outputs": [],
   "source": [
    "# HP-Tuning\n",
    "NUM_FEATURES = 198\n",
    "\n",
    "def build_hypermodel(hp):\n",
    "    \n",
    "    n_estimators = hp.Int(\"n_estimators\", 10, 300)\n",
    "    learning_rate = hp.Float(\"learning_rate\", 0.1, 1.0)\n",
    "    max_depth = hp.Int(\"max_depth\", 1, 8)\n",
    "    max_features = hp.Int(\"max_features\", 1, NUM_FEATURES)\n",
    "    \n",
    "    return GradientBoostingClassifier(n_estimators=n_estimators,\n",
    "                                      learning_rate=learning_rate, \n",
    "                                      max_depth=max_depth,\n",
    "                                      max_features=max_features,\n",
    "                                      validation_fraction=0.2,\n",
    "                                      random_state=0)\n"
   ]
  },
  {
   "cell_type": "code",
   "execution_count": 22,
   "id": "67856001",
   "metadata": {},
   "outputs": [
    {
     "name": "stdout",
     "output_type": "stream",
     "text": [
      "Trial 40 Complete [00h 00m 02s]\n",
      "score: 0.6021760847847805\n",
      "\n",
      "Best score So Far: 0.6393410936889198\n",
      "Total elapsed time: 00h 03m 45s\n",
      "INFO:tensorflow:Oracle triggered exit\n",
      "Best model test score: 0.7\n",
      "Best model params: {'ccp_alpha': 0.0, 'criterion': 'friedman_mse', 'init': None, 'learning_rate': 0.1652361645376294, 'loss': 'deviance', 'max_depth': 7, 'max_features': 1, 'max_leaf_nodes': None, 'min_impurity_decrease': 0.0, 'min_samples_leaf': 1, 'min_samples_split': 2, 'min_weight_fraction_leaf': 0.0, 'n_estimators': 241, 'n_iter_no_change': None, 'random_state': 0, 'subsample': 1.0, 'tol': 0.0001, 'validation_fraction': 0.2, 'verbose': 0, 'warm_start': False}\n"
     ]
    }
   ],
   "source": [
    "MAX_TRIALS = 40\n",
    "\n",
    "# TODO: Use maybe other metrices!\n",
    "\n",
    "tuner = kt.tuners.SklearnTuner(\n",
    "    oracle=kt.oracles.BayesianOptimizationOracle(\n",
    "        objective=kt.Objective('score', 'max'),\n",
    "        max_trials=MAX_TRIALS),\n",
    "    hypermodel=build_hypermodel,\n",
    "    scoring=skl.metrics.make_scorer(skl.metrics.balanced_accuracy_score),\n",
    "    metrics=[skl.metrics.accuracy_score, balanced_accuracy_score],\n",
    "    cv=skl.model_selection.StratifiedKFold(5),\n",
    "    directory='.',\n",
    "    project_name='hp_tuning_binary')\n",
    "\n",
    "\n",
    "\n",
    "tuner.search(X_train_clf, y_train_clf)\n",
    "\n",
    "best_model = tuner.get_best_models(num_models=1)[0]\n",
    "\n",
    "print(f\"Best model test score: {best_model.score(X_test_clf, y_test_clf)}\")\n",
    "\n",
    "print(f\"Best model params: {best_model.get_params()}\")"
   ]
  },
  {
   "cell_type": "code",
   "execution_count": 23,
   "id": "d8cab4cb",
   "metadata": {},
   "outputs": [
    {
     "name": "stdout",
     "output_type": "stream",
     "text": [
      "GBT size in kiB: 1557.0498046875\n",
      "Conv layer size in kiB: 4.0\n",
      "Total size in kiB: 1561.0498046875\n"
     ]
    }
   ],
   "source": [
    "get_memory_size(best_model, layer_list, fname=\"best_binary\")"
   ]
  },
  {
   "cell_type": "code",
   "execution_count": 24,
   "id": "1dec5e4a",
   "metadata": {},
   "outputs": [
    {
     "name": "stdout",
     "output_type": "stream",
     "text": [
      "Ground Truth: [1 0 0 0 1 1 0 0 1 0 0 0 0 1 0 1 1 0 1 0]\n",
      "Prediction:   [1 0 0 0 1 0 0 0 0 0 0 0 0 0 0 0 0 0 0 0]\n"
     ]
    }
   ],
   "source": [
    "# Compare predictions and ground truth\n",
    "\n",
    "pred = best_model.predict(X_test_clf)\n",
    "\n",
    "print(f\"Ground Truth: {y_test_clf}\")\n",
    "print(f\"Prediction:   {pred}\")"
   ]
  },
  {
   "cell_type": "markdown",
   "id": "564ce84b",
   "metadata": {},
   "source": [
    "## Multilabel Classification"
   ]
  },
  {
   "cell_type": "code",
   "execution_count": 87,
   "id": "82efc2a6",
   "metadata": {},
   "outputs": [
    {
     "data": {
      "text/html": [
       "<div>\n",
       "<style scoped>\n",
       "    .dataframe tbody tr th:only-of-type {\n",
       "        vertical-align: middle;\n",
       "    }\n",
       "\n",
       "    .dataframe tbody tr th {\n",
       "        vertical-align: top;\n",
       "    }\n",
       "\n",
       "    .dataframe thead th {\n",
       "        text-align: right;\n",
       "    }\n",
       "</style>\n",
       "<table border=\"1\" class=\"dataframe\">\n",
       "  <thead>\n",
       "    <tr style=\"text-align: right;\">\n",
       "      <th></th>\n",
       "      <th>index</th>\n",
       "      <th>Timestamp</th>\n",
       "      <th>Sensor ID</th>\n",
       "      <th>Room Temperature</th>\n",
       "      <th>RSSI</th>\n",
       "      <th>data</th>\n",
       "      <th>changed</th>\n",
       "      <th>label</th>\n",
       "    </tr>\n",
       "  </thead>\n",
       "  <tbody>\n",
       "    <tr>\n",
       "      <th>521</th>\n",
       "      <td>521</td>\n",
       "      <td>2021-05-07 13:06:24</td>\n",
       "      <td>3078</td>\n",
       "      <td>21.299999</td>\n",
       "      <td>-67</td>\n",
       "      <td>[[12.0, 10.4, 11.1, 10.9, 10.9, 12.0, 11.6, 11...</td>\n",
       "      <td>True</td>\n",
       "      <td>Human</td>\n",
       "    </tr>\n",
       "    <tr>\n",
       "      <th>2940</th>\n",
       "      <td>2940</td>\n",
       "      <td>2021-05-07 13:10:22</td>\n",
       "      <td>3078</td>\n",
       "      <td>22.400000</td>\n",
       "      <td>-76</td>\n",
       "      <td>[[11.8, 10.3, 11.2, 11.8, 10.6, 11.3, 11.4, 11...</td>\n",
       "      <td>True</td>\n",
       "      <td>Human</td>\n",
       "    </tr>\n",
       "    <tr>\n",
       "      <th>226</th>\n",
       "      <td>226</td>\n",
       "      <td>2021-05-07 13:05:55</td>\n",
       "      <td>3078</td>\n",
       "      <td>21.100000</td>\n",
       "      <td>-68</td>\n",
       "      <td>[[11.5, 10.5, 12.0, 12.5, 12.6, 13.0, 12.6, 12...</td>\n",
       "      <td>True</td>\n",
       "      <td>Ambigous heat</td>\n",
       "    </tr>\n",
       "  </tbody>\n",
       "</table>\n",
       "</div>"
      ],
      "text/plain": [
       "      index           Timestamp Sensor ID  Room Temperature  RSSI  \\\n",
       "521     521 2021-05-07 13:06:24      3078         21.299999   -67   \n",
       "2940   2940 2021-05-07 13:10:22      3078         22.400000   -76   \n",
       "226     226 2021-05-07 13:05:55      3078         21.100000   -68   \n",
       "\n",
       "                                                   data  changed  \\\n",
       "521   [[12.0, 10.4, 11.1, 10.9, 10.9, 12.0, 11.6, 11...     True   \n",
       "2940  [[11.8, 10.3, 11.2, 11.8, 10.6, 11.3, 11.4, 11...     True   \n",
       "226   [[11.5, 10.5, 12.0, 12.5, 12.6, 13.0, 12.6, 12...     True   \n",
       "\n",
       "              label  \n",
       "521           Human  \n",
       "2940          Human  \n",
       "226   Ambigous heat  "
      ]
     },
     "execution_count": 87,
     "metadata": {},
     "output_type": "execute_result"
    }
   ],
   "source": [
    "df.head(n=3)"
   ]
  },
  {
   "cell_type": "code",
   "execution_count": 88,
   "id": "e537e97c",
   "metadata": {},
   "outputs": [
    {
     "data": {
      "text/html": [
       "<div>\n",
       "<style scoped>\n",
       "    .dataframe tbody tr th:only-of-type {\n",
       "        vertical-align: middle;\n",
       "    }\n",
       "\n",
       "    .dataframe tbody tr th {\n",
       "        vertical-align: top;\n",
       "    }\n",
       "\n",
       "    .dataframe thead th {\n",
       "        text-align: right;\n",
       "    }\n",
       "</style>\n",
       "<table border=\"1\" class=\"dataframe\">\n",
       "  <thead>\n",
       "    <tr style=\"text-align: right;\">\n",
       "      <th></th>\n",
       "      <th>index</th>\n",
       "      <th>Timestamp</th>\n",
       "      <th>Sensor ID</th>\n",
       "      <th>Room Temperature</th>\n",
       "      <th>RSSI</th>\n",
       "      <th>data</th>\n",
       "      <th>changed</th>\n",
       "      <th>label</th>\n",
       "    </tr>\n",
       "  </thead>\n",
       "  <tbody>\n",
       "    <tr>\n",
       "      <th>521</th>\n",
       "      <td>521</td>\n",
       "      <td>2021-05-07 13:06:24</td>\n",
       "      <td>3078</td>\n",
       "      <td>21.299999</td>\n",
       "      <td>-67</td>\n",
       "      <td>[[12.0, 10.4, 11.1, 10.9, 10.9, 12.0, 11.6, 11...</td>\n",
       "      <td>True</td>\n",
       "      <td>0</td>\n",
       "    </tr>\n",
       "    <tr>\n",
       "      <th>2940</th>\n",
       "      <td>2940</td>\n",
       "      <td>2021-05-07 13:10:22</td>\n",
       "      <td>3078</td>\n",
       "      <td>22.400000</td>\n",
       "      <td>-76</td>\n",
       "      <td>[[11.8, 10.3, 11.2, 11.8, 10.6, 11.3, 11.4, 11...</td>\n",
       "      <td>True</td>\n",
       "      <td>0</td>\n",
       "    </tr>\n",
       "    <tr>\n",
       "      <th>226</th>\n",
       "      <td>226</td>\n",
       "      <td>2021-05-07 13:05:55</td>\n",
       "      <td>3078</td>\n",
       "      <td>21.100000</td>\n",
       "      <td>-68</td>\n",
       "      <td>[[11.5, 10.5, 12.0, 12.5, 12.6, 13.0, 12.6, 12...</td>\n",
       "      <td>True</td>\n",
       "      <td>3</td>\n",
       "    </tr>\n",
       "    <tr>\n",
       "      <th>3030</th>\n",
       "      <td>3030</td>\n",
       "      <td>2021-05-07 13:10:30</td>\n",
       "      <td>3078</td>\n",
       "      <td>22.400000</td>\n",
       "      <td>-73</td>\n",
       "      <td>[[10.9, 11.1, 11.2, 10.8, 12.0, 12.2, 12.7, 12...</td>\n",
       "      <td>True</td>\n",
       "      <td>1</td>\n",
       "    </tr>\n",
       "    <tr>\n",
       "      <th>1427</th>\n",
       "      <td>1427</td>\n",
       "      <td>2021-05-07 13:07:54</td>\n",
       "      <td>3078</td>\n",
       "      <td>21.799999</td>\n",
       "      <td>-82</td>\n",
       "      <td>[[10.8, 10.9, 10.7, 10.7, 11.7, 11.4, 11.2, 10...</td>\n",
       "      <td>True</td>\n",
       "      <td>2</td>\n",
       "    </tr>\n",
       "    <tr>\n",
       "      <th>...</th>\n",
       "      <td>...</td>\n",
       "      <td>...</td>\n",
       "      <td>...</td>\n",
       "      <td>...</td>\n",
       "      <td>...</td>\n",
       "      <td>...</td>\n",
       "      <td>...</td>\n",
       "      <td>...</td>\n",
       "    </tr>\n",
       "    <tr>\n",
       "      <th>9911</th>\n",
       "      <td>9911</td>\n",
       "      <td>2021-05-07 13:13:12</td>\n",
       "      <td>C088</td>\n",
       "      <td>23.100000</td>\n",
       "      <td>-72</td>\n",
       "      <td>[[10.6, 10.9, 12.0, 12.3, 13.5, 12.4, 12.8, 12...</td>\n",
       "      <td>True</td>\n",
       "      <td>2</td>\n",
       "    </tr>\n",
       "    <tr>\n",
       "      <th>4612</th>\n",
       "      <td>4612</td>\n",
       "      <td>2021-05-07 13:13:06</td>\n",
       "      <td>3078</td>\n",
       "      <td>23.100000</td>\n",
       "      <td>-78</td>\n",
       "      <td>[[10.7, 12.1, 12.1, 11.4, 11.6, 11.3, 12.3, 12...</td>\n",
       "      <td>True</td>\n",
       "      <td>2</td>\n",
       "    </tr>\n",
       "    <tr>\n",
       "      <th>5300</th>\n",
       "      <td>5300</td>\n",
       "      <td>2021-05-07 13:06:01</td>\n",
       "      <td>C088</td>\n",
       "      <td>21.200001</td>\n",
       "      <td>-66</td>\n",
       "      <td>[[11.5, 13.0, 12.4, 12.1, 13.0, 13.1, 12.6, 12...</td>\n",
       "      <td>True</td>\n",
       "      <td>3</td>\n",
       "    </tr>\n",
       "    <tr>\n",
       "      <th>5603</th>\n",
       "      <td>5603</td>\n",
       "      <td>2021-05-07 13:06:30</td>\n",
       "      <td>C088</td>\n",
       "      <td>21.299999</td>\n",
       "      <td>-63</td>\n",
       "      <td>[[12.0, 11.8, 12.6, 12.6, 13.3, 12.9, 13.6, 13...</td>\n",
       "      <td>True</td>\n",
       "      <td>3</td>\n",
       "    </tr>\n",
       "    <tr>\n",
       "      <th>3481</th>\n",
       "      <td>3481</td>\n",
       "      <td>2021-05-07 13:11:16</td>\n",
       "      <td>3078</td>\n",
       "      <td>22.600000</td>\n",
       "      <td>-78</td>\n",
       "      <td>[[11.3, 11.8, 12.1, 11.9, 12.4, 11.3, 12.6, 12...</td>\n",
       "      <td>True</td>\n",
       "      <td>3</td>\n",
       "    </tr>\n",
       "  </tbody>\n",
       "</table>\n",
       "<p>100 rows × 8 columns</p>\n",
       "</div>"
      ],
      "text/plain": [
       "      index           Timestamp Sensor ID  Room Temperature  RSSI  \\\n",
       "521     521 2021-05-07 13:06:24      3078         21.299999   -67   \n",
       "2940   2940 2021-05-07 13:10:22      3078         22.400000   -76   \n",
       "226     226 2021-05-07 13:05:55      3078         21.100000   -68   \n",
       "3030   3030 2021-05-07 13:10:30      3078         22.400000   -73   \n",
       "1427   1427 2021-05-07 13:07:54      3078         21.799999   -82   \n",
       "...     ...                 ...       ...               ...   ...   \n",
       "9911   9911 2021-05-07 13:13:12      C088         23.100000   -72   \n",
       "4612   4612 2021-05-07 13:13:06      3078         23.100000   -78   \n",
       "5300   5300 2021-05-07 13:06:01      C088         21.200001   -66   \n",
       "5603   5603 2021-05-07 13:06:30      C088         21.299999   -63   \n",
       "3481   3481 2021-05-07 13:11:16      3078         22.600000   -78   \n",
       "\n",
       "                                                   data  changed  label  \n",
       "521   [[12.0, 10.4, 11.1, 10.9, 10.9, 12.0, 11.6, 11...     True      0  \n",
       "2940  [[11.8, 10.3, 11.2, 11.8, 10.6, 11.3, 11.4, 11...     True      0  \n",
       "226   [[11.5, 10.5, 12.0, 12.5, 12.6, 13.0, 12.6, 12...     True      3  \n",
       "3030  [[10.9, 11.1, 11.2, 10.8, 12.0, 12.2, 12.7, 12...     True      1  \n",
       "1427  [[10.8, 10.9, 10.7, 10.7, 11.7, 11.4, 11.2, 10...     True      2  \n",
       "...                                                 ...      ...    ...  \n",
       "9911  [[10.6, 10.9, 12.0, 12.3, 13.5, 12.4, 12.8, 12...     True      2  \n",
       "4612  [[10.7, 12.1, 12.1, 11.4, 11.6, 11.3, 12.3, 12...     True      2  \n",
       "5300  [[11.5, 13.0, 12.4, 12.1, 13.0, 13.1, 12.6, 12...     True      3  \n",
       "5603  [[12.0, 11.8, 12.6, 12.6, 13.3, 12.9, 13.6, 13...     True      3  \n",
       "3481  [[11.3, 11.8, 12.1, 11.9, 12.4, 11.3, 12.6, 12...     True      3  \n",
       "\n",
       "[100 rows x 8 columns]"
      ]
     },
     "execution_count": 88,
     "metadata": {},
     "output_type": "execute_result"
    }
   ],
   "source": [
    "# Convert labels\n",
    "label_converter = { \n",
    "    'Human': 0,\n",
    "    'Several humans': 1, \n",
    "    'Non-human heat': 2, \n",
    "    'Ambigous heat': 3,\n",
    "    'No heat':  4\n",
    "}\n",
    "\n",
    "df['label'] = df['label'].apply(lambda x: label_converter[x])\n",
    "df.head(n=100)"
   ]
  },
  {
   "cell_type": "code",
   "execution_count": 96,
   "id": "0307c9f3",
   "metadata": {},
   "outputs": [
    {
     "name": "stdout",
     "output_type": "stream",
     "text": [
      "(200, 5)\n",
      "[[1 0 0 0 0]]\n",
      "(200, 32, 32, 1)\n"
     ]
    }
   ],
   "source": [
    "# Prepare the data\n",
    "y = df['label'].to_numpy()\n",
    "label_binarizer = LabelBinarizer()\n",
    "label_binarizer.fit(range(max(y)+1))\n",
    "y_onehot = label_binarizer.transform(y)\n",
    "\n",
    "X = np.array(df['data'].to_list())\n",
    "X = np.expand_dims(X, axis=3)\n",
    "print(y_onehot.shape)\n",
    "print(y_onehot[:1])\n",
    "assert np.all(np.sum(y_onehot, axis=1) == 1)\n",
    "print(X.shape)"
   ]
  },
  {
   "cell_type": "code",
   "execution_count": 97,
   "id": "d7f17967",
   "metadata": {},
   "outputs": [
    {
     "name": "stdout",
     "output_type": "stream",
     "text": [
      "(180, 32, 32, 1)\n",
      "(180, 5)\n",
      "(15, 32, 32, 1)\n",
      "(15, 5)\n",
      "[[0 0 0 0 1]]\n"
     ]
    }
   ],
   "source": [
    "# Create train / val / test split\n",
    "X_train, X_test, y_train, y_test = train_test_split(X, y_onehot, test_size=0.1, random_state=0)\n",
    "X_val, X_test, y_val, y_test = train_test_split(X_test, y_test, test_size=0.25, random_state=0)\n",
    "\n",
    "print(X_train.shape)\n",
    "print(y_train.shape)\n",
    "print(X_val.shape)\n",
    "print(y_val.shape)\n",
    "print(y_train[:1])"
   ]
  },
  {
   "cell_type": "code",
   "execution_count": 98,
   "id": "a1749ee8",
   "metadata": {},
   "outputs": [],
   "source": [
    "# Squeezenet Model\n",
    "\n",
    "bnmomemtum=0.9\n",
    "\n",
    "def fire(x, squeeze, expand):\n",
    "    y  = tf.keras.layers.Conv2D(filters=squeeze, kernel_size=1, activation='relu', padding='same')(x)\n",
    "    y = tf.keras.layers.BatchNormalization(momentum=bnmomemtum)(y)\n",
    "    y1 = tf.keras.layers.Conv2D(filters=expand//2, kernel_size=1, activation='relu', padding='same')(y)\n",
    "    y1 = tf.keras.layers.BatchNormalization(momentum=bnmomemtum)(y1)\n",
    "    y3 = tf.keras.layers.Conv2D(filters=expand//2, kernel_size=3, activation='relu', padding='same')(y)\n",
    "    y3 = tf.keras.layers.BatchNormalization(momentum=bnmomemtum)(y3)\n",
    "    return tf.keras.layers.concatenate([y1, y3])\n",
    "\n",
    "def fire_module(squeeze, expand):\n",
    "    return lambda x: fire(x, squeeze, expand)\n",
    "\n",
    "x = tf.keras.layers.Input(shape=[*IMAGE_SIZE,1]) # input is 32x32 pixels RGB\n",
    "y = tf.keras.layers.Conv2D(kernel_size=3, filters=32, padding='same', use_bias=True, activation='relu')(x)\n",
    "y = tf.keras.layers.GlobalAveragePooling2D()(y)\n",
    "y = tf.keras.layers.Dense(64)(y)\n",
    "y = tf.keras.layers.Dense(32)(y)\n",
    "y = tf.keras.layers.Dropout(0.2)(y)\n",
    "y = tf.keras.layers.Dense(5, activation='softmax')(y)\n",
    "\n",
    "model = tf.keras.Model(x, y)"
   ]
  },
  {
   "cell_type": "code",
   "execution_count": 100,
   "id": "e4fd23c1",
   "metadata": {},
   "outputs": [
    {
     "name": "stdout",
     "output_type": "stream",
     "text": [
      "Model: \"model_4\"\n",
      "_________________________________________________________________\n",
      "Layer (type)                 Output Shape              Param #   \n",
      "=================================================================\n",
      "input_5 (InputLayer)         [(None, 32, 32, 1)]       0         \n",
      "_________________________________________________________________\n",
      "conv2d_4 (Conv2D)            (None, 32, 32, 32)        320       \n",
      "_________________________________________________________________\n",
      "global_average_pooling2d_4 ( (None, 32)                0         \n",
      "_________________________________________________________________\n",
      "dense_12 (Dense)             (None, 64)                2112      \n",
      "_________________________________________________________________\n",
      "dense_13 (Dense)             (None, 32)                2080      \n",
      "_________________________________________________________________\n",
      "dropout_4 (Dropout)          (None, 32)                0         \n",
      "_________________________________________________________________\n",
      "dense_14 (Dense)             (None, 5)                 165       \n",
      "=================================================================\n",
      "Total params: 4,677\n",
      "Trainable params: 4,677\n",
      "Non-trainable params: 0\n",
      "_________________________________________________________________\n"
     ]
    }
   ],
   "source": [
    "model.compile(\n",
    "optimizer='adam',\n",
    "loss= 'categorical_crossentropy',\n",
    "metrics=['accuracy'])\n",
    "model.build(input_shape=(None, 32, 32, 5))\n",
    "model.summary()"
   ]
  },
  {
   "cell_type": "code",
   "execution_count": 101,
   "id": "0b81f99b",
   "metadata": {},
   "outputs": [
    {
     "name": "stdout",
     "output_type": "stream",
     "text": [
      "Epoch 1/30\n",
      "12/12 [==============================] - 1s 29ms/step - loss: 2.4561 - accuracy: 0.3333 - val_loss: 1.4148 - val_accuracy: 0.3333\n",
      "Epoch 2/30\n",
      "12/12 [==============================] - 0s 18ms/step - loss: 1.5652 - accuracy: 0.3833 - val_loss: 1.2626 - val_accuracy: 0.3333\n",
      "Epoch 3/30\n",
      "12/12 [==============================] - 0s 12ms/step - loss: 1.5315 - accuracy: 0.3389 - val_loss: 1.3155 - val_accuracy: 0.3333\n",
      "Epoch 4/30\n",
      "12/12 [==============================] - 0s 11ms/step - loss: 1.4622 - accuracy: 0.3500 - val_loss: 1.2817 - val_accuracy: 0.3333\n",
      "Epoch 5/30\n",
      "12/12 [==============================] - 0s 10ms/step - loss: 1.4646 - accuracy: 0.3333 - val_loss: 1.3398 - val_accuracy: 0.3333\n",
      "Epoch 6/30\n",
      "12/12 [==============================] - 0s 10ms/step - loss: 1.4442 - accuracy: 0.3833 - val_loss: 1.3104 - val_accuracy: 0.3333\n",
      "Epoch 7/30\n",
      "12/12 [==============================] - 0s 10ms/step - loss: 1.4452 - accuracy: 0.4000 - val_loss: 1.3342 - val_accuracy: 0.3333\n",
      "Epoch 8/30\n",
      "12/12 [==============================] - 0s 10ms/step - loss: 1.4563 - accuracy: 0.3611 - val_loss: 1.3152 - val_accuracy: 0.3333\n",
      "Epoch 9/30\n",
      "12/12 [==============================] - 0s 10ms/step - loss: 1.4658 - accuracy: 0.3278 - val_loss: 1.2628 - val_accuracy: 0.3333\n",
      "Epoch 10/30\n",
      "12/12 [==============================] - 0s 10ms/step - loss: 1.4673 - accuracy: 0.3833 - val_loss: 1.3421 - val_accuracy: 0.3333\n",
      "Epoch 11/30\n",
      "12/12 [==============================] - 0s 11ms/step - loss: 1.4382 - accuracy: 0.4000 - val_loss: 1.3315 - val_accuracy: 0.3333\n",
      "Epoch 12/30\n",
      "12/12 [==============================] - 0s 11ms/step - loss: 1.4376 - accuracy: 0.3778 - val_loss: 1.3110 - val_accuracy: 0.3333\n",
      "Epoch 13/30\n",
      "12/12 [==============================] - 0s 10ms/step - loss: 1.4535 - accuracy: 0.3722 - val_loss: 1.3209 - val_accuracy: 0.3333\n",
      "Epoch 14/30\n",
      "12/12 [==============================] - 0s 11ms/step - loss: 1.4234 - accuracy: 0.3722 - val_loss: 1.2969 - val_accuracy: 0.3333\n",
      "Epoch 15/30\n",
      "12/12 [==============================] - 0s 12ms/step - loss: 1.4251 - accuracy: 0.3667 - val_loss: 1.3198 - val_accuracy: 0.3333\n",
      "Epoch 16/30\n",
      "12/12 [==============================] - 0s 11ms/step - loss: 1.4381 - accuracy: 0.3944 - val_loss: 1.3300 - val_accuracy: 0.3333\n",
      "Epoch 17/30\n",
      "12/12 [==============================] - 0s 10ms/step - loss: 1.4276 - accuracy: 0.3889 - val_loss: 1.2662 - val_accuracy: 0.3333\n",
      "Epoch 18/30\n",
      "12/12 [==============================] - 0s 10ms/step - loss: 1.4237 - accuracy: 0.3944 - val_loss: 1.3067 - val_accuracy: 0.3333\n",
      "Epoch 19/30\n",
      "12/12 [==============================] - 0s 11ms/step - loss: 1.4142 - accuracy: 0.3833 - val_loss: 1.2892 - val_accuracy: 0.3333\n",
      "Epoch 20/30\n",
      "12/12 [==============================] - 0s 11ms/step - loss: 1.4228 - accuracy: 0.3556 - val_loss: 1.2975 - val_accuracy: 0.3333\n",
      "Epoch 21/30\n",
      "12/12 [==============================] - 0s 10ms/step - loss: 1.4168 - accuracy: 0.3944 - val_loss: 1.2994 - val_accuracy: 0.3333\n",
      "Epoch 22/30\n",
      "12/12 [==============================] - 0s 10ms/step - loss: 1.4251 - accuracy: 0.3833 - val_loss: 1.3213 - val_accuracy: 0.3333\n",
      "Epoch 23/30\n",
      "12/12 [==============================] - 0s 10ms/step - loss: 1.4197 - accuracy: 0.4056 - val_loss: 1.2871 - val_accuracy: 0.3333\n",
      "Epoch 24/30\n",
      "12/12 [==============================] - 0s 10ms/step - loss: 1.4290 - accuracy: 0.3889 - val_loss: 1.2923 - val_accuracy: 0.3333\n",
      "Epoch 25/30\n",
      "12/12 [==============================] - 0s 10ms/step - loss: 1.4102 - accuracy: 0.3944 - val_loss: 1.3152 - val_accuracy: 0.3333\n",
      "Epoch 26/30\n",
      "12/12 [==============================] - 0s 10ms/step - loss: 1.4260 - accuracy: 0.3889 - val_loss: 1.2782 - val_accuracy: 0.3333\n",
      "Epoch 27/30\n",
      "12/12 [==============================] - 0s 10ms/step - loss: 1.4145 - accuracy: 0.4111 - val_loss: 1.2755 - val_accuracy: 0.3333\n",
      "Epoch 28/30\n",
      "12/12 [==============================] - 0s 10ms/step - loss: 1.4311 - accuracy: 0.3778 - val_loss: 1.3546 - val_accuracy: 0.3333\n",
      "Epoch 29/30\n",
      "12/12 [==============================] - 0s 10ms/step - loss: 1.4292 - accuracy: 0.3944 - val_loss: 1.3200 - val_accuracy: 0.3333\n",
      "Epoch 30/30\n",
      "12/12 [==============================] - 0s 10ms/step - loss: 1.4302 - accuracy: 0.4000 - val_loss: 1.2802 - val_accuracy: 0.3333\n"
     ]
    },
    {
     "data": {
      "image/png": "[encoded data removed]",
      "text/plain": [
       "<Figure size 432x288 with 1 Axes>"
      ]
     },
     "metadata": {
      "needs_background": "light"
     },
     "output_type": "display_data"
    }
   ],
   "source": [
    "# Fit the model\n",
    "EPOCHS = 30\n",
    "BATCH_SIZE = 16\n",
    "history = model.fit(X_train, y_train, epochs=EPOCHS, batch_size=BATCH_SIZE, validation_data=(X_val, y_val))\n",
    "\n",
    "\n",
    "train_loss = history.history['loss']\n",
    "val_loss = history.history['val_loss']\n",
    "\n",
    "epochs = range(1, len(train_loss) + 1)\n",
    "\n",
    "# Plot training history\n",
    "plt.plot(epochs, train_loss, 'g.', label='Training loss')\n",
    "plt.plot(epochs, val_loss, 'b', label='Validation loss')\n",
    "plt.title('Training and validation loss')\n",
    "plt.xlabel('Epochs')\n",
    "plt.ylabel('Loss')\n",
    "plt.legend()\n",
    "plt.show()"
   ]
  },
  {
   "cell_type": "code",
   "execution_count": 102,
   "id": "2c7c3f42",
   "metadata": {},
   "outputs": [
    {
     "name": "stdout",
     "output_type": "stream",
     "text": [
      "1 conv2d_4 (None, 32, 32, 32)\n",
      "[<keras.engine.functional.Functional object at 0x000002A97DA6F2B0>]\n",
      "WARNING:tensorflow:Compiled the loaded model, but the compiled metrics have yet to be built. `model.compile_metrics` will be empty until you train or evaluate the model.\n",
      "INFO:tensorflow:Assets written to: layer_0\\assets\n"
     ]
    }
   ],
   "source": [
    "layer_list = get_feature_map_list(model)\n",
    "print(layer_list)\n",
    "\n",
    "for i in range(len(layer_list)):\n",
    "    layer_list[i].save(f\"layer_{i}\")"
   ]
  },
  {
   "cell_type": "code",
   "execution_count": 103,
   "id": "a508986a",
   "metadata": {},
   "outputs": [
    {
     "name": "stdout",
     "output_type": "stream",
     "text": [
      "(200, 198)\n",
      "[[1.37223633e+01 1.36000000e+01 1.41247853e+00 1.93000000e+01\n",
      "  9.80000000e+00 1.40517000e+04 7.15011656e-01 0.00000000e+00\n",
      "  0.00000000e+00 1.49491891e-01 8.17718327e-01 0.00000000e+00\n",
      "  4.40455824e-01 0.00000000e+00 1.00603444e-03 1.66070892e-03\n",
      "  3.48639518e-01 6.61285102e-01 2.87988130e-02 0.00000000e+00\n",
      "  1.18140161e+00 2.82847486e-03 5.15798405e-02 7.84609318e-01\n",
      "  9.37332064e-02 2.28866818e-03 7.34356642e-02 0.00000000e+00\n",
      "  7.14292973e-02 4.15567163e-04 0.00000000e+00 5.53556625e-03\n",
      "  4.53765281e-02 9.10370886e-01 0.00000000e+00 1.90507658e-02\n",
      "  0.00000000e+00 8.52914825e-02 5.91847599e-01 0.00000000e+00\n",
      "  0.00000000e+00 0.00000000e+00 8.27529311e-01 0.00000000e+00\n",
      "  4.57392097e-01 0.00000000e+00 0.00000000e+00 0.00000000e+00\n",
      "  2.88592100e-01 6.38815343e-01 0.00000000e+00 0.00000000e+00\n",
      "  1.16766357e+00 0.00000000e+00 0.00000000e+00 7.49710917e-01\n",
      "  2.33299397e-02 0.00000000e+00 0.00000000e+00 0.00000000e+00\n",
      "  0.00000000e+00 0.00000000e+00 0.00000000e+00 0.00000000e+00\n",
      "  0.00000000e+00 8.66286695e-01 0.00000000e+00 0.00000000e+00\n",
      "  0.00000000e+00 0.00000000e+00 7.04023659e-01 0.00000000e+00\n",
      "  0.00000000e+00 4.73764122e-01 3.27819824e-01 0.00000000e+00\n",
      "  1.89422503e-01 0.00000000e+00 3.21764983e-02 5.31167574e-02\n",
      "  4.47585016e-01 4.77112532e-01 1.63064703e-01 0.00000000e+00\n",
      "  4.32411492e-01 4.53275517e-02 2.94537187e-01 2.45449007e-01\n",
      "  1.44873738e-01 7.32016191e-02 2.94476271e-01 0.00000000e+00\n",
      "  4.01869684e-01 1.16832126e-02 0.00000000e+00 3.43438238e-02\n",
      "  1.60069823e-01 4.64359254e-01 0.00000000e+00 9.37691107e-02\n",
      "  0.00000000e+00 3.61655265e-01 5.51792860e+00 0.00000000e+00\n",
      "  0.00000000e+00 3.18633437e+00 3.76561952e+00 0.00000000e+00\n",
      "  1.16178453e+00 0.00000000e+00 1.03017926e+00 1.70056593e+00\n",
      "  3.31074309e+00 3.78443956e+00 1.69596374e+00 0.00000000e+00\n",
      "  3.71279597e+00 1.35357869e+00 2.18986845e+00 2.38856292e+00\n",
      "  1.03585458e+00 2.34359622e+00 2.17045522e+00 0.00000000e+00\n",
      "  2.55674982e+00 3.69944751e-01 0.00000000e+00 3.97970378e-01\n",
      "  1.49840140e+00 3.49034643e+00 0.00000000e+00 8.70270848e-01\n",
      "  0.00000000e+00 2.95651531e+00 0.00000000e+00 0.00000000e+00\n",
      "  0.00000000e+00 0.00000000e+00 0.00000000e+00 0.00000000e+00\n",
      "  0.00000000e+00 0.00000000e+00 0.00000000e+00 0.00000000e+00\n",
      "  0.00000000e+00 0.00000000e+00 0.00000000e+00 0.00000000e+00\n",
      "  0.00000000e+00 0.00000000e+00 0.00000000e+00 0.00000000e+00\n",
      "  0.00000000e+00 0.00000000e+00 0.00000000e+00 0.00000000e+00\n",
      "  0.00000000e+00 0.00000000e+00 0.00000000e+00 0.00000000e+00\n",
      "  0.00000000e+00 0.00000000e+00 0.00000000e+00 0.00000000e+00\n",
      "  0.00000000e+00 0.00000000e+00 7.32171936e+02 0.00000000e+00\n",
      "  0.00000000e+00 1.53079697e+02 8.37343567e+02 0.00000000e+00\n",
      "  4.51026764e+02 0.00000000e+00 1.03017926e+00 1.70056593e+00\n",
      "  3.57006866e+02 6.77155945e+02 2.94899845e+01 0.00000000e+00\n",
      "  1.20975525e+03 2.89635825e+00 5.28177567e+01 8.03439941e+02\n",
      "  9.59828033e+01 2.34359622e+00 7.51981201e+01 0.00000000e+00\n",
      "  7.31436005e+01 4.25540775e-01 0.00000000e+00 5.66841984e+00\n",
      "  4.64655647e+01 9.32219788e+02 0.00000000e+00 1.95079842e+01\n",
      "  0.00000000e+00 8.73384781e+01]]\n"
     ]
    }
   ],
   "source": [
    "# Calculate the feature map mean\n",
    "feature_map_list = []\n",
    "\n",
    "im_mean = np.mean(X, axis=(1,2))\n",
    "im_median = np.median(X, axis=(1,2))\n",
    "im_std = np.std(X, axis=(1,2))\n",
    "im_max = np.max(X, axis=(1,2))\n",
    "im_min = np.min(X, axis=(1,2))\n",
    "im_sum = np.sum(X, axis=(1,2))\n",
    "\n",
    "feature_map_list.append(np.concatenate([im_mean,\n",
    "                                           im_median,\n",
    "                                           im_std,\n",
    "                                           im_max,\n",
    "                                           im_min,\n",
    "                                           im_sum], axis=1))\n",
    "\n",
    "\n",
    "\n",
    "# Print the shape of the feature maps\n",
    "for i in range(len(layer_list)):\n",
    "    feature_map = layer_list[i].predict(X)\n",
    "    feature_map_mean = np.mean(feature_map, axis=(1,2))\n",
    "    feature_map_median = np.median(feature_map, axis=(1,2))\n",
    "    feature_map_std = np.std(feature_map, axis=(1,2))\n",
    "    feature_map_max = np.max(feature_map, axis=(1,2))\n",
    "    feature_map_min = np.min(feature_map, axis=(1,2))\n",
    "    feature_map_sum = np.sum(feature_map, axis=(1,2))\n",
    "    feature_map_features = np.concatenate([feature_map_mean,\n",
    "                                           feature_map_median,\n",
    "                                           feature_map_std,\n",
    "                                           feature_map_max, \n",
    "                                           feature_map_min, \n",
    "                                           feature_map_sum], axis=1)\n",
    "    feature_map_list.append(feature_map_features)\n",
    "    \n",
    "feature_map_means = np.concatenate(feature_map_list, axis=1)\n",
    "print(feature_map_means.shape)\n",
    "print(feature_map_means[:1])"
   ]
  },
  {
   "cell_type": "code",
   "execution_count": 104,
   "id": "8b5fbbe7",
   "metadata": {},
   "outputs": [],
   "source": [
    "df_train_expanded = pd.DataFrame(np.concatenate([df.head(X.shape[0]), feature_map_means], axis=1))"
   ]
  },
  {
   "cell_type": "code",
   "execution_count": 105,
   "id": "7f748a40",
   "metadata": {},
   "outputs": [
    {
     "name": "stdout",
     "output_type": "stream",
     "text": [
      "(200,)\n",
      "(200, 198)\n"
     ]
    }
   ],
   "source": [
    "# Prepare the data for gradient boosting\n",
    "y_clf = df_train_expanded[7].to_numpy().astype(int)\n",
    "X_clf= df_train_expanded.iloc[:,8:].to_numpy()\n",
    "print(y_clf.shape)\n",
    "print(X_clf.shape)"
   ]
  },
  {
   "cell_type": "code",
   "execution_count": 107,
   "id": "a0a894dd",
   "metadata": {},
   "outputs": [
    {
     "name": "stdout",
     "output_type": "stream",
     "text": [
      "(180, 198)\n",
      "(180,)\n",
      "(20, 198)\n",
      "(20,)\n",
      "[4]\n"
     ]
    }
   ],
   "source": [
    "# Create train / val / test split\n",
    "X_train_clf, X_test_clf, y_train_clf, y_test_clf = train_test_split(X_clf, y_clf, test_size=0.1, random_state=0)\n",
    "# X_val_clf, X_test_clf, y_val_clf, y_test_clf = train_test_split(X_test_clf, y_test_clf, test_size=0.3, random_state=0)\n",
    "\n",
    "print(X_train_clf.shape)\n",
    "print(y_train_clf.shape)\n",
    "print(X_test_clf.shape)\n",
    "print(y_test_clf.shape)\n",
    "print(y_train_clf[:1])"
   ]
  },
  {
   "cell_type": "code",
   "execution_count": 108,
   "id": "0fb08848",
   "metadata": {},
   "outputs": [
    {
     "data": {
      "text/plain": [
       "0.4"
      ]
     },
     "execution_count": 108,
     "metadata": {},
     "output_type": "execute_result"
    }
   ],
   "source": [
    "# Train the GBT\n",
    "clf = GradientBoostingClassifier(n_estimators=300, learning_rate=1.0, max_depth=3, random_state=0).fit(X_train_clf, y_train_clf)\n",
    "\n",
    "# Mean accuracy\n",
    "clf.score(X_test_clf, y_test_clf)# Train the GBT"
   ]
  },
  {
   "cell_type": "code",
   "execution_count": 109,
   "id": "e6227d58",
   "metadata": {},
   "outputs": [],
   "source": [
    "# HP-Tuning\n",
    "NUM_FEATURES = 198\n",
    "\n",
    "def build_hypermodel(hp):\n",
    "    \n",
    "    n_estimators = hp.Int(\"n_estimators\", 10, 300)\n",
    "    learning_rate = hp.Float(\"learning_rate\", 0.1, 1.0)\n",
    "    max_depth = hp.Int(\"max_depth\", 1, 8)\n",
    "    max_features = hp.Int(\"max_features\", 1, NUM_FEATURES)\n",
    "    \n",
    "    return GradientBoostingClassifier(n_estimators=n_estimators,\n",
    "                                      learning_rate=learning_rate, \n",
    "                                      max_depth=max_depth,\n",
    "                                      max_features=max_features,\n",
    "                                      validation_fraction=0.2,\n",
    "                                      random_state=0)"
   ]
  },
  {
   "cell_type": "code",
   "execution_count": 110,
   "id": "faf14f27",
   "metadata": {},
   "outputs": [
    {
     "name": "stdout",
     "output_type": "stream",
     "text": [
      "Trial 41 Complete [00h 00m 15s]\n",
      "score: 0.2891082251082251\n",
      "\n",
      "Best score So Far: 0.3476017316017316\n",
      "Total elapsed time: 00h 10m 55s\n",
      "INFO:tensorflow:Oracle triggered exit\n",
      "Best model test score: 0.35\n",
      "Best model params: {'ccp_alpha': 0.0, 'criterion': 'friedman_mse', 'init': None, 'learning_rate': 0.6356198890804754, 'loss': 'deviance', 'max_depth': 2, 'max_features': 144, 'max_leaf_nodes': None, 'min_impurity_decrease': 0.0, 'min_samples_leaf': 1, 'min_samples_split': 2, 'min_weight_fraction_leaf': 0.0, 'n_estimators': 203, 'n_iter_no_change': None, 'random_state': 0, 'subsample': 1.0, 'tol': 0.0001, 'validation_fraction': 0.2, 'verbose': 0, 'warm_start': False}\n"
     ]
    }
   ],
   "source": [
    "MAX_TRIALS = 40\n",
    "\n",
    "# TODO: Use maybe other metrices!\n",
    "\n",
    "tuner = kt.tuners.SklearnTuner(\n",
    "    oracle=kt.oracles.BayesianOptimizationOracle(\n",
    "        objective=kt.Objective('score', 'max'),\n",
    "        max_trials=MAX_TRIALS),\n",
    "    hypermodel=build_hypermodel,\n",
    "    scoring=skl.metrics.make_scorer(skl.metrics.balanced_accuracy_score),\n",
    "    metrics=[skl.metrics.accuracy_score, balanced_accuracy_score],\n",
    "    cv=skl.model_selection.StratifiedKFold(5),\n",
    "    directory='.',\n",
    "    project_name='hp_tuning')\n",
    "\n",
    "\n",
    "\n",
    "tuner.search(X_train_clf, y_train_clf)\n",
    "\n",
    "best_model = tuner.get_best_models(num_models=1)[0]\n",
    "\n",
    "print(f\"Best model test score: {best_model.score(X_test_clf, y_test_clf)}\")\n",
    "\n",
    "print(f\"Best model params: {best_model.get_params()}\")"
   ]
  },
  {
   "cell_type": "code",
   "execution_count": 111,
   "id": "ba8b7e84",
   "metadata": {},
   "outputs": [
    {
     "name": "stdout",
     "output_type": "stream",
     "text": [
      "GBT size in kiB: 930.3837890625\n",
      "Conv layer size in kiB: 4.0\n",
      "Total size in kiB: 934.3837890625\n"
     ]
    }
   ],
   "source": [
    "get_memory_size(best_model, layer_list, fname=\"best\")"
   ]
  },
  {
   "cell_type": "code",
   "execution_count": 112,
   "id": "66280105",
   "metadata": {},
   "outputs": [
    {
     "name": "stdout",
     "output_type": "stream",
     "text": [
      "Ground Truth: [0 2 3 3 0 0 2 3 0 2 2 3 2 0 2 0 0 2 0 3]\n",
      "Prediction:   [2 0 2 2 3 0 2 2 0 0 2 2 2 0 2 2 2 0 2 0]\n"
     ]
    }
   ],
   "source": [
    "# Compare predictions and ground truth\n",
    "pred = best_model.predict(X_test_clf)\n",
    "\n",
    "print(f\"Ground Truth: {y_test_clf}\")\n",
    "print(f\"Prediction:   {pred}\")"
   ]
  },
  {
   "cell_type": "code",
   "execution_count": null,
   "id": "2484434e",
   "metadata": {},
   "outputs": [],
   "source": []
  }
 ],
 "metadata": {
  "kernelspec": {
   "display_name": "Python 3 (ipykernel)",
   "language": "python",
   "name": "python3"
  },
  "language_info": {
   "codemirror_mode": {
    "name": "ipython",
    "version": 3
   },
   "file_extension": ".py",
   "mimetype": "text/x-python",
   "name": "python",
   "nbconvert_exporter": "python",
   "pygments_lexer": "ipython3",
   "version": "3.8.12"
  }
 },
 "nbformat": 4,
 "nbformat_minor": 5
}
