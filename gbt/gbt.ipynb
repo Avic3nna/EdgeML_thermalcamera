{
 "cells": [
  {
   "cell_type": "markdown",
   "id": "045401df",
   "metadata": {},
   "source": [
    "# Gradient Boosted Trees / Gradient Boosted Classifier (GBT)"
   ]
  },
  {
   "cell_type": "code",
   "execution_count": 1,
   "id": "37a5c481",
   "metadata": {},
   "outputs": [],
   "source": [
    "# Imports\n",
    "import tensorflow as tf\n",
    "import keras_tuner as kt\n",
    "import pandas as pd\n",
    "import numpy as np\n",
    "import matplotlib.pyplot as plt\n",
    "\n",
    "import sklearn as skl\n",
    "from sklearn.model_selection import train_test_split\n",
    "from sklearn.ensemble import GradientBoostingClassifier\n",
    "from sklearn.svm import SVC\n",
    "from sklearn.metrics import *\n",
    "from sklearn.preprocessing import *\n",
    "\n",
    "from skl2onnx import convert_sklearn\n",
    "from skl2onnx.common.data_types import FloatTensorType\n",
    "from skl2onnx import to_onnx\n",
    "from skl2onnx import update_registered_converter\n",
    "from skl2onnx.common.data_types import guess_numpy_type\n",
    "from skl2onnx.algebra.onnx_ops import (\n",
    "    OnnxSub, OnnxMatMul, OnnxGemm)\n",
    "from skl2onnx import to_onnx, get_model_alias\n",
    "import sclblonnx as so\n",
    "from mlprodict.onnxrt import OnnxInference\n",
    "from onnxruntime import InferenceSession\n",
    "import onnx_graphsurgeon as gs\n",
    "import tf2onnx\n",
    "\n",
    "from onnx import *\n",
    "from onnx import version_converter\n",
    "from onnx_tf.backend import prepare\n",
    "\n",
    "import pickle\n",
    "import sys\n",
    "import joblib\n",
    "import os"
   ]
  },
  {
   "cell_type": "code",
   "execution_count": 2,
   "id": "24d160a2",
   "metadata": {},
   "outputs": [],
   "source": [
    "# Constants\n",
    "\n",
    "# Image size\n",
    "IMAGE_SIZE = [32, 32]"
   ]
  },
  {
   "cell_type": "markdown",
   "id": "6eb778b2",
   "metadata": {},
   "source": [
    "## Step 02: Data Understanding"
   ]
  },
  {
   "cell_type": "code",
   "execution_count": 3,
   "id": "e7966571",
   "metadata": {},
   "outputs": [],
   "source": [
    "# Read in the dataframe with the labelled data\n",
    "df = pd.read_json('../data/labelled_data/whole_data_1637521796.json', orient='records')"
   ]
  },
  {
   "cell_type": "code",
   "execution_count": 4,
   "id": "afcc543e",
   "metadata": {},
   "outputs": [
    {
     "name": "stdout",
     "output_type": "stream",
     "text": [
      "Amount of samples: 200\n"
     ]
    },
    {
     "data": {
      "text/html": [
       "<div>\n",
       "<style scoped>\n",
       "    .dataframe tbody tr th:only-of-type {\n",
       "        vertical-align: middle;\n",
       "    }\n",
       "\n",
       "    .dataframe tbody tr th {\n",
       "        vertical-align: top;\n",
       "    }\n",
       "\n",
       "    .dataframe thead th {\n",
       "        text-align: right;\n",
       "    }\n",
       "</style>\n",
       "<table border=\"1\" class=\"dataframe\">\n",
       "  <thead>\n",
       "    <tr style=\"text-align: right;\">\n",
       "      <th></th>\n",
       "      <th>index</th>\n",
       "      <th>Timestamp</th>\n",
       "      <th>Sensor ID</th>\n",
       "      <th>Room Temperature</th>\n",
       "      <th>RSSI</th>\n",
       "      <th>data</th>\n",
       "      <th>changed</th>\n",
       "      <th>label</th>\n",
       "    </tr>\n",
       "  </thead>\n",
       "  <tbody>\n",
       "    <tr>\n",
       "      <th>521</th>\n",
       "      <td>521</td>\n",
       "      <td>2021-05-07 13:06:24</td>\n",
       "      <td>3078</td>\n",
       "      <td>21.299999</td>\n",
       "      <td>-67</td>\n",
       "      <td>[[12.0, 10.4, 11.1, 10.9, 10.9, 12.0, 11.6, 11...</td>\n",
       "      <td>True</td>\n",
       "      <td>Human</td>\n",
       "    </tr>\n",
       "    <tr>\n",
       "      <th>2940</th>\n",
       "      <td>2940</td>\n",
       "      <td>2021-05-07 13:10:22</td>\n",
       "      <td>3078</td>\n",
       "      <td>22.400000</td>\n",
       "      <td>-76</td>\n",
       "      <td>[[11.8, 10.3, 11.2, 11.8, 10.6, 11.3, 11.4, 11...</td>\n",
       "      <td>True</td>\n",
       "      <td>Human</td>\n",
       "    </tr>\n",
       "    <tr>\n",
       "      <th>226</th>\n",
       "      <td>226</td>\n",
       "      <td>2021-05-07 13:05:55</td>\n",
       "      <td>3078</td>\n",
       "      <td>21.100000</td>\n",
       "      <td>-68</td>\n",
       "      <td>[[11.5, 10.5, 12.0, 12.5, 12.6, 13.0, 12.6, 12...</td>\n",
       "      <td>True</td>\n",
       "      <td>Ambigous heat</td>\n",
       "    </tr>\n",
       "  </tbody>\n",
       "</table>\n",
       "</div>"
      ],
      "text/plain": [
       "      index           Timestamp Sensor ID  Room Temperature  RSSI  \\\n",
       "521     521 2021-05-07 13:06:24      3078         21.299999   -67   \n",
       "2940   2940 2021-05-07 13:10:22      3078         22.400000   -76   \n",
       "226     226 2021-05-07 13:05:55      3078         21.100000   -68   \n",
       "\n",
       "                                                   data  changed  \\\n",
       "521   [[12.0, 10.4, 11.1, 10.9, 10.9, 12.0, 11.6, 11...     True   \n",
       "2940  [[11.8, 10.3, 11.2, 11.8, 10.6, 11.3, 11.4, 11...     True   \n",
       "226   [[11.5, 10.5, 12.0, 12.5, 12.6, 13.0, 12.6, 12...     True   \n",
       "\n",
       "              label  \n",
       "521           Human  \n",
       "2940          Human  \n",
       "226   Ambigous heat  "
      ]
     },
     "execution_count": 4,
     "metadata": {},
     "output_type": "execute_result"
    }
   ],
   "source": [
    "# Show amount of samples and the first data samples\n",
    "print(\"Amount of samples:\", df.shape[0])\n",
    "df.head(n=3)"
   ]
  },
  {
   "cell_type": "markdown",
   "id": "03728667",
   "metadata": {},
   "source": [
    "## Step 03: Data Preparation"
   ]
  },
  {
   "cell_type": "markdown",
   "id": "dc89acfd",
   "metadata": {},
   "source": [
    "## Binary Classification"
   ]
  },
  {
   "cell_type": "markdown",
   "id": "446e50ca",
   "metadata": {},
   "source": [
    "### Data Preparation"
   ]
  },
  {
   "cell_type": "code",
   "execution_count": 5,
   "id": "f08c095b",
   "metadata": {},
   "outputs": [
    {
     "data": {
      "text/html": [
       "<div>\n",
       "<style scoped>\n",
       "    .dataframe tbody tr th:only-of-type {\n",
       "        vertical-align: middle;\n",
       "    }\n",
       "\n",
       "    .dataframe tbody tr th {\n",
       "        vertical-align: top;\n",
       "    }\n",
       "\n",
       "    .dataframe thead th {\n",
       "        text-align: right;\n",
       "    }\n",
       "</style>\n",
       "<table border=\"1\" class=\"dataframe\">\n",
       "  <thead>\n",
       "    <tr style=\"text-align: right;\">\n",
       "      <th></th>\n",
       "      <th>index</th>\n",
       "      <th>Timestamp</th>\n",
       "      <th>Sensor ID</th>\n",
       "      <th>Room Temperature</th>\n",
       "      <th>RSSI</th>\n",
       "      <th>data</th>\n",
       "      <th>changed</th>\n",
       "      <th>label</th>\n",
       "    </tr>\n",
       "  </thead>\n",
       "  <tbody>\n",
       "    <tr>\n",
       "      <th>521</th>\n",
       "      <td>521</td>\n",
       "      <td>2021-05-07 13:06:24</td>\n",
       "      <td>3078</td>\n",
       "      <td>21.299999</td>\n",
       "      <td>-67</td>\n",
       "      <td>[[12.0, 10.4, 11.1, 10.9, 10.9, 12.0, 11.6, 11...</td>\n",
       "      <td>True</td>\n",
       "      <td>1</td>\n",
       "    </tr>\n",
       "    <tr>\n",
       "      <th>2940</th>\n",
       "      <td>2940</td>\n",
       "      <td>2021-05-07 13:10:22</td>\n",
       "      <td>3078</td>\n",
       "      <td>22.400000</td>\n",
       "      <td>-76</td>\n",
       "      <td>[[11.8, 10.3, 11.2, 11.8, 10.6, 11.3, 11.4, 11...</td>\n",
       "      <td>True</td>\n",
       "      <td>1</td>\n",
       "    </tr>\n",
       "    <tr>\n",
       "      <th>226</th>\n",
       "      <td>226</td>\n",
       "      <td>2021-05-07 13:05:55</td>\n",
       "      <td>3078</td>\n",
       "      <td>21.100000</td>\n",
       "      <td>-68</td>\n",
       "      <td>[[11.5, 10.5, 12.0, 12.5, 12.6, 13.0, 12.6, 12...</td>\n",
       "      <td>True</td>\n",
       "      <td>0</td>\n",
       "    </tr>\n",
       "  </tbody>\n",
       "</table>\n",
       "</div>"
      ],
      "text/plain": [
       "      index           Timestamp Sensor ID  Room Temperature  RSSI  \\\n",
       "521     521 2021-05-07 13:06:24      3078         21.299999   -67   \n",
       "2940   2940 2021-05-07 13:10:22      3078         22.400000   -76   \n",
       "226     226 2021-05-07 13:05:55      3078         21.100000   -68   \n",
       "\n",
       "                                                   data  changed  label  \n",
       "521   [[12.0, 10.4, 11.1, 10.9, 10.9, 12.0, 11.6, 11...     True      1  \n",
       "2940  [[11.8, 10.3, 11.2, 11.8, 10.6, 11.3, 11.4, 11...     True      1  \n",
       "226   [[11.5, 10.5, 12.0, 12.5, 12.6, 13.0, 12.6, 12...     True      0  "
      ]
     },
     "execution_count": 5,
     "metadata": {},
     "output_type": "execute_result"
    }
   ],
   "source": [
    "# Convert multilclass labels to binary labels\n",
    "binary_label_converter = { \n",
    "    'Human': 1,\n",
    "    'Several humans': 1, \n",
    "    'Non-human heat': 0, \n",
    "    'Ambigous heat': 0,\n",
    "    'No heat':  0,\n",
    "}\n",
    "\n",
    "\n",
    "df_binary = df.copy()\n",
    "\n",
    "df_binary['label'] = df_binary['label'].apply(lambda x: binary_label_converter[x])\n",
    "df_binary.head(n=3)"
   ]
  },
  {
   "cell_type": "code",
   "execution_count": 6,
   "id": "57395474",
   "metadata": {},
   "outputs": [
    {
     "name": "stdout",
     "output_type": "stream",
     "text": [
      "(200,)\n",
      "(200, 32, 32, 1)\n"
     ]
    }
   ],
   "source": [
    "# Prepare the data\n",
    "y = df_binary['label'].to_numpy()\n",
    "X = np.array(df_binary['data'].to_list())\n",
    "X = np.expand_dims(X, axis=3)\n",
    "\n",
    "# Print the shapes\n",
    "print(y.shape)\n",
    "print(X.shape)"
   ]
  },
  {
   "cell_type": "code",
   "execution_count": 7,
   "id": "cb50cbff",
   "metadata": {},
   "outputs": [
    {
     "name": "stdout",
     "output_type": "stream",
     "text": [
      "(160, 32, 32, 1)\n",
      "(160,)\n",
      "(40, 32, 32, 1)\n",
      "(40,)\n"
     ]
    }
   ],
   "source": [
    "# Create train / val split\n",
    "X_train, X_val, y_train, y_val = train_test_split(X, y, test_size=0.2, random_state=0)\n",
    "\n",
    "# Print the data shape\n",
    "print(X_train.shape)\n",
    "print(y_train.shape)\n",
    "print(X_val.shape)\n",
    "print(y_val.shape)"
   ]
  },
  {
   "cell_type": "markdown",
   "id": "b9099a9b",
   "metadata": {},
   "source": [
    "## Multiclass Classification"
   ]
  },
  {
   "cell_type": "markdown",
   "id": "72ab6ca8",
   "metadata": {},
   "source": [
    "### Data Preparation"
   ]
  },
  {
   "cell_type": "code",
   "execution_count": 8,
   "id": "d64ff2b7",
   "metadata": {},
   "outputs": [
    {
     "data": {
      "text/html": [
       "<div>\n",
       "<style scoped>\n",
       "    .dataframe tbody tr th:only-of-type {\n",
       "        vertical-align: middle;\n",
       "    }\n",
       "\n",
       "    .dataframe tbody tr th {\n",
       "        vertical-align: top;\n",
       "    }\n",
       "\n",
       "    .dataframe thead th {\n",
       "        text-align: right;\n",
       "    }\n",
       "</style>\n",
       "<table border=\"1\" class=\"dataframe\">\n",
       "  <thead>\n",
       "    <tr style=\"text-align: right;\">\n",
       "      <th></th>\n",
       "      <th>index</th>\n",
       "      <th>Timestamp</th>\n",
       "      <th>Sensor ID</th>\n",
       "      <th>Room Temperature</th>\n",
       "      <th>RSSI</th>\n",
       "      <th>data</th>\n",
       "      <th>changed</th>\n",
       "      <th>label</th>\n",
       "    </tr>\n",
       "  </thead>\n",
       "  <tbody>\n",
       "    <tr>\n",
       "      <th>521</th>\n",
       "      <td>521</td>\n",
       "      <td>2021-05-07 13:06:24</td>\n",
       "      <td>3078</td>\n",
       "      <td>21.299999</td>\n",
       "      <td>-67</td>\n",
       "      <td>[[12.0, 10.4, 11.1, 10.9, 10.9, 12.0, 11.6, 11...</td>\n",
       "      <td>True</td>\n",
       "      <td>0</td>\n",
       "    </tr>\n",
       "    <tr>\n",
       "      <th>2940</th>\n",
       "      <td>2940</td>\n",
       "      <td>2021-05-07 13:10:22</td>\n",
       "      <td>3078</td>\n",
       "      <td>22.400000</td>\n",
       "      <td>-76</td>\n",
       "      <td>[[11.8, 10.3, 11.2, 11.8, 10.6, 11.3, 11.4, 11...</td>\n",
       "      <td>True</td>\n",
       "      <td>0</td>\n",
       "    </tr>\n",
       "    <tr>\n",
       "      <th>226</th>\n",
       "      <td>226</td>\n",
       "      <td>2021-05-07 13:05:55</td>\n",
       "      <td>3078</td>\n",
       "      <td>21.100000</td>\n",
       "      <td>-68</td>\n",
       "      <td>[[11.5, 10.5, 12.0, 12.5, 12.6, 13.0, 12.6, 12...</td>\n",
       "      <td>True</td>\n",
       "      <td>3</td>\n",
       "    </tr>\n",
       "  </tbody>\n",
       "</table>\n",
       "</div>"
      ],
      "text/plain": [
       "      index           Timestamp Sensor ID  Room Temperature  RSSI  \\\n",
       "521     521 2021-05-07 13:06:24      3078         21.299999   -67   \n",
       "2940   2940 2021-05-07 13:10:22      3078         22.400000   -76   \n",
       "226     226 2021-05-07 13:05:55      3078         21.100000   -68   \n",
       "\n",
       "                                                   data  changed  label  \n",
       "521   [[12.0, 10.4, 11.1, 10.9, 10.9, 12.0, 11.6, 11...     True      0  \n",
       "2940  [[11.8, 10.3, 11.2, 11.8, 10.6, 11.3, 11.4, 11...     True      0  \n",
       "226   [[11.5, 10.5, 12.0, 12.5, 12.6, 13.0, 12.6, 12...     True      3  "
      ]
     },
     "execution_count": 8,
     "metadata": {},
     "output_type": "execute_result"
    }
   ],
   "source": [
    "# Convert multilclass labels to integer labels\n",
    "multiclass_label_converter = { \n",
    "    'Human': 0,\n",
    "    'Several humans': 1, \n",
    "    'Non-human heat': 2, \n",
    "    'Ambigous heat': 3,\n",
    "    'No heat':  4\n",
    "}\n",
    "\n",
    "\n",
    "df_mc = df.copy()\n",
    "\n",
    "df_mc['label'] = df_mc['label'].apply(lambda x: multiclass_label_converter[x])\n",
    "df_mc.head(n=3)"
   ]
  },
  {
   "cell_type": "code",
   "execution_count": 9,
   "id": "e4089f26",
   "metadata": {},
   "outputs": [
    {
     "name": "stdout",
     "output_type": "stream",
     "text": [
      "(200, 32, 32, 1)\n",
      "(200, 5)\n",
      "[[1 0 0 0 0]]\n"
     ]
    }
   ],
   "source": [
    "# Prepare the data\n",
    "y_mc = df_mc['label'].to_numpy()\n",
    "label_binarizer = LabelBinarizer()\n",
    "label_binarizer.fit(range(max(y_mc)+1))\n",
    "y_mc_onehot = label_binarizer.transform(y_mc)\n",
    "\n",
    "X_mc = np.array(df_mc['data'].to_list())\n",
    "X_mc = np.expand_dims(X_mc, axis=3)\n",
    "\n",
    "assert np.all(np.sum(y_mc_onehot, axis=1) == 1)\n",
    "\n",
    "# Print the shapes and one label example\n",
    "print(X_mc.shape)\n",
    "print(y_mc_onehot.shape)\n",
    "print(y_mc_onehot[:1])"
   ]
  },
  {
   "cell_type": "code",
   "execution_count": 14,
   "id": "6073c72e",
   "metadata": {},
   "outputs": [
    {
     "name": "stdout",
     "output_type": "stream",
     "text": [
      "(160, 32, 32, 1)\n",
      "(160, 5)\n",
      "(40, 32, 32, 1)\n",
      "(40, 5)\n"
     ]
    }
   ],
   "source": [
    "# Create train / val split\n",
    "X_mc_train, X_mc_val, y_mc_train, y_mc_val = train_test_split(X_mc, y_mc_onehot, test_size=0.2, random_state=0)\n",
    "\n",
    "# Print the data shape\n",
    "print(X_mc_train.shape)\n",
    "print(y_mc_train.shape)\n",
    "print(X_mc_val.shape)\n",
    "print(y_mc_val.shape)"
   ]
  },
  {
   "cell_type": "markdown",
   "id": "2209498b",
   "metadata": {},
   "source": [
    "## Step 03: Modelling"
   ]
  },
  {
   "cell_type": "markdown",
   "id": "f9907b04",
   "metadata": {},
   "source": [
    "## Feature Generator"
   ]
  },
  {
   "cell_type": "markdown",
   "id": "3da57473",
   "metadata": {},
   "source": [
    "### Feature Generator Model\n",
    "\n",
    "The feature generator model is a simple CNN model that is used to generate and extract the features needed for the later classification from the images. It uses stacked convolutional layers that yield $1x1$ feature maps that are then used by the gradient boosted classifiers. After training, the convolutional layers are taken and put in a separate model for inference (\"feature generator model\")."
   ]
  },
  {
   "cell_type": "code",
   "execution_count": 15,
   "id": "de669427",
   "metadata": {},
   "outputs": [
    {
     "name": "stdout",
     "output_type": "stream",
     "text": [
      "Model: \"feature_generator\"\n",
      "_________________________________________________________________\n",
      "Layer (type)                 Output Shape              Param #   \n",
      "=================================================================\n",
      "input_1 (InputLayer)         [(None, 32, 32, 1)]       0         \n",
      "_________________________________________________________________\n",
      "conv2d (Conv2D)              (None, 16, 16, 4)         40        \n",
      "_________________________________________________________________\n",
      "conv2d_1 (Conv2D)            (None, 8, 8, 8)           296       \n",
      "_________________________________________________________________\n",
      "conv2d_2 (Conv2D)            (None, 4, 4, 8)           584       \n",
      "_________________________________________________________________\n",
      "conv2d_3 (Conv2D)            (None, 2, 2, 8)           584       \n",
      "_________________________________________________________________\n",
      "conv2d_4 (Conv2D)            (None, 1, 1, 512)         37376     \n",
      "_________________________________________________________________\n",
      "global_average_pooling2d (Gl (None, 512)               0         \n",
      "_________________________________________________________________\n",
      "dense (Dense)                (None, 64)                32832     \n",
      "_________________________________________________________________\n",
      "dense_1 (Dense)              (None, 32)                2080      \n",
      "_________________________________________________________________\n",
      "dropout (Dropout)            (None, 32)                0         \n",
      "_________________________________________________________________\n",
      "dense_2 (Dense)              (None, 2)                 66        \n",
      "=================================================================\n",
      "Total params: 73,858\n",
      "Trainable params: 73,858\n",
      "Non-trainable params: 0\n",
      "_________________________________________________________________\n"
     ]
    }
   ],
   "source": [
    "# Simple CNN model with mutiple, stacked convolutional layers\n",
    "\n",
    "x = tf.keras.layers.Input(shape=[*IMAGE_SIZE,1]) # Input is 32x32 pixels RGB\n",
    "y = tf.keras.layers.Conv2D(kernel_size=3, filters=4, strides=(2,2), padding='same', use_bias=True, activation='relu')(x) # 32x32 -> 16x16\n",
    "y = tf.keras.layers.Conv2D(kernel_size=3, filters=8, strides=(2,2), padding='same', use_bias=True, activation='relu')(y) # 16x16 -> 8x8\n",
    "y = tf.keras.layers.Conv2D(kernel_size=3, filters=8, strides=(2,2), padding='same', use_bias=True, activation='relu')(y) # 8x8 -> 4x4\n",
    "y = tf.keras.layers.Conv2D(kernel_size=3, filters=8, strides=(2,2), padding='same', use_bias=True, activation='relu')(y) # 4x4 -> 2x2\n",
    "y = tf.keras.layers.Conv2D(kernel_size=3, filters=512, strides=(2,2), padding='same', use_bias=True, activation='relu')(y) # 2x2 -> 1x1\n",
    "y = tf.keras.layers.GlobalAveragePooling2D()(y)\n",
    "y = tf.keras.layers.Dense(64)(y)\n",
    "y = tf.keras.layers.Dense(32)(y)\n",
    "y = tf.keras.layers.Dropout(0.2)(y)\n",
    "y = tf.keras.layers.Dense(2, activation='softmax')(y)\n",
    "\n",
    "model = tf.keras.Model(x, y,name=\"feature_generator\")\n",
    "\n",
    "\n",
    "model.compile(\n",
    "optimizer='adam',\n",
    "loss= 'sparse_categorical_crossentropy',\n",
    "metrics=['accuracy'])\n",
    "model.build(input_shape=(None, 32, 32, 1))\n",
    "model.summary()"
   ]
  },
  {
   "cell_type": "code",
   "execution_count": 16,
   "id": "fd2d24eb",
   "metadata": {},
   "outputs": [
    {
     "data": {
      "image/png": "[encoded data removed]",
      "text/plain": [
       "<IPython.core.display.Image object>"
      ]
     },
     "execution_count": 16,
     "metadata": {},
     "output_type": "execute_result"
    }
   ],
   "source": [
    "# Model plot\n",
    "# `rankdir='LR'` is to make the graph horizontal.\n",
    "%matplotlib inline\n",
    "tf.keras.utils.plot_model(model, to_file = \"feature_generator_CNN.png\", show_shapes=True, rankdir=\"LR\", dpi=400)"
   ]
  },
  {
   "cell_type": "markdown",
   "id": "bed41eef",
   "metadata": {},
   "source": [
    "### Training of the Feature Generator Model"
   ]
  },
  {
   "cell_type": "code",
   "execution_count": 17,
   "id": "6a0d0981",
   "metadata": {},
   "outputs": [
    {
     "name": "stdout",
     "output_type": "stream",
     "text": [
      "Epoch 1/20\n",
      "20/20 [==============================] - 4s 22ms/step - loss: 0.6618 - accuracy: 0.6687 - val_loss: 0.6336 - val_accuracy: 0.6500\n",
      "Epoch 2/20\n",
      "20/20 [==============================] - 0s 10ms/step - loss: 0.6721 - accuracy: 0.6062 - val_loss: 0.6192 - val_accuracy: 0.7500\n",
      "Epoch 3/20\n",
      "20/20 [==============================] - 0s 9ms/step - loss: 0.6392 - accuracy: 0.6687 - val_loss: 0.6098 - val_accuracy: 0.7500\n",
      "Epoch 4/20\n",
      "20/20 [==============================] - 0s 9ms/step - loss: 0.5830 - accuracy: 0.6875 - val_loss: 0.5692 - val_accuracy: 0.7500\n",
      "Epoch 5/20\n",
      "20/20 [==============================] - 0s 9ms/step - loss: 0.5867 - accuracy: 0.6625 - val_loss: 0.6640 - val_accuracy: 0.5000\n",
      "Epoch 6/20\n",
      "20/20 [==============================] - 0s 10ms/step - loss: 0.5733 - accuracy: 0.6625 - val_loss: 0.6203 - val_accuracy: 0.7250\n",
      "Epoch 7/20\n",
      "20/20 [==============================] - 0s 9ms/step - loss: 0.5839 - accuracy: 0.6875 - val_loss: 0.5701 - val_accuracy: 0.7750\n",
      "Epoch 8/20\n",
      "20/20 [==============================] - 0s 10ms/step - loss: 0.5685 - accuracy: 0.6875 - val_loss: 0.5938 - val_accuracy: 0.7750\n",
      "Epoch 9/20\n",
      "20/20 [==============================] - 0s 10ms/step - loss: 0.5368 - accuracy: 0.7312 - val_loss: 0.5902 - val_accuracy: 0.7750\n",
      "Epoch 10/20\n",
      "20/20 [==============================] - 0s 11ms/step - loss: 0.5462 - accuracy: 0.7063 - val_loss: 0.6161 - val_accuracy: 0.6500\n",
      "Epoch 11/20\n",
      "20/20 [==============================] - 0s 8ms/step - loss: 0.5362 - accuracy: 0.7250 - val_loss: 0.5938 - val_accuracy: 0.7250\n",
      "Epoch 12/20\n",
      "20/20 [==============================] - 0s 9ms/step - loss: 0.4722 - accuracy: 0.7875 - val_loss: 0.6625 - val_accuracy: 0.7500\n",
      "Epoch 13/20\n",
      "20/20 [==============================] - 0s 9ms/step - loss: 0.4648 - accuracy: 0.7812 - val_loss: 0.6564 - val_accuracy: 0.7000\n",
      "Epoch 14/20\n",
      "20/20 [==============================] - 0s 9ms/step - loss: 0.4716 - accuracy: 0.7563 - val_loss: 0.6396 - val_accuracy: 0.7750\n",
      "Epoch 15/20\n",
      "20/20 [==============================] - 0s 11ms/step - loss: 0.4777 - accuracy: 0.7437 - val_loss: 0.6338 - val_accuracy: 0.7000\n",
      "Epoch 16/20\n",
      "20/20 [==============================] - 0s 11ms/step - loss: 0.4468 - accuracy: 0.7875 - val_loss: 0.7084 - val_accuracy: 0.7250\n",
      "Epoch 17/20\n",
      "20/20 [==============================] - 0s 13ms/step - loss: 0.4378 - accuracy: 0.7875 - val_loss: 0.7261 - val_accuracy: 0.7500\n",
      "Epoch 18/20\n",
      "20/20 [==============================] - 0s 10ms/step - loss: 0.4502 - accuracy: 0.7875 - val_loss: 0.7062 - val_accuracy: 0.7250\n",
      "Epoch 19/20\n",
      "20/20 [==============================] - 0s 14ms/step - loss: 0.4213 - accuracy: 0.7812 - val_loss: 0.6939 - val_accuracy: 0.7250\n",
      "Epoch 20/20\n",
      "20/20 [==============================] - 0s 10ms/step - loss: 0.3695 - accuracy: 0.8125 - val_loss: 0.8473 - val_accuracy: 0.7500\n"
     ]
    },
    {
     "data": {
      "image/png": "[encoded data removed]",
      "text/plain": [
       "<Figure size 432x288 with 1 Axes>"
      ]
     },
     "metadata": {
      "needs_background": "light"
     },
     "output_type": "display_data"
    }
   ],
   "source": [
    "# Fit the model\n",
    "\n",
    "# Training parameters\n",
    "EPOCHS = 20\n",
    "BATCH_SIZE = 8\n",
    "\n",
    "history = model.fit(X_train, y_train, epochs=EPOCHS, batch_size=BATCH_SIZE, validation_data=(X_val, y_val))\n",
    "\n",
    "train_loss = history.history['loss']\n",
    "val_loss = history.history['val_loss']\n",
    "\n",
    "epochs = range(1, len(train_loss) + 1)\n",
    "\n",
    "# Plot training history\n",
    "plt.plot(epochs, train_loss, 'g.', label='Training loss')\n",
    "plt.plot(epochs, val_loss, 'b', label='Validation loss')\n",
    "plt.title('Training and validation loss')\n",
    "plt.xlabel('Epochs')\n",
    "plt.ylabel('Loss')\n",
    "plt.legend()\n",
    "plt.show()\n"
   ]
  },
  {
   "cell_type": "markdown",
   "id": "35143b4f",
   "metadata": {},
   "source": [
    "### Hyperparameter Tuning of the Feature Generator Model"
   ]
  },
  {
   "cell_type": "code",
   "execution_count": 18,
   "id": "16e9bc9b",
   "metadata": {},
   "outputs": [
    {
     "name": "stdout",
     "output_type": "stream",
     "text": [
      "Trial 20 Complete [00h 00m 05s]\n",
      "val_accuracy: 0.800000011920929\n",
      "\n",
      "Best val_accuracy So Far: 0.800000011920929\n",
      "Total elapsed time: 00h 04m 42s\n",
      "INFO:tensorflow:Oracle triggered exit\n",
      "Results summary\n",
      "Results in .\\feature_generator_hypertuning\n",
      "Showing 10 best trials\n",
      "Objective(name='val_accuracy', direction='max')\n",
      "Trial summary\n",
      "Hyperparameters:\n",
      "learning_rate: 0.0013560882955110337\n",
      "batch_size: 2\n",
      "num_epochs: 20\n",
      "Score: 0.800000011920929\n",
      "Trial summary\n",
      "Hyperparameters:\n",
      "learning_rate: 0.0013022571318415943\n",
      "batch_size: 8\n",
      "num_epochs: 20\n",
      "Score: 0.800000011920929\n",
      "Trial summary\n",
      "Hyperparameters:\n",
      "learning_rate: 0.0016291394868459578\n",
      "batch_size: 8\n",
      "num_epochs: 10\n",
      "Score: 0.7749999761581421\n",
      "Trial summary\n",
      "Hyperparameters:\n",
      "learning_rate: 0.001084028383400752\n",
      "batch_size: 26\n",
      "num_epochs: 35\n",
      "Score: 0.7749999761581421\n",
      "Trial summary\n",
      "Hyperparameters:\n",
      "learning_rate: 0.0010173610732983384\n",
      "batch_size: 18\n",
      "num_epochs: 30\n",
      "Score: 0.7749999761581421\n",
      "Trial summary\n",
      "Hyperparameters:\n",
      "learning_rate: 0.002\n",
      "batch_size: 2\n",
      "num_epochs: 40\n",
      "Score: 0.7749999761581421\n",
      "Trial summary\n",
      "Hyperparameters:\n",
      "learning_rate: 0.002\n",
      "batch_size: 20\n",
      "num_epochs: 20\n",
      "Score: 0.7749999761581421\n",
      "Trial summary\n",
      "Hyperparameters:\n",
      "learning_rate: 0.0015697965448042694\n",
      "batch_size: 10\n",
      "num_epochs: 25\n",
      "Score: 0.7749999761581421\n",
      "Trial summary\n",
      "Hyperparameters:\n",
      "learning_rate: 0.0005\n",
      "batch_size: 30\n",
      "num_epochs: 40\n",
      "Score: 0.7749999761581421\n",
      "Trial summary\n",
      "Hyperparameters:\n",
      "learning_rate: 0.0016430110604064743\n",
      "batch_size: 14\n",
      "num_epochs: 15\n",
      "Score: 0.7749999761581421\n"
     ]
    }
   ],
   "source": [
    "# Hyperparameter tuning of the feature generator model\n",
    "\n",
    "# Define the maximum number of hyperparameter tuning trials\n",
    "MAX_TRIALS = 20\n",
    "\n",
    "\n",
    "# Create an own tuner class which inherits from bayesian optimization for hyperparameter tuning\n",
    "class SimpleTuner(kt.tuners.BayesianOptimization):\n",
    "\n",
    "    def run_trial(self, trial, *args, **kwargs):\n",
    "        # You can add additional HyperParameters for preprocessing and custom training loops\n",
    "        # via overriding `run_trial`\n",
    "        kwargs['batch_size'] = trial.hyperparameters.Int('batch_size', min_value=2, max_value=32, step=2, default=8)\n",
    "        kwargs['epochs'] = trial.hyperparameters.Int('num_epochs', min_value=5, max_value=40, step=5, default=10)\n",
    "        return super(SimpleTuner, self).run_trial(trial, *args, **kwargs)\n",
    "\n",
    "# Build the hypermodel of the feature generator\n",
    "def build_feature_generator_hypermodel(hp):\n",
    "    \n",
    "    x = tf.keras.layers.Input(shape=[*IMAGE_SIZE,1]) # input is 32x32 pixels RGB\n",
    "    y = tf.keras.layers.Conv2D(kernel_size=3, filters=4, strides=(2,2), padding='same', use_bias=True, activation='relu')(x) # 32x32 -> 16x16\n",
    "    y = tf.keras.layers.Conv2D(kernel_size=3, filters=8, strides=(2,2), padding='same', use_bias=True, activation='relu')(y) # 16x16 -> 8x8\n",
    "    y = tf.keras.layers.Conv2D(kernel_size=3, filters=8, strides=(2,2), padding='same', use_bias=True, activation='relu')(y) # 8x8 -> 4x4\n",
    "    y = tf.keras.layers.Conv2D(kernel_size=3, filters=8, strides=(2,2), padding='same', use_bias=True, activation='relu')(y) # 4x4 -> 2x2\n",
    "    y = tf.keras.layers.Conv2D(kernel_size=3, filters=512, strides=(2,2), padding='same', use_bias=True, activation='relu')(y) # 2x2 -> 1x1\n",
    "    y = tf.keras.layers.GlobalAveragePooling2D()(y)\n",
    "    y = tf.keras.layers.Dense(64)(y)\n",
    "    y = tf.keras.layers.Dense(32)(y)\n",
    "    y = tf.keras.layers.Dropout(0.2)(y)\n",
    "    y = tf.keras.layers.Dense(2, activation='softmax')(y)\n",
    "\n",
    "    model = tf.keras.Model(x, y,name=\"feature_generator_hypermodel\")\n",
    "\n",
    "    model.compile(optimizer=tf.keras.optimizers\n",
    "                  .Adam(learning_rate=hp.Float('learning_rate', min_value=0.5e-03, max_value=2e-03, default=1e-03)),\n",
    "                  loss= 'sparse_categorical_crossentropy',\n",
    "                  metrics=['accuracy'])\n",
    "    \n",
    "    return model\n",
    "\n",
    "# Generate an instance of the tuner\n",
    "tuner = SimpleTuner(build_feature_generator_hypermodel,\n",
    "                    objective='val_accuracy',\n",
    "                    max_trials=MAX_TRIALS,\n",
    "                    metrics=['accuracy'],\n",
    "                    max_model_size=None,\n",
    "                    directory=\".\",\n",
    "                    project_name=\"feature_generator_hypertuning\",\n",
    "                    logger=None)\n",
    "\n",
    "# Do the hyperparameter tuning\n",
    "tuner.search(X_train, y_train, validation_data=(X_val, y_val))\n",
    "\n",
    "# Prints out the summary of hyperparameter tuning\n",
    "tuner.results_summary()\n",
    "\n",
    "# Get the best model of all the created models during hyperparameter tuning\n",
    "model = tuner.get_best_models()[0]\n"
   ]
  },
  {
   "cell_type": "markdown",
   "id": "4bd21034",
   "metadata": {},
   "source": [
    "### Build Feature Generator Model from Convolutional Layers as Separate Model "
   ]
  },
  {
   "cell_type": "code",
   "execution_count": 19,
   "id": "28b3b222",
   "metadata": {},
   "outputs": [],
   "source": [
    "# Get different stacks of convolutional layers from the trained CNN model and put them into separate model instances\n",
    "\n",
    "def get_conv_layer_list(model):\n",
    "    \n",
    "    conv_layer_list = []\n",
    "        \n",
    "    for i in range(len(model.layers)):\n",
    "        layer = model.layers[i]\n",
    "        # check for convolutional layer\n",
    "        if 'conv' not in layer.name:\n",
    "            continue\n",
    "        \n",
    "        # Get the layer input and output\n",
    "        inputs = model.inputs\n",
    "            \n",
    "        if i==len(model.layers):\n",
    "            outputs = model.outputs\n",
    "        else:\n",
    "            outputs = model.layers[i].output\n",
    "        \n",
    "        current_conv_layer = tf.keras.Model(name=layer.name, inputs=inputs, outputs=model.layers[i].output)\n",
    "        conv_layer_list.append(current_conv_layer)\n",
    "    \n",
    "    return conv_layer_list"
   ]
  },
  {
   "cell_type": "code",
   "execution_count": 20,
   "id": "803b66d3",
   "metadata": {},
   "outputs": [
    {
     "name": "stdout",
     "output_type": "stream",
     "text": [
      "Model: \"feature_generator_conv\"\n",
      "_________________________________________________________________\n",
      "Layer (type)                 Output Shape              Param #   \n",
      "=================================================================\n",
      "conv2d_4 (Functional)        (None, 1, 1, 512)         38880     \n",
      "_________________________________________________________________\n",
      "reshape (Reshape)            (None, 512)               0         \n",
      "=================================================================\n",
      "Total params: 38,880\n",
      "Trainable params: 38,880\n",
      "Non-trainable params: 0\n",
      "_________________________________________________________________\n"
     ]
    }
   ],
   "source": [
    "# Get the last element from the list wbich is a model with all convolutional layers\n",
    "feature_generators_list = get_conv_layer_list(model)\n",
    "feature_generator_convs = feature_generators_list[-1]\n",
    "\n",
    "# Create a new model with a reshape layer at the end\n",
    "feature_generator = tf.keras.models.Sequential(name=\"feature_generator_conv\")\n",
    "feature_generator.add(feature_generator_convs)\n",
    "feature_generator.add(tf.keras.layers.Reshape([512]))\n",
    "\n",
    "# Plot the model summary\n",
    "feature_generator.build(input_shape=(32, 32, 1))\n",
    "feature_generator.summary()"
   ]
  },
  {
   "cell_type": "code",
   "execution_count": 21,
   "id": "a67531fa",
   "metadata": {},
   "outputs": [
    {
     "data": {
      "image/png": "[encoded data removed]",
      "text/plain": [
       "<IPython.core.display.Image object>"
      ]
     },
     "execution_count": 21,
     "metadata": {},
     "output_type": "execute_result"
    }
   ],
   "source": [
    "# Plot the feature generator model\n",
    "# `rankdir='LR'` is to make the graph horizontal.\n",
    "%matplotlib inline\n",
    "tf.keras.utils.plot_model(feature_generator, to_file=\"feature_generator_model.png\", show_shapes=True, rankdir=\"TB\", dpi=400)"
   ]
  },
  {
   "cell_type": "markdown",
   "id": "4dc12e6e",
   "metadata": {},
   "source": [
    "### Generate the Features for the Whole Dataset"
   ]
  },
  {
   "cell_type": "code",
   "execution_count": 22,
   "id": "85b1c757",
   "metadata": {},
   "outputs": [
    {
     "name": "stdout",
     "output_type": "stream",
     "text": [
      "(200, 512)\n"
     ]
    }
   ],
   "source": [
    "# Generate the features with the feature generate model by calling the predict method\n",
    "features = feature_generator.predict(X)\n",
    "print(features.shape)"
   ]
  },
  {
   "cell_type": "markdown",
   "id": "883ae4a8",
   "metadata": {},
   "source": [
    "### Save the Feature Generator Model"
   ]
  },
  {
   "cell_type": "code",
   "execution_count": 23,
   "id": "39acde0e",
   "metadata": {},
   "outputs": [
    {
     "name": "stdout",
     "output_type": "stream",
     "text": [
      "WARNING:tensorflow:Compiled the loaded model, but the compiled metrics have yet to be built. `model.compile_metrics` will be empty until you train or evaluate the model.\n",
      "INFO:tensorflow:Assets written to: C:\\Users\\Felix\\AppData\\Local\\Temp\\tmpijlel9vk\\assets\n",
      "WARNING:tensorflow:From C:\\Users\\Felix\\.conda\\envs\\ias0360-final-project\\lib\\site-packages\\tf2onnx\\tf_loader.py:706: extract_sub_graph (from tensorflow.python.framework.graph_util_impl) is deprecated and will be removed in a future version.\n",
      "Instructions for updating:\n",
      "Use `tf.compat.v1.graph_util.extract_sub_graph`\n"
     ]
    },
    {
     "name": "stderr",
     "output_type": "stream",
     "text": [
      "WARNING:tensorflow:From C:\\Users\\Felix\\.conda\\envs\\ias0360-final-project\\lib\\site-packages\\tf2onnx\\tf_loader.py:706: extract_sub_graph (from tensorflow.python.framework.graph_util_impl) is deprecated and will be removed in a future version.\n",
      "Instructions for updating:\n",
      "Use `tf.compat.v1.graph_util.extract_sub_graph`\n"
     ]
    },
    {
     "name": "stdout",
     "output_type": "stream",
     "text": [
      "WARNING:tensorflow:Compiled the loaded model, but the compiled metrics have yet to be built. `model.compile_metrics` will be empty until you train or evaluate the model.\n"
     ]
    },
    {
     "name": "stderr",
     "output_type": "stream",
     "text": [
      "WARNING:tensorflow:Compiled the loaded model, but the compiled metrics have yet to be built. `model.compile_metrics` will be empty until you train or evaluate the model.\n"
     ]
    },
    {
     "name": "stdout",
     "output_type": "stream",
     "text": [
      "Models saved successfully.\n"
     ]
    }
   ],
   "source": [
    "# Save the feature generator model in various different formats\n",
    "\n",
    "# Convert the model\n",
    "converter = tf.lite.TFLiteConverter.from_keras_model(feature_generator) # path to the SavedModel directory\n",
    "tflite_model = converter.convert()\n",
    "\n",
    "# Save the model.\n",
    "with open('feature_generator.tflite', 'wb') as f:\n",
    "  f.write(tflite_model)\n",
    "\n",
    "\n",
    "# Save the model as onnx model\n",
    "tf2onnx.convert.from_keras(feature_generator, output_path=\"feature_generator.onnx\", opset=8)\n",
    "\n",
    "\n",
    "# Save as keras model\n",
    "feature_generator.save(\"feature_generator.h5\")\n",
    "\n",
    "print(\"Models saved successfully.\")"
   ]
  },
  {
   "cell_type": "markdown",
   "id": "a866c499",
   "metadata": {},
   "source": [
    "## Classifier Modelling"
   ]
  },
  {
   "cell_type": "markdown",
   "id": "e748495a",
   "metadata": {},
   "source": [
    "### Helpful Functions for Classifiers"
   ]
  },
  {
   "cell_type": "code",
   "execution_count": 24,
   "id": "a73472e4",
   "metadata": {},
   "outputs": [],
   "source": [
    "# Get the model size in kiB\n",
    "def get_memory_size(clf, feature_generator, fname_clf = \"clf_dump\", fname_fg=\"feature_generator_dump\"):\n",
    "    \n",
    "    # Get the size of the feature generator\n",
    "    joblib.dump(feature_generator, fname_fg)\n",
    "    fg_size = os.path.getsize(fname_fg)\n",
    "    fg_size = fg_size / 1024\n",
    "    print(f\"Feature Generator size in kiB: {fg_size}\")\n",
    "    \n",
    "    # Get the size of the classifier\n",
    "    joblib.dump(clf, fname)\n",
    "    clf_size = os.path.getsize(fname)\n",
    "    clf_size = clf_size / 1024\n",
    "    print(f\"CLF size in kiB: {clf_size}\")\n",
    "\n",
    "    # Total size for GBT in kiB\n",
    "    print(f\"Total size in kiB (without model conversion): {fg_size + clf_size}\")"
   ]
  },
  {
   "cell_type": "markdown",
   "id": "eba63994",
   "metadata": {},
   "source": [
    "### Prepare Data for Classifier"
   ]
  },
  {
   "cell_type": "code",
   "execution_count": 25,
   "id": "e8911530",
   "metadata": {},
   "outputs": [
    {
     "data": {
      "text/html": [
       "<div>\n",
       "<style scoped>\n",
       "    .dataframe tbody tr th:only-of-type {\n",
       "        vertical-align: middle;\n",
       "    }\n",
       "\n",
       "    .dataframe tbody tr th {\n",
       "        vertical-align: top;\n",
       "    }\n",
       "\n",
       "    .dataframe thead th {\n",
       "        text-align: right;\n",
       "    }\n",
       "</style>\n",
       "<table border=\"1\" class=\"dataframe\">\n",
       "  <thead>\n",
       "    <tr style=\"text-align: right;\">\n",
       "      <th></th>\n",
       "      <th>0</th>\n",
       "      <th>1</th>\n",
       "      <th>2</th>\n",
       "      <th>3</th>\n",
       "      <th>4</th>\n",
       "      <th>5</th>\n",
       "      <th>6</th>\n",
       "      <th>7</th>\n",
       "      <th>8</th>\n",
       "      <th>9</th>\n",
       "      <th>...</th>\n",
       "      <th>510</th>\n",
       "      <th>511</th>\n",
       "      <th>512</th>\n",
       "      <th>513</th>\n",
       "      <th>514</th>\n",
       "      <th>515</th>\n",
       "      <th>516</th>\n",
       "      <th>517</th>\n",
       "      <th>518</th>\n",
       "      <th>519</th>\n",
       "    </tr>\n",
       "  </thead>\n",
       "  <tbody>\n",
       "    <tr>\n",
       "      <th>0</th>\n",
       "      <td>521</td>\n",
       "      <td>2021-05-07 13:06:24</td>\n",
       "      <td>3078</td>\n",
       "      <td>21.299999</td>\n",
       "      <td>-67</td>\n",
       "      <td>[[12.0, 10.4, 11.1, 10.9, 10.9, 12.0, 11.6, 11...</td>\n",
       "      <td>True</td>\n",
       "      <td>1</td>\n",
       "      <td>0.004428</td>\n",
       "      <td>0.0</td>\n",
       "      <td>...</td>\n",
       "      <td>0.0</td>\n",
       "      <td>0.0</td>\n",
       "      <td>0.025282</td>\n",
       "      <td>0.0</td>\n",
       "      <td>0.0</td>\n",
       "      <td>0.0</td>\n",
       "      <td>0.0</td>\n",
       "      <td>0.0</td>\n",
       "      <td>0.0</td>\n",
       "      <td>0.039926</td>\n",
       "    </tr>\n",
       "    <tr>\n",
       "      <th>1</th>\n",
       "      <td>2940</td>\n",
       "      <td>2021-05-07 13:10:22</td>\n",
       "      <td>3078</td>\n",
       "      <td>22.4</td>\n",
       "      <td>-76</td>\n",
       "      <td>[[11.8, 10.3, 11.2, 11.8, 10.6, 11.3, 11.4, 11...</td>\n",
       "      <td>True</td>\n",
       "      <td>1</td>\n",
       "      <td>0.02106</td>\n",
       "      <td>0.0</td>\n",
       "      <td>...</td>\n",
       "      <td>0.0</td>\n",
       "      <td>0.0</td>\n",
       "      <td>0.007414</td>\n",
       "      <td>0.0</td>\n",
       "      <td>0.0</td>\n",
       "      <td>0.0</td>\n",
       "      <td>0.0</td>\n",
       "      <td>0.0</td>\n",
       "      <td>0.0</td>\n",
       "      <td>0.014924</td>\n",
       "    </tr>\n",
       "  </tbody>\n",
       "</table>\n",
       "<p>2 rows × 520 columns</p>\n",
       "</div>"
      ],
      "text/plain": [
       "    0                   1     2          3    4    \\\n",
       "0   521 2021-05-07 13:06:24  3078  21.299999  -67   \n",
       "1  2940 2021-05-07 13:10:22  3078       22.4  -76   \n",
       "\n",
       "                                                 5     6   7         8    9    \\\n",
       "0  [[12.0, 10.4, 11.1, 10.9, 10.9, 12.0, 11.6, 11...  True   1  0.004428  0.0   \n",
       "1  [[11.8, 10.3, 11.2, 11.8, 10.6, 11.3, 11.4, 11...  True   1   0.02106  0.0   \n",
       "\n",
       "   ...  510  511       512  513  514  515  516  517  518       519  \n",
       "0  ...  0.0  0.0  0.025282  0.0  0.0  0.0  0.0  0.0  0.0  0.039926  \n",
       "1  ...  0.0  0.0  0.007414  0.0  0.0  0.0  0.0  0.0  0.0  0.014924  \n",
       "\n",
       "[2 rows x 520 columns]"
      ]
     },
     "execution_count": 25,
     "metadata": {},
     "output_type": "execute_result"
    }
   ],
   "source": [
    "# Add the generated features as extra columns to the data\n",
    "df_train_binary_expanded = pd.DataFrame(np.concatenate([df_binary.head(X.shape[0]), feature_generator.predict(X)], axis=1))\n",
    "\n",
    "# Show the data\n",
    "df_train_binary_expanded.head(n=2)"
   ]
  },
  {
   "cell_type": "code",
   "execution_count": 26,
   "id": "537c41dd",
   "metadata": {},
   "outputs": [
    {
     "name": "stdout",
     "output_type": "stream",
     "text": [
      "(200,)\n",
      "(200, 512)\n"
     ]
    }
   ],
   "source": [
    "# Prepare the data for gradient boosting\n",
    "y_clf = df_train_binary_expanded[7].to_numpy().astype(int)\n",
    "X_clf= df_train_binary_expanded.iloc[:,8:].to_numpy()\n",
    "print(y_clf.shape)\n",
    "print(X_clf.shape)"
   ]
  },
  {
   "cell_type": "code",
   "execution_count": 27,
   "id": "7f41ab7c",
   "metadata": {},
   "outputs": [
    {
     "name": "stdout",
     "output_type": "stream",
     "text": [
      "(180, 512)\n",
      "(180,)\n",
      "(20, 512)\n",
      "(20,)\n"
     ]
    }
   ],
   "source": [
    "# Create train / test split\n",
    "X_train_clf, X_test_clf, y_train_clf, y_test_clf = train_test_split(X_clf, y_clf, test_size=0.1, random_state=0)\n",
    "\n",
    "# Print the data shape\n",
    "print(X_train_clf.shape)\n",
    "print(y_train_clf.shape)\n",
    "print(X_test_clf.shape)\n",
    "print(y_test_clf.shape)"
   ]
  },
  {
   "cell_type": "markdown",
   "id": "6385aaf7",
   "metadata": {},
   "source": [
    "### Simple GBT Classifier"
   ]
  },
  {
   "cell_type": "code",
   "execution_count": 28,
   "id": "35824daa",
   "metadata": {},
   "outputs": [
    {
     "name": "stdout",
     "output_type": "stream",
     "text": [
      "Train Accuracy: 0.9944444444444445\n",
      "Test Accuracy:  0.7\n",
      "Ground Truth (Test):      [1 0 0 0 1 1 0 0 1 0 0 0 0 1 0 1 1 0 1 0]\n",
      "Prediction (Test):        [1 1 0 0 1 1 0 0 0 0 0 1 0 1 0 0 0 0 0 0]\n"
     ]
    },
    {
     "data": {
      "image/png": "[encoded data removed]",
      "text/plain": [
       "<Figure size 432x288 with 2 Axes>"
      ]
     },
     "metadata": {
      "needs_background": "light"
     },
     "output_type": "display_data"
    }
   ],
   "source": [
    "# Train the GBT\n",
    "clf = GradientBoostingClassifier(n_estimators=300, learning_rate=1.0, max_depth=3, random_state=0).fit(X_train_clf, y_train_clf)\n",
    "\n",
    "# Mean train accuracy\n",
    "train_acc = clf.score(X_train_clf, y_train_clf)\n",
    "print(f\"Train Accuracy: {train_acc}\")\n",
    "\n",
    "# Mean test accuracy\n",
    "test_acc = clf.score(X_test_clf, y_test_clf)\n",
    "print(f\"Test Accuracy:  {test_acc}\")\n",
    "\n",
    "# Get prediction\n",
    "y_pred = clf.predict(X_test_clf)\n",
    "\n",
    "# Ground truth and predicted labels\n",
    "print(f\"Ground Truth (Test):      {y_test_clf}\")\n",
    "print(f\"Prediction (Test):        {y_pred}\")\n",
    "\n",
    "# Calculate and display the confusion matrix\n",
    "conf_mat = confusion_matrix(y_test_clf, y_pred, normalize=\"all\")\n",
    "disp = ConfusionMatrixDisplay(conf_mat, display_labels=[\"No Human\", \"Human\"])\n",
    "disp.plot(values_format=\".0%\")\n",
    "plt.title(\"Confusion Matrix\")\n",
    "# Change the font sizes of the plot\n",
    "plt.rc('font', size=12)          # controls default text sizes\n",
    "plt.rc('axes', titlesize=14)     # fontsize of the axes title\n",
    "plt.rc('axes', labelsize=14)    # fontsize of the x and y labels\n",
    "plt.rc('xtick', labelsize=14)    # fontsize of the tick labels\n",
    "plt.rc('ytick', labelsize=14)    # fontsize of the tick labels\n",
    "plt.rc('figure', titlesize=18)  # fontsize of the figure title\n",
    "# Save and show the plot\n",
    "plt.savefig(\"confusion_matrix_simple_gbt.png\", dpi=400)\n",
    "plt.show()"
   ]
  },
  {
   "cell_type": "markdown",
   "id": "ea7d9a0c",
   "metadata": {},
   "source": [
    "### Hyperparameter Tuning for GBT"
   ]
  },
  {
   "cell_type": "code",
   "execution_count": 29,
   "id": "511b2af5",
   "metadata": {},
   "outputs": [],
   "source": [
    "# HP-Tuning\n",
    "\n",
    "# Maximum number of features to reduce the model size\n",
    "MAX_FEATURES = 150\n",
    "\n",
    "# Define the hypermodel\n",
    "def build_gbt_hypermodel(hp):\n",
    "    \n",
    "    n_estimators = hp.Int(\"n_estimators\", 10, 100)\n",
    "    learning_rate = hp.Float(\"learning_rate\", 0.1, 1.0)\n",
    "    max_depth = hp.Int(\"max_depth\", 1, 4)\n",
    "    max_features = hp.Int(\"max_features\", 1, MAX_FEATURES)\n",
    "    \n",
    "    return GradientBoostingClassifier(n_estimators=n_estimators,\n",
    "                                      learning_rate=learning_rate, \n",
    "                                      max_depth=max_depth,\n",
    "                                      max_features=max_features,\n",
    "                                      validation_fraction=0.2,\n",
    "                                      random_state=0)"
   ]
  },
  {
   "cell_type": "code",
   "execution_count": 31,
   "id": "b5ce7500",
   "metadata": {},
   "outputs": [
    {
     "name": "stdout",
     "output_type": "stream",
     "text": [
      "Trial 20 Complete [00h 00m 00s]\n",
      "score: 0.6460886939147809\n",
      "\n",
      "Best score So Far: 0.6866937410415671\n",
      "Total elapsed time: 00h 00m 37s\n",
      "INFO:tensorflow:Oracle triggered exit\n"
     ]
    },
    {
     "name": "stderr",
     "output_type": "stream",
     "text": [
      "INFO:tensorflow:Oracle triggered exit\n"
     ]
    },
    {
     "name": "stdout",
     "output_type": "stream",
     "text": [
      "Best model test score: 0.7\n",
      "Best model params: {'ccp_alpha': 0.0, 'criterion': 'friedman_mse', 'init': None, 'learning_rate': 0.6428776916686518, 'loss': 'deviance', 'max_depth': 4, 'max_features': 45, 'max_leaf_nodes': None, 'min_impurity_decrease': 0.0, 'min_samples_leaf': 1, 'min_samples_split': 2, 'min_weight_fraction_leaf': 0.0, 'n_estimators': 26, 'n_iter_no_change': None, 'random_state': 0, 'subsample': 1.0, 'tol': 0.0001, 'validation_fraction': 0.2, 'verbose': 0, 'warm_start': False}\n"
     ]
    }
   ],
   "source": [
    "# Number of hyperparameter tuning trials\n",
    "MAX_TRIALS = 20\n",
    "\n",
    "# Instaniate a tuner class instance\n",
    "tuner = kt.tuners.SklearnTuner(\n",
    "    oracle=kt.oracles.BayesianOptimizationOracle(\n",
    "        objective=kt.Objective('score', 'max'),\n",
    "        max_trials=MAX_TRIALS),\n",
    "    hypermodel=build_gbt_hypermodel,\n",
    "    scoring=skl.metrics.make_scorer(skl.metrics.balanced_accuracy_score),\n",
    "    metrics=[skl.metrics.accuracy_score],\n",
    "    cv=skl.model_selection.StratifiedKFold(5),\n",
    "    directory='.',\n",
    "    project_name='hp_tuning_gbt')\n",
    "\n",
    "\n",
    "\n",
    "tuner.search(X_train_clf, y_train_clf)\n",
    "\n",
    "best_clf = tuner.get_best_models(num_models=1)[0]\n",
    "\n",
    "print(f\"Best model test score: {best_clf.score(X_test_clf, y_test_clf)}\")\n",
    "\n",
    "print(f\"Best model params: {best_clf.get_params()}\")"
   ]
  },
  {
   "cell_type": "code",
   "execution_count": 32,
   "id": "efe8d633",
   "metadata": {},
   "outputs": [
    {
     "name": "stdout",
     "output_type": "stream",
     "text": [
      "Train Accuracy: 0.9388888888888889\n",
      "Test Accuracy:  0.7\n",
      "Ground Truth (Test): [1 0 0 0 1 1 0 0 1 0 0 0 0 1 0 1 1 0 1 0]\n",
      "Prediction (Test):   [1 0 0 0 1 1 0 0 0 0 0 1 0 1 0 0 0 0 0 1]\n"
     ]
    },
    {
     "data": {
      "image/png": "[encoded data removed]",
      "text/plain": [
       "<Figure size 432x288 with 2 Axes>"
      ]
     },
     "metadata": {
      "needs_background": "light"
     },
     "output_type": "display_data"
    }
   ],
   "source": [
    "# Compare predictions and ground truth on testing set\n",
    "y_pred = best_clf.predict(X_test_clf)\n",
    "\n",
    "# Mean train accuracy\n",
    "train_acc = best_clf.score(X_train_clf, y_train_clf)\n",
    "print(f\"Train Accuracy: {train_acc}\")\n",
    "\n",
    "# Mean test accuracy\n",
    "test_acc = best_clf.score(X_test_clf, y_test_clf)\n",
    "print(f\"Test Accuracy:  {test_acc}\")\n",
    "\n",
    "# Ground truth and predicted labels\n",
    "print(f\"Ground Truth (Test): {y_test_clf}\")\n",
    "print(f\"Prediction (Test):   {y_pred}\")\n",
    "\n",
    "# Calculate and display the confusion matrix\n",
    "conf_mat = confusion_matrix(y_test_clf, y_pred, normalize=\"all\")\n",
    "disp = ConfusionMatrixDisplay(conf_mat, display_labels=[\"No Human\", \"Human\"])\n",
    "disp.plot(values_format=\".0%\")\n",
    "plt.title(\"Confusion Matrix\")\n",
    "# Change the font sizes of the plot\n",
    "plt.rc('font', size=12)          # controls default text sizes\n",
    "plt.rc('axes', titlesize=14)     # fontsize of the axes title\n",
    "plt.rc('axes', labelsize=14)    # fontsize of the x and y labels\n",
    "plt.rc('xtick', labelsize=14)    # fontsize of the tick labels\n",
    "plt.rc('ytick', labelsize=14)    # fontsize of the tick labels\n",
    "plt.rc('figure', titlesize=18)  # fontsize of the figure title\n",
    "# Save and show the plot\n",
    "plt.savefig(\"confusion_matrix_hp-tuning_gbt.png\", dpi=400)\n",
    "plt.show()\n",
    "\n"
   ]
  },
  {
   "cell_type": "markdown",
   "id": "54a82a9a",
   "metadata": {},
   "source": [
    "#### Save ONNX model"
   ]
  },
  {
   "cell_type": "code",
   "execution_count": 33,
   "id": "a7625c52",
   "metadata": {},
   "outputs": [
    {
     "name": "stderr",
     "output_type": "stream",
     "text": [
      "C:\\Users\\Felix\\.conda\\envs\\ias0360-final-project\\lib\\site-packages\\sklearn\\utils\\deprecation.py:103: FutureWarning: The attribute `n_features_` is deprecated in 1.0 and will be removed in 1.2. Use `n_features_in_` instead.\n",
      "  warnings.warn(msg, category=FutureWarning)\n"
     ]
    }
   ],
   "source": [
    "# Convert model to onnx-format and save it\n",
    "initial_type = [('float_input', FloatTensorType([None, 4]))]\n",
    "onnx = convert_sklearn(best_clf, initial_types=initial_type)\n",
    "with open(\"best_gbt.onnx\", \"wb\") as f:\n",
    "    f.write(onnx.SerializeToString())\n"
   ]
  },
  {
   "cell_type": "markdown",
   "id": "54e943e7",
   "metadata": {},
   "source": [
    "### Simple Support Vector Classifier (SVC)"
   ]
  },
  {
   "cell_type": "code",
   "execution_count": 34,
   "id": "769e523f",
   "metadata": {},
   "outputs": [
    {
     "name": "stdout",
     "output_type": "stream",
     "text": [
      "Train Accuracy: 0.75\n",
      "Test Accuracy:  0.75\n",
      "Ground Truth (Test): [1 0 0 0 1 1 0 0 1 0 0 0 0 1 0 1 1 0 1 0]\n",
      "Prediction (Test):   [0 0 0 0 1 1 0 0 0 0 0 0 0 1 0 0 0 0 0 0]\n"
     ]
    },
    {
     "data": {
      "image/png": "[encoded data removed]",
      "text/plain": [
       "<Figure size 432x288 with 2 Axes>"
      ]
     },
     "metadata": {
      "needs_background": "light"
     },
     "output_type": "display_data"
    }
   ],
   "source": [
    "# Train the SVC\n",
    "svc_clf = SVC()\n",
    "svc_clf.fit(X_train_clf, y_train_clf)\n",
    "\n",
    "# Mean train accuracy\n",
    "train_acc = svc_clf.score(X_train_clf, y_train_clf)\n",
    "print(f\"Train Accuracy: {train_acc}\")\n",
    "\n",
    "# Mean test accuracy\n",
    "test_acc = svc_clf.score(X_test_clf, y_test_clf)\n",
    "print(f\"Test Accuracy:  {test_acc}\")\n",
    "\n",
    "# Get the prediction\n",
    "y_pred = svc_clf.predict(X_test_clf)\n",
    "\n",
    "# Ground truth and predicted labels\n",
    "print(f\"Ground Truth (Test): {y_test_clf}\")\n",
    "print(f\"Prediction (Test):   {y_pred}\")\n",
    "\n",
    "# Calculate and display the confusion matrix\n",
    "conf_mat = confusion_matrix(y_test_clf, y_pred, normalize=\"all\")\n",
    "disp = ConfusionMatrixDisplay(conf_mat, display_labels=[\"No Human\", \"Human\"])\n",
    "disp.plot(values_format=\".0%\")\n",
    "plt.title(\"Confusion Matrix\")\n",
    "# Change the font sizes of the plot\n",
    "plt.rc('font', size=12)          # controls default text sizes\n",
    "plt.rc('axes', titlesize=14)     # fontsize of the axes title\n",
    "plt.rc('axes', labelsize=14)    # fontsize of the x and y labels\n",
    "plt.rc('xtick', labelsize=14)    # fontsize of the tick labels\n",
    "plt.rc('ytick', labelsize=14)    # fontsize of the tick labels\n",
    "plt.rc('figure', titlesize=18)  # fontsize of the figure title\n",
    "# Save and show the plot\n",
    "plt.savefig(\"confusion_matrix_simple_svc.png\", dpi=400)\n",
    "plt.show()\n",
    "\n"
   ]
  },
  {
   "cell_type": "code",
   "execution_count": 35,
   "id": "3032cc8a",
   "metadata": {},
   "outputs": [
    {
     "name": "stdout",
     "output_type": "stream",
     "text": [
      "{'C': 1.0, 'break_ties': False, 'cache_size': 200, 'class_weight': None, 'coef0': 0.0, 'decision_function_shape': 'ovr', 'degree': 3, 'gamma': 'scale', 'kernel': 'rbf', 'max_iter': -1, 'probability': False, 'random_state': None, 'shrinking': True, 'tol': 0.001, 'verbose': False}\n"
     ]
    }
   ],
   "source": [
    "# Print the parameters of the classifier\n",
    "print(svc_clf.get_params())"
   ]
  },
  {
   "cell_type": "markdown",
   "id": "da96c1b5",
   "metadata": {},
   "source": [
    "####  Save as ONNX model"
   ]
  },
  {
   "cell_type": "code",
   "execution_count": 36,
   "id": "2c4320ce",
   "metadata": {},
   "outputs": [],
   "source": [
    "# Convert model to onnx-format and save it\n",
    "onnx_svc_clf = to_onnx(svc_clf,  X_train_clf.astype(np.float32),\n",
    "                    options={id(svc_clf): {'zipmap': False}},target_opset=6)\n",
    "with open(\"simple_svc_clf.onnx\", \"wb\") as f:\n",
    "    f.write(onnx_svc_clf.SerializeToString())"
   ]
  },
  {
   "cell_type": "markdown",
   "id": "b0d3d245",
   "metadata": {},
   "source": [
    "#### Merge feature generator and classifier ONNX models to one model"
   ]
  },
  {
   "cell_type": "code",
   "execution_count": 37,
   "id": "3d274f26",
   "metadata": {},
   "outputs": [
    {
     "name": "stdout",
     "output_type": "stream",
     "text": [
      "graph1 inputs: ['conv2d_4_inputa']\n",
      "graph1 outputs: ['reshapea']\n",
      "graph2 inputs: ['Xb']\n",
      "graph2 outputs: ['labelb', 'probabilitiesb']\n"
     ]
    },
    {
     "data": {
      "text/plain": [
       "True"
      ]
     },
     "execution_count": 37,
     "metadata": {},
     "output_type": "execute_result"
    }
   ],
   "source": [
    "# Name of the ONNX model files\n",
    "model_file_1 = \"feature_generator.onnx\"\n",
    "model_file_2 = \"simple_svc_clf.onnx\"\n",
    "\n",
    "\n",
    "onnx_model_1 = load(model_file_1)\n",
    "onnx_model_1 = version_converter.convert_version(onnx_model_1 , 6)\n",
    "\n",
    "onnx_model_2 = load(model_file_2)\n",
    "onnx_model_2 = version_converter.convert_version(onnx_model_2 , 6)\n",
    "\n",
    "graph1 = gs.import_onnx(onnx_model_1)\n",
    "for n in graph1.nodes:\n",
    "    for cn in n.inputs:\n",
    "        if cn.name[-1:] != 'a':\n",
    "            cn.name = f'{cn.name}a'\n",
    "        else:\n",
    "            pass\n",
    "    for cn in n.outputs:\n",
    "        if cn.name[-1:] != 'a':\n",
    "            cn.name = f'{cn.name}a'\n",
    "        else:\n",
    "            pass\n",
    "graph1_inputs = [o.name for o in graph1.inputs]\n",
    "print(f'graph1 inputs: {graph1_inputs}')\n",
    "graph1_outputs = [i.name for i in graph1.outputs]\n",
    "print(f'graph1 outputs: {graph1_outputs}')\n",
    "\n",
    "\n",
    "graph2 = gs.import_onnx(onnx_model_2)\n",
    "graph2_inputs = []\n",
    "for n in graph2.nodes:\n",
    "    for cn in n.inputs:\n",
    "        if cn.name[-1:] != 'b':\n",
    "            cn.name = f'{cn.name}b'\n",
    "        else:\n",
    "            pass\n",
    "    for cn in n.outputs:\n",
    "        if cn.name[-1:] != 'b':\n",
    "            cn.name = f'{cn.name}b'\n",
    "        else:\n",
    "            pass\n",
    "graph2_inputs = [i.name for i in graph2.inputs]\n",
    "print(f'graph2 inputs: {graph2_inputs}')\n",
    "graph2_outputs = [i.name for i in graph2.outputs]\n",
    "print(f'graph2 outputs: {graph2_outputs}')\n",
    "\n",
    "\n",
    "# Concatenate the two models\n",
    "merged_model = so.concat(sg1=onnx_model_1.graph, sg2=onnx_model_2.graph)\n",
    "\n",
    "# Save the merged model to file\n",
    "so.graph_to_file(merged_model, \"merged_model.onnx\")"
   ]
  },
  {
   "cell_type": "markdown",
   "id": "564ce84b",
   "metadata": {},
   "source": [
    "## Multiclass Classification"
   ]
  },
  {
   "cell_type": "markdown",
   "id": "8e0a7927",
   "metadata": {},
   "source": [
    "### Hyperparameter Tuning of the Feature Generator Model for Multiclass Labels"
   ]
  },
  {
   "cell_type": "code",
   "execution_count": 38,
   "id": "c4ca4f86",
   "metadata": {},
   "outputs": [
    {
     "name": "stdout",
     "output_type": "stream",
     "text": [
      "[0 0 1 0 0]\n"
     ]
    }
   ],
   "source": [
    "# Use oenhot encoding for training of feature generator\n",
    "print(y_mc_train[-1])"
   ]
  },
  {
   "cell_type": "code",
   "execution_count": 39,
   "id": "d7f17967",
   "metadata": {},
   "outputs": [
    {
     "name": "stdout",
     "output_type": "stream",
     "text": [
      "Trial 20 Complete [00h 00m 06s]\n",
      "val_accuracy: 0.4749999940395355\n",
      "\n",
      "Best val_accuracy So Far: 0.550000011920929\n",
      "Total elapsed time: 00h 03m 23s\n",
      "INFO:tensorflow:Oracle triggered exit\n"
     ]
    },
    {
     "name": "stderr",
     "output_type": "stream",
     "text": [
      "INFO:tensorflow:Oracle triggered exit\n"
     ]
    },
    {
     "name": "stdout",
     "output_type": "stream",
     "text": [
      "Results summary\n",
      "Results in .\\feature_generator_mc_hypertuning\n",
      "Showing 10 best trials\n",
      "Objective(name='val_accuracy', direction='max')\n",
      "Trial summary\n",
      "Hyperparameters:\n",
      "learning_rate: 0.000917719495101794\n",
      "batch_size: 8\n",
      "num_epochs: 10\n",
      "Score: 0.550000011920929\n",
      "Trial summary\n",
      "Hyperparameters:\n",
      "learning_rate: 0.0010915415536779968\n",
      "batch_size: 8\n",
      "num_epochs: 15\n",
      "Score: 0.550000011920929\n",
      "Trial summary\n",
      "Hyperparameters:\n",
      "learning_rate: 0.0008168733494958209\n",
      "batch_size: 14\n",
      "num_epochs: 35\n",
      "Score: 0.5249999761581421\n",
      "Trial summary\n",
      "Hyperparameters:\n",
      "learning_rate: 0.0019654755143473936\n",
      "batch_size: 32\n",
      "num_epochs: 40\n",
      "Score: 0.5249999761581421\n",
      "Trial summary\n",
      "Hyperparameters:\n",
      "learning_rate: 0.0017009400550778177\n",
      "batch_size: 12\n",
      "num_epochs: 40\n",
      "Score: 0.5249999761581421\n",
      "Trial summary\n",
      "Hyperparameters:\n",
      "learning_rate: 0.0007304921048211584\n",
      "batch_size: 12\n",
      "num_epochs: 15\n",
      "Score: 0.5249999761581421\n",
      "Trial summary\n",
      "Hyperparameters:\n",
      "learning_rate: 0.0009348060475112821\n",
      "batch_size: 6\n",
      "num_epochs: 15\n",
      "Score: 0.5249999761581421\n",
      "Trial summary\n",
      "Hyperparameters:\n",
      "learning_rate: 0.0005\n",
      "batch_size: 10\n",
      "num_epochs: 40\n",
      "Score: 0.5249999761581421\n",
      "Trial summary\n",
      "Hyperparameters:\n",
      "learning_rate: 0.0015708709780346223\n",
      "batch_size: 8\n",
      "num_epochs: 25\n",
      "Score: 0.5\n",
      "Trial summary\n",
      "Hyperparameters:\n",
      "learning_rate: 0.0005\n",
      "batch_size: 12\n",
      "num_epochs: 5\n",
      "Score: 0.5\n"
     ]
    }
   ],
   "source": [
    "# Hyperparameter tuning of the feature generator model\n",
    "\n",
    "# Define the maximum number of hyperparameter tuning trials\n",
    "MAX_TRIALS = 20\n",
    "\n",
    "# Create an own tuner class which inherits from bayesian optimization for hyperparameter tuning\n",
    "class SimpleTuner(kt.tuners.BayesianOptimization):\n",
    "\n",
    "    def run_trial(self, trial, *args, **kwargs):\n",
    "        # You can add additional HyperParameters for preprocessing and custom training loops\n",
    "        # via overriding `run_trial`\n",
    "        kwargs['batch_size'] = trial.hyperparameters.Int('batch_size', min_value=2, max_value=32, step=2, default=8)\n",
    "        kwargs['epochs'] = trial.hyperparameters.Int('num_epochs', min_value=5, max_value=40, step=5, default=10)\n",
    "        return super(SimpleTuner, self).run_trial(trial, *args, **kwargs)\n",
    "\n",
    "# Build the hypermodel of the feature generator\n",
    "def build_feature_generator_mc_hypermodel(hp):\n",
    "    \n",
    "    x = tf.keras.layers.Input(shape=[*IMAGE_SIZE,1]) # input is 32x32 pixels RGB\n",
    "    y = tf.keras.layers.Conv2D(kernel_size=3, filters=4, strides=(2,2), padding='same', use_bias=True, activation='relu')(x) # 32x32 -> 16x16\n",
    "    y = tf.keras.layers.Conv2D(kernel_size=3, filters=8, strides=(2,2), padding='same', use_bias=True, activation='relu')(y) # 16x16 -> 8x8\n",
    "    y = tf.keras.layers.Conv2D(kernel_size=3, filters=8, strides=(2,2), padding='same', use_bias=True, activation='relu')(y) # 8x8 -> 4x4\n",
    "    y = tf.keras.layers.Conv2D(kernel_size=3, filters=8, strides=(2,2), padding='same', use_bias=True, activation='relu')(y) # 4x4 -> 2x2\n",
    "    y = tf.keras.layers.Conv2D(kernel_size=3, filters=512, strides=(2,2), padding='same', use_bias=True, activation='relu')(y) # 2x2 -> 1x1\n",
    "    y = tf.keras.layers.GlobalAveragePooling2D()(y)\n",
    "    y = tf.keras.layers.Dense(64)(y)\n",
    "    y = tf.keras.layers.Dense(32)(y)\n",
    "    y = tf.keras.layers.Dropout(0.2)(y)\n",
    "    y = tf.keras.layers.Dense(5, activation='softmax')(y)\n",
    "\n",
    "    model = tf.keras.Model(x, y,name=\"feature_generator_mc_hypermodel\")\n",
    "\n",
    "    model.compile(optimizer=tf.keras.optimizers\n",
    "                  .Adam(learning_rate=hp.Float('learning_rate', min_value=0.5e-03, max_value=2e-03, default=1e-03)),\n",
    "                  loss= 'categorical_crossentropy',\n",
    "                  metrics=['accuracy'])\n",
    "    \n",
    "    return model\n",
    "\n",
    "# Generate an instance of the tuner\n",
    "tuner = SimpleTuner(build_feature_generator_mc_hypermodel,\n",
    "                    objective='val_accuracy',\n",
    "                    max_trials=MAX_TRIALS,\n",
    "                    metrics=['accuracy'],\n",
    "                    max_model_size=None,\n",
    "                    directory=\".\",\n",
    "                    project_name=\"feature_generator_mc_hypertuning\",\n",
    "                    logger=None)\n",
    "\n",
    "# Do the hyperparameter tuning\n",
    "tuner.search(X_mc_train, y_mc_train, validation_data=(X_mc_val, y_mc_val))\n",
    "\n",
    "# Prints out the summary of hyperparameter tuning\n",
    "tuner.results_summary()\n",
    "\n",
    "# Get the best model of all the created models during hyperparameter tuning\n",
    "model_mc = tuner.get_best_models()[0]\n"
   ]
  },
  {
   "cell_type": "markdown",
   "id": "ccdb05de",
   "metadata": {},
   "source": [
    "### Build Feature Generator Model from Convolutional Layers as Separate Model "
   ]
  },
  {
   "cell_type": "code",
   "execution_count": 40,
   "id": "b790b41a",
   "metadata": {},
   "outputs": [
    {
     "name": "stdout",
     "output_type": "stream",
     "text": [
      "Model: \"feature_generator_mc_conv\"\n",
      "_________________________________________________________________\n",
      "Layer (type)                 Output Shape              Param #   \n",
      "=================================================================\n",
      "conv2d_4 (Functional)        (None, 1, 1, 512)         38880     \n",
      "_________________________________________________________________\n",
      "reshape (Reshape)            (None, 512)               0         \n",
      "=================================================================\n",
      "Total params: 38,880\n",
      "Trainable params: 38,880\n",
      "Non-trainable params: 0\n",
      "_________________________________________________________________\n"
     ]
    }
   ],
   "source": [
    "# Get the last element from the list wbich is a model with all convolutional layers\n",
    "feature_generators_mc_list = get_conv_layer_list(model_mc)\n",
    "feature_generator_mc_convs = feature_generators_mc_list[-1]\n",
    "\n",
    "# Create a new model with a reshape layer at the end\n",
    "feature_generator_mc = tf.keras.models.Sequential(name=\"feature_generator_mc_conv\")\n",
    "feature_generator_mc.add(feature_generator_mc_convs)\n",
    "feature_generator_mc.add(tf.keras.layers.Reshape([512]))\n",
    "\n",
    "# Plot the model summary\n",
    "feature_generator_mc.build(input_shape=(32, 32, 1))\n",
    "feature_generator_mc.summary()"
   ]
  },
  {
   "cell_type": "code",
   "execution_count": 41,
   "id": "3aeab63b",
   "metadata": {},
   "outputs": [
    {
     "data": {
      "image/png": "[encoded data removed]",
      "text/plain": [
       "<IPython.core.display.Image object>"
      ]
     },
     "execution_count": 41,
     "metadata": {},
     "output_type": "execute_result"
    }
   ],
   "source": [
    "# Plot the feature generator model\n",
    "# `rankdir='LR'` is to make the graph horizontal.\n",
    "%matplotlib inline\n",
    "tf.keras.utils.plot_model(feature_generator_mc, to_file=\"feature_generator_mc_model.png\", show_shapes=True, rankdir=\"TB\")"
   ]
  },
  {
   "cell_type": "markdown",
   "id": "52174924",
   "metadata": {},
   "source": [
    "### Prepare Data for Classifier"
   ]
  },
  {
   "cell_type": "code",
   "execution_count": 42,
   "id": "e0175457",
   "metadata": {},
   "outputs": [
    {
     "data": {
      "text/html": [
       "<div>\n",
       "<style scoped>\n",
       "    .dataframe tbody tr th:only-of-type {\n",
       "        vertical-align: middle;\n",
       "    }\n",
       "\n",
       "    .dataframe tbody tr th {\n",
       "        vertical-align: top;\n",
       "    }\n",
       "\n",
       "    .dataframe thead th {\n",
       "        text-align: right;\n",
       "    }\n",
       "</style>\n",
       "<table border=\"1\" class=\"dataframe\">\n",
       "  <thead>\n",
       "    <tr style=\"text-align: right;\">\n",
       "      <th></th>\n",
       "      <th>0</th>\n",
       "      <th>1</th>\n",
       "      <th>2</th>\n",
       "      <th>3</th>\n",
       "      <th>4</th>\n",
       "      <th>5</th>\n",
       "      <th>6</th>\n",
       "      <th>7</th>\n",
       "      <th>8</th>\n",
       "      <th>9</th>\n",
       "      <th>...</th>\n",
       "      <th>510</th>\n",
       "      <th>511</th>\n",
       "      <th>512</th>\n",
       "      <th>513</th>\n",
       "      <th>514</th>\n",
       "      <th>515</th>\n",
       "      <th>516</th>\n",
       "      <th>517</th>\n",
       "      <th>518</th>\n",
       "      <th>519</th>\n",
       "    </tr>\n",
       "  </thead>\n",
       "  <tbody>\n",
       "    <tr>\n",
       "      <th>0</th>\n",
       "      <td>521</td>\n",
       "      <td>2021-05-07 13:06:24</td>\n",
       "      <td>3078</td>\n",
       "      <td>21.299999</td>\n",
       "      <td>-67</td>\n",
       "      <td>[[12.0, 10.4, 11.1, 10.9, 10.9, 12.0, 11.6, 11...</td>\n",
       "      <td>True</td>\n",
       "      <td>0</td>\n",
       "      <td>0.052727</td>\n",
       "      <td>0.0</td>\n",
       "      <td>...</td>\n",
       "      <td>0.008132</td>\n",
       "      <td>0.0</td>\n",
       "      <td>0.021575</td>\n",
       "      <td>0.0</td>\n",
       "      <td>0.0</td>\n",
       "      <td>0.0</td>\n",
       "      <td>0.0</td>\n",
       "      <td>0.048141</td>\n",
       "      <td>0.0</td>\n",
       "      <td>0.044821</td>\n",
       "    </tr>\n",
       "    <tr>\n",
       "      <th>1</th>\n",
       "      <td>2940</td>\n",
       "      <td>2021-05-07 13:10:22</td>\n",
       "      <td>3078</td>\n",
       "      <td>22.4</td>\n",
       "      <td>-76</td>\n",
       "      <td>[[11.8, 10.3, 11.2, 11.8, 10.6, 11.3, 11.4, 11...</td>\n",
       "      <td>True</td>\n",
       "      <td>0</td>\n",
       "      <td>0.0228</td>\n",
       "      <td>0.0</td>\n",
       "      <td>...</td>\n",
       "      <td>0.007684</td>\n",
       "      <td>0.0</td>\n",
       "      <td>0.005743</td>\n",
       "      <td>0.0</td>\n",
       "      <td>0.0</td>\n",
       "      <td>0.0</td>\n",
       "      <td>0.0</td>\n",
       "      <td>0.025739</td>\n",
       "      <td>0.0</td>\n",
       "      <td>0.028538</td>\n",
       "    </tr>\n",
       "  </tbody>\n",
       "</table>\n",
       "<p>2 rows × 520 columns</p>\n",
       "</div>"
      ],
      "text/plain": [
       "    0                   1     2          3    4    \\\n",
       "0   521 2021-05-07 13:06:24  3078  21.299999  -67   \n",
       "1  2940 2021-05-07 13:10:22  3078       22.4  -76   \n",
       "\n",
       "                                                 5     6   7         8    9    \\\n",
       "0  [[12.0, 10.4, 11.1, 10.9, 10.9, 12.0, 11.6, 11...  True   0  0.052727  0.0   \n",
       "1  [[11.8, 10.3, 11.2, 11.8, 10.6, 11.3, 11.4, 11...  True   0    0.0228  0.0   \n",
       "\n",
       "   ...       510  511       512  513  514  515  516       517  518       519  \n",
       "0  ...  0.008132  0.0  0.021575  0.0  0.0  0.0  0.0  0.048141  0.0  0.044821  \n",
       "1  ...  0.007684  0.0  0.005743  0.0  0.0  0.0  0.0  0.025739  0.0  0.028538  \n",
       "\n",
       "[2 rows x 520 columns]"
      ]
     },
     "execution_count": 42,
     "metadata": {},
     "output_type": "execute_result"
    }
   ],
   "source": [
    "# Add the generated features as extra columns to the data\n",
    "df_train_mc_expanded = pd.DataFrame(np.concatenate([df_mc.head(X_mc.shape[0]), feature_generator_mc.predict(X)], axis=1))\n",
    "\n",
    "# Show the data\n",
    "df_train_mc_expanded.head(n=2)"
   ]
  },
  {
   "cell_type": "code",
   "execution_count": 43,
   "id": "1f353956",
   "metadata": {},
   "outputs": [
    {
     "name": "stdout",
     "output_type": "stream",
     "text": [
      "(200,)\n",
      "(200, 512)\n"
     ]
    }
   ],
   "source": [
    "# Prepare the data for gradient boosting\n",
    "y_mc_clf = df_train_mc_expanded[7].to_numpy().astype(int)\n",
    "X_mc_clf= df_train_mc_expanded.iloc[:,8:].to_numpy()\n",
    "print(y_mc_clf.shape)\n",
    "print(X_mc_clf.shape)"
   ]
  },
  {
   "cell_type": "code",
   "execution_count": 44,
   "id": "d0150b30",
   "metadata": {},
   "outputs": [
    {
     "name": "stdout",
     "output_type": "stream",
     "text": [
      "(180, 512)\n",
      "(180,)\n",
      "(20, 512)\n",
      "(20,)\n"
     ]
    }
   ],
   "source": [
    "# Create train / test split\n",
    "X_mc_train_clf, X_mc_test_clf, y_mc_train_clf, y_mc_test_clf = train_test_split(X_mc_clf, y_mc_clf, test_size=0.1, random_state=0)\n",
    "\n",
    "# Print the data shape\n",
    "print(X_mc_train_clf.shape)\n",
    "print(y_mc_train_clf.shape)\n",
    "print(X_mc_test_clf.shape)\n",
    "print(y_mc_test_clf.shape)"
   ]
  },
  {
   "cell_type": "markdown",
   "id": "3fc675f4",
   "metadata": {},
   "source": [
    "### Simple GBT Classifier "
   ]
  },
  {
   "cell_type": "code",
   "execution_count": 45,
   "id": "34ead457",
   "metadata": {},
   "outputs": [
    {
     "name": "stdout",
     "output_type": "stream",
     "text": [
      "Train Accuracy: 0.9666666666666667\n",
      "Test Accuracy:  0.45\n",
      "Ground Truth (Test): [0 2 3 3 0 0 2 3 0 2 2 3 2 0 2 0 0 2 0 3]\n",
      "Prediction (Test):   [2 1 2 2 0 0 2 2 2 2 2 2 2 0 2 2 2 0 0 2]\n"
     ]
    },
    {
     "data": {
      "image/png": "[encoded data removed]",
      "text/plain": [
       "<Figure size 432x288 with 2 Axes>"
      ]
     },
     "metadata": {
      "needs_background": "light"
     },
     "output_type": "display_data"
    }
   ],
   "source": [
    "# Train the GBT\n",
    "clf_mc = GradientBoostingClassifier(n_estimators=300, learning_rate=1.0, max_depth=3, random_state=0).fit(X_mc_train_clf, y_mc_train_clf)\n",
    "\n",
    "# Mean train accuracy\n",
    "train_acc = clf_mc.score(X_mc_train_clf, y_mc_train_clf)\n",
    "print(f\"Train Accuracy: {train_acc}\")\n",
    "\n",
    "# Get the prediction\n",
    "y_mc_pred = clf_mc.predict(X_mc_test_clf)\n",
    "\n",
    "# Mean test accuracy\n",
    "test_acc = accuracy_score(y_mc_test_clf, y_mc_pred)\n",
    "print(f\"Test Accuracy:  {test_acc}\")\n",
    "\n",
    "# Ground truth and predicted labels\n",
    "print(f\"Ground Truth (Test): {y_mc_test_clf}\")\n",
    "print(f\"Prediction (Test):   {y_mc_pred}\")\n",
    "\n",
    "# Calculate and display the confusion matrix\n",
    "conf_mat = confusion_matrix(y_mc_test_clf, y_mc_pred, labels=[0, 1, 2, 3, 4], normalize=\"all\")\n",
    "disp = ConfusionMatrixDisplay(conf_mat, display_labels=[\"Human\", \"Several Humans\", \"Non-Human Heat\", \"Ambiguous Heat\", \"No Heat\"])\n",
    "disp.plot(values_format=\".0%\", xticks_rotation=\"vertical\")\n",
    "plt.title(\"Confusion Matrix\")\n",
    "# Change the font sizes of the plot\n",
    "plt.rc('font', size=12)          # controls default text sizes\n",
    "plt.rc('axes', titlesize=14)     # fontsize of the axes title\n",
    "plt.rc('axes', labelsize=14)    # fontsize of the x and y labels\n",
    "plt.rc('xtick', labelsize=14)    # fontsize of the tick labels\n",
    "plt.rc('ytick', labelsize=14)    # fontsize of the tick labels\n",
    "plt.rc('figure', titlesize=18)  # fontsize of the figure title\n",
    "# Save and show the plot\n",
    "plt.savefig(\"confusion_matrix_simple_gbt_mc.png\", dpi=400, bbox_inches=\"tight\")\n",
    "plt.show()\n"
   ]
  }
 ],
 "metadata": {
  "kernelspec": {
   "display_name": "Python 3 (ipykernel)",
   "language": "python",
   "name": "python3"
  },
  "language_info": {
   "codemirror_mode": {
    "name": "ipython",
    "version": 3
   },
   "file_extension": ".py",
   "mimetype": "text/x-python",
   "name": "python",
   "nbconvert_exporter": "python",
   "pygments_lexer": "ipython3",
   "version": "3.8.12"
  }
 },
 "nbformat": 4,
 "nbformat_minor": 5
}
