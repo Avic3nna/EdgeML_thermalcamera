{
 "cells": [
  {
   "cell_type": "markdown",
   "id": "045401df",
   "metadata": {},
   "source": [
    "# Gradient Boosting Classifier"
   ]
  },
  {
   "cell_type": "markdown",
   "id": "afe0b202",
   "metadata": {},
   "source": [
    "ToDo's:\n",
    "- Renaming of variables\n",
    "- Nice print statements\n",
    "- Hypertuning for CNN model\n",
    "- Change multilabel classification (optional)"
   ]
  },
  {
   "cell_type": "code",
   "execution_count": 31,
   "id": "37a5c481",
   "metadata": {},
   "outputs": [],
   "source": [
    "import pandas as pd\n",
    "import numpy as np\n",
    "import tensorflow as tf\n",
    "import matplotlib.pyplot as plt\n",
    "import sklearn as skl\n",
    "from sklearn.model_selection import train_test_split\n",
    "from sklearn.ensemble import GradientBoostingClassifier\n",
    "from sklearn.svm import SVC\n",
    "from sklearn.metrics import *\n",
    "from sklearn.preprocessing import *\n",
    "from skl2onnx import convert_sklearn\n",
    "from skl2onnx.common.data_types import FloatTensorType\n",
    "from skl2onnx import to_onnx\n",
    "from skl2onnx import update_registered_converter\n",
    "from skl2onnx.common.data_types import guess_numpy_type\n",
    "from skl2onnx.algebra.onnx_ops import (\n",
    "    OnnxSub, OnnxMatMul, OnnxGemm)\n",
    "from skl2onnx import to_onnx, get_model_alias\n",
    "import sclblonnx as so\n",
    "from mlprodict.onnxrt import OnnxInference\n",
    "import numpy\n",
    "from onnxruntime import InferenceSession\n",
    "import onnx_graphsurgeon as gs\n",
    "import tf2onnx\n",
    "from onnx import *\n",
    "from onnx import version_converter\n",
    "from onnx_tf.backend import prepare\n",
    "import pickle\n",
    "import sys\n",
    "import joblib\n",
    "import os\n",
    "import keras_tuner as kt\n",
    "\n",
    "IMAGE_SIZE = [32, 32]"
   ]
  },
  {
   "cell_type": "code",
   "execution_count": 32,
   "id": "e7966571",
   "metadata": {},
   "outputs": [],
   "source": [
    "df = pd.read_json('../data/labelled_data/whole_data_1637521796.json', orient='records')"
   ]
  },
  {
   "cell_type": "code",
   "execution_count": 3,
   "id": "afcc543e",
   "metadata": {},
   "outputs": [
    {
     "name": "stdout",
     "output_type": "stream",
     "text": [
      "amount of samples: 200\n"
     ]
    },
    {
     "data": {
      "text/html": [
       "<div>\n",
       "<style scoped>\n",
       "    .dataframe tbody tr th:only-of-type {\n",
       "        vertical-align: middle;\n",
       "    }\n",
       "\n",
       "    .dataframe tbody tr th {\n",
       "        vertical-align: top;\n",
       "    }\n",
       "\n",
       "    .dataframe thead th {\n",
       "        text-align: right;\n",
       "    }\n",
       "</style>\n",
       "<table border=\"1\" class=\"dataframe\">\n",
       "  <thead>\n",
       "    <tr style=\"text-align: right;\">\n",
       "      <th></th>\n",
       "      <th>index</th>\n",
       "      <th>Timestamp</th>\n",
       "      <th>Sensor ID</th>\n",
       "      <th>Room Temperature</th>\n",
       "      <th>RSSI</th>\n",
       "      <th>data</th>\n",
       "      <th>changed</th>\n",
       "      <th>label</th>\n",
       "    </tr>\n",
       "  </thead>\n",
       "  <tbody>\n",
       "    <tr>\n",
       "      <th>521</th>\n",
       "      <td>521</td>\n",
       "      <td>2021-05-07 13:06:24</td>\n",
       "      <td>3078</td>\n",
       "      <td>21.299999</td>\n",
       "      <td>-67</td>\n",
       "      <td>[[12.0, 10.4, 11.1, 10.9, 10.9, 12.0, 11.6, 11...</td>\n",
       "      <td>True</td>\n",
       "      <td>Human</td>\n",
       "    </tr>\n",
       "    <tr>\n",
       "      <th>2940</th>\n",
       "      <td>2940</td>\n",
       "      <td>2021-05-07 13:10:22</td>\n",
       "      <td>3078</td>\n",
       "      <td>22.400000</td>\n",
       "      <td>-76</td>\n",
       "      <td>[[11.8, 10.3, 11.2, 11.8, 10.6, 11.3, 11.4, 11...</td>\n",
       "      <td>True</td>\n",
       "      <td>Human</td>\n",
       "    </tr>\n",
       "    <tr>\n",
       "      <th>226</th>\n",
       "      <td>226</td>\n",
       "      <td>2021-05-07 13:05:55</td>\n",
       "      <td>3078</td>\n",
       "      <td>21.100000</td>\n",
       "      <td>-68</td>\n",
       "      <td>[[11.5, 10.5, 12.0, 12.5, 12.6, 13.0, 12.6, 12...</td>\n",
       "      <td>True</td>\n",
       "      <td>Ambigous heat</td>\n",
       "    </tr>\n",
       "  </tbody>\n",
       "</table>\n",
       "</div>"
      ],
      "text/plain": [
       "      index           Timestamp Sensor ID  Room Temperature  RSSI  \\\n",
       "521     521 2021-05-07 13:06:24      3078         21.299999   -67   \n",
       "2940   2940 2021-05-07 13:10:22      3078         22.400000   -76   \n",
       "226     226 2021-05-07 13:05:55      3078         21.100000   -68   \n",
       "\n",
       "                                                   data  changed  \\\n",
       "521   [[12.0, 10.4, 11.1, 10.9, 10.9, 12.0, 11.6, 11...     True   \n",
       "2940  [[11.8, 10.3, 11.2, 11.8, 10.6, 11.3, 11.4, 11...     True   \n",
       "226   [[11.5, 10.5, 12.0, 12.5, 12.6, 13.0, 12.6, 12...     True   \n",
       "\n",
       "              label  \n",
       "521           Human  \n",
       "2940          Human  \n",
       "226   Ambigous heat  "
      ]
     },
     "execution_count": 3,
     "metadata": {},
     "output_type": "execute_result"
    }
   ],
   "source": [
    "# Show amount of samples\n",
    "print(\"amount of samples:\", df.shape[0])\n",
    "df.head(n=3)"
   ]
  },
  {
   "cell_type": "markdown",
   "id": "dc89acfd",
   "metadata": {},
   "source": [
    "## Binary Classification"
   ]
  },
  {
   "cell_type": "markdown",
   "id": "446e50ca",
   "metadata": {},
   "source": [
    "### Data Preparation"
   ]
  },
  {
   "cell_type": "code",
   "execution_count": 4,
   "id": "94973a62",
   "metadata": {},
   "outputs": [
    {
     "data": {
      "text/html": [
       "<div>\n",
       "<style scoped>\n",
       "    .dataframe tbody tr th:only-of-type {\n",
       "        vertical-align: middle;\n",
       "    }\n",
       "\n",
       "    .dataframe tbody tr th {\n",
       "        vertical-align: top;\n",
       "    }\n",
       "\n",
       "    .dataframe thead th {\n",
       "        text-align: right;\n",
       "    }\n",
       "</style>\n",
       "<table border=\"1\" class=\"dataframe\">\n",
       "  <thead>\n",
       "    <tr style=\"text-align: right;\">\n",
       "      <th></th>\n",
       "      <th>index</th>\n",
       "      <th>Timestamp</th>\n",
       "      <th>Sensor ID</th>\n",
       "      <th>Room Temperature</th>\n",
       "      <th>RSSI</th>\n",
       "      <th>data</th>\n",
       "      <th>changed</th>\n",
       "      <th>label</th>\n",
       "    </tr>\n",
       "  </thead>\n",
       "  <tbody>\n",
       "    <tr>\n",
       "      <th>521</th>\n",
       "      <td>521</td>\n",
       "      <td>2021-05-07 13:06:24</td>\n",
       "      <td>3078</td>\n",
       "      <td>21.299999</td>\n",
       "      <td>-67</td>\n",
       "      <td>[[12.0, 10.4, 11.1, 10.9, 10.9, 12.0, 11.6, 11...</td>\n",
       "      <td>True</td>\n",
       "      <td>1</td>\n",
       "    </tr>\n",
       "    <tr>\n",
       "      <th>2940</th>\n",
       "      <td>2940</td>\n",
       "      <td>2021-05-07 13:10:22</td>\n",
       "      <td>3078</td>\n",
       "      <td>22.400000</td>\n",
       "      <td>-76</td>\n",
       "      <td>[[11.8, 10.3, 11.2, 11.8, 10.6, 11.3, 11.4, 11...</td>\n",
       "      <td>True</td>\n",
       "      <td>1</td>\n",
       "    </tr>\n",
       "    <tr>\n",
       "      <th>226</th>\n",
       "      <td>226</td>\n",
       "      <td>2021-05-07 13:05:55</td>\n",
       "      <td>3078</td>\n",
       "      <td>21.100000</td>\n",
       "      <td>-68</td>\n",
       "      <td>[[11.5, 10.5, 12.0, 12.5, 12.6, 13.0, 12.6, 12...</td>\n",
       "      <td>True</td>\n",
       "      <td>0</td>\n",
       "    </tr>\n",
       "  </tbody>\n",
       "</table>\n",
       "</div>"
      ],
      "text/plain": [
       "      index           Timestamp Sensor ID  Room Temperature  RSSI  \\\n",
       "521     521 2021-05-07 13:06:24      3078         21.299999   -67   \n",
       "2940   2940 2021-05-07 13:10:22      3078         22.400000   -76   \n",
       "226     226 2021-05-07 13:05:55      3078         21.100000   -68   \n",
       "\n",
       "                                                   data  changed  label  \n",
       "521   [[12.0, 10.4, 11.1, 10.9, 10.9, 12.0, 11.6, 11...     True      1  \n",
       "2940  [[11.8, 10.3, 11.2, 11.8, 10.6, 11.3, 11.4, 11...     True      1  \n",
       "226   [[11.5, 10.5, 12.0, 12.5, 12.6, 13.0, 12.6, 12...     True      0  "
      ]
     },
     "execution_count": 4,
     "metadata": {},
     "output_type": "execute_result"
    }
   ],
   "source": [
    "# convert labels to binary\n",
    "binary_label_converter = { \n",
    "    'Human': 1,\n",
    "    'Several humans': 1, \n",
    "    'Non-human heat': 0, \n",
    "    'Ambigous heat': 0,\n",
    "    'No heat':  0,\n",
    "}\n",
    "\n",
    "\n",
    "df_binary = df.copy()\n",
    "\n",
    "df_binary['label'] = df['label'].apply(lambda x: binary_label_converter[x])\n",
    "df_binary.head(n=3)"
   ]
  },
  {
   "cell_type": "code",
   "execution_count": 5,
   "id": "57395474",
   "metadata": {},
   "outputs": [
    {
     "name": "stdout",
     "output_type": "stream",
     "text": [
      "(200,)\n",
      "(200, 32, 32, 1)\n"
     ]
    }
   ],
   "source": [
    "# Prepare the data\n",
    "y = df_binary['label'].to_numpy()\n",
    "X = np.array(df_binary['data'].to_list())\n",
    "X = np.expand_dims(X, axis=3)\n",
    "\n",
    "\n",
    "print(y.shape)\n",
    "print(X.shape)"
   ]
  },
  {
   "cell_type": "code",
   "execution_count": 6,
   "id": "cb50cbff",
   "metadata": {},
   "outputs": [
    {
     "name": "stdout",
     "output_type": "stream",
     "text": [
      "(180, 32, 32, 1)\n",
      "(180,)\n",
      "(15, 32, 32, 1)\n",
      "(15,)\n"
     ]
    }
   ],
   "source": [
    "# Create train / val / test split\n",
    "X_train, X_test, y_train, y_test = train_test_split(X, y, test_size=0.1, random_state=0)\n",
    "X_val, X_test, y_val, y_test = train_test_split(X_test, y_test, test_size=0.25, random_state=0)\n",
    "\n",
    "print(X_train.shape)\n",
    "print(y_train.shape)\n",
    "print(X_val.shape)\n",
    "print(y_val.shape)"
   ]
  },
  {
   "cell_type": "markdown",
   "id": "3da57473",
   "metadata": {},
   "source": [
    "### Feature Generation Model"
   ]
  },
  {
   "cell_type": "code",
   "execution_count": 7,
   "id": "de669427",
   "metadata": {},
   "outputs": [
    {
     "name": "stdout",
     "output_type": "stream",
     "text": [
      "Model: \"feature_generator\"\n",
      "_________________________________________________________________\n",
      "Layer (type)                 Output Shape              Param #   \n",
      "=================================================================\n",
      "input_1 (InputLayer)         [(None, 32, 32, 1)]       0         \n",
      "_________________________________________________________________\n",
      "conv2d (Conv2D)              (None, 16, 16, 4)         40        \n",
      "_________________________________________________________________\n",
      "conv2d_1 (Conv2D)            (None, 8, 8, 8)           296       \n",
      "_________________________________________________________________\n",
      "conv2d_2 (Conv2D)            (None, 4, 4, 8)           584       \n",
      "_________________________________________________________________\n",
      "conv2d_3 (Conv2D)            (None, 2, 2, 8)           584       \n",
      "_________________________________________________________________\n",
      "conv2d_4 (Conv2D)            (None, 1, 1, 512)         37376     \n",
      "_________________________________________________________________\n",
      "global_average_pooling2d (Gl (None, 512)               0         \n",
      "_________________________________________________________________\n",
      "dense (Dense)                (None, 64)                32832     \n",
      "_________________________________________________________________\n",
      "dense_1 (Dense)              (None, 32)                2080      \n",
      "_________________________________________________________________\n",
      "dropout (Dropout)            (None, 32)                0         \n",
      "_________________________________________________________________\n",
      "dense_2 (Dense)              (None, 2)                 66        \n",
      "=================================================================\n",
      "Total params: 73,858\n",
      "Trainable params: 73,858\n",
      "Non-trainable params: 0\n",
      "_________________________________________________________________\n"
     ]
    }
   ],
   "source": [
    "# Simple CNN model\n",
    "\n",
    "x = tf.keras.layers.Input(shape=[*IMAGE_SIZE,1]) # input is 32x32 pixels RGB\n",
    "y = tf.keras.layers.Conv2D(kernel_size=3, filters=4, strides=(2,2), padding='same', use_bias=True, activation='relu')(x) # 32x32 -> 16x16\n",
    "y = tf.keras.layers.Conv2D(kernel_size=3, filters=8, strides=(2,2), padding='same', use_bias=True, activation='relu')(y) # 16x16 -> 8x8\n",
    "y = tf.keras.layers.Conv2D(kernel_size=3, filters=8, strides=(2,2), padding='same', use_bias=True, activation='relu')(y) # 8x8 -> 4x4\n",
    "y = tf.keras.layers.Conv2D(kernel_size=3, filters=8, strides=(2,2), padding='same', use_bias=True, activation='relu')(y) # 4x4 -> 2x2\n",
    "y = tf.keras.layers.Conv2D(kernel_size=3, filters=512, strides=(2,2), padding='same', use_bias=True, activation='relu')(y) # 2x2 -> 1x1\n",
    "y = tf.keras.layers.GlobalAveragePooling2D()(y)\n",
    "y = tf.keras.layers.Dense(64)(y)\n",
    "y = tf.keras.layers.Dense(32)(y)\n",
    "y = tf.keras.layers.Dropout(0.2)(y)\n",
    "y = tf.keras.layers.Dense(2, activation='softmax')(y)\n",
    "\n",
    "model = tf.keras.Model(x, y,name=\"feature_generator\")\n",
    "\n",
    "\n",
    "model.compile(\n",
    "optimizer='adam',\n",
    "loss= 'sparse_categorical_crossentropy',\n",
    "metrics=['accuracy'])\n",
    "model.build(input_shape=(None, 32, 32, 1))\n",
    "model.summary()"
   ]
  },
  {
   "cell_type": "code",
   "execution_count": 8,
   "id": "fd2d24eb",
   "metadata": {},
   "outputs": [
    {
     "data": {
      "image/png": "[encoded data removed]",
      "text/plain": [
       "<IPython.core.display.Image object>"
      ]
     },
     "execution_count": 8,
     "metadata": {},
     "output_type": "execute_result"
    }
   ],
   "source": [
    "# Plot the model\n",
    "# `rankdir='LR'` is to make the graph horizontal.\n",
    "%matplotlib inline\n",
    "tf.keras.utils.plot_model(model, show_shapes=True, rankdir=\"LR\")"
   ]
  },
  {
   "cell_type": "code",
   "execution_count": 9,
   "id": "6a0d0981",
   "metadata": {},
   "outputs": [
    {
     "name": "stdout",
     "output_type": "stream",
     "text": [
      "Epoch 1/20\n",
      "23/23 [==============================] - 6s 50ms/step - loss: 0.6928 - accuracy: 0.6056 - val_loss: 0.6621 - val_accuracy: 0.6000\n",
      "Epoch 2/20\n",
      "23/23 [==============================] - 0s 12ms/step - loss: 0.6541 - accuracy: 0.6278 - val_loss: 0.6242 - val_accuracy: 0.6000\n",
      "Epoch 3/20\n",
      "23/23 [==============================] - 0s 10ms/step - loss: 0.6352 - accuracy: 0.6500 - val_loss: 0.5757 - val_accuracy: 0.7333\n",
      "Epoch 4/20\n",
      "23/23 [==============================] - 0s 10ms/step - loss: 0.5810 - accuracy: 0.7222 - val_loss: 0.4981 - val_accuracy: 0.8000\n",
      "Epoch 5/20\n",
      "23/23 [==============================] - 0s 10ms/step - loss: 0.6543 - accuracy: 0.6278 - val_loss: 0.5422 - val_accuracy: 0.7333\n",
      "Epoch 6/20\n",
      "23/23 [==============================] - 0s 10ms/step - loss: 0.5714 - accuracy: 0.7444 - val_loss: 0.4945 - val_accuracy: 0.8667\n",
      "Epoch 7/20\n",
      "23/23 [==============================] - 0s 10ms/step - loss: 0.5668 - accuracy: 0.7000 - val_loss: 0.4845 - val_accuracy: 0.8000\n",
      "Epoch 8/20\n",
      "23/23 [==============================] - 0s 10ms/step - loss: 0.5453 - accuracy: 0.7722 - val_loss: 0.4862 - val_accuracy: 0.7333\n",
      "Epoch 9/20\n",
      "23/23 [==============================] - 0s 11ms/step - loss: 0.5384 - accuracy: 0.6889 - val_loss: 0.4524 - val_accuracy: 0.8000\n",
      "Epoch 10/20\n",
      "23/23 [==============================] - 0s 11ms/step - loss: 0.5103 - accuracy: 0.7833 - val_loss: 0.4665 - val_accuracy: 0.8000\n",
      "Epoch 11/20\n",
      "23/23 [==============================] - 0s 11ms/step - loss: 0.5496 - accuracy: 0.7278 - val_loss: 0.4767 - val_accuracy: 0.8000\n",
      "Epoch 12/20\n",
      "23/23 [==============================] - 0s 10ms/step - loss: 0.5265 - accuracy: 0.7278 - val_loss: 0.4362 - val_accuracy: 0.8000\n",
      "Epoch 13/20\n",
      "23/23 [==============================] - 0s 10ms/step - loss: 0.5283 - accuracy: 0.7611 - val_loss: 0.4447 - val_accuracy: 0.8000\n",
      "Epoch 14/20\n",
      "23/23 [==============================] - 0s 10ms/step - loss: 0.5171 - accuracy: 0.7444 - val_loss: 0.4140 - val_accuracy: 0.8667\n",
      "Epoch 15/20\n",
      "23/23 [==============================] - 0s 10ms/step - loss: 0.4787 - accuracy: 0.7778 - val_loss: 0.4388 - val_accuracy: 0.8000\n",
      "Epoch 16/20\n",
      "23/23 [==============================] - 0s 10ms/step - loss: 0.4802 - accuracy: 0.7833 - val_loss: 0.4131 - val_accuracy: 0.8000\n",
      "Epoch 17/20\n",
      "23/23 [==============================] - 0s 10ms/step - loss: 0.4437 - accuracy: 0.7889 - val_loss: 0.3834 - val_accuracy: 0.9333\n",
      "Epoch 18/20\n",
      "23/23 [==============================] - 0s 11ms/step - loss: 0.4495 - accuracy: 0.7889 - val_loss: 0.4323 - val_accuracy: 0.8667\n",
      "Epoch 19/20\n",
      "23/23 [==============================] - 0s 10ms/step - loss: 0.5060 - accuracy: 0.7722 - val_loss: 0.4551 - val_accuracy: 0.8000\n",
      "Epoch 20/20\n",
      "23/23 [==============================] - 0s 12ms/step - loss: 0.4302 - accuracy: 0.7833 - val_loss: 0.4054 - val_accuracy: 0.8667\n"
     ]
    },
    {
     "data": {
      "image/png": "[encoded data removed]",
      "text/plain": [
       "<Figure size 432x288 with 1 Axes>"
      ]
     },
     "metadata": {
      "needs_background": "light"
     },
     "output_type": "display_data"
    }
   ],
   "source": [
    "# Fit the model\n",
    "EPOCHS = 20\n",
    "BATCH_SIZE = 8\n",
    "history = model.fit(X_train, y_train, epochs=EPOCHS, batch_size=BATCH_SIZE, validation_data=(X_val, y_val))\n",
    "\n",
    "\n",
    "train_loss = history.history['loss']\n",
    "val_loss = history.history['val_loss']\n",
    "\n",
    "epochs = range(1, len(train_loss) + 1)\n",
    "\n",
    "# Plot training history\n",
    "plt.plot(epochs, train_loss, 'g.', label='Training loss')\n",
    "plt.plot(epochs, val_loss, 'b', label='Validation loss')\n",
    "plt.title('Training and validation loss')\n",
    "plt.xlabel('Epochs')\n",
    "plt.ylabel('Loss')\n",
    "plt.legend()\n",
    "plt.show()\n"
   ]
  },
  {
   "cell_type": "code",
   "execution_count": 10,
   "id": "16e9bc9b",
   "metadata": {},
   "outputs": [],
   "source": [
    "# HP-Tuning on the Feature Generator Model\n"
   ]
  },
  {
   "cell_type": "code",
   "execution_count": 11,
   "id": "28b3b222",
   "metadata": {},
   "outputs": [],
   "source": [
    "# Get a list of all convolutional layers from the trained CNN model\n",
    "\n",
    "def get_conv_layer_list(model):\n",
    "    \n",
    "    feature_map_list = []\n",
    "        \n",
    "    for i in range(len(model.layers)):\n",
    "        layer = model.layers[i]\n",
    "        # check for convolutional layer\n",
    "        if 'conv' not in layer.name:\n",
    "            continue\n",
    "        \n",
    "        # Get the layer input and output\n",
    "        inputs = model.inputs\n",
    "            \n",
    "        if i==len(model.layers):\n",
    "            outputs = model.outputs\n",
    "        else:\n",
    "            outputs = model.layers[i].output\n",
    "        \n",
    "        current_feature_map = tf.keras.Model(name=layer.name, inputs=inputs, outputs=model.layers[i].output)\n",
    "        feature_map_list.append(current_feature_map)\n",
    "    \n",
    "    return feature_map_list"
   ]
  },
  {
   "cell_type": "code",
   "execution_count": 12,
   "id": "803b66d3",
   "metadata": {},
   "outputs": [
    {
     "name": "stdout",
     "output_type": "stream",
     "text": [
      "Model: \"feature_extractor_conv\"\n",
      "_________________________________________________________________\n",
      "Layer (type)                 Output Shape              Param #   \n",
      "=================================================================\n",
      "conv2d_4 (Functional)        (None, 1, 1, 512)         38880     \n",
      "_________________________________________________________________\n",
      "reshape (Reshape)            (None, 512)               0         \n",
      "=================================================================\n",
      "Total params: 38,880\n",
      "Trainable params: 38,880\n",
      "Non-trainable params: 0\n",
      "_________________________________________________________________\n"
     ]
    }
   ],
   "source": [
    "# Get the last element from the list\n",
    "feature_extractor_list = get_conv_layer_list(model)\n",
    "feature_extractor_convs = feature_extractor_list[-1]\n",
    "\n",
    "\n",
    "# Create a new model with a squeeze layer at the end\n",
    "feature_extractor = tf.keras.models.Sequential(name=\"feature_extractor_conv\")\n",
    "feature_extractor.add(feature_extractor_convs)\n",
    "feature_extractor.add(tf.keras.layers.Reshape([512]))\n",
    "\n",
    "feature_extractor.build(input_shape=(32, 32, 1))\n",
    "feature_extractor.summary()"
   ]
  },
  {
   "cell_type": "code",
   "execution_count": 13,
   "id": "85b1c757",
   "metadata": {},
   "outputs": [
    {
     "name": "stdout",
     "output_type": "stream",
     "text": [
      "(200, 512)\n"
     ]
    }
   ],
   "source": [
    "features = feature_extractor.predict(X)\n",
    "print(features.shape)"
   ]
  },
  {
   "cell_type": "raw",
   "id": "7787b5ce",
   "metadata": {},
   "source": [
    "# Define the custom layers\n",
    "\n",
    "# Maximum layer\n",
    "@tf.keras.utils.register_keras_serializable()\n",
    "class MaxLayer(tf.keras.layers.Layer):\n",
    "    \n",
    "    def call(self, inputs):\n",
    "        \n",
    "        return tf.math.reduce_max(inputs, axis=(1,2))\n",
    "    \n",
    "# Minimum layer\n",
    "@tf.keras.utils.register_keras_serializable()\n",
    "class MinLayer(tf.keras.layers.Layer):\n",
    "    \n",
    "    def call(self, inputs):\n",
    "        \n",
    "        return tf.math.reduce_min(inputs, axis=(1,2))\n",
    "\n",
    "# Mean layer\n",
    "@tf.keras.utils.register_keras_serializable()\n",
    "class MeanLayer(tf.keras.layers.Layer):\n",
    "    \n",
    "    def call(self, inputs):\n",
    "        \n",
    "        return tf.math.reduce_mean(inputs, axis=(1,2))\n",
    "    \n",
    "# Sum Layer\n",
    "@tf.keras.utils.register_keras_serializable()\n",
    "class SumLayer(tf.keras.layers.Layer):\n",
    "    \n",
    "    def call(self, inputs):\n",
    "        \n",
    "        return tf.math.reduce_sum(inputs, axis=(1,2))\n",
    "    \n",
    "# Variance Layer\n",
    "@tf.keras.utils.register_keras_serializable()\n",
    "class VarianceLayer(tf.keras.layers.Layer):\n",
    "    \n",
    "    def call(self, inputs):\n",
    "        \n",
    "        return tf.math.reduce_variance(inputs, axis=(1,2))"
   ]
  },
  {
   "cell_type": "raw",
   "id": "b097ce6a",
   "metadata": {},
   "source": [
    "\n",
    "def build_feature_extraction_model(model, conv_layer_list):\n",
    "\n",
    "    # Build the model\n",
    "    inputs = tf.keras.Input(shape=(32, 32, 1))\n",
    "    \n",
    "    # Define the layers of the model\n",
    "    # max_layer_im = MaxLayer()\n",
    "    # min_layer_im = MinLayer()\n",
    "    # mean_layer_im = MeanLayer()\n",
    "    # sum_layer_im = SumLayer()\n",
    "    # var_layer_im = VarianceLayer()\n",
    "    \n",
    "    concat_layer_im = tf.keras.layers.Concatenate(axis=-1)\n",
    "    \n",
    "    max_layer_list = []\n",
    "    min_layer_list = []\n",
    "    mean_layer_list = []\n",
    "    sum_layer_list = []\n",
    "    # var_layer_list = []\n",
    "    concat_layer_list = []\n",
    "    for i in range(len(conv_layer_list)):\n",
    "        # max_layer_list.append(MaxLayer())\n",
    "        # min_layer_list.append(MinLayer())\n",
    "        # mean_layer_list.append(MeanLayer())\n",
    "        # sum_layer_list.append(SumLayer())\n",
    "        # var_layer_list.append(VarianceLayer())\n",
    "        concat_layer_list.append(tf.keras.layers.Concatenate(axis=-1))\n",
    "    \n",
    "    total_concat_layer = tf.keras.layers.Concatenate(axis=-1)\n",
    "    outputs_list = []\n",
    "    \n",
    "    # Calculate the values on the image itself\n",
    "    # max_im = max_layer_im(inputs)\n",
    "    # min_im = min_layer_im(inputs)\n",
    "    # mean_im = mean_layer_im(inputs)\n",
    "    # sum_im = sum_layer_im(inputs)\n",
    "    max_im = tf.reduce_max(inputs, axis=(1,2))\n",
    "    min_im = tf.reduce_min(inputs, axis=(1,2))\n",
    "    mean_im = tf.reduce_mean(inputs, axis=(1,2))\n",
    "    sum_im = tf.reduce_sum(inputs, axis=(1,2))\n",
    "    # var_im = var_layer_im(inputs)\n",
    "    # concat_im = concat_layer_im([max_im, min_im, mean_im, sum_im, var_im])\n",
    "    concat_im = concat_layer_im([max_im, min_im, mean_im, sum_im])\n",
    "    outputs_list.append(concat_im)\n",
    "    \n",
    "    \n",
    "    # Iterate over all convolutional layers\n",
    "    for i, conv_layer in enumerate(conv_layer_list):\n",
    "        conv_layer_output = conv_layer_list[i](inputs)\n",
    "        # max_fm = max_layer_list[i](conv_layer_output)\n",
    "        # min_fm = min_layer_list[i](conv_layer_output)\n",
    "        # mean_fm = mean_layer_list[i](conv_layer_output)\n",
    "        # sum_fm = sum_layer_list[i](conv_layer_output)\n",
    "        max_fm = tf.reduce_max(conv_layer_output, axis=(1,2))\n",
    "        min_fm = tf.reduce_min(conv_layer_output, axis=(1,2))\n",
    "        mean_fm = tf.reduce_mean(conv_layer_output, axis=(1,2))\n",
    "        sum_fm = tf.reduce_sum(conv_layer_output, axis=(1,2))\n",
    "        # var_fm = var_layer_list[i](conv_layer_output)\n",
    "        # concat = concat_layer_list[i]([max_fm, min_fm, mean_fm, sum_fm, var_fm])\n",
    "        concat = concat_layer_list[i]([max_fm, min_fm, mean_fm, sum_fm])\n",
    "        outputs_list.append(concat)\n",
    "        \n",
    "    total_concat = total_concat_layer(outputs_list)\n",
    "\n",
    "    model = tf.keras.Model(name=\"feature_extractor_model\", inputs=inputs, outputs=total_concat)\n",
    "    \n",
    "    return model\n",
    "\n",
    "# Get the convolutional layers\n",
    "conv_layer_list = get_conv_layer_list(model)\n",
    "\n",
    "feature_extractor = build_feature_extraction_model(model, conv_layer_list)\n",
    "feature_extractor.build(input_shape=(None, 32, 32, 1))\n",
    "feature_extractor.summary()"
   ]
  },
  {
   "cell_type": "code",
   "execution_count": 14,
   "id": "39acde0e",
   "metadata": {},
   "outputs": [
    {
     "name": "stdout",
     "output_type": "stream",
     "text": [
      "WARNING:tensorflow:Compiled the loaded model, but the compiled metrics have yet to be built. `model.compile_metrics` will be empty until you train or evaluate the model.\n",
      "INFO:tensorflow:Assets written to: C:\\Users\\Felix\\AppData\\Local\\Temp\\tmpsqcrmwse\\assets\n",
      "WARNING:tensorflow:From C:\\Users\\Felix\\.conda\\envs\\ias0360-final-project\\lib\\site-packages\\tf2onnx\\tf_loader.py:706: extract_sub_graph (from tensorflow.python.framework.graph_util_impl) is deprecated and will be removed in a future version.\n",
      "Instructions for updating:\n",
      "Use `tf.compat.v1.graph_util.extract_sub_graph`\n"
     ]
    },
    {
     "name": "stderr",
     "output_type": "stream",
     "text": [
      "WARNING:tensorflow:From C:\\Users\\Felix\\.conda\\envs\\ias0360-final-project\\lib\\site-packages\\tf2onnx\\tf_loader.py:706: extract_sub_graph (from tensorflow.python.framework.graph_util_impl) is deprecated and will be removed in a future version.\n",
      "Instructions for updating:\n",
      "Use `tf.compat.v1.graph_util.extract_sub_graph`\n"
     ]
    },
    {
     "name": "stdout",
     "output_type": "stream",
     "text": [
      "WARNING:tensorflow:Compiled the loaded model, but the compiled metrics have yet to be built. `model.compile_metrics` will be empty until you train or evaluate the model.\n"
     ]
    },
    {
     "name": "stderr",
     "output_type": "stream",
     "text": [
      "WARNING:tensorflow:Compiled the loaded model, but the compiled metrics have yet to be built. `model.compile_metrics` will be empty until you train or evaluate the model.\n"
     ]
    },
    {
     "name": "stdout",
     "output_type": "stream",
     "text": [
      "Models saved.\n"
     ]
    }
   ],
   "source": [
    "# Save the model as tf lite model\n",
    "\n",
    "# Convert the model\n",
    "converter = tf.lite.TFLiteConverter.from_keras_model(feature_extractor) # path to the SavedModel directory\n",
    "tflite_model = converter.convert()\n",
    "\n",
    "# Save the model.\n",
    "with open('feature_extractor.tflite', 'wb') as f:\n",
    "  f.write(tflite_model)\n",
    "\n",
    "\n",
    "# Save the model as onnx model\n",
    "tf2onnx.convert.from_keras(feature_extractor, output_path=\"feature_extractor.onnx\", opset=6)\n",
    "\n",
    "\n",
    "# Save as keras model\n",
    "feature_extractor.save(\"feature_extractor.h5\")\n",
    "\n",
    "print(\"Models saved.\")"
   ]
  },
  {
   "cell_type": "raw",
   "id": "c5b5f0bc",
   "metadata": {},
   "source": [
    "layer_list = get_conv_layer_list(model)\n",
    "print(layer_list)\n",
    "\n",
    "for i in range(len(layer_list)):\n",
    "    layer_list[i].save(f\"feature_extractor_conv_{i}.h5\")\n",
    "    \n",
    "    # Convert the model\n",
    "    converter = tf.lite.TFLiteConverter.from_keras_model(layer_list[i]) # path to the SavedModel directory\n",
    "    tflite_model = converter.convert()\n",
    "\n",
    "    # Save the model.\n",
    "    with open(f'feature_extractor_conv_{i}.tflite', 'wb') as f:\n",
    "      f.write(tflite_model)"
   ]
  },
  {
   "cell_type": "raw",
   "id": "e27884c2",
   "metadata": {},
   "source": [
    "# Calculate the feature map mean\n",
    "feature_map_list = []\n",
    "\n",
    "im_mean = np.mean(X, axis=(1,2))\n",
    "im_median = np.median(X, axis=(1,2))\n",
    "im_var = np.var(X, axis=(1,2))\n",
    "im_max = np.max(X, axis=(1,2))\n",
    "im_min = np.min(X, axis=(1,2))\n",
    "im_sum = np.sum(X, axis=(1,2))\n",
    "\n",
    "feature_map_list.append(np.concatenate([im_mean,\n",
    "                                           im_median,\n",
    "                                           im_var,\n",
    "                                           im_max,\n",
    "                                           im_min,\n",
    "                                           im_sum], axis=1))\n",
    "\n",
    "\n",
    "\n",
    "# Print the shape of the feature maps\n",
    "for i in range(len(layer_list)):\n",
    "    feature_map = layer_list[i].predict(X)\n",
    "    feature_map_mean = np.mean(feature_map, axis=(1,2))\n",
    "    feature_map_median = np.median(feature_map, axis=(1,2))\n",
    "    feature_map_var = np.var(feature_map, axis=(1,2))\n",
    "    feature_map_max = np.max(feature_map, axis=(1,2))\n",
    "    feature_map_min = np.min(feature_map, axis=(1,2))\n",
    "    feature_map_sum = np.sum(feature_map, axis=(1,2))\n",
    "    feature_map_features = np.concatenate([feature_map_mean,\n",
    "                                           feature_map_median,\n",
    "                                           feature_map_var,\n",
    "                                           feature_map_max, \n",
    "                                           feature_map_min, \n",
    "                                           feature_map_sum], axis=1)\n",
    "    feature_map_list.append(feature_map_features)\n",
    "    \n",
    "feature_map_means = np.concatenate(feature_map_list, axis=1)\n",
    "print(feature_map_means.shape)\n",
    "print(feature_map_means[:1])"
   ]
  },
  {
   "cell_type": "markdown",
   "id": "e748495a",
   "metadata": {},
   "source": [
    "### Helpful Functions for Classifiers"
   ]
  },
  {
   "cell_type": "code",
   "execution_count": 15,
   "id": "a73472e4",
   "metadata": {},
   "outputs": [],
   "source": [
    "# Get the model size in kiB\n",
    "def get_memory_size(clf, layer_list, fname = \"clf_binary\"):\n",
    "    joblib.dump(clf, fname)\n",
    "    model_size = os.path.getsize(fname)\n",
    "    model_size = model_size / 1024\n",
    "    print(f\"GBT size in kiB: {model_size}\")\n",
    "\n",
    "    # Get the conv layers size in kiB\n",
    "    layer_size = 0\n",
    "    for i in range(len(layer_list)):\n",
    "        layer_size = os.path.getsize(f\"feature_extractor_conv_{i}.h5\")\n",
    "    layer_size = layer_size / 1024\n",
    "    print(f\"Conv layer size in kiB: {layer_size}\")\n",
    "\n",
    "    # Total size for GBT in kiB\n",
    "    print(f\"Total size in kiB: {layer_size + model_size}\")"
   ]
  },
  {
   "cell_type": "markdown",
   "id": "eba63994",
   "metadata": {},
   "source": [
    "### Prepare Data for Classifier"
   ]
  },
  {
   "cell_type": "code",
   "execution_count": 16,
   "id": "e8911530",
   "metadata": {},
   "outputs": [],
   "source": [
    "# df_train_binary_expanded = pd.DataFrame(np.concatenate([df_binary.head(X.shape[0]), feature_extractor.predict(X)], axis=1))\n",
    "df_train_binary_expanded = pd.DataFrame(np.concatenate([df_binary.head(X.shape[0]), features], axis=1))"
   ]
  },
  {
   "cell_type": "code",
   "execution_count": 17,
   "id": "961af519",
   "metadata": {},
   "outputs": [
    {
     "data": {
      "text/html": [
       "<div>\n",
       "<style scoped>\n",
       "    .dataframe tbody tr th:only-of-type {\n",
       "        vertical-align: middle;\n",
       "    }\n",
       "\n",
       "    .dataframe tbody tr th {\n",
       "        vertical-align: top;\n",
       "    }\n",
       "\n",
       "    .dataframe thead th {\n",
       "        text-align: right;\n",
       "    }\n",
       "</style>\n",
       "<table border=\"1\" class=\"dataframe\">\n",
       "  <thead>\n",
       "    <tr style=\"text-align: right;\">\n",
       "      <th></th>\n",
       "      <th>0</th>\n",
       "      <th>1</th>\n",
       "      <th>2</th>\n",
       "      <th>3</th>\n",
       "      <th>4</th>\n",
       "      <th>5</th>\n",
       "      <th>6</th>\n",
       "      <th>7</th>\n",
       "      <th>8</th>\n",
       "      <th>9</th>\n",
       "      <th>...</th>\n",
       "      <th>510</th>\n",
       "      <th>511</th>\n",
       "      <th>512</th>\n",
       "      <th>513</th>\n",
       "      <th>514</th>\n",
       "      <th>515</th>\n",
       "      <th>516</th>\n",
       "      <th>517</th>\n",
       "      <th>518</th>\n",
       "      <th>519</th>\n",
       "    </tr>\n",
       "  </thead>\n",
       "  <tbody>\n",
       "    <tr>\n",
       "      <th>0</th>\n",
       "      <td>521</td>\n",
       "      <td>2021-05-07 13:06:24</td>\n",
       "      <td>3078</td>\n",
       "      <td>21.299999</td>\n",
       "      <td>-67</td>\n",
       "      <td>[[12.0, 10.4, 11.1, 10.9, 10.9, 12.0, 11.6, 11...</td>\n",
       "      <td>True</td>\n",
       "      <td>1</td>\n",
       "      <td>0.000605</td>\n",
       "      <td>0.0</td>\n",
       "      <td>...</td>\n",
       "      <td>0.0</td>\n",
       "      <td>0.0</td>\n",
       "      <td>0.0</td>\n",
       "      <td>0.0</td>\n",
       "      <td>0.004184</td>\n",
       "      <td>0.0</td>\n",
       "      <td>0.0</td>\n",
       "      <td>0.014011</td>\n",
       "      <td>0.0</td>\n",
       "      <td>0.0</td>\n",
       "    </tr>\n",
       "    <tr>\n",
       "      <th>1</th>\n",
       "      <td>2940</td>\n",
       "      <td>2021-05-07 13:10:22</td>\n",
       "      <td>3078</td>\n",
       "      <td>22.4</td>\n",
       "      <td>-76</td>\n",
       "      <td>[[11.8, 10.3, 11.2, 11.8, 10.6, 11.3, 11.4, 11...</td>\n",
       "      <td>True</td>\n",
       "      <td>1</td>\n",
       "      <td>0.0</td>\n",
       "      <td>0.0</td>\n",
       "      <td>...</td>\n",
       "      <td>0.0</td>\n",
       "      <td>0.0</td>\n",
       "      <td>0.0</td>\n",
       "      <td>0.0</td>\n",
       "      <td>0.0</td>\n",
       "      <td>0.0</td>\n",
       "      <td>0.0</td>\n",
       "      <td>0.0</td>\n",
       "      <td>0.0</td>\n",
       "      <td>0.0</td>\n",
       "    </tr>\n",
       "  </tbody>\n",
       "</table>\n",
       "<p>2 rows × 520 columns</p>\n",
       "</div>"
      ],
      "text/plain": [
       "    0                   1     2          3    4    \\\n",
       "0   521 2021-05-07 13:06:24  3078  21.299999  -67   \n",
       "1  2940 2021-05-07 13:10:22  3078       22.4  -76   \n",
       "\n",
       "                                                 5     6   7         8    9    \\\n",
       "0  [[12.0, 10.4, 11.1, 10.9, 10.9, 12.0, 11.6, 11...  True   1  0.000605  0.0   \n",
       "1  [[11.8, 10.3, 11.2, 11.8, 10.6, 11.3, 11.4, 11...  True   1       0.0  0.0   \n",
       "\n",
       "   ...  510  511  512  513       514  515  516       517  518  519  \n",
       "0  ...  0.0  0.0  0.0  0.0  0.004184  0.0  0.0  0.014011  0.0  0.0  \n",
       "1  ...  0.0  0.0  0.0  0.0       0.0  0.0  0.0       0.0  0.0  0.0  \n",
       "\n",
       "[2 rows x 520 columns]"
      ]
     },
     "execution_count": 17,
     "metadata": {},
     "output_type": "execute_result"
    }
   ],
   "source": [
    "df_train_binary_expanded.head(n=2)"
   ]
  },
  {
   "cell_type": "code",
   "execution_count": 18,
   "id": "537c41dd",
   "metadata": {},
   "outputs": [
    {
     "name": "stdout",
     "output_type": "stream",
     "text": [
      "(200,)\n",
      "(200, 512)\n"
     ]
    }
   ],
   "source": [
    "# Prepare the data for gradient boosting\n",
    "y_clf = df_train_binary_expanded[7].to_numpy().astype(int)\n",
    "X_clf= df_train_binary_expanded.iloc[:,8:].to_numpy()\n",
    "print(y_clf.shape)\n",
    "print(X_clf.shape)"
   ]
  },
  {
   "cell_type": "code",
   "execution_count": 19,
   "id": "7f41ab7c",
   "metadata": {},
   "outputs": [
    {
     "name": "stdout",
     "output_type": "stream",
     "text": [
      "(180, 512)\n",
      "(180,)\n",
      "(20, 512)\n",
      "(20,)\n",
      "[0]\n"
     ]
    }
   ],
   "source": [
    "# Create train / val / test split\n",
    "X_train_clf, X_test_clf, y_train_clf, y_test_clf = train_test_split(X_clf, y_clf, test_size=0.1, random_state=0)\n",
    "# X_val_clf, X_test_clf, y_val_clf, y_test_clf = train_test_split(X_test_clf, y_test_clf, test_size=0.3, random_state=0)\n",
    "\n",
    "print(X_train_clf.shape)\n",
    "print(y_train_clf.shape)\n",
    "print(X_test_clf.shape)\n",
    "print(y_test_clf.shape)\n",
    "print(y_train_clf[:1])"
   ]
  },
  {
   "cell_type": "markdown",
   "id": "54e943e7",
   "metadata": {},
   "source": [
    "### Simple Support Vector Classifier (SVC)"
   ]
  },
  {
   "cell_type": "code",
   "execution_count": 20,
   "id": "769e523f",
   "metadata": {},
   "outputs": [
    {
     "name": "stdout",
     "output_type": "stream",
     "text": [
      "Accuracy Score: 0.75\n",
      "[0 0 0 0 1 1 0 0 0 0 0 0 0 1 0 0 0 0 1 1]\n"
     ]
    },
    {
     "data": {
      "image/png": "[encoded data removed]",
      "text/plain": [
       "<Figure size 432x288 with 2 Axes>"
      ]
     },
     "metadata": {
      "needs_background": "light"
     },
     "output_type": "display_data"
    }
   ],
   "source": [
    "# Train the SVC\n",
    "svc_clf = SVC()\n",
    "svc_clf.fit(X_train_clf, y_train_clf)\n",
    "\n",
    "# Mean accuracy\n",
    "acc = svc_clf.score(X_test_clf, y_test_clf)\n",
    "print(f\"Accuracy Score: {acc}\")\n",
    "\n",
    "# Calculate and display the confusion matrix\n",
    "y_pred = svc_clf.predict(X_test_clf)\n",
    "print(y_pred)\n",
    "conf_mat = confusion_matrix(y_test_clf, y_pred, normalize=\"all\")\n",
    "disp = ConfusionMatrixDisplay(conf_mat, display_labels=[\"No Human\", \"Human\"])\n",
    "disp.plot(values_format=\".0%\")\n",
    "plt.title(\"Confusion Matrix\")\n",
    "plt.show()\n",
    "\n"
   ]
  },
  {
   "cell_type": "code",
   "execution_count": 25,
   "id": "3032cc8a",
   "metadata": {},
   "outputs": [
    {
     "name": "stdout",
     "output_type": "stream",
     "text": [
      "{'C': 1.0, 'break_ties': False, 'cache_size': 200, 'class_weight': None, 'coef0': 0.0, 'decision_function_shape': 'ovr', 'degree': 3, 'gamma': 'scale', 'kernel': 'rbf', 'max_iter': -1, 'probability': False, 'random_state': None, 'shrinking': True, 'tol': 0.001, 'verbose': False}\n"
     ]
    }
   ],
   "source": [
    "print(svc_clf.get_params())"
   ]
  },
  {
   "cell_type": "code",
   "execution_count": 76,
   "id": "da392d66",
   "metadata": {},
   "outputs": [
    {
     "name": "stdout",
     "output_type": "stream",
     "text": [
      "GBT size in kiB: 57.5322265625\n",
      "Conv layer size in kiB: 177.8203125\n",
      "Total size in kiB: 235.3525390625\n"
     ]
    }
   ],
   "source": [
    "# Get the memory size of the classifier\n",
    "get_memory_size(svc_clf, layer_list, fname=\"simple_svc_clf\")"
   ]
  },
  {
   "cell_type": "code",
   "execution_count": 190,
   "id": "2c4320ce",
   "metadata": {},
   "outputs": [],
   "source": [
    "# Convert model to onnx-format and save it\n",
    "onnx_svc_clf = to_onnx(svc_clf,  X_train_clf.astype(np.float32),\n",
    "                    options={id(svc_clf): {'zipmap': False}},target_opset=6)\n",
    "with open(\"simple_svc_clf.onnx\", \"wb\") as f:\n",
    "    f.write(onnx_svc_clf.SerializeToString())"
   ]
  },
  {
   "cell_type": "raw",
   "id": "70525fd3",
   "metadata": {},
   "source": [
    "# Convert model to onnx-format and save it\n",
    "initial_type = [('float_input', FloatTensorType([None, 4]))]\n",
    "onnx = convert_sklearn(best_clf, initial_types=initial_type)\n",
    "with open(\"simple_svc_clf.onnx\", \"wb\") as f:\n",
    "    f.write(onnx.SerializeToString())"
   ]
  },
  {
   "cell_type": "markdown",
   "id": "b0d3d245",
   "metadata": {},
   "source": [
    "### Merge onnx models to one model"
   ]
  },
  {
   "cell_type": "code",
   "execution_count": 35,
   "id": "3d274f26",
   "metadata": {},
   "outputs": [
    {
     "name": "stdout",
     "output_type": "stream",
     "text": [
      "graph1 inputs: ['conv2d_4_inputa']\n",
      "graph1 outputs: ['reshapea']\n",
      "graph2 inputs: ['Xb']\n",
      "graph2 outputs: ['labelb', 'probabilitiesb']\n",
      "<class 'onnx.onnx_ml_pb2.GraphProto'>\n"
     ]
    },
    {
     "data": {
      "text/plain": [
       "True"
      ]
     },
     "execution_count": 35,
     "metadata": {},
     "output_type": "execute_result"
    }
   ],
   "source": [
    "model_file_1 = \"feature_extractor.onnx\"\n",
    "model_file_2 = \"simple_svc_clf.onnx\"\n",
    "\n",
    "\n",
    "onnx_model_1 = load(model_file_1)\n",
    "onnx_model_1 = version_converter.convert_version(onnx_model_1 , 6)\n",
    "\n",
    "onnx_model_2 = load(model_file_2)\n",
    "onnx_model_2 = version_converter.convert_version(onnx_model_2 , 6)\n",
    "\n",
    "# TODO: Only for debugging!\n",
    "# print(onnx_model_1)\n",
    "# print(onnx_model_2)\n",
    "\n",
    "graph1 = gs.import_onnx(onnx_model_1)\n",
    "for n in graph1.nodes:\n",
    "    for cn in n.inputs:\n",
    "        if cn.name[-1:] != 'a':\n",
    "            cn.name = f'{cn.name}a'\n",
    "        else:\n",
    "            pass\n",
    "    for cn in n.outputs:\n",
    "        if cn.name[-1:] != 'a':\n",
    "            cn.name = f'{cn.name}a'\n",
    "        else:\n",
    "            pass\n",
    "graph1_inputs = [o.name for o in graph1.inputs]\n",
    "print(f'graph1 inputs: {graph1_inputs}')\n",
    "graph1_outputs = [i.name for i in graph1.outputs]\n",
    "print(f'graph1 outputs: {graph1_outputs}')\n",
    "\n",
    "\n",
    "graph2 = gs.import_onnx(onnx_model_2)\n",
    "graph2_inputs = []\n",
    "for n in graph2.nodes:\n",
    "    for cn in n.inputs:\n",
    "        if cn.name[-1:] != 'b':\n",
    "            cn.name = f'{cn.name}b'\n",
    "        else:\n",
    "            pass\n",
    "    for cn in n.outputs:\n",
    "        if cn.name[-1:] != 'b':\n",
    "            cn.name = f'{cn.name}b'\n",
    "        else:\n",
    "            pass\n",
    "graph2_inputs = [i.name for i in graph2.inputs]\n",
    "print(f'graph2 inputs: {graph2_inputs}')\n",
    "graph2_outputs = [i.name for i in graph2.outputs]\n",
    "print(f'graph2 outputs: {graph2_outputs}')\n",
    "\n",
    "\n",
    "# Concatenate the two models\n",
    "merged_model = so.concat(sg1=onnx_model_1.graph, sg2=onnx_model_2.graph)\n",
    "\n",
    "print(type(merged_model))\n",
    "so.graph_to_file(merged_model, \"merged_model.onnx\")\n",
    "\n"
   ]
  },
  {
   "cell_type": "code",
   "execution_count": 26,
   "id": "f4ce426d",
   "metadata": {},
   "outputs": [
    {
     "ename": "TypeError",
     "evalue": "indices must be integers, not str",
     "output_type": "error",
     "traceback": [
      "\u001b[1;31m---------------------------------------------------------------------------\u001b[0m",
      "\u001b[1;31mTypeError\u001b[0m                                 Traceback (most recent call last)",
      "\u001b[1;32m~\\AppData\\Local\\Temp/ipykernel_4848/134190026.py\u001b[0m in \u001b[0;36m<module>\u001b[1;34m\u001b[0m\n\u001b[0;32m      1\u001b[0m \u001b[0monnx_model\u001b[0m \u001b[1;33m=\u001b[0m \u001b[0monnx\u001b[0m\u001b[1;33m.\u001b[0m\u001b[0mload\u001b[0m\u001b[1;33m(\u001b[0m\u001b[1;34m\"simple_svc_clf.onnx\"\u001b[0m\u001b[1;33m)\u001b[0m\u001b[1;33m\u001b[0m\u001b[1;33m\u001b[0m\u001b[0m\n\u001b[0;32m      2\u001b[0m \u001b[0mgraph\u001b[0m \u001b[1;33m=\u001b[0m \u001b[0monnx_model\u001b[0m\u001b[1;33m.\u001b[0m\u001b[0mgraph\u001b[0m\u001b[1;33m\u001b[0m\u001b[1;33m\u001b[0m\u001b[0m\n\u001b[1;32m----> 3\u001b[1;33m \u001b[0mnode\u001b[0m \u001b[1;33m=\u001b[0m \u001b[0mgraph\u001b[0m\u001b[1;33m.\u001b[0m\u001b[0mnode\u001b[0m\u001b[1;33m[\u001b[0m\u001b[1;34m\"SVM\"\u001b[0m\u001b[1;33m]\u001b[0m\u001b[1;33m\u001b[0m\u001b[1;33m\u001b[0m\u001b[0m\n\u001b[0m\u001b[0;32m      4\u001b[0m \u001b[0mgraph\u001b[0m\u001b[1;33m.\u001b[0m\u001b[0mnode\u001b[0m\u001b[1;33m.\u001b[0m\u001b[0mremove\u001b[0m\u001b[1;33m(\u001b[0m\u001b[0mnode\u001b[0m\u001b[1;33m)\u001b[0m\u001b[1;33m\u001b[0m\u001b[1;33m\u001b[0m\u001b[0m\n\u001b[0;32m      5\u001b[0m \u001b[0monnx\u001b[0m\u001b[1;33m.\u001b[0m\u001b[0mchecker\u001b[0m\u001b[1;33m.\u001b[0m\u001b[0mcheck_model\u001b[0m\u001b[1;33m(\u001b[0m\u001b[0monnx_model\u001b[0m\u001b[1;33m)\u001b[0m\u001b[1;33m\u001b[0m\u001b[1;33m\u001b[0m\u001b[0m\n",
      "\u001b[1;31mTypeError\u001b[0m: indices must be integers, not str"
     ]
    }
   ],
   "source": [
    "# Alter the output of the Classifier\n",
    "# TODO: Continue here!\n",
    "\n",
    "def shape_calculator(operator):\n",
    "    op = operator.raw_operator\n",
    "    input_type = operator.inputs[0].type.__class__\n",
    "    input_dim = operator.inputs[0].type.shape[0]\n",
    "    output_type = input_type([input_dim, op.coef_.shape[1]])\n",
    "    operator.outputs[0].type = output_type\n",
    "\n",
    "def converter(scope, operator, container):\n",
    "    op = operator.raw_operator\n",
    "    opv = container.target_opset\n",
    "    out = operator.outputs\n",
    "\n",
    "    X = operator.inputs[0]\n",
    "\n",
    "    dtype = guess_numpy_type(X.type)\n",
    "\n",
    "    Y1 = OnnxMatMul(\n",
    "        OnnxSub(X, op.mean_.astype(dtype), op_version=opv),\n",
    "        op.coef_.astype(dtype),\n",
    "        op_version=opv, output_names=out[:1])\n",
    "\n",
    "    Y2 = OnnxGemm(X, op.coef_.astype(dtype),\n",
    "                  (- op.mean_ @ op.coef_).astype(dtype),\n",
    "                  op_version=opv, alpha=1., beta=1.,\n",
    "                  output_names=out[1:2])\n",
    "\n",
    "    Y1.add_to(scope, container)\n",
    "    Y2.add_to(scope, container)\n",
    "\n",
    "\n",
    "def parser(\n",
    "        scope, model, inputs, custom_parsers=None):\n",
    "    alias = get_model_alias(type(model))\n",
    "    this_operator = scope.declare_local_operator(alias, model)\n",
    "\n",
    "    # inputs\n",
    "    this_operator.inputs.append(inputs[0])\n",
    "\n",
    "    # outputs\n",
    "    cls_type = inputs[0].type.__class__\n",
    "    val_y1 = scope.declare_local_variable('nogemm', cls_type())\n",
    "    val_y2 = scope.declare_local_variable('gemm', cls_type())\n",
    "    this_operator.outputs.append(val_y1)\n",
    "    this_operator.outputs.append(val_y2)\n",
    "\n",
    "    # ends\n",
    "    return this_operator.outputs\n",
    "\n",
    "\n",
    "\n",
    "update_registered_converter(\n",
    "    svc_clf, \"SVC\",\n",
    "    shape_calculator,\n",
    "    converter,\n",
    "    parser=parser)\n",
    "\n",
    "\n"
   ]
  },
  {
   "cell_type": "markdown",
   "id": "12d7be4a",
   "metadata": {},
   "source": [
    "### Simple GBT Classifier"
   ]
  },
  {
   "cell_type": "code",
   "execution_count": 59,
   "id": "b8924598",
   "metadata": {},
   "outputs": [
    {
     "name": "stdout",
     "output_type": "stream",
     "text": [
      "Accuracy Score: 0.65\n"
     ]
    },
    {
     "data": {
      "image/png": "[encoded data removed]",
      "text/plain": [
       "<Figure size 432x288 with 2 Axes>"
      ]
     },
     "metadata": {
      "needs_background": "light"
     },
     "output_type": "display_data"
    }
   ],
   "source": [
    "# Train the GBT\n",
    "clf = GradientBoostingClassifier(n_estimators=300, learning_rate=1.0, max_depth=3, random_state=0).fit(X_train_clf, y_train_clf)\n",
    "\n",
    "# Mean accuracy\n",
    "acc = clf.score(X_test_clf, y_test_clf)\n",
    "print(f\"Accuracy Score: {acc}\")\n",
    "\n",
    "# Calculate and display the confusion matrix\n",
    "y_pred = clf.predict(X_test_clf)\n",
    "conf_mat = confusion_matrix(y_test_clf, y_pred, normalize=\"all\")\n",
    "disp = ConfusionMatrixDisplay(conf_mat, display_labels=[\"No Human\", \"Human\"])\n",
    "disp.plot(values_format=\".0%\")\n",
    "plt.title(\"Confusion Matrix\")\n",
    "plt.show()"
   ]
  },
  {
   "cell_type": "code",
   "execution_count": 71,
   "id": "edf95611",
   "metadata": {},
   "outputs": [
    {
     "name": "stdout",
     "output_type": "stream",
     "text": [
      "GBT size in kiB: 287.1552734375\n",
      "Conv layer size in kiB: 177.8203125\n",
      "Total size in kiB: 464.9755859375\n"
     ]
    }
   ],
   "source": [
    "# Get the memory size of the classifier\n",
    "get_memory_size(clf, layer_list, fname=\"simple_gbt_clf\")"
   ]
  },
  {
   "cell_type": "markdown",
   "id": "b4e2ff9f",
   "metadata": {},
   "source": [
    "### HP-Tuning for GBT "
   ]
  },
  {
   "cell_type": "code",
   "execution_count": 23,
   "id": "bb62b8a0",
   "metadata": {},
   "outputs": [],
   "source": [
    "# HP-Tuning\n",
    "MAX_FEATURES = 150\n",
    "\n",
    "def build_hypermodel(hp):\n",
    "    \n",
    "    n_estimators = hp.Int(\"n_estimators\", 10, 100)\n",
    "    learning_rate = hp.Float(\"learning_rate\", 0.1, 1.0)\n",
    "    max_depth = hp.Int(\"max_depth\", 1, 4)\n",
    "    max_features = hp.Int(\"max_features\", 1, MAX_FEATURES)\n",
    "    \n",
    "    return GradientBoostingClassifier(n_estimators=n_estimators,\n",
    "                                      learning_rate=learning_rate, \n",
    "                                      max_depth=max_depth,\n",
    "                                      max_features=max_features,\n",
    "                                      validation_fraction=0.2,\n",
    "                                      random_state=0)\n"
   ]
  },
  {
   "cell_type": "code",
   "execution_count": 24,
   "id": "67856001",
   "metadata": {},
   "outputs": [
    {
     "name": "stdout",
     "output_type": "stream",
     "text": [
      "INFO:tensorflow:Reloading Oracle from existing project .\\hp_tuning_binary\\oracle.json\n"
     ]
    },
    {
     "name": "stderr",
     "output_type": "stream",
     "text": [
      "INFO:tensorflow:Reloading Oracle from existing project .\\hp_tuning_binary\\oracle.json\n"
     ]
    },
    {
     "name": "stdout",
     "output_type": "stream",
     "text": [
      "INFO:tensorflow:Reloading Tuner from .\\hp_tuning_binary\\tuner0.json\n"
     ]
    },
    {
     "name": "stderr",
     "output_type": "stream",
     "text": [
      "INFO:tensorflow:Reloading Tuner from .\\hp_tuning_binary\\tuner0.json\n"
     ]
    },
    {
     "name": "stdout",
     "output_type": "stream",
     "text": [
      "INFO:tensorflow:Oracle triggered exit\n"
     ]
    },
    {
     "name": "stderr",
     "output_type": "stream",
     "text": [
      "INFO:tensorflow:Oracle triggered exit\n"
     ]
    },
    {
     "ename": "ValueError",
     "evalue": "X has 372 features, but GradientBoostingClassifier is expecting 228 features as input.",
     "output_type": "error",
     "traceback": [
      "\u001b[1;31m---------------------------------------------------------------------------\u001b[0m",
      "\u001b[1;31mValueError\u001b[0m                                Traceback (most recent call last)",
      "\u001b[1;32m~\\AppData\\Local\\Temp/ipykernel_11124/345291380.py\u001b[0m in \u001b[0;36m<module>\u001b[1;34m\u001b[0m\n\u001b[0;32m     20\u001b[0m \u001b[0mbest_clf\u001b[0m \u001b[1;33m=\u001b[0m \u001b[0mtuner\u001b[0m\u001b[1;33m.\u001b[0m\u001b[0mget_best_models\u001b[0m\u001b[1;33m(\u001b[0m\u001b[0mnum_models\u001b[0m\u001b[1;33m=\u001b[0m\u001b[1;36m1\u001b[0m\u001b[1;33m)\u001b[0m\u001b[1;33m[\u001b[0m\u001b[1;36m0\u001b[0m\u001b[1;33m]\u001b[0m\u001b[1;33m\u001b[0m\u001b[1;33m\u001b[0m\u001b[0m\n\u001b[0;32m     21\u001b[0m \u001b[1;33m\u001b[0m\u001b[0m\n\u001b[1;32m---> 22\u001b[1;33m \u001b[0mprint\u001b[0m\u001b[1;33m(\u001b[0m\u001b[1;34mf\"Best model test score: {best_clf.score(X_test_clf, y_test_clf)}\"\u001b[0m\u001b[1;33m)\u001b[0m\u001b[1;33m\u001b[0m\u001b[1;33m\u001b[0m\u001b[0m\n\u001b[0m\u001b[0;32m     23\u001b[0m \u001b[1;33m\u001b[0m\u001b[0m\n\u001b[0;32m     24\u001b[0m \u001b[0mprint\u001b[0m\u001b[1;33m(\u001b[0m\u001b[1;34mf\"Best model params: {best_clf.get_params()}\"\u001b[0m\u001b[1;33m)\u001b[0m\u001b[1;33m\u001b[0m\u001b[1;33m\u001b[0m\u001b[0m\n",
      "\u001b[1;32m~\\.conda\\envs\\ias0360-final-project\\lib\\site-packages\\sklearn\\base.py\u001b[0m in \u001b[0;36mscore\u001b[1;34m(self, X, y, sample_weight)\u001b[0m\n\u001b[0;32m    644\u001b[0m         \u001b[1;32mfrom\u001b[0m \u001b[1;33m.\u001b[0m\u001b[0mmetrics\u001b[0m \u001b[1;32mimport\u001b[0m \u001b[0maccuracy_score\u001b[0m\u001b[1;33m\u001b[0m\u001b[1;33m\u001b[0m\u001b[0m\n\u001b[0;32m    645\u001b[0m \u001b[1;33m\u001b[0m\u001b[0m\n\u001b[1;32m--> 646\u001b[1;33m         \u001b[1;32mreturn\u001b[0m \u001b[0maccuracy_score\u001b[0m\u001b[1;33m(\u001b[0m\u001b[0my\u001b[0m\u001b[1;33m,\u001b[0m \u001b[0mself\u001b[0m\u001b[1;33m.\u001b[0m\u001b[0mpredict\u001b[0m\u001b[1;33m(\u001b[0m\u001b[0mX\u001b[0m\u001b[1;33m)\u001b[0m\u001b[1;33m,\u001b[0m \u001b[0msample_weight\u001b[0m\u001b[1;33m=\u001b[0m\u001b[0msample_weight\u001b[0m\u001b[1;33m)\u001b[0m\u001b[1;33m\u001b[0m\u001b[1;33m\u001b[0m\u001b[0m\n\u001b[0m\u001b[0;32m    647\u001b[0m \u001b[1;33m\u001b[0m\u001b[0m\n\u001b[0;32m    648\u001b[0m     \u001b[1;32mdef\u001b[0m \u001b[0m_more_tags\u001b[0m\u001b[1;33m(\u001b[0m\u001b[0mself\u001b[0m\u001b[1;33m)\u001b[0m\u001b[1;33m:\u001b[0m\u001b[1;33m\u001b[0m\u001b[1;33m\u001b[0m\u001b[0m\n",
      "\u001b[1;32m~\\.conda\\envs\\ias0360-final-project\\lib\\site-packages\\sklearn\\ensemble\\_gb.py\u001b[0m in \u001b[0;36mpredict\u001b[1;34m(self, X)\u001b[0m\n\u001b[0;32m   1353\u001b[0m             \u001b[0mThe\u001b[0m \u001b[0mpredicted\u001b[0m \u001b[0mvalues\u001b[0m\u001b[1;33m.\u001b[0m\u001b[1;33m\u001b[0m\u001b[1;33m\u001b[0m\u001b[0m\n\u001b[0;32m   1354\u001b[0m         \"\"\"\n\u001b[1;32m-> 1355\u001b[1;33m         \u001b[0mraw_predictions\u001b[0m \u001b[1;33m=\u001b[0m \u001b[0mself\u001b[0m\u001b[1;33m.\u001b[0m\u001b[0mdecision_function\u001b[0m\u001b[1;33m(\u001b[0m\u001b[0mX\u001b[0m\u001b[1;33m)\u001b[0m\u001b[1;33m\u001b[0m\u001b[1;33m\u001b[0m\u001b[0m\n\u001b[0m\u001b[0;32m   1356\u001b[0m         \u001b[0mencoded_labels\u001b[0m \u001b[1;33m=\u001b[0m \u001b[0mself\u001b[0m\u001b[1;33m.\u001b[0m\u001b[0mloss_\u001b[0m\u001b[1;33m.\u001b[0m\u001b[0m_raw_prediction_to_decision\u001b[0m\u001b[1;33m(\u001b[0m\u001b[0mraw_predictions\u001b[0m\u001b[1;33m)\u001b[0m\u001b[1;33m\u001b[0m\u001b[1;33m\u001b[0m\u001b[0m\n\u001b[0;32m   1357\u001b[0m         \u001b[1;32mreturn\u001b[0m \u001b[0mself\u001b[0m\u001b[1;33m.\u001b[0m\u001b[0mclasses_\u001b[0m\u001b[1;33m.\u001b[0m\u001b[0mtake\u001b[0m\u001b[1;33m(\u001b[0m\u001b[0mencoded_labels\u001b[0m\u001b[1;33m,\u001b[0m \u001b[0maxis\u001b[0m\u001b[1;33m=\u001b[0m\u001b[1;36m0\u001b[0m\u001b[1;33m)\u001b[0m\u001b[1;33m\u001b[0m\u001b[1;33m\u001b[0m\u001b[0m\n",
      "\u001b[1;32m~\\.conda\\envs\\ias0360-final-project\\lib\\site-packages\\sklearn\\ensemble\\_gb.py\u001b[0m in \u001b[0;36mdecision_function\u001b[1;34m(self, X)\u001b[0m\n\u001b[0;32m   1306\u001b[0m             \u001b[0marray\u001b[0m \u001b[0mof\u001b[0m \u001b[0mshape\u001b[0m \u001b[1;33m(\u001b[0m\u001b[0mn_samples\u001b[0m\u001b[1;33m,\u001b[0m\u001b[1;33m)\u001b[0m\u001b[1;33m.\u001b[0m\u001b[1;33m\u001b[0m\u001b[1;33m\u001b[0m\u001b[0m\n\u001b[0;32m   1307\u001b[0m         \"\"\"\n\u001b[1;32m-> 1308\u001b[1;33m         X = self._validate_data(\n\u001b[0m\u001b[0;32m   1309\u001b[0m             \u001b[0mX\u001b[0m\u001b[1;33m,\u001b[0m \u001b[0mdtype\u001b[0m\u001b[1;33m=\u001b[0m\u001b[0mDTYPE\u001b[0m\u001b[1;33m,\u001b[0m \u001b[0morder\u001b[0m\u001b[1;33m=\u001b[0m\u001b[1;34m\"C\"\u001b[0m\u001b[1;33m,\u001b[0m \u001b[0maccept_sparse\u001b[0m\u001b[1;33m=\u001b[0m\u001b[1;34m\"csr\"\u001b[0m\u001b[1;33m,\u001b[0m \u001b[0mreset\u001b[0m\u001b[1;33m=\u001b[0m\u001b[1;32mFalse\u001b[0m\u001b[1;33m\u001b[0m\u001b[1;33m\u001b[0m\u001b[0m\n\u001b[0;32m   1310\u001b[0m         )\n",
      "\u001b[1;32m~\\.conda\\envs\\ias0360-final-project\\lib\\site-packages\\sklearn\\base.py\u001b[0m in \u001b[0;36m_validate_data\u001b[1;34m(self, X, y, reset, validate_separately, **check_params)\u001b[0m\n\u001b[0;32m    578\u001b[0m \u001b[1;33m\u001b[0m\u001b[0m\n\u001b[0;32m    579\u001b[0m         \u001b[1;32mif\u001b[0m \u001b[1;32mnot\u001b[0m \u001b[0mno_val_X\u001b[0m \u001b[1;32mand\u001b[0m \u001b[0mcheck_params\u001b[0m\u001b[1;33m.\u001b[0m\u001b[0mget\u001b[0m\u001b[1;33m(\u001b[0m\u001b[1;34m\"ensure_2d\"\u001b[0m\u001b[1;33m,\u001b[0m \u001b[1;32mTrue\u001b[0m\u001b[1;33m)\u001b[0m\u001b[1;33m:\u001b[0m\u001b[1;33m\u001b[0m\u001b[1;33m\u001b[0m\u001b[0m\n\u001b[1;32m--> 580\u001b[1;33m             \u001b[0mself\u001b[0m\u001b[1;33m.\u001b[0m\u001b[0m_check_n_features\u001b[0m\u001b[1;33m(\u001b[0m\u001b[0mX\u001b[0m\u001b[1;33m,\u001b[0m \u001b[0mreset\u001b[0m\u001b[1;33m=\u001b[0m\u001b[0mreset\u001b[0m\u001b[1;33m)\u001b[0m\u001b[1;33m\u001b[0m\u001b[1;33m\u001b[0m\u001b[0m\n\u001b[0m\u001b[0;32m    581\u001b[0m \u001b[1;33m\u001b[0m\u001b[0m\n\u001b[0;32m    582\u001b[0m         \u001b[1;32mreturn\u001b[0m \u001b[0mout\u001b[0m\u001b[1;33m\u001b[0m\u001b[1;33m\u001b[0m\u001b[0m\n",
      "\u001b[1;32m~\\.conda\\envs\\ias0360-final-project\\lib\\site-packages\\sklearn\\base.py\u001b[0m in \u001b[0;36m_check_n_features\u001b[1;34m(self, X, reset)\u001b[0m\n\u001b[0;32m    393\u001b[0m \u001b[1;33m\u001b[0m\u001b[0m\n\u001b[0;32m    394\u001b[0m         \u001b[1;32mif\u001b[0m \u001b[0mn_features\u001b[0m \u001b[1;33m!=\u001b[0m \u001b[0mself\u001b[0m\u001b[1;33m.\u001b[0m\u001b[0mn_features_in_\u001b[0m\u001b[1;33m:\u001b[0m\u001b[1;33m\u001b[0m\u001b[1;33m\u001b[0m\u001b[0m\n\u001b[1;32m--> 395\u001b[1;33m             raise ValueError(\n\u001b[0m\u001b[0;32m    396\u001b[0m                 \u001b[1;34mf\"X has {n_features} features, but {self.__class__.__name__} \"\u001b[0m\u001b[1;33m\u001b[0m\u001b[1;33m\u001b[0m\u001b[0m\n\u001b[0;32m    397\u001b[0m                 \u001b[1;34mf\"is expecting {self.n_features_in_} features as input.\"\u001b[0m\u001b[1;33m\u001b[0m\u001b[1;33m\u001b[0m\u001b[0m\n",
      "\u001b[1;31mValueError\u001b[0m: X has 372 features, but GradientBoostingClassifier is expecting 228 features as input."
     ]
    }
   ],
   "source": [
    "MAX_TRIALS = 10\n",
    "\n",
    "# TODO: Use maybe other metrices!\n",
    "\n",
    "tuner = kt.tuners.SklearnTuner(\n",
    "    oracle=kt.oracles.BayesianOptimizationOracle(\n",
    "        objective=kt.Objective('score', 'max'),\n",
    "        max_trials=MAX_TRIALS),\n",
    "    hypermodel=build_hypermodel,\n",
    "    scoring=skl.metrics.make_scorer(skl.metrics.balanced_accuracy_score),\n",
    "    metrics=[skl.metrics.accuracy_score, balanced_accuracy_score],\n",
    "    cv=skl.model_selection.StratifiedKFold(5),\n",
    "    directory='.',\n",
    "    project_name='hp_tuning_binary')\n",
    "\n",
    "\n",
    "\n",
    "tuner.search(X_train_clf, y_train_clf)\n",
    "\n",
    "best_clf = tuner.get_best_models(num_models=1)[0]\n",
    "\n",
    "print(f\"Best model test score: {best_clf.score(X_test_clf, y_test_clf)}\")\n",
    "\n",
    "print(f\"Best model params: {best_clf.get_params()}\")"
   ]
  },
  {
   "cell_type": "code",
   "execution_count": null,
   "id": "d8cab4cb",
   "metadata": {},
   "outputs": [],
   "source": [
    "get_memory_size(best_clf, layer_list, fname=\"best_binary\")"
   ]
  },
  {
   "cell_type": "code",
   "execution_count": null,
   "id": "1dec5e4a",
   "metadata": {},
   "outputs": [],
   "source": [
    "# Compare predictions and ground truth on testing set\n",
    "\n",
    "y_pred = best_clf.predict(X_test_clf)\n",
    "\n",
    "\n",
    "print(f\"Ground Truth: {y_test_clf}\")\n",
    "print(f\"Prediction:   {y_pred}\")\n",
    "\n",
    "# Calculate and display the confusion matrix\n",
    "conf_mat = confusion_matrix(y_test_clf, y_pred, normalize=\"all\")\n",
    "disp = ConfusionMatrixDisplay(conf_mat, display_labels=[\"No human\", \"Human\"])\n",
    "disp.plot(values_format=\".0%\")\n",
    "plt.title(\"Confusion Matrix\")\n",
    "plt.show()\n",
    "\n"
   ]
  },
  {
   "cell_type": "code",
   "execution_count": null,
   "id": "bc584e16",
   "metadata": {},
   "outputs": [],
   "source": [
    "# Convert model to onnx-format and save it\n",
    "initial_type = [('float_input', FloatTensorType([None, 4]))]\n",
    "onnx = convert_sklearn(best_clf, initial_types=initial_type)\n",
    "with open(\"best_clf.onnx\", \"wb\") as f:\n",
    "    f.write(onnx.SerializeToString())\n",
    "\n",
    "\n"
   ]
  },
  {
   "cell_type": "markdown",
   "id": "564ce84b",
   "metadata": {},
   "source": [
    "## Multilabel Classification"
   ]
  },
  {
   "cell_type": "code",
   "execution_count": null,
   "id": "82efc2a6",
   "metadata": {},
   "outputs": [],
   "source": [
    "df.head(n=3)"
   ]
  },
  {
   "cell_type": "code",
   "execution_count": null,
   "id": "e537e97c",
   "metadata": {},
   "outputs": [],
   "source": [
    "# Convert labels\n",
    "label_converter = { \n",
    "    'Human': 0,\n",
    "    'Several humans': 1, \n",
    "    'Non-human heat': 2, \n",
    "    'Ambigous heat': 3,\n",
    "    'No heat':  4\n",
    "}\n",
    "\n",
    "df['label'] = df['label'].apply(lambda x: label_converter[x])\n",
    "df.head(n=100)"
   ]
  },
  {
   "cell_type": "code",
   "execution_count": null,
   "id": "0307c9f3",
   "metadata": {},
   "outputs": [],
   "source": [
    "# Prepare the data\n",
    "y = df['label'].to_numpy()\n",
    "label_binarizer = LabelBinarizer()\n",
    "label_binarizer.fit(range(max(y)+1))\n",
    "y_onehot = label_binarizer.transform(y)\n",
    "\n",
    "X = np.array(df['data'].to_list())\n",
    "X = np.expand_dims(X, axis=3)\n",
    "print(y_onehot.shape)\n",
    "print(y_onehot[:1])\n",
    "assert np.all(np.sum(y_onehot, axis=1) == 1)\n",
    "print(X.shape)"
   ]
  },
  {
   "cell_type": "code",
   "execution_count": null,
   "id": "d7f17967",
   "metadata": {},
   "outputs": [],
   "source": [
    "# Create train / val / test split\n",
    "X_train, X_test, y_train, y_test = train_test_split(X, y_onehot, test_size=0.1, random_state=0)\n",
    "X_val, X_test, y_val, y_test = train_test_split(X_test, y_test, test_size=0.25, random_state=0)\n",
    "\n",
    "print(X_train.shape)\n",
    "print(y_train.shape)\n",
    "print(X_val.shape)\n",
    "print(y_val.shape)\n",
    "print(y_train[:1])"
   ]
  },
  {
   "cell_type": "code",
   "execution_count": null,
   "id": "a1749ee8",
   "metadata": {},
   "outputs": [],
   "source": [
    "# Squeezenet Model\n",
    "\n",
    "bnmomemtum=0.9\n",
    "\n",
    "def fire(x, squeeze, expand):\n",
    "    y  = tf.keras.layers.Conv2D(filters=squeeze, kernel_size=1, activation='relu', padding='same')(x)\n",
    "    y = tf.keras.layers.BatchNormalization(momentum=bnmomemtum)(y)\n",
    "    y1 = tf.keras.layers.Conv2D(filters=expand//2, kernel_size=1, activation='relu', padding='same')(y)\n",
    "    y1 = tf.keras.layers.BatchNormalization(momentum=bnmomemtum)(y1)\n",
    "    y3 = tf.keras.layers.Conv2D(filters=expand//2, kernel_size=3, activation='relu', padding='same')(y)\n",
    "    y3 = tf.keras.layers.BatchNormalization(momentum=bnmomemtum)(y3)\n",
    "    return tf.keras.layers.concatenate([y1, y3])\n",
    "\n",
    "def fire_module(squeeze, expand):\n",
    "    return lambda x: fire(x, squeeze, expand)\n",
    "\n",
    "x = tf.keras.layers.Input(shape=[*IMAGE_SIZE,1]) # input is 32x32 pixels RGB\n",
    "y = tf.keras.layers.Conv2D(kernel_size=3, filters=32, padding='same', use_bias=True, activation='relu')(x)\n",
    "y = tf.keras.layers.GlobalAveragePooling2D()(y)\n",
    "y = tf.keras.layers.Dense(64)(y)\n",
    "y = tf.keras.layers.Dense(32)(y)\n",
    "y = tf.keras.layers.Dropout(0.2)(y)\n",
    "y = tf.keras.layers.Dense(5, activation='softmax')(y)\n",
    "\n",
    "model = tf.keras.Model(x, y)"
   ]
  },
  {
   "cell_type": "code",
   "execution_count": null,
   "id": "e4fd23c1",
   "metadata": {},
   "outputs": [],
   "source": [
    "model.compile(\n",
    "optimizer='adam',\n",
    "loss= 'categorical_crossentropy',\n",
    "metrics=['accuracy'])\n",
    "model.build(input_shape=(None, 32, 32, 5))\n",
    "model.summary()"
   ]
  },
  {
   "cell_type": "code",
   "execution_count": null,
   "id": "0b81f99b",
   "metadata": {},
   "outputs": [],
   "source": [
    "# Fit the model\n",
    "EPOCHS = 30\n",
    "BATCH_SIZE = 16\n",
    "history = model.fit(X_train, y_train, epochs=EPOCHS, batch_size=BATCH_SIZE, validation_data=(X_val, y_val))\n",
    "\n",
    "\n",
    "train_loss = history.history['loss']\n",
    "val_loss = history.history['val_loss']\n",
    "\n",
    "epochs = range(1, len(train_loss) + 1)\n",
    "\n",
    "# Plot training history\n",
    "plt.plot(epochs, train_loss, 'g.', label='Training loss')\n",
    "plt.plot(epochs, val_loss, 'b', label='Validation loss')\n",
    "plt.title('Training and validation loss')\n",
    "plt.xlabel('Epochs')\n",
    "plt.ylabel('Loss')\n",
    "plt.legend()\n",
    "plt.show()"
   ]
  },
  {
   "cell_type": "code",
   "execution_count": null,
   "id": "2c7c3f42",
   "metadata": {},
   "outputs": [],
   "source": [
    "layer_list = get_feature_map_list(model)\n",
    "print(layer_list)\n",
    "\n",
    "for i in range(len(layer_list)):\n",
    "    layer_list[i].save(f\"layer_{i}\")"
   ]
  },
  {
   "cell_type": "code",
   "execution_count": null,
   "id": "a508986a",
   "metadata": {},
   "outputs": [],
   "source": [
    "# Calculate the feature map mean\n",
    "feature_map_list = []\n",
    "\n",
    "im_mean = np.mean(X, axis=(1,2))\n",
    "im_median = np.median(X, axis=(1,2))\n",
    "im_std = np.std(X, axis=(1,2))\n",
    "im_max = np.max(X, axis=(1,2))\n",
    "im_min = np.min(X, axis=(1,2))\n",
    "im_sum = np.sum(X, axis=(1,2))\n",
    "\n",
    "feature_map_list.append(np.concatenate([im_mean,\n",
    "                                           im_median,\n",
    "                                           im_std,\n",
    "                                           im_max,\n",
    "                                           im_min,\n",
    "                                           im_sum], axis=1))\n",
    "\n",
    "\n",
    "\n",
    "# Print the shape of the feature maps\n",
    "for i in range(len(layer_list)):\n",
    "    feature_map = layer_list[i].predict(X)\n",
    "    feature_map_mean = np.mean(feature_map, axis=(1,2))\n",
    "    feature_map_median = np.median(feature_map, axis=(1,2))\n",
    "    feature_map_std = np.std(feature_map, axis=(1,2))\n",
    "    feature_map_max = np.max(feature_map, axis=(1,2))\n",
    "    feature_map_min = np.min(feature_map, axis=(1,2))\n",
    "    feature_map_sum = np.sum(feature_map, axis=(1,2))\n",
    "    feature_map_features = np.concatenate([feature_map_mean,\n",
    "                                           feature_map_median,\n",
    "                                           feature_map_std,\n",
    "                                           feature_map_max, \n",
    "                                           feature_map_min, \n",
    "                                           feature_map_sum], axis=1)\n",
    "    feature_map_list.append(feature_map_features)\n",
    "    \n",
    "feature_map_means = np.concatenate(feature_map_list, axis=1)\n",
    "print(feature_map_means.shape)\n",
    "print(feature_map_means[:1])"
   ]
  },
  {
   "cell_type": "code",
   "execution_count": null,
   "id": "8b5fbbe7",
   "metadata": {},
   "outputs": [],
   "source": [
    "df_train_expanded = pd.DataFrame(np.concatenate([df.head(X.shape[0]), feature_map_means], axis=1))"
   ]
  },
  {
   "cell_type": "code",
   "execution_count": null,
   "id": "7f748a40",
   "metadata": {},
   "outputs": [],
   "source": [
    "# Prepare the data for gradient boosting\n",
    "y_clf = df_train_expanded[7].to_numpy().astype(int)\n",
    "X_clf= df_train_expanded.iloc[:,8:].to_numpy()\n",
    "print(y_clf.shape)\n",
    "print(X_clf.shape)"
   ]
  },
  {
   "cell_type": "code",
   "execution_count": null,
   "id": "a0a894dd",
   "metadata": {},
   "outputs": [],
   "source": [
    "# Create train / val / test split\n",
    "X_train_clf, X_test_clf, y_train_clf, y_test_clf = train_test_split(X_clf, y_clf, test_size=0.1, random_state=0)\n",
    "# X_val_clf, X_test_clf, y_val_clf, y_test_clf = train_test_split(X_test_clf, y_test_clf, test_size=0.3, random_state=0)\n",
    "\n",
    "print(X_train_clf.shape)\n",
    "print(y_train_clf.shape)\n",
    "print(X_test_clf.shape)\n",
    "print(y_test_clf.shape)\n",
    "print(y_train_clf[:1])"
   ]
  },
  {
   "cell_type": "code",
   "execution_count": null,
   "id": "0fb08848",
   "metadata": {},
   "outputs": [],
   "source": [
    "# Train the GBT\n",
    "clf = GradientBoostingClassifier(n_estimators=300, learning_rate=1.0, max_depth=3, random_state=0).fit(X_train_clf, y_train_clf)\n",
    "\n",
    "# Mean accuracy\n",
    "clf.score(X_test_clf, y_test_clf)# Train the GBT"
   ]
  },
  {
   "cell_type": "code",
   "execution_count": null,
   "id": "e6227d58",
   "metadata": {},
   "outputs": [],
   "source": [
    "# HP-Tuning\n",
    "NUM_FEATURES = 198\n",
    "\n",
    "def build_hypermodel(hp):\n",
    "    \n",
    "    n_estimators = hp.Int(\"n_estimators\", 10, 300)\n",
    "    learning_rate = hp.Float(\"learning_rate\", 0.1, 1.0)\n",
    "    max_depth = hp.Int(\"max_depth\", 1, 8)\n",
    "    max_features = hp.Int(\"max_features\", 1, NUM_FEATURES)\n",
    "    \n",
    "    return GradientBoostingClassifier(n_estimators=n_estimators,\n",
    "                                      learning_rate=learning_rate, \n",
    "                                      max_depth=max_depth,\n",
    "                                      max_features=max_features,\n",
    "                                      validation_fraction=0.2,\n",
    "                                      random_state=0)"
   ]
  },
  {
   "cell_type": "code",
   "execution_count": null,
   "id": "faf14f27",
   "metadata": {},
   "outputs": [],
   "source": [
    "MAX_TRIALS = 40\n",
    "\n",
    "# TODO: Use maybe other metrices!\n",
    "\n",
    "tuner = kt.tuners.SklearnTuner(\n",
    "    oracle=kt.oracles.BayesianOptimizationOracle(\n",
    "        objective=kt.Objective('score', 'max'),\n",
    "        max_trials=MAX_TRIALS),\n",
    "    hypermodel=build_hypermodel,\n",
    "    scoring=skl.metrics.make_scorer(skl.metrics.balanced_accuracy_score),\n",
    "    metrics=[skl.metrics.accuracy_score, balanced_accuracy_score],\n",
    "    cv=skl.model_selection.StratifiedKFold(5),\n",
    "    directory='.',\n",
    "    project_name='hp_tuning')\n",
    "\n",
    "\n",
    "\n",
    "tuner.search(X_train_clf, y_train_clf)\n",
    "\n",
    "best_model = tuner.get_best_models(num_models=1)[0]\n",
    "\n",
    "print(f\"Best model test score: {best_model.score(X_test_clf, y_test_clf)}\")\n",
    "\n",
    "print(f\"Best model params: {best_model.get_params()}\")"
   ]
  },
  {
   "cell_type": "code",
   "execution_count": null,
   "id": "ba8b7e84",
   "metadata": {},
   "outputs": [],
   "source": [
    "get_memory_size(best_model, layer_list, fname=\"best\")"
   ]
  },
  {
   "cell_type": "code",
   "execution_count": null,
   "id": "66280105",
   "metadata": {},
   "outputs": [],
   "source": [
    "# Compare predictions and ground truth\n",
    "pred = best_model.predict(X_test_clf)\n",
    "\n",
    "print(f\"Ground Truth: {y_test_clf}\")\n",
    "print(f\"Prediction:   {pred}\")"
   ]
  },
  {
   "cell_type": "code",
   "execution_count": null,
   "id": "2484434e",
   "metadata": {},
   "outputs": [],
   "source": []
  }
 ],
 "metadata": {
  "kernelspec": {
   "display_name": "Python 3 (ipykernel)",
   "language": "python",
   "name": "python3"
  },
  "language_info": {
   "codemirror_mode": {
    "name": "ipython",
    "version": 3
   },
   "file_extension": ".py",
   "mimetype": "text/x-python",
   "name": "python",
   "nbconvert_exporter": "python",
   "pygments_lexer": "ipython3",
   "version": "3.8.12"
  }
 },
 "nbformat": 4,
 "nbformat_minor": 5
}
