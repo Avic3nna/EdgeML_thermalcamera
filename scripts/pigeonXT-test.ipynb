{
 "cells": [
  {
   "cell_type": "code",
   "execution_count": 7,
   "id": "970a1f53",
   "metadata": {
    "scrolled": true
   },
   "outputs": [
    {
     "data": {
      "application/vnd.jupyter.widget-view+json": {
       "model_id": "a98f743232a14c00a69a2e10b1058386",
       "version_major": 2,
       "version_minor": 0
      },
      "text/plain": [
       "HTML(value='0 of 2 Examples annotated, Current Position: 0 ')"
      ]
     },
     "metadata": {},
     "output_type": "display_data"
    },
    {
     "data": {
      "application/vnd.jupyter.widget-view+json": {
       "model_id": "878bb31e2dc84e1faa43ce7b40b728e4",
       "version_major": 2,
       "version_minor": 0
      },
      "text/plain": [
       "VBox(children=(HBox(children=(Button(description='positive', style=ButtonStyle()), Button(description='negativ…"
      ]
     },
     "metadata": {},
     "output_type": "display_data"
    },
    {
     "data": {
      "application/vnd.jupyter.widget-view+json": {
       "model_id": "f42bbc59114a4435936b1d1d03271b31",
       "version_major": 2,
       "version_minor": 0
      },
      "text/plain": [
       "Output()"
      ]
     },
     "metadata": {},
     "output_type": "display_data"
    },
    {
     "name": "stdout",
     "output_type": "stream",
     "text": [
      "Annotation done.\n"
     ]
    }
   ],
   "source": [
    "# https://pypi.org/project/pigeonXT-jupyter/\n",
    "# https://towardsdatascience.com/quickly-label-data-in-jupyter-lab-999e7e455e9e\n",
    "import pandas as pd\n",
    "import pigeonXT as pixt\n",
    "import pickle\n",
    "\n",
    "LABEL_FILE='test-labels.pkl'\n",
    "\n",
    "annotations = pixt.annotate(\n",
    "    ['I love this movie', 'I was really disappointed by the book'],\n",
    "    options=['positive', 'negative', 'inbetween']\n",
    ")\n"
   ]
  },
  {
   "cell_type": "code",
   "execution_count": 8,
   "id": "e33ba45d",
   "metadata": {
    "scrolled": true
   },
   "outputs": [],
   "source": [
    "# Write labels to file\n",
    "with open(LABEL_FILE, 'wb') as f:\n",
    "    pickle.dump(annotations, f)"
   ]
  },
  {
   "cell_type": "code",
   "execution_count": 9,
   "id": "f902fafe",
   "metadata": {},
   "outputs": [
    {
     "name": "stdout",
     "output_type": "stream",
     "text": [
      "                                 example  changed      label\n",
      "0                      I love this movie     True  inbetween\n",
      "1  I was really disappointed by the book     True  inbetween\n"
     ]
    }
   ],
   "source": [
    "# Read labels from file\n",
    "with open(LABEL_FILE, 'rb') as f:\n",
    "    annotations = pickle.load(f)\n",
    "    print(annotations)"
   ]
  }
 ],
 "metadata": {
  "kernelspec": {
   "display_name": "Python 3 (ipykernel)",
   "language": "python",
   "name": "python3"
  },
  "language_info": {
   "codemirror_mode": {
    "name": "ipython",
    "version": 3
   },
   "file_extension": ".py",
   "mimetype": "text/x-python",
   "name": "python",
   "nbconvert_exporter": "python",
   "pygments_lexer": "ipython3",
   "version": "3.9.7"
  }
 },
 "nbformat": 4,
 "nbformat_minor": 5
}
